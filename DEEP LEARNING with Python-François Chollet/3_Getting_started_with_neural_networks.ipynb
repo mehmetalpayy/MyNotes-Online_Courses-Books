{
  "nbformat": 4,
  "nbformat_minor": 0,
  "metadata": {
    "colab": {
      "provenance": []
    },
    "kernelspec": {
      "name": "python3",
      "display_name": "Python 3"
    },
    "language_info": {
      "name": "python"
    }
  },
  "cells": [
    {
      "cell_type": "markdown",
      "source": [
        "## Layers: the building blocks of deep learning"
      ],
      "metadata": {
        "id": "J4l8VnQreoJM"
      }
    },
    {
      "cell_type": "code",
      "source": [
        "from keras import layers\n",
        "from keras import models\n",
        "from keras import optimizers\n",
        "from keras import losses\n",
        "from keras import metrics\n",
        "\n",
        "from keras.datasets import imdb\n",
        "from keras.datasets import reuters\n",
        "from keras.datasets import boston_housing\n",
        "\n",
        "from keras.utils import to_categorical\n",
        "\n",
        "import copy\n",
        "import numpy as np\n",
        "import matplotlib.pyplot as plt"
      ],
      "metadata": {
        "id": "ibUoVNrehBpX"
      },
      "execution_count": 76,
      "outputs": []
    },
    {
      "cell_type": "code",
      "source": [
        "# Örnek nöral ağ modeli, sadece ilk layerda input_shape belirtmemiz gerekir sonrasında keras diğer işlemleri kendi başına halledebiliyor.\n",
        "model = models.Sequential()\n",
        "model.add(layers.Dense(32, input_shape=(784,)))\n",
        "model.add(layers.Dense(32))"
      ],
      "metadata": {
        "id": "Jy5UDADjhEOP"
      },
      "execution_count": 3,
      "outputs": []
    },
    {
      "cell_type": "code",
      "source": [
        "# Aynı modelin 2 farklı şekilde yazılması\n",
        "\n",
        "model = models.Sequential()\n",
        "model.add(layers.Dense(32, activation=\"relu\", input_shape=(784,)))\n",
        "model.add(layers.Dense(10, activation=\"softmax\"))\n",
        "\n",
        "# Yukarıdaki kod ile aşağıdaki tamamen aynıdır aşağıdaki functional API kullanılarak yazılmıştır.\n",
        "input_tensor = layers.Input(shape=(784,))\n",
        "x = layers.Dense(32, activation=\"relu\")(input_tensor)\n",
        "output_tensor = layers.Dense(10, activation=\"softmax\")(x)\n",
        "\n",
        "model = models.Model(inputs=input_tensor, outputs=output_tensor)"
      ],
      "metadata": {
        "id": "akLXw27zhnpM"
      },
      "execution_count": 4,
      "outputs": []
    },
    {
      "cell_type": "markdown",
      "source": [
        "With the functional API, you're manipulating the data tensors that the model processes and applying layers to this tensor as if they were functions"
      ],
      "metadata": {
        "id": "VAn1Jg6vmPVk"
      }
    },
    {
      "cell_type": "code",
      "source": [
        "# Optimizer, loss, metric\n",
        "# from keras import optimizers\n",
        "\n",
        "model.compile(optimizer=optimizers.RMSprop(lr=0.001),\n",
        "              loss=\"mse\",\n",
        "              metrics=[\"accuracy\"])\n",
        "\n",
        "# The learning process consist of passing Numpy arrays of input data to the model\n",
        "model.fit(input_tensor, target_tensor, batch_size=128, epochs=10)"
      ],
      "metadata": {
        "id": "-akvcPG1mAT8"
      },
      "execution_count": null,
      "outputs": []
    },
    {
      "cell_type": "markdown",
      "source": [
        "## Classifying movie reviews: a binary classification example\n",
        "\n",
        "IMDB dataset"
      ],
      "metadata": {
        "id": "r-QllUnQn-CY"
      }
    },
    {
      "cell_type": "code",
      "source": [
        "# Loading the IMDB dataset\n",
        "# from keras.datasets import imdb\n",
        "\n",
        "(train_data, train_labels), (test_data, test_labels) = imdb.load_data(num_words=10000)\n",
        "# num_words means you'll only keep the top 10.000 most frequently occurring words in the training data"
      ],
      "metadata": {
        "colab": {
          "base_uri": "https://localhost:8080/"
        },
        "id": "fg4JQz9hoDjz",
        "outputId": "b494e581-55e4-4f8f-e129-8015e6b49690"
      },
      "execution_count": 7,
      "outputs": [
        {
          "output_type": "stream",
          "name": "stdout",
          "text": [
            "Downloading data from https://storage.googleapis.com/tensorflow/tf-keras-datasets/imdb.npz\n",
            "17464789/17464789 [==============================] - 0s 0us/step\n"
          ]
        }
      ]
    },
    {
      "cell_type": "code",
      "source": [
        "print(train_data[0])\n",
        "train_labels[0] # for labels, 0 mean negative 1 mean positive"
      ],
      "metadata": {
        "colab": {
          "base_uri": "https://localhost:8080/"
        },
        "id": "BDvaj9Mxo2w8",
        "outputId": "227dafa0-cca9-41fa-ca9b-37eb6c2ea0af"
      },
      "execution_count": 9,
      "outputs": [
        {
          "output_type": "stream",
          "name": "stdout",
          "text": [
            "[1, 14, 22, 16, 43, 530, 973, 1622, 1385, 65, 458, 4468, 66, 3941, 4, 173, 36, 256, 5, 25, 100, 43, 838, 112, 50, 670, 2, 9, 35, 480, 284, 5, 150, 4, 172, 112, 167, 2, 336, 385, 39, 4, 172, 4536, 1111, 17, 546, 38, 13, 447, 4, 192, 50, 16, 6, 147, 2025, 19, 14, 22, 4, 1920, 4613, 469, 4, 22, 71, 87, 12, 16, 43, 530, 38, 76, 15, 13, 1247, 4, 22, 17, 515, 17, 12, 16, 626, 18, 2, 5, 62, 386, 12, 8, 316, 8, 106, 5, 4, 2223, 5244, 16, 480, 66, 3785, 33, 4, 130, 12, 16, 38, 619, 5, 25, 124, 51, 36, 135, 48, 25, 1415, 33, 6, 22, 12, 215, 28, 77, 52, 5, 14, 407, 16, 82, 2, 8, 4, 107, 117, 5952, 15, 256, 4, 2, 7, 3766, 5, 723, 36, 71, 43, 530, 476, 26, 400, 317, 46, 7, 4, 2, 1029, 13, 104, 88, 4, 381, 15, 297, 98, 32, 2071, 56, 26, 141, 6, 194, 7486, 18, 4, 226, 22, 21, 134, 476, 26, 480, 5, 144, 30, 5535, 18, 51, 36, 28, 224, 92, 25, 104, 4, 226, 65, 16, 38, 1334, 88, 12, 16, 283, 5, 16, 4472, 113, 103, 32, 15, 16, 5345, 19, 178, 32]\n"
          ]
        },
        {
          "output_type": "execute_result",
          "data": {
            "text/plain": [
              "1"
            ]
          },
          "metadata": {},
          "execution_count": 9
        }
      ]
    },
    {
      "cell_type": "code",
      "source": [
        "# num_words=10.000 olduğu için en büyük değer 9999 geldi\n",
        "max([max(sequence) for sequence in train_data])"
      ],
      "metadata": {
        "colab": {
          "base_uri": "https://localhost:8080/"
        },
        "id": "v27xgE6xpCUf",
        "outputId": "e0b1006d-a074-4b22-a682-02d09b42a928"
      },
      "execution_count": 10,
      "outputs": [
        {
          "output_type": "execute_result",
          "data": {
            "text/plain": [
              "9999"
            ]
          },
          "metadata": {},
          "execution_count": 10
        }
      ]
    },
    {
      "cell_type": "code",
      "source": [
        "# Decode one of these reviews\n",
        "\n",
        "word_index = imdb.get_word_index()\n",
        "reverse_word_index = dict(\n",
        "    [(value, key) for (key, value) in word_index.items()])\n",
        "\n",
        "decoded_review = \" \".join([reverse_word_index.get(i - 3, \"?\") for i in train_data[0]])\n",
        "# i-3 because 0,1,2 are reserved indices for \"padding\" \"start of sequence\" \"unknown\"\n",
        "decoded_review"
      ],
      "metadata": {
        "colab": {
          "base_uri": "https://localhost:8080/",
          "height": 157
        },
        "id": "bV6npXtFpT4Z",
        "outputId": "3f5a305c-bf28-4b92-c77f-9169325ac76e"
      },
      "execution_count": 12,
      "outputs": [
        {
          "output_type": "stream",
          "name": "stdout",
          "text": [
            "Downloading data from https://storage.googleapis.com/tensorflow/tf-keras-datasets/imdb_word_index.json\n",
            "1641221/1641221 [==============================] - 0s 0us/step\n"
          ]
        },
        {
          "output_type": "execute_result",
          "data": {
            "text/plain": [
              "\"? this film was just brilliant casting location scenery story direction everyone's really suited the part they played and you could just imagine being there robert ? is an amazing actor and now the same being director ? father came from the same scottish island as myself so i loved the fact there was a real connection with this film the witty remarks throughout the film were great it was just brilliant so much that i bought the film as soon as it was released for ? and would recommend it to everyone to watch and the fly fishing was amazing really cried at the end it was so sad and you know what they say if you cry at a film it must have been good and this definitely was also ? to the two little boy's that played the ? of norman and paul they were just brilliant children are often left out of the ? list i think because the stars that play them all grown up are such a big profile for the whole film but these children are amazing and should be praised for what they have done don't you think the whole story was so lovely because it was true and was someone's life after all that was shared with us all\""
            ],
            "application/vnd.google.colaboratory.intrinsic+json": {
              "type": "string"
            }
          },
          "metadata": {},
          "execution_count": 12
        }
      ]
    },
    {
      "cell_type": "markdown",
      "source": [
        "### Preparing the data"
      ],
      "metadata": {
        "id": "ldG9Wphpp3jr"
      }
    },
    {
      "cell_type": "code",
      "source": [
        "# Encoding the integer sequences into a binary matrix\n",
        "# import numpy as np\n",
        "\n",
        "def vectorize_sequences(sequences, dimension=10000):\n",
        "  results = np.zeros((len(sequences), dimension))\n",
        "  for i, sequence in enumerate(sequences):\n",
        "    results[i, sequence] = 1.\n",
        "  return results\n",
        "\n",
        "x_train = vectorize_sequences(train_data)\n",
        "x_test = vectorize_sequences(test_data)"
      ],
      "metadata": {
        "id": "O5tNf3LdqhK9"
      },
      "execution_count": 14,
      "outputs": []
    },
    {
      "cell_type": "code",
      "source": [
        "x_train[0]"
      ],
      "metadata": {
        "colab": {
          "base_uri": "https://localhost:8080/"
        },
        "id": "xcJ1wpNlrQ3a",
        "outputId": "c20e2e59-dbb7-41f4-ac41-ba4ec7de374b"
      },
      "execution_count": 19,
      "outputs": [
        {
          "output_type": "execute_result",
          "data": {
            "text/plain": [
              "array([0., 1., 1., ..., 0., 0., 0.])"
            ]
          },
          "metadata": {},
          "execution_count": 19
        }
      ]
    },
    {
      "cell_type": "code",
      "source": [
        "y_train = np.asarray(train_labels).astype(\"float32\")\n",
        "y_test = np.asarray(test_labels).astype(\"float32\")\n",
        "y_train"
      ],
      "metadata": {
        "colab": {
          "base_uri": "https://localhost:8080/"
        },
        "id": "rGX2O2ifrifY",
        "outputId": "8ef2d5fc-5516-4b5a-de65-091fb4a8aa23"
      },
      "execution_count": 23,
      "outputs": [
        {
          "output_type": "execute_result",
          "data": {
            "text/plain": [
              "array([1., 0., 0., ..., 0., 1., 0.], dtype=float32)"
            ]
          },
          "metadata": {},
          "execution_count": 23
        }
      ]
    },
    {
      "cell_type": "markdown",
      "source": [
        "### Building your network"
      ],
      "metadata": {
        "id": "iNxkV2_brvUA"
      }
    },
    {
      "cell_type": "code",
      "source": [
        "# Input data is vectors, and the labels are scalars(1s and 0s)\n",
        "# The model definition\n",
        "\n",
        "model = models.Sequential()\n",
        "model.add(layers.Dense(16, activation=\"relu\", input_shape=(10000,)))\n",
        "model.add(layers.Dense(16, activation=\"relu\"))\n",
        "model.add(layers.Dense(1, activation=\"sigmoid\"))\n",
        "\n",
        "# Compiling the model\n",
        "model.compile(optimizer=\"rmsprop\",\n",
        "              loss=\"binary_crossentropy\",\n",
        "              metrics=[\"accuracy\"])\n",
        "\n",
        "\n",
        "\"\"\"model.compile(optimizer=optimizers.RMSprop(lr=0.001),\n",
        "              loss=\"binary_crossentropy\",\n",
        "              metrics=[\"accuracy\"])\"\"\"\n",
        "\n",
        "# from keras import losses\n",
        "# from keras import metrics\n",
        "\"\"\"model.compile(optimizer=optimizers.RMSprop(lr=0.001),\n",
        "              loss=losses.binary_crossentropy,\n",
        "              metrics=[metrics.binary_accuracy])\"\"\""
      ],
      "metadata": {
        "id": "jkuDa68isB2A"
      },
      "execution_count": null,
      "outputs": []
    },
    {
      "cell_type": "code",
      "source": [
        "# Validating your approach\n",
        "# Setting aside a validation set\n",
        "\n",
        "x_val = x_train[:10000]\n",
        "partial_x_train = x_train[10000:]\n",
        "y_val = y_train[:10000]\n",
        "partial_y_train = y_train[10000:]\n",
        "\n",
        "# Training your model\n",
        "model.compile(optimizer=\"rmsprop\",\n",
        "              loss=\"binary_crossentropy\",\n",
        "              metrics=[\"acc\"])\n",
        "\n",
        "history = model.fit(partial_x_train,\n",
        "                    partial_y_train,\n",
        "                    epochs=20,\n",
        "                    batch_size=512,\n",
        "                    validation_data=(x_val, y_val))"
      ],
      "metadata": {
        "colab": {
          "base_uri": "https://localhost:8080/"
        },
        "id": "zxvMX5qtuNiS",
        "outputId": "3f361f76-eb2d-4563-c487-eae648d66e74"
      },
      "execution_count": 27,
      "outputs": [
        {
          "output_type": "stream",
          "name": "stdout",
          "text": [
            "Epoch 1/20\n",
            "30/30 [==============================] - 5s 120ms/step - loss: 0.5533 - acc: 0.7689 - val_loss: 0.4276 - val_acc: 0.8594\n",
            "Epoch 2/20\n",
            "30/30 [==============================] - 1s 50ms/step - loss: 0.3507 - acc: 0.8891 - val_loss: 0.3266 - val_acc: 0.8817\n",
            "Epoch 3/20\n",
            "30/30 [==============================] - 2s 57ms/step - loss: 0.2604 - acc: 0.9141 - val_loss: 0.3076 - val_acc: 0.8756\n",
            "Epoch 4/20\n",
            "30/30 [==============================] - 1s 43ms/step - loss: 0.2086 - acc: 0.9314 - val_loss: 0.2766 - val_acc: 0.8895\n",
            "Epoch 5/20\n",
            "30/30 [==============================] - 1s 38ms/step - loss: 0.1767 - acc: 0.9413 - val_loss: 0.2750 - val_acc: 0.8881\n",
            "Epoch 6/20\n",
            "30/30 [==============================] - 1s 40ms/step - loss: 0.1504 - acc: 0.9513 - val_loss: 0.3196 - val_acc: 0.8720\n",
            "Epoch 7/20\n",
            "30/30 [==============================] - 1s 49ms/step - loss: 0.1307 - acc: 0.9580 - val_loss: 0.2961 - val_acc: 0.8810\n",
            "Epoch 8/20\n",
            "30/30 [==============================] - 1s 49ms/step - loss: 0.1143 - acc: 0.9649 - val_loss: 0.2974 - val_acc: 0.8834\n",
            "Epoch 9/20\n",
            "30/30 [==============================] - 1s 38ms/step - loss: 0.0987 - acc: 0.9707 - val_loss: 0.3109 - val_acc: 0.8811\n",
            "Epoch 10/20\n",
            "30/30 [==============================] - 1s 40ms/step - loss: 0.0863 - acc: 0.9761 - val_loss: 0.3268 - val_acc: 0.8786\n",
            "Epoch 11/20\n",
            "30/30 [==============================] - 1s 38ms/step - loss: 0.0724 - acc: 0.9819 - val_loss: 0.3690 - val_acc: 0.8762\n",
            "Epoch 12/20\n",
            "30/30 [==============================] - 1s 49ms/step - loss: 0.0642 - acc: 0.9837 - val_loss: 0.3624 - val_acc: 0.8762\n",
            "Epoch 13/20\n",
            "30/30 [==============================] - 2s 55ms/step - loss: 0.0540 - acc: 0.9882 - val_loss: 0.3818 - val_acc: 0.8782\n",
            "Epoch 14/20\n",
            "30/30 [==============================] - 1s 41ms/step - loss: 0.0446 - acc: 0.9912 - val_loss: 0.4138 - val_acc: 0.8767\n",
            "Epoch 15/20\n",
            "30/30 [==============================] - 1s 38ms/step - loss: 0.0426 - acc: 0.9911 - val_loss: 0.4273 - val_acc: 0.8706\n",
            "Epoch 16/20\n",
            "30/30 [==============================] - 1s 38ms/step - loss: 0.0331 - acc: 0.9939 - val_loss: 0.4484 - val_acc: 0.8741\n",
            "Epoch 17/20\n",
            "30/30 [==============================] - 1s 38ms/step - loss: 0.0293 - acc: 0.9957 - val_loss: 0.4653 - val_acc: 0.8733\n",
            "Epoch 18/20\n",
            "30/30 [==============================] - 1s 44ms/step - loss: 0.0239 - acc: 0.9965 - val_loss: 0.5088 - val_acc: 0.8642\n",
            "Epoch 19/20\n",
            "30/30 [==============================] - 1s 48ms/step - loss: 0.0202 - acc: 0.9978 - val_loss: 0.5258 - val_acc: 0.8690\n",
            "Epoch 20/20\n",
            "30/30 [==============================] - 1s 39ms/step - loss: 0.0222 - acc: 0.9957 - val_loss: 0.5316 - val_acc: 0.8713\n"
          ]
        }
      ]
    },
    {
      "cell_type": "code",
      "source": [
        "history_dict = history.history\n",
        "history_dict.keys()"
      ],
      "metadata": {
        "colab": {
          "base_uri": "https://localhost:8080/"
        },
        "id": "fw6RMPQlvBeL",
        "outputId": "49963a03-918d-4de6-ea29-7502c3055e1b"
      },
      "execution_count": 28,
      "outputs": [
        {
          "output_type": "execute_result",
          "data": {
            "text/plain": [
              "dict_keys(['loss', 'acc', 'val_loss', 'val_acc'])"
            ]
          },
          "metadata": {},
          "execution_count": 28
        }
      ]
    },
    {
      "cell_type": "code",
      "source": [
        "# Plotting the training and validation loss\n",
        "# import matplotlib.pyplot as plt\n",
        "\n",
        "history_dict = history.history\n",
        "loss_values = history_dict[\"loss\"]\n",
        "val_loss_values = history_dict[\"val_loss\"]\n",
        "\n",
        "epochs = range(1, len(history_dict[\"acc\"]) + 1)\n",
        "\n",
        "plt.plot(epochs, loss_values, \"bo\", label=\"Training Loss\")\n",
        "plt.plot(epochs, val_loss_values, \"b\", label=\"Validation_loss\")\n",
        "plt.title(\"Training and validation loss\")\n",
        "plt.xlabel(\"Epochs\")\n",
        "plt.ylabel(\"Loss\")\n",
        "plt.legend()\n",
        "plt.show()"
      ],
      "metadata": {
        "colab": {
          "base_uri": "https://localhost:8080/",
          "height": 472
        },
        "id": "WTIX46iAvMtc",
        "outputId": "ca4f6af8-dcc9-4359-d44d-a789c53135a3"
      },
      "execution_count": 31,
      "outputs": [
        {
          "output_type": "display_data",
          "data": {
            "text/plain": [
              "<Figure size 640x480 with 1 Axes>"
            ],
            "image/png": "[encoded data removed]"
          },
          "metadata": {}
        }
      ]
    },
    {
      "cell_type": "code",
      "source": [
        "# Plotting the training and validation accuracy\n",
        "plt.clf() # clears the figure\n",
        "acc_values = history_dict[\"acc\"]\n",
        "val_acc_values = history_dict[\"val_acc\"]\n",
        "\n",
        "plt.plot(epochs, acc_values, \"bo\", label=\"Training acc\")\n",
        "plt.plot(epochs, val_acc_values, \"b\", label=\"Validation acc\")\n",
        "plt.title(\"Training and validation accuracy\")\n",
        "plt.xlabel(\"Epochs\")\n",
        "plt.ylabel(\"Loss\")\n",
        "plt.legend()\n",
        "\n",
        "plt.show()"
      ],
      "metadata": {
        "colab": {
          "base_uri": "https://localhost:8080/",
          "height": 472
        },
        "id": "nT3vUeUbv6eC",
        "outputId": "710a33b0-734b-4d85-e283-af6ee4d1bdac"
      },
      "execution_count": 33,
      "outputs": [
        {
          "output_type": "display_data",
          "data": {
            "text/plain": [
              "<Figure size 640x480 with 1 Axes>"
            ],
            "image/png": "[encoded data removed]"
          },
          "metadata": {}
        }
      ]
    },
    {
      "cell_type": "markdown",
      "source": [
        "Train loss ve accuracy pozitif olmasına rağmen validation kısmında 3-4 epochs sonra saçmalamalar başlıyor bu overfitting anlamına gelir.\n",
        "\n",
        "Farklı bir model deneyelim."
      ],
      "metadata": {
        "id": "_gPcRIZMxNMs"
      }
    },
    {
      "cell_type": "code",
      "source": [
        "# Retraining a model from scratch\n",
        "model = models.Sequential()\n",
        "model.add(layers.Dense(16, activation=\"relu\", input_shape=(10000,)))\n",
        "model.add(layers.Dense(16, activation=\"relu\"))\n",
        "model.add(layers.Dense(1, activation=\"sigmoid\"))\n",
        "\n",
        "model.compile(optimizer=\"rmsprop\",\n",
        "              loss=\"binary_crossentropy\",\n",
        "              metrics=[\"accuracy\"])\n",
        "\n",
        "model.fit(x_train, y_train, epochs=4, batch_size=512)\n",
        "results = model.evaluate(x_test, y_test)"
      ],
      "metadata": {
        "colab": {
          "base_uri": "https://localhost:8080/"
        },
        "id": "5_LrLcU9w1jP",
        "outputId": "776bb515-12dc-4738-b5d2-d3d6ed41869a"
      },
      "execution_count": 35,
      "outputs": [
        {
          "output_type": "stream",
          "name": "stdout",
          "text": [
            "Epoch 1/4\n",
            "49/49 [==============================] - 2s 27ms/step - loss: 0.4752 - accuracy: 0.8060\n",
            "Epoch 2/4\n",
            "49/49 [==============================] - 1s 25ms/step - loss: 0.2817 - accuracy: 0.9021\n",
            "Epoch 3/4\n",
            "49/49 [==============================] - 1s 24ms/step - loss: 0.2200 - accuracy: 0.9228\n",
            "Epoch 4/4\n",
            "49/49 [==============================] - 1s 25ms/step - loss: 0.1873 - accuracy: 0.9328\n",
            "782/782 [==============================] - 3s 3ms/step - loss: 0.2828 - accuracy: 0.8881\n"
          ]
        }
      ]
    },
    {
      "cell_type": "code",
      "source": [
        "results"
      ],
      "metadata": {
        "colab": {
          "base_uri": "https://localhost:8080/"
        },
        "id": "Cfj6xYirxwa9",
        "outputId": "d10f36ef-28bd-4e36-9f23-139da65d026b"
      },
      "execution_count": 36,
      "outputs": [
        {
          "output_type": "execute_result",
          "data": {
            "text/plain": [
              "[0.2828041911125183, 0.8881199955940247]"
            ]
          },
          "metadata": {},
          "execution_count": 36
        }
      ]
    },
    {
      "cell_type": "code",
      "source": [
        "model.predict(x_test)"
      ],
      "metadata": {
        "colab": {
          "base_uri": "https://localhost:8080/"
        },
        "id": "IKCRVqInxzDy",
        "outputId": "bd5f5bab-684e-4491-b72d-520795677ca2"
      },
      "execution_count": 37,
      "outputs": [
        {
          "output_type": "stream",
          "name": "stdout",
          "text": [
            "782/782 [==============================] - 3s 3ms/step\n"
          ]
        },
        {
          "output_type": "execute_result",
          "data": {
            "text/plain": [
              "array([[0.24308023],\n",
              "       [0.99997556],\n",
              "       [0.7932038 ],\n",
              "       ...,\n",
              "       [0.12224413],\n",
              "       [0.09694915],\n",
              "       [0.62646246]], dtype=float32)"
            ]
          },
          "metadata": {},
          "execution_count": 37
        }
      ]
    },
    {
      "cell_type": "markdown",
      "source": [
        "## Classifying newswires: a multiclass classification example\n",
        "\n",
        "The Reuters dataset"
      ],
      "metadata": {
        "id": "q7OgInkjzsic"
      }
    },
    {
      "cell_type": "code",
      "source": [
        "# Loading the Reuters dataset\n",
        "# from keras.datasets import reuters\n",
        "\n",
        "(train_data, train_labels), (test_data, test_labels) = reuters.load_data(num_words=10000)"
      ],
      "metadata": {
        "colab": {
          "base_uri": "https://localhost:8080/"
        },
        "id": "xNypmqWC0RoK",
        "outputId": "f49854ad-8a41-4005-bbec-f36d84b38511"
      },
      "execution_count": 39,
      "outputs": [
        {
          "output_type": "stream",
          "name": "stdout",
          "text": [
            "Downloading data from https://storage.googleapis.com/tensorflow/tf-keras-datasets/reuters.npz\n",
            "2110848/2110848 [==============================] - 0s 0us/step\n"
          ]
        }
      ]
    },
    {
      "cell_type": "code",
      "source": [
        "len(train_data), len(test_data)"
      ],
      "metadata": {
        "colab": {
          "base_uri": "https://localhost:8080/"
        },
        "id": "d2h8lWJ31OKZ",
        "outputId": "9e60a2ff-c9ef-4b3f-f189-cf1b6a9bd766"
      },
      "execution_count": 40,
      "outputs": [
        {
          "output_type": "execute_result",
          "data": {
            "text/plain": [
              "(8982, 2246)"
            ]
          },
          "metadata": {},
          "execution_count": 40
        }
      ]
    },
    {
      "cell_type": "code",
      "source": [
        "train_data[10]"
      ],
      "metadata": {
        "colab": {
          "base_uri": "https://localhost:8080/"
        },
        "id": "S9058Es41RmV",
        "outputId": "830371a0-ac86-4469-e11d-d18e91be468e"
      },
      "execution_count": 41,
      "outputs": [
        {
          "output_type": "execute_result",
          "data": {
            "text/plain": [
              "[1,\n",
              " 245,\n",
              " 273,\n",
              " 207,\n",
              " 156,\n",
              " 53,\n",
              " 74,\n",
              " 160,\n",
              " 26,\n",
              " 14,\n",
              " 46,\n",
              " 296,\n",
              " 26,\n",
              " 39,\n",
              " 74,\n",
              " 2979,\n",
              " 3554,\n",
              " 14,\n",
              " 46,\n",
              " 4689,\n",
              " 4329,\n",
              " 86,\n",
              " 61,\n",
              " 3499,\n",
              " 4795,\n",
              " 14,\n",
              " 61,\n",
              " 451,\n",
              " 4329,\n",
              " 17,\n",
              " 12]"
            ]
          },
          "metadata": {},
          "execution_count": 41
        }
      ]
    },
    {
      "cell_type": "code",
      "source": [
        "# Decoding newswires back to text\n",
        "word_index = reuters.get_word_index()\n",
        "reverse_word_index = dict([(value, key) for (key, value) in word_index.items()])\n",
        "decoded_newswire = \" \".join([reverse_word_index.get(i - 3, \"?\") for i in train_data[0]])\n",
        "decoded_newswire"
      ],
      "metadata": {
        "colab": {
          "base_uri": "https://localhost:8080/",
          "height": 70
        },
        "id": "t6G38QGa1Vmz",
        "outputId": "ce208c0b-5fdd-4c2f-b5ff-cf86a2778ea4"
      },
      "execution_count": 47,
      "outputs": [
        {
          "output_type": "execute_result",
          "data": {
            "text/plain": [
              "'? ? ? said as a result of its december acquisition of space co it expects earnings per share in 1987 of 1 15 to 1 30 dlrs per share up from 70 cts in 1986 the company said pretax net should rise to nine to 10 mln dlrs from six mln dlrs in 1986 and rental operation revenues to 19 to 22 mln dlrs from 12 5 mln dlrs it said cash flow per share this year should be 2 50 to three dlrs reuter 3'"
            ],
            "application/vnd.google.colaboratory.intrinsic+json": {
              "type": "string"
            }
          },
          "metadata": {},
          "execution_count": 47
        }
      ]
    },
    {
      "cell_type": "code",
      "source": [
        "train_labels[0]"
      ],
      "metadata": {
        "colab": {
          "base_uri": "https://localhost:8080/"
        },
        "id": "E_3iT2rI1x8X",
        "outputId": "c74f9b01-ba4c-4f8d-fbd9-0770cc76c389"
      },
      "execution_count": 48,
      "outputs": [
        {
          "output_type": "execute_result",
          "data": {
            "text/plain": [
              "3"
            ]
          },
          "metadata": {},
          "execution_count": 48
        }
      ]
    },
    {
      "cell_type": "markdown",
      "source": [
        "### Preparing the data"
      ],
      "metadata": {
        "id": "PIShrzkl15JI"
      }
    },
    {
      "cell_type": "code",
      "source": [
        "# Encoding the data\n",
        "\n",
        "def vectorize_sequences(sequences, dimension=10000):\n",
        "  results = np.zeros((len(sequences), dimension))\n",
        "  for i, sequence in enumerate(sequences):\n",
        "    results[i, sequence] = 1.\n",
        "  return results\n",
        "\n",
        "x_train = vectorize_sequences(train_data)\n",
        "x_test = vectorize_sequences(test_data)\n",
        "\n",
        "\"\"\"\n",
        "def to_one_hot(labels, dimension=64):\n",
        "  results = np.zeros((len(labels), dimension))\n",
        "  for i, label in enumerate(labels):\n",
        "    results[i, label] = 1.\n",
        "  return results\n",
        "\n",
        "one_hot_train_labels = to_one_hot(train_labels)\n",
        "one_hot_test_labels = to_one_hot(test_labels)\n",
        "\"\"\"\n",
        "\n",
        "\n",
        "# Built-in way\n",
        "# from keras.utils import to_categorical\n",
        "one_hot_train_labels = to_categorical(train_labels)\n",
        "one_hot_test_labels = to_categorical(test_labels)"
      ],
      "metadata": {
        "id": "B4IK6FHi2LEF"
      },
      "execution_count": 58,
      "outputs": []
    },
    {
      "cell_type": "markdown",
      "source": [
        "### Building your network"
      ],
      "metadata": {
        "id": "QA-RjJ5u4DT2"
      }
    },
    {
      "cell_type": "code",
      "source": [
        "# Bu verisetinde 46 farklı sınıf olduğu için önceki model küçük gelecektir ve aynı şekilde output layer da sınıf sayısına bağlı şekilde değişecek\n",
        "\n",
        "model = models.Sequential()\n",
        "model.add(layers.Dense(64, activation=\"relu\", input_shape=(10000,)))\n",
        "model.add(layers.Dense(64, activation=\"relu\"))\n",
        "model.add(layers.Dense(46, activation=\"softmax\")) # Her sample, 46-dimensional vector verecek"
      ],
      "metadata": {
        "id": "DLZriDZf4JXH"
      },
      "execution_count": 53,
      "outputs": []
    },
    {
      "cell_type": "code",
      "source": [
        "# Compiling the model\n",
        "model.compile(optimizer=\"rmsprop\",\n",
        "              loss=\"categorical_crossentropy\",\n",
        "              metrics=[\"accuracy\"])\n",
        "\n",
        "# Validating your approach\n",
        "x_val = x_train[:1000]\n",
        "partial_x_train = x_train[1000:]\n",
        "y_val = one_hot_train_labels[:1000]\n",
        "partial_y_train = one_hot_train_labels[1000:]\n",
        "\n",
        "# Training the model\n",
        "history = model.fit(partial_x_train,\n",
        "                    partial_y_train,\n",
        "                    epochs=20,\n",
        "                    batch_size=512,\n",
        "                    validation_data=(x_val, y_val))"
      ],
      "metadata": {
        "colab": {
          "base_uri": "https://localhost:8080/"
        },
        "id": "7FhVaMpD49I7",
        "outputId": "c3121d28-f025-4393-dd08-8a8912670bcd"
      },
      "execution_count": 59,
      "outputs": [
        {
          "output_type": "stream",
          "name": "stdout",
          "text": [
            "Epoch 1/20\n",
            "16/16 [==============================] - 2s 72ms/step - loss: 2.6599 - accuracy: 0.5122 - val_loss: 1.8006 - val_accuracy: 0.6210\n",
            "Epoch 2/20\n",
            "16/16 [==============================] - 1s 47ms/step - loss: 1.5149 - accuracy: 0.6883 - val_loss: 1.3661 - val_accuracy: 0.7040\n",
            "Epoch 3/20\n",
            "16/16 [==============================] - 1s 54ms/step - loss: 1.1771 - accuracy: 0.7442 - val_loss: 1.1942 - val_accuracy: 0.7370\n",
            "Epoch 4/20\n",
            "16/16 [==============================] - 1s 86ms/step - loss: 0.9749 - accuracy: 0.7815 - val_loss: 1.0744 - val_accuracy: 0.7600\n",
            "Epoch 5/20\n",
            "16/16 [==============================] - 1s 88ms/step - loss: 0.8101 - accuracy: 0.8215 - val_loss: 1.0033 - val_accuracy: 0.7810\n",
            "Epoch 6/20\n",
            "16/16 [==============================] - 1s 62ms/step - loss: 0.6780 - accuracy: 0.8527 - val_loss: 0.9624 - val_accuracy: 0.7920\n",
            "Epoch 7/20\n",
            "16/16 [==============================] - 1s 57ms/step - loss: 0.5674 - accuracy: 0.8782 - val_loss: 0.9225 - val_accuracy: 0.8080\n",
            "Epoch 8/20\n",
            "16/16 [==============================] - 1s 52ms/step - loss: 0.4789 - accuracy: 0.8999 - val_loss: 0.8975 - val_accuracy: 0.8110\n",
            "Epoch 9/20\n",
            "16/16 [==============================] - 1s 57ms/step - loss: 0.4003 - accuracy: 0.9173 - val_loss: 0.8989 - val_accuracy: 0.8160\n",
            "Epoch 10/20\n",
            "16/16 [==============================] - 1s 51ms/step - loss: 0.3406 - accuracy: 0.9262 - val_loss: 0.8705 - val_accuracy: 0.8210\n",
            "Epoch 11/20\n",
            "16/16 [==============================] - 1s 69ms/step - loss: 0.2963 - accuracy: 0.9356 - val_loss: 0.8832 - val_accuracy: 0.8160\n",
            "Epoch 12/20\n",
            "16/16 [==============================] - 1s 90ms/step - loss: 0.2543 - accuracy: 0.9448 - val_loss: 0.8738 - val_accuracy: 0.8240\n",
            "Epoch 13/20\n",
            "16/16 [==============================] - 1s 64ms/step - loss: 0.2234 - accuracy: 0.9481 - val_loss: 0.8958 - val_accuracy: 0.8110\n",
            "Epoch 14/20\n",
            "16/16 [==============================] - 1s 55ms/step - loss: 0.2009 - accuracy: 0.9489 - val_loss: 0.8983 - val_accuracy: 0.8140\n",
            "Epoch 15/20\n",
            "16/16 [==============================] - 1s 49ms/step - loss: 0.1849 - accuracy: 0.9519 - val_loss: 0.8903 - val_accuracy: 0.8200\n",
            "Epoch 16/20\n",
            "16/16 [==============================] - 1s 78ms/step - loss: 0.1675 - accuracy: 0.9526 - val_loss: 0.9222 - val_accuracy: 0.8120\n",
            "Epoch 17/20\n",
            "16/16 [==============================] - 2s 99ms/step - loss: 0.1573 - accuracy: 0.9559 - val_loss: 0.9541 - val_accuracy: 0.8050\n",
            "Epoch 18/20\n",
            "16/16 [==============================] - 1s 71ms/step - loss: 0.1517 - accuracy: 0.9553 - val_loss: 0.9632 - val_accuracy: 0.8040\n",
            "Epoch 19/20\n",
            "16/16 [==============================] - 2s 103ms/step - loss: 0.1388 - accuracy: 0.9572 - val_loss: 0.9665 - val_accuracy: 0.8050\n",
            "Epoch 20/20\n",
            "16/16 [==============================] - 2s 95ms/step - loss: 0.1385 - accuracy: 0.9553 - val_loss: 0.9555 - val_accuracy: 0.8090\n"
          ]
        }
      ]
    },
    {
      "cell_type": "code",
      "source": [
        "# Plotting the training and validation loss\n",
        "# import matplotlib.pyplot as plt\n",
        "\n",
        "loss = history.history[\"loss\"]\n",
        "val_loss = history.history[\"val_loss\"]\n",
        "\n",
        "epochs = range(1, len(loss) + 1)\n",
        "\n",
        "plt.plot(epochs, loss, \"bo\", label=\"Training loss\")\n",
        "plt.plot(epochs, val_loss, \"b\", label=\"Validation loss\")\n",
        "plt.title(\"Training and validation loss\")\n",
        "plt.xlabel(\"Epochs\")\n",
        "plt.ylabel(\"Loss\")\n",
        "plt.legend()\n",
        "\n",
        "plt.show()"
      ],
      "metadata": {
        "colab": {
          "base_uri": "https://localhost:8080/",
          "height": 472
        },
        "id": "wwis1qu_5aHK",
        "outputId": "4a89bb94-91bd-4136-87c2-b6032b0107fb"
      },
      "execution_count": 60,
      "outputs": [
        {
          "output_type": "display_data",
          "data": {
            "text/plain": [
              "<Figure size 640x480 with 1 Axes>"
            ],
            "image/png": "[encoded data removed]"
          },
          "metadata": {}
        }
      ]
    },
    {
      "cell_type": "code",
      "source": [
        "# Plotting the training and validation accuracy\n",
        "plt.clf()\n",
        "\n",
        "acc = history.history[\"accuracy\"]\n",
        "val_acc = history.history[\"val_accuracy\"]\n",
        "\n",
        "plt.plot(epochs, acc, \"bo\", label=\"Training acc\")\n",
        "plt.plot(epochs, val_acc, \"b\", label=\"Validation acc\")\n",
        "plt.title(\"Training and validation accuracy\")\n",
        "plt.xlabel(\"Epochs\")\n",
        "plt.ylabel(\"Loss\")\n",
        "plt.legend()\n",
        "\n",
        "plt.show()"
      ],
      "metadata": {
        "colab": {
          "base_uri": "https://localhost:8080/",
          "height": 472
        },
        "id": "dsGaFads6Mzh",
        "outputId": "fd210421-cf17-49db-b71d-9ff4cce3f36b"
      },
      "execution_count": 62,
      "outputs": [
        {
          "output_type": "display_data",
          "data": {
            "text/plain": [
              "<Figure size 640x480 with 1 Axes>"
            ],
            "image/png": "[encoded data removed]"
          },
          "metadata": {}
        }
      ]
    },
    {
      "cell_type": "markdown",
      "source": [
        "The network begins to overfit after nine epochs.\n",
        "\n",
        "Let's train a new network from scratch for nine epochs"
      ],
      "metadata": {
        "id": "YDGJPCLe6kXx"
      }
    },
    {
      "cell_type": "code",
      "source": [
        "# Retraining a model from scratch\n",
        "\n",
        "model = models.Sequential()\n",
        "model.add(layers.Dense(64, activation=\"relu\", input_shape=(10000,)))\n",
        "model.add(layers.Dense(64, activation=\"relu\"))\n",
        "model.add(layers.Dense(46, activation=\"softmax\")) # Her sample, 46-dimensional vector verecek"
      ],
      "metadata": {
        "id": "q_vG0okT6ZBL"
      },
      "execution_count": 63,
      "outputs": []
    },
    {
      "cell_type": "code",
      "source": [
        "# Compiling the model\n",
        "model.compile(optimizer=\"rmsprop\",\n",
        "              loss=\"categorical_crossentropy\",\n",
        "              metrics=[\"accuracy\"])\n",
        "\n",
        "# Training the model\n",
        "history = model.fit(partial_x_train,\n",
        "                    partial_y_train,\n",
        "                    epochs=9,\n",
        "                    batch_size=512,\n",
        "                    validation_data=(x_val, y_val))\n",
        "\n",
        "results = model.evaluate(x_test, one_hot_test_labels)"
      ],
      "metadata": {
        "colab": {
          "base_uri": "https://localhost:8080/"
        },
        "id": "YA2VXi3963eD",
        "outputId": "28b7e0a2-d568-4f15-9992-4952bb0c5282"
      },
      "execution_count": 64,
      "outputs": [
        {
          "output_type": "stream",
          "name": "stdout",
          "text": [
            "Epoch 1/9\n",
            "16/16 [==============================] - 3s 142ms/step - loss: 2.6381 - accuracy: 0.4890 - val_loss: 1.7789 - val_accuracy: 0.6210\n",
            "Epoch 2/9\n",
            "16/16 [==============================] - 1s 76ms/step - loss: 1.5133 - accuracy: 0.6753 - val_loss: 1.3893 - val_accuracy: 0.6890\n",
            "Epoch 3/9\n",
            "16/16 [==============================] - 1s 85ms/step - loss: 1.1857 - accuracy: 0.7370 - val_loss: 1.2099 - val_accuracy: 0.7220\n",
            "Epoch 4/9\n",
            "16/16 [==============================] - 2s 108ms/step - loss: 0.9940 - accuracy: 0.7825 - val_loss: 1.1065 - val_accuracy: 0.7510\n",
            "Epoch 5/9\n",
            "16/16 [==============================] - 1s 92ms/step - loss: 0.8342 - accuracy: 0.8180 - val_loss: 1.0425 - val_accuracy: 0.7710\n",
            "Epoch 6/9\n",
            "16/16 [==============================] - 1s 71ms/step - loss: 0.7068 - accuracy: 0.8474 - val_loss: 0.9874 - val_accuracy: 0.7830\n",
            "Epoch 7/9\n",
            "16/16 [==============================] - 1s 68ms/step - loss: 0.5960 - accuracy: 0.8732 - val_loss: 0.9312 - val_accuracy: 0.8030\n",
            "Epoch 8/9\n",
            "16/16 [==============================] - 1s 74ms/step - loss: 0.5008 - accuracy: 0.8925 - val_loss: 0.8975 - val_accuracy: 0.8070\n",
            "Epoch 9/9\n",
            "16/16 [==============================] - 1s 75ms/step - loss: 0.4247 - accuracy: 0.9099 - val_loss: 0.8978 - val_accuracy: 0.8020\n",
            "71/71 [==============================] - 0s 3ms/step - loss: 0.9608 - accuracy: 0.7841\n"
          ]
        }
      ]
    },
    {
      "cell_type": "code",
      "source": [
        "results"
      ],
      "metadata": {
        "colab": {
          "base_uri": "https://localhost:8080/"
        },
        "id": "p0CUlQ2j7BnV",
        "outputId": "3c44a6f9-b772-4fc7-f1a1-2b26f44e4b0d"
      },
      "execution_count": 65,
      "outputs": [
        {
          "output_type": "execute_result",
          "data": {
            "text/plain": [
              "[0.9608092308044434, 0.784060537815094]"
            ]
          },
          "metadata": {},
          "execution_count": 65
        }
      ]
    },
    {
      "cell_type": "code",
      "source": [
        "# import copy\n",
        "test_labels_copy = copy.copy(test_labels)\n",
        "np.random.shuffle(test_labels_copy)\n",
        "hits_array = np.array(test_labels) == np.array(test_labels_copy)\n",
        "float(np.sum(hits_array)) / len(test_labels)\n",
        "# Bu kod karıştırılmış labellar ile normal labelların ne kadarının eşleştiğini gösterir bu sonuç ile karşılaştırırsak modelimiz pozitif bir sonuç verdi"
      ],
      "metadata": {
        "colab": {
          "base_uri": "https://localhost:8080/"
        },
        "id": "tYYNWFXY7C9j",
        "outputId": "6295380f-8293-4c73-fbae-94b9d790ed3d"
      },
      "execution_count": 68,
      "outputs": [
        {
          "output_type": "execute_result",
          "data": {
            "text/plain": [
              "0.188780053428317"
            ]
          },
          "metadata": {},
          "execution_count": 68
        }
      ]
    },
    {
      "cell_type": "markdown",
      "source": [
        "### Generating predictions on new data"
      ],
      "metadata": {
        "id": "7y6Vcz898FZT"
      }
    },
    {
      "cell_type": "code",
      "source": [
        "# Generating predictions for new data\n",
        "predictions = model.predict(x_test)\n",
        "predictions[0].shape # (46,) çünkü 46 sınıf var ve her biri için bir değer hesaplıyor toplamları ise 1 ediyor."
      ],
      "metadata": {
        "colab": {
          "base_uri": "https://localhost:8080/"
        },
        "id": "ZshTa3rG8rA3",
        "outputId": "05e54390-acea-442d-9650-759e0b42ffd8"
      },
      "execution_count": 69,
      "outputs": [
        {
          "output_type": "stream",
          "name": "stdout",
          "text": [
            "71/71 [==============================] - 1s 8ms/step\n"
          ]
        },
        {
          "output_type": "execute_result",
          "data": {
            "text/plain": [
              "(46,)"
            ]
          },
          "metadata": {},
          "execution_count": 69
        }
      ]
    },
    {
      "cell_type": "code",
      "source": [
        "np.sum(predictions[0])"
      ],
      "metadata": {
        "colab": {
          "base_uri": "https://localhost:8080/"
        },
        "id": "JZj79GQy8xH4",
        "outputId": "95ec96bf-cc1f-4bd3-c1d1-ce648f2673bd"
      },
      "execution_count": 71,
      "outputs": [
        {
          "output_type": "execute_result",
          "data": {
            "text/plain": [
              "0.9999998"
            ]
          },
          "metadata": {},
          "execution_count": 71
        }
      ]
    },
    {
      "cell_type": "code",
      "source": [
        "# Largest entry is the predicted class\n",
        "np.argmax(predictions[0])"
      ],
      "metadata": {
        "colab": {
          "base_uri": "https://localhost:8080/"
        },
        "id": "w36_yKBW8565",
        "outputId": "aa6e45d0-2ae4-463f-b2de-e384e4eec0d3"
      },
      "execution_count": 72,
      "outputs": [
        {
          "output_type": "execute_result",
          "data": {
            "text/plain": [
              "3"
            ]
          },
          "metadata": {},
          "execution_count": 72
        }
      ]
    },
    {
      "cell_type": "code",
      "source": [
        "# A different way to handle the labels and the loss\n",
        "\n",
        "y_train = np.array(train_labels)\n",
        "y_test = np.array(test_labels)\n",
        "\n",
        "model.compile(optimizer=\"rmsprop\",\n",
        "              loss=\"sparse_categorical_crossentropy\", # categorical_crossentropy için one-hot gerekli fakat sparse olursa tamsayı olması yeterli oluyor\n",
        "              metrics=[\"accuracy\"])"
      ],
      "metadata": {
        "id": "RGPeEIHL9AsL"
      },
      "execution_count": 73,
      "outputs": []
    },
    {
      "cell_type": "code",
      "source": [
        "# A model with an information bottleneck\n",
        "\n",
        "model = models.Sequential()\n",
        "model.add(layers.Dense(64, activation=\"relu\", input_shape=(10000,)))\n",
        "model.add(layers.Dense(4, activation=\"relu\"))\n",
        "model.add(layers.Dense(46, activation=\"softmax\"))\n",
        "\n",
        "# Compiling the model\n",
        "model.compile(optimizer=\"rmsprop\",\n",
        "              loss=\"categorical_crossentropy\",\n",
        "              metrics=[\"accuracy\"])\n",
        "\n",
        "model.fit(partial_x_train,\n",
        "          partial_y_train,\n",
        "          epochs=20,\n",
        "          batch_size=128,\n",
        "          validation_data=(x_val, y_val))"
      ],
      "metadata": {
        "colab": {
          "base_uri": "https://localhost:8080/"
        },
        "id": "hq1srjew91B4",
        "outputId": "12a88d27-4fbe-491d-ec83-1af04e1b44f7"
      },
      "execution_count": 75,
      "outputs": [
        {
          "output_type": "stream",
          "name": "stdout",
          "text": [
            "Epoch 1/20\n",
            "63/63 [==============================] - 3s 39ms/step - loss: 2.9311 - accuracy: 0.2690 - val_loss: 2.1275 - val_accuracy: 0.4370\n",
            "Epoch 2/20\n",
            "63/63 [==============================] - 2s 29ms/step - loss: 1.7720 - accuracy: 0.6067 - val_loss: 1.5790 - val_accuracy: 0.6550\n",
            "Epoch 3/20\n",
            "63/63 [==============================] - 2s 25ms/step - loss: 1.3980 - accuracy: 0.6921 - val_loss: 1.4372 - val_accuracy: 0.6730\n",
            "Epoch 4/20\n",
            "63/63 [==============================] - 1s 24ms/step - loss: 1.2424 - accuracy: 0.7157 - val_loss: 1.3852 - val_accuracy: 0.6780\n",
            "Epoch 5/20\n",
            "63/63 [==============================] - 2s 31ms/step - loss: 1.1417 - accuracy: 0.7323 - val_loss: 1.3704 - val_accuracy: 0.6840\n",
            "Epoch 6/20\n",
            "63/63 [==============================] - 2s 33ms/step - loss: 1.0612 - accuracy: 0.7442 - val_loss: 1.3477 - val_accuracy: 0.6960\n",
            "Epoch 7/20\n",
            "63/63 [==============================] - 2s 25ms/step - loss: 0.9912 - accuracy: 0.7539 - val_loss: 1.3289 - val_accuracy: 0.7030\n",
            "Epoch 8/20\n",
            "63/63 [==============================] - 2s 25ms/step - loss: 0.9297 - accuracy: 0.7598 - val_loss: 1.3677 - val_accuracy: 0.6910\n",
            "Epoch 9/20\n",
            "63/63 [==============================] - 2s 27ms/step - loss: 0.8738 - accuracy: 0.7661 - val_loss: 1.3361 - val_accuracy: 0.7070\n",
            "Epoch 10/20\n",
            "63/63 [==============================] - 2s 24ms/step - loss: 0.8223 - accuracy: 0.7749 - val_loss: 1.3635 - val_accuracy: 0.7040\n",
            "Epoch 11/20\n",
            "63/63 [==============================] - 2s 25ms/step - loss: 0.7747 - accuracy: 0.7843 - val_loss: 1.3735 - val_accuracy: 0.6950\n",
            "Epoch 12/20\n",
            "63/63 [==============================] - 1s 24ms/step - loss: 0.7329 - accuracy: 0.7990 - val_loss: 1.3794 - val_accuracy: 0.7040\n",
            "Epoch 13/20\n",
            "63/63 [==============================] - 2s 32ms/step - loss: 0.6972 - accuracy: 0.8103 - val_loss: 1.4322 - val_accuracy: 0.6870\n",
            "Epoch 14/20\n",
            "63/63 [==============================] - 2s 34ms/step - loss: 0.6611 - accuracy: 0.8165 - val_loss: 1.4326 - val_accuracy: 0.7070\n",
            "Epoch 15/20\n",
            "63/63 [==============================] - 2s 25ms/step - loss: 0.6333 - accuracy: 0.8264 - val_loss: 1.5138 - val_accuracy: 0.7160\n",
            "Epoch 16/20\n",
            "63/63 [==============================] - 1s 15ms/step - loss: 0.6045 - accuracy: 0.8369 - val_loss: 1.5066 - val_accuracy: 0.7000\n",
            "Epoch 17/20\n",
            "63/63 [==============================] - 1s 15ms/step - loss: 0.5791 - accuracy: 0.8448 - val_loss: 1.6061 - val_accuracy: 0.7090\n",
            "Epoch 18/20\n",
            "63/63 [==============================] - 1s 16ms/step - loss: 0.5538 - accuracy: 0.8518 - val_loss: 1.5922 - val_accuracy: 0.7080\n",
            "Epoch 19/20\n",
            "63/63 [==============================] - 1s 15ms/step - loss: 0.5359 - accuracy: 0.8582 - val_loss: 1.6157 - val_accuracy: 0.7130\n",
            "Epoch 20/20\n",
            "63/63 [==============================] - 1s 15ms/step - loss: 0.5171 - accuracy: 0.8658 - val_loss: 1.6852 - val_accuracy: 0.7080\n"
          ]
        },
        {
          "output_type": "execute_result",
          "data": {
            "text/plain": [
              "<keras.src.callbacks.History at 0x7c9d9438c8b0>"
            ]
          },
          "metadata": {},
          "execution_count": 75
        }
      ]
    },
    {
      "cell_type": "markdown",
      "source": [
        "Network peaks at %71 val accuracy"
      ],
      "metadata": {
        "id": "Nc_sLeMs-oEW"
      }
    },
    {
      "cell_type": "markdown",
      "source": [
        "## Predicting house prices: a regression example\n",
        "\n",
        "The Boston Housing Price dataset"
      ],
      "metadata": {
        "id": "ZyLic4Fr-Si3"
      }
    },
    {
      "cell_type": "code",
      "source": [
        "# Loading the Boston housing dataset\n",
        "# from keras.datasets import boston_housing\n",
        "\n",
        "(train_data, train_targets), (test_data, test_targets) = boston_housing.load_data()"
      ],
      "metadata": {
        "id": "1UJlmDf8-yHv"
      },
      "execution_count": 80,
      "outputs": []
    },
    {
      "cell_type": "code",
      "source": [
        "train_data.shape, test_data.shape"
      ],
      "metadata": {
        "colab": {
          "base_uri": "https://localhost:8080/"
        },
        "id": "88hICXPe_QkU",
        "outputId": "6b4e8dca-b305-440f-a939-5e610a89d360"
      },
      "execution_count": 81,
      "outputs": [
        {
          "output_type": "execute_result",
          "data": {
            "text/plain": [
              "((404, 13), (102, 13))"
            ]
          },
          "metadata": {},
          "execution_count": 81
        }
      ]
    },
    {
      "cell_type": "code",
      "source": [
        "train_targets # median values of owner-occuppied homes, in thousands of dollars"
      ],
      "metadata": {
        "colab": {
          "base_uri": "https://localhost:8080/"
        },
        "id": "MELePemN_TQ7",
        "outputId": "497a5bbb-2bbf-4819-8cda-971f08e46658"
      },
      "execution_count": 82,
      "outputs": [
        {
          "output_type": "execute_result",
          "data": {
            "text/plain": [
              "array([15.2, 42.3, 50. , 21.1, 17.7, 18.5, 11.3, 15.6, 15.6, 14.4, 12.1,\n",
              "       17.9, 23.1, 19.9, 15.7,  8.8, 50. , 22.5, 24.1, 27.5, 10.9, 30.8,\n",
              "       32.9, 24. , 18.5, 13.3, 22.9, 34.7, 16.6, 17.5, 22.3, 16.1, 14.9,\n",
              "       23.1, 34.9, 25. , 13.9, 13.1, 20.4, 20. , 15.2, 24.7, 22.2, 16.7,\n",
              "       12.7, 15.6, 18.4, 21. , 30.1, 15.1, 18.7,  9.6, 31.5, 24.8, 19.1,\n",
              "       22. , 14.5, 11. , 32. , 29.4, 20.3, 24.4, 14.6, 19.5, 14.1, 14.3,\n",
              "       15.6, 10.5,  6.3, 19.3, 19.3, 13.4, 36.4, 17.8, 13.5, 16.5,  8.3,\n",
              "       14.3, 16. , 13.4, 28.6, 43.5, 20.2, 22. , 23. , 20.7, 12.5, 48.5,\n",
              "       14.6, 13.4, 23.7, 50. , 21.7, 39.8, 38.7, 22.2, 34.9, 22.5, 31.1,\n",
              "       28.7, 46. , 41.7, 21. , 26.6, 15. , 24.4, 13.3, 21.2, 11.7, 21.7,\n",
              "       19.4, 50. , 22.8, 19.7, 24.7, 36.2, 14.2, 18.9, 18.3, 20.6, 24.6,\n",
              "       18.2,  8.7, 44. , 10.4, 13.2, 21.2, 37. , 30.7, 22.9, 20. , 19.3,\n",
              "       31.7, 32. , 23.1, 18.8, 10.9, 50. , 19.6,  5. , 14.4, 19.8, 13.8,\n",
              "       19.6, 23.9, 24.5, 25. , 19.9, 17.2, 24.6, 13.5, 26.6, 21.4, 11.9,\n",
              "       22.6, 19.6,  8.5, 23.7, 23.1, 22.4, 20.5, 23.6, 18.4, 35.2, 23.1,\n",
              "       27.9, 20.6, 23.7, 28. , 13.6, 27.1, 23.6, 20.6, 18.2, 21.7, 17.1,\n",
              "        8.4, 25.3, 13.8, 22.2, 18.4, 20.7, 31.6, 30.5, 20.3,  8.8, 19.2,\n",
              "       19.4, 23.1, 23. , 14.8, 48.8, 22.6, 33.4, 21.1, 13.6, 32.2, 13.1,\n",
              "       23.4, 18.9, 23.9, 11.8, 23.3, 22.8, 19.6, 16.7, 13.4, 22.2, 20.4,\n",
              "       21.8, 26.4, 14.9, 24.1, 23.8, 12.3, 29.1, 21. , 19.5, 23.3, 23.8,\n",
              "       17.8, 11.5, 21.7, 19.9, 25. , 33.4, 28.5, 21.4, 24.3, 27.5, 33.1,\n",
              "       16.2, 23.3, 48.3, 22.9, 22.8, 13.1, 12.7, 22.6, 15. , 15.3, 10.5,\n",
              "       24. , 18.5, 21.7, 19.5, 33.2, 23.2,  5. , 19.1, 12.7, 22.3, 10.2,\n",
              "       13.9, 16.3, 17. , 20.1, 29.9, 17.2, 37.3, 45.4, 17.8, 23.2, 29. ,\n",
              "       22. , 18. , 17.4, 34.6, 20.1, 25. , 15.6, 24.8, 28.2, 21.2, 21.4,\n",
              "       23.8, 31. , 26.2, 17.4, 37.9, 17.5, 20. ,  8.3, 23.9,  8.4, 13.8,\n",
              "        7.2, 11.7, 17.1, 21.6, 50. , 16.1, 20.4, 20.6, 21.4, 20.6, 36.5,\n",
              "        8.5, 24.8, 10.8, 21.9, 17.3, 18.9, 36.2, 14.9, 18.2, 33.3, 21.8,\n",
              "       19.7, 31.6, 24.8, 19.4, 22.8,  7.5, 44.8, 16.8, 18.7, 50. , 50. ,\n",
              "       19.5, 20.1, 50. , 17.2, 20.8, 19.3, 41.3, 20.4, 20.5, 13.8, 16.5,\n",
              "       23.9, 20.6, 31.5, 23.3, 16.8, 14. , 33.8, 36.1, 12.8, 18.3, 18.7,\n",
              "       19.1, 29. , 30.1, 50. , 50. , 22. , 11.9, 37.6, 50. , 22.7, 20.8,\n",
              "       23.5, 27.9, 50. , 19.3, 23.9, 22.6, 15.2, 21.7, 19.2, 43.8, 20.3,\n",
              "       33.2, 19.9, 22.5, 32.7, 22. , 17.1, 19. , 15. , 16.1, 25.1, 23.7,\n",
              "       28.7, 37.2, 22.6, 16.4, 25. , 29.8, 22.1, 17.4, 18.1, 30.3, 17.5,\n",
              "       24.7, 12.6, 26.5, 28.7, 13.3, 10.4, 24.4, 23. , 20. , 17.8,  7. ,\n",
              "       11.8, 24.4, 13.8, 19.4, 25.2, 19.4, 19.4, 29.1])"
            ]
          },
          "metadata": {},
          "execution_count": 82
        }
      ]
    },
    {
      "cell_type": "markdown",
      "source": [
        "### Preparing the data"
      ],
      "metadata": {
        "id": "YVAm6AmO_Zi6"
      }
    },
    {
      "cell_type": "code",
      "source": [
        "# Normalizing the data\n",
        "\n",
        "mean = train_data.mean(axis=0)\n",
        "train_data -= mean\n",
        "std = train_data.std(axis=0)\n",
        "train_data /= std\n",
        "\n",
        "test_data -= mean\n",
        "test_data /= std"
      ],
      "metadata": {
        "id": "FEHD5guo__rn"
      },
      "execution_count": 83,
      "outputs": []
    },
    {
      "cell_type": "markdown",
      "source": [
        "### Building your network\n"
      ],
      "metadata": {
        "id": "qE6pZnPzAWlc"
      }
    },
    {
      "cell_type": "code",
      "source": [
        "# Model definition\n",
        "\n",
        "def build_model():\n",
        "  model = models.Sequential()\n",
        "  model.add(layers.Dense(64, activation=\"relu\", input_shape=(train_data.shape[1],)))\n",
        "  model.add(layers.Dense(64, activation=\"relu\"))\n",
        "  model.add(layers.Dense(1)) # will be linear layer\n",
        "  model.compile(optimizer=\"rmsprop\", loss=\"mse\", metrics=[\"mae\"])\n",
        "  return model"
      ],
      "metadata": {
        "id": "OKQX0-cpAe5Q"
      },
      "execution_count": 84,
      "outputs": []
    },
    {
      "cell_type": "code",
      "source": [
        "# Validating your approach using K-fold validation\n",
        "\n",
        "k = 4\n",
        "num_val_samples = len(train_data) // k\n",
        "num_epochs = 100\n",
        "all_scores = []\n",
        "for i in range(k):\n",
        "  print(\"processing fold #\", i)\n",
        "  val_data = train_data[i * num_val_samples: (i+1) * num_val_samples]\n",
        "  val_targets = train_targets[i * num_val_samples: (i+1) * num_val_samples]\n",
        "\n",
        "  partial_train_data = np.concatenate(\n",
        "      [train_data[:i*num_val_samples],\n",
        "       train_data[(i+1)*num_val_samples:]],\n",
        "      axis=0\n",
        "  )\n",
        "  partial_train_targets = np.concatenate(\n",
        "      [train_targets[:i*num_val_samples],\n",
        "       train_targets[(i+1)*num_val_samples:]],\n",
        "      axis=0\n",
        "  )\n",
        "  model = build_model()\n",
        "  model.fit(partial_train_data, partial_train_targets, epochs=num_epochs, batch_size=1, verbose=0)\n",
        "  val_mse, val_mae = model.evaluate(val_data, val_targets, verbose=0)\n",
        "  all_scores.append(val_mae)"
      ],
      "metadata": {
        "colab": {
          "base_uri": "https://localhost:8080/"
        },
        "id": "fImxBxZTA7Xy",
        "outputId": "6820e551-1559-4820-d8f1-c16e3b5c01d2"
      },
      "execution_count": 85,
      "outputs": [
        {
          "output_type": "stream",
          "name": "stdout",
          "text": [
            "processing fold # 0\n",
            "processing fold # 1\n",
            "processing fold # 2\n",
            "processing fold # 3\n"
          ]
        }
      ]
    },
    {
      "cell_type": "code",
      "source": [
        "all_scores"
      ],
      "metadata": {
        "colab": {
          "base_uri": "https://localhost:8080/"
        },
        "id": "JDUukSY1Cl-B",
        "outputId": "7294b9e0-abb2-46bd-8926-7507fd1c9d38"
      },
      "execution_count": 86,
      "outputs": [
        {
          "output_type": "execute_result",
          "data": {
            "text/plain": [
              "[1.9306352138519287,\n",
              " 2.2375714778900146,\n",
              " 2.6272830963134766,\n",
              " 2.5665042400360107]"
            ]
          },
          "metadata": {},
          "execution_count": 86
        }
      ]
    },
    {
      "cell_type": "code",
      "source": [
        "np.mean(all_scores)"
      ],
      "metadata": {
        "colab": {
          "base_uri": "https://localhost:8080/"
        },
        "id": "J1OG8EFTC8eV",
        "outputId": "8a291880-19c1-436a-c05f-df5f13cfb2ca"
      },
      "execution_count": 87,
      "outputs": [
        {
          "output_type": "execute_result",
          "data": {
            "text/plain": [
              "2.3404985070228577"
            ]
          },
          "metadata": {},
          "execution_count": 87
        }
      ]
    },
    {
      "cell_type": "code",
      "source": [
        "# Saving the validation logs at each fold\n",
        "num_epochs = 500\n",
        "all_mae_histories = []\n",
        "for i in range(k):\n",
        "  print(\"processing fold #\", i)\n",
        "  val_data = train_data[i * num_val_samples: (i+1) * num_val_samples]\n",
        "  val_targets = train_targets[i * num_val_samples: (i+1) * num_val_samples]\n",
        "\n",
        "  partial_train_data = np.concatenate(\n",
        "      [train_data[:i*num_val_samples],\n",
        "       train_data[(i+1)*num_val_samples:]],\n",
        "      axis=0\n",
        "  )\n",
        "  partial_train_targets = np.concatenate(\n",
        "      [train_targets[:i*num_val_samples],\n",
        "       train_targets[(i+1)*num_val_samples:]],\n",
        "      axis=0\n",
        "  )\n",
        "  model = build_model()\n",
        "  history = model.fit(partial_train_data, partial_train_targets, validation_data = (val_data, val_targets), epochs=num_epochs, batch_size=1, verbose=0)"
      ],
      "metadata": {
        "id": "wqx3zdBVC9_G"
      },
      "execution_count": null,
      "outputs": []
    },
    {
      "cell_type": "code",
      "source": [
        "history.history.keys()"
      ],
      "metadata": {
        "colab": {
          "base_uri": "https://localhost:8080/"
        },
        "id": "ABDzbV7BHBx_",
        "outputId": "a208e18a-e078-4b88-8e25-46435063fa55"
      },
      "execution_count": 93,
      "outputs": [
        {
          "output_type": "execute_result",
          "data": {
            "text/plain": [
              "dict_keys(['loss', 'mae', 'val_loss', 'val_mae'])"
            ]
          },
          "metadata": {},
          "execution_count": 93
        }
      ]
    },
    {
      "cell_type": "code",
      "source": [
        "mae_history = history.history[\"val_mae\"]\n",
        "all_mae_histories.append(mae_history)"
      ],
      "metadata": {
        "id": "tqyIRU6DG9za"
      },
      "execution_count": 94,
      "outputs": []
    },
    {
      "cell_type": "code",
      "source": [
        "# Building the history of successive mean K-fold validation scores\n",
        "average_mae_history = [np.mean([x[i] for x in all_mae_histories]) for i in range(num_epochs)]\n",
        "\n",
        "# Plotting validation scores\n",
        "plt.plot(range(1, len(average_mae_history) + 1), average_mae_history)\n",
        "plt.xlabel(\"Epochs\")\n",
        "plt.ylabel(\"Validation MAE\")\n",
        "plt.show()"
      ],
      "metadata": {
        "colab": {
          "base_uri": "https://localhost:8080/",
          "height": 451
        },
        "id": "SuUYXic1DyHe",
        "outputId": "29845f48-dd44-4436-d3fc-0cab384a7d82"
      },
      "execution_count": 95,
      "outputs": [
        {
          "output_type": "display_data",
          "data": {
            "text/plain": [
              "<Figure size 640x480 with 1 Axes>"
            ],
            "image/png": "[encoded data removed]"
          },
          "metadata": {}
        }
      ]
    },
    {
      "cell_type": "code",
      "source": [
        "# Plotting validation scores, excluding the first 10 data points\n",
        "\n",
        "def smooth_curve(points, factor=0.9):\n",
        "  smoothed_points = []\n",
        "  for point in points:\n",
        "    if smoothed_points:\n",
        "      previous = smoothed_points[-1]\n",
        "      smoothed_points.append(previous * factor + point * (1 - factor))\n",
        "    else:\n",
        "      smoothed_points.append(point)\n",
        "  return smoothed_points\n",
        "\n",
        "smooth_mae_history = smooth_curve(average_mae_history[10:])\n",
        "\n",
        "plt.plot(range(1, len(smooth_mae_history) + 1), smooth_mae_history)\n",
        "plt.xlabel(\"Epochs\")\n",
        "plt.ylabel(\"Validation MAE\")\n",
        "plt.show()"
      ],
      "metadata": {
        "colab": {
          "base_uri": "https://localhost:8080/",
          "height": 449
        },
        "id": "jUiEytk4ERjX",
        "outputId": "55ea47db-1a26-4c52-de2a-d62f4ce88cc2"
      },
      "execution_count": 96,
      "outputs": [
        {
          "output_type": "display_data",
          "data": {
            "text/plain": [
              "<Figure size 640x480 with 1 Axes>"
            ],
            "image/png": "[encoded data removed]"
          },
          "metadata": {}
        }
      ]
    },
    {
      "cell_type": "code",
      "source": [
        "# Training the final model\n",
        "model = build_model()\n",
        "model.fit(train_data, train_targets, epochs=80, batch_size=16, verbose=0)\n",
        "test_mse_score, test_mae_score = model.evaluate(test_data, test_targets)\n",
        "test_mae_score"
      ],
      "metadata": {
        "colab": {
          "base_uri": "https://localhost:8080/"
        },
        "id": "BEZxrT-QFIaV",
        "outputId": "f8892f53-871c-449d-af3c-60dca7c40252"
      },
      "execution_count": 97,
      "outputs": [
        {
          "output_type": "stream",
          "name": "stdout",
          "text": [
            "4/4 [==============================] - 0s 3ms/step - loss: 18.4881 - mae: 2.5299\n"
          ]
        },
        {
          "output_type": "execute_result",
          "data": {
            "text/plain": [
              "2.529925584793091"
            ]
          },
          "metadata": {},
          "execution_count": 97
        }
      ]
    },
    {
      "cell_type": "code",
      "source": [],
      "metadata": {
        "id": "bXDs62SFFqKe"
      },
      "execution_count": null,
      "outputs": []
    }
  ]
}