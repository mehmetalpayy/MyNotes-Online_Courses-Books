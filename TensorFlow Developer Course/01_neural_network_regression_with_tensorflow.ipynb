{
  "nbformat": 4,
  "nbformat_minor": 0,
  "metadata": {
    "colab": {
      "provenance": [],
      "gpuType": "T4"
    },
    "kernelspec": {
      "name": "python3",
      "display_name": "Python 3"
    },
    "language_info": {
      "name": "python"
    }
  },
  "cells": [
    {
      "cell_type": "markdown",
      "source": [
        "# Introduction to Regression with Neural Networks in TensorFlow\n",
        "\n",
        "There are many definitions for a regression problem but in our case, we're going to simplify it: predicting a numerical variable based on some other combination of variables, even shorter... predicting a number."
      ],
      "metadata": {
        "id": "7tbhYH4A10yr"
      }
    },
    {
      "cell_type": "code",
      "source": [
        "# Import TensorFlow\n",
        "import tensorflow as tf\n",
        "print(tf.__version__)"
      ],
      "metadata": {
        "colab": {
          "base_uri": "https://localhost:8080/"
        },
        "id": "X7uQfqKn4AOc",
        "outputId": "ea0de2f3-47b2-4ec1-e397-5efa6fa11253"
      },
      "execution_count": 1,
      "outputs": [
        {
          "output_type": "stream",
          "name": "stdout",
          "text": [
            "2.12.0\n"
          ]
        }
      ]
    },
    {
      "cell_type": "markdown",
      "source": [
        "## Creating data to view and fit"
      ],
      "metadata": {
        "id": "dYAqQ4y25zBE"
      }
    },
    {
      "cell_type": "code",
      "source": [
        "import numpy as np\n",
        "import matplotlib.pyplot as plt\n",
        "\n",
        "# Create features\n",
        "X = np.array([-7.0, -4.0, -1.0, 2.0, 5.0, 8.0, 11.0, 14.0])\n",
        "\n",
        "# Create labels\n",
        "y = np.array([3.0, 6.0, 9.0, 12.0, 15.0, 18.0, 21.0, 24.0])\n",
        "\n",
        "# Visualize it\n",
        "plt.scatter(X, y)"
      ],
      "metadata": {
        "colab": {
          "base_uri": "https://localhost:8080/",
          "height": 452
        },
        "id": "HN3TgjY35-D7",
        "outputId": "8a538a1b-47d4-469d-d5c0-639840f25a6e"
      },
      "execution_count": 2,
      "outputs": [
        {
          "output_type": "execute_result",
          "data": {
            "text/plain": [
              "<matplotlib.collections.PathCollection at 0x7fb3b5a63100>"
            ]
          },
          "metadata": {},
          "execution_count": 2
        },
        {
          "output_type": "display_data",
          "data": {
            "text/plain": [
              "<Figure size 640x480 with 1 Axes>"
            ],
            "image/png": "[encoded data removed]"
          },
          "metadata": {}
        }
      ]
    },
    {
      "cell_type": "code",
      "source": [
        "X + 10"
      ],
      "metadata": {
        "colab": {
          "base_uri": "https://localhost:8080/"
        },
        "id": "8VswzyaC6yuh",
        "outputId": "586a467d-335f-4866-8d7c-38e8a69a4bc9"
      },
      "execution_count": 3,
      "outputs": [
        {
          "output_type": "execute_result",
          "data": {
            "text/plain": [
              "array([ 3.,  6.,  9., 12., 15., 18., 21., 24.])"
            ]
          },
          "metadata": {},
          "execution_count": 3
        }
      ]
    },
    {
      "cell_type": "code",
      "source": [
        "y == X + 10"
      ],
      "metadata": {
        "colab": {
          "base_uri": "https://localhost:8080/"
        },
        "id": "GiO_ZGf07Emu",
        "outputId": "2dc115bb-9e8d-441b-d579-93defc8c6be0"
      },
      "execution_count": 4,
      "outputs": [
        {
          "output_type": "execute_result",
          "data": {
            "text/plain": [
              "array([ True,  True,  True,  True,  True,  True,  True,  True])"
            ]
          },
          "metadata": {},
          "execution_count": 4
        }
      ]
    },
    {
      "cell_type": "markdown",
      "source": [
        "## Input and output shapes"
      ],
      "metadata": {
        "id": "0HYHD5tV7Gky"
      }
    },
    {
      "cell_type": "code",
      "source": [
        "# Create a demo tensor for our housing price prediction problem\n",
        "house_info = tf.constant([\"bedroom\", \"bathroom\", \"garage\"])\n",
        "house_price = tf.constant([939700])\n",
        "house_info, house_price"
      ],
      "metadata": {
        "colab": {
          "base_uri": "https://localhost:8080/"
        },
        "id": "7-2dKmv57Q92",
        "outputId": "666db942-d436-4702-edff-979fefa9db17"
      },
      "execution_count": 5,
      "outputs": [
        {
          "output_type": "execute_result",
          "data": {
            "text/plain": [
              "(<tf.Tensor: shape=(3,), dtype=string, numpy=array([b'bedroom', b'bathroom', b'garage'], dtype=object)>,\n",
              " <tf.Tensor: shape=(1,), dtype=int32, numpy=array([939700], dtype=int32)>)"
            ]
          },
          "metadata": {},
          "execution_count": 5
        }
      ]
    },
    {
      "cell_type": "code",
      "source": [
        "X[0], y[0]"
      ],
      "metadata": {
        "colab": {
          "base_uri": "https://localhost:8080/"
        },
        "id": "vLCmspuT8oyV",
        "outputId": "c87043dc-4c74-451a-df3a-63881329d312"
      },
      "execution_count": 6,
      "outputs": [
        {
          "output_type": "execute_result",
          "data": {
            "text/plain": [
              "(-7.0, 3.0)"
            ]
          },
          "metadata": {},
          "execution_count": 6
        }
      ]
    },
    {
      "cell_type": "code",
      "source": [
        "input_shape = X.shape\n",
        "output_shape = y.shape\n",
        "input_shape, output_shape"
      ],
      "metadata": {
        "colab": {
          "base_uri": "https://localhost:8080/"
        },
        "id": "wa1Nxbo18GXs",
        "outputId": "5fc9d40e-9a44-43df-8131-202c971a99e3"
      },
      "execution_count": 7,
      "outputs": [
        {
          "output_type": "execute_result",
          "data": {
            "text/plain": [
              "((8,), (8,))"
            ]
          },
          "metadata": {},
          "execution_count": 7
        }
      ]
    },
    {
      "cell_type": "code",
      "source": [
        "# Turn our NumPy arrays into tensors\n",
        "X = tf.constant(X)\n",
        "y = tf.constant(y)\n",
        "X, y"
      ],
      "metadata": {
        "colab": {
          "base_uri": "https://localhost:8080/"
        },
        "id": "uUMqUaVi8WXJ",
        "outputId": "ab64e661-49e9-42f3-9ac2-83a44fabfa04"
      },
      "execution_count": 8,
      "outputs": [
        {
          "output_type": "execute_result",
          "data": {
            "text/plain": [
              "(<tf.Tensor: shape=(8,), dtype=float64, numpy=array([-7., -4., -1.,  2.,  5.,  8., 11., 14.])>,\n",
              " <tf.Tensor: shape=(8,), dtype=float64, numpy=array([ 3.,  6.,  9., 12., 15., 18., 21., 24.])>)"
            ]
          },
          "metadata": {},
          "execution_count": 8
        }
      ]
    },
    {
      "cell_type": "code",
      "source": [
        "input_shape = X[0].shape\n",
        "output_shape = y[0].shape\n",
        "input_shape, output_shape"
      ],
      "metadata": {
        "colab": {
          "base_uri": "https://localhost:8080/"
        },
        "id": "m3mtL0l8-kJu",
        "outputId": "204c9ff0-38f7-4160-922b-ba42204d18ca"
      },
      "execution_count": 9,
      "outputs": [
        {
          "output_type": "execute_result",
          "data": {
            "text/plain": [
              "(TensorShape([]), TensorShape([]))"
            ]
          },
          "metadata": {},
          "execution_count": 9
        }
      ]
    },
    {
      "cell_type": "code",
      "source": [
        "plt.scatter(X, y)"
      ],
      "metadata": {
        "colab": {
          "base_uri": "https://localhost:8080/",
          "height": 452
        },
        "id": "4i7yRoLE-xw-",
        "outputId": "88593595-404c-41c3-f7dc-ee749d81bf5c"
      },
      "execution_count": 10,
      "outputs": [
        {
          "output_type": "execute_result",
          "data": {
            "text/plain": [
              "<matplotlib.collections.PathCollection at 0x7fb3b07aa9b0>"
            ]
          },
          "metadata": {},
          "execution_count": 10
        },
        {
          "output_type": "display_data",
          "data": {
            "text/plain": [
              "<Figure size 640x480 with 1 Axes>"
            ],
            "image/png": "[encoded data removed]"
          },
          "metadata": {}
        }
      ]
    },
    {
      "cell_type": "markdown",
      "source": [
        "## Steps in modelling with TensorFlow\n",
        "\n",
        "1. **Creating a model** - define the input and output layers, as well as the hidden layers of a deep learning model.\n",
        "2. **Compiling a model** - define the loss function (in other words, the function which tells our model how wrong it is) and the optimizer (tells our model how to improve the patterns its learning) and evaluation metrics (what we can use to interpret the performance of our model).\n",
        "3. **Fitting a model** - letting the model try to find patterns between X and y (features and labels)."
      ],
      "metadata": {
        "id": "YUKHAtbC-7sW"
      }
    },
    {
      "cell_type": "markdown",
      "source": [
        "## Burdaki ornekler ile alt satirdaki kod blogunda bulunan 1. madde aynı islevi gerceklestirir bu biraz uzun yazim seklidir\n",
        "# Optionally, the first layer can receive an `input_shape` argument:\n",
        "model = tf.keras.Sequential()\n",
        "\n",
        "model.add(tf.keras.layers.Dense(8, input_shape=(16,)))\n",
        "# Afterwards, we do automatic shape inference:\n",
        "model.add(tf.keras.layers.Dense(4))\n",
        "\n",
        "model = tf.keras.Sequential()\n",
        "\n",
        "model.add(tf.keras.layers.Dense(8, input_shape = (16,)))\n",
        "\n",
        "...\n",
        "\n",
        "Above is an example\n",
        "\n",
        "- Below 1. state\n",
        "\n",
        "model = tf.keras.Sequential()\n",
        "\n",
        "model.add(tf.keras.layers.Dense(1))"
      ],
      "metadata": {
        "id": "IJBuOLFnD-A_"
      }
    },
    {
      "cell_type": "code",
      "source": [
        "# Set random seed\n",
        "tf.random.set_seed(42)\n",
        "\n",
        "# 1. Create a model using the Sequential API\n",
        "model = tf.keras.Sequential([\n",
        "    tf.keras.layers.Dense(1) # X[0].shape yaptigimizda herhangi bir sonuca ulasamadik bu scalar bir degere denk geliyor ve tek bir deger veriyoruz input olarak.\n",
        "])\n",
        "\n",
        "# 2. Compile the model\n",
        "model.compile(loss = tf.keras.losses.mae, # mae is short for mean absolute error\n",
        "              optimizer = tf.keras.optimizers.SGD(), # sgd is short for stochastic gradient descent\n",
        "              metrics = [\"mae\"])\n",
        "\n",
        "# 3. Fit the model\n",
        "model.fit(tf.expand_dims(X, axis = -1), y, epochs = 5)"
      ],
      "metadata": {
        "colab": {
          "base_uri": "https://localhost:8080/"
        },
        "id": "oO5LDtzJ_HLP",
        "outputId": "5bfb7e57-686e-4d4b-9d04-9f6b8fe6a547"
      },
      "execution_count": 11,
      "outputs": [
        {
          "output_type": "stream",
          "name": "stdout",
          "text": [
            "Epoch 1/5\n",
            "1/1 [==============================] - 0s 437ms/step - loss: 13.0708 - mae: 13.0708\n",
            "Epoch 2/5\n",
            "1/1 [==============================] - 0s 8ms/step - loss: 12.9383 - mae: 12.9383\n",
            "Epoch 3/5\n",
            "1/1 [==============================] - 0s 10ms/step - loss: 12.8058 - mae: 12.8058\n",
            "Epoch 4/5\n",
            "1/1 [==============================] - 0s 7ms/step - loss: 12.6733 - mae: 12.6733\n",
            "Epoch 5/5\n",
            "1/1 [==============================] - 0s 9ms/step - loss: 12.5408 - mae: 12.5408\n"
          ]
        },
        {
          "output_type": "execute_result",
          "data": {
            "text/plain": [
              "<keras.callbacks.History at 0x7fb3b070f790>"
            ]
          },
          "metadata": {},
          "execution_count": 11
        }
      ]
    },
    {
      "cell_type": "code",
      "source": [
        "# Check out X and y\n",
        "X, y"
      ],
      "metadata": {
        "colab": {
          "base_uri": "https://localhost:8080/"
        },
        "id": "MKJPT_0QFtU7",
        "outputId": "fe8dcbed-4ca5-4b97-827a-e98097491c61"
      },
      "execution_count": 12,
      "outputs": [
        {
          "output_type": "execute_result",
          "data": {
            "text/plain": [
              "(<tf.Tensor: shape=(8,), dtype=float64, numpy=array([-7., -4., -1.,  2.,  5.,  8., 11., 14.])>,\n",
              " <tf.Tensor: shape=(8,), dtype=float64, numpy=array([ 3.,  6.,  9., 12., 15., 18., 21., 24.])>)"
            ]
          },
          "metadata": {},
          "execution_count": 12
        }
      ]
    },
    {
      "cell_type": "code",
      "source": [
        "# Try and make a prediction using our model\n",
        "y_pred = model.predict([17.0])\n",
        "y_pred"
      ],
      "metadata": {
        "colab": {
          "base_uri": "https://localhost:8080/"
        },
        "id": "ExiK1laIGngM",
        "outputId": "27bdba2d-10ec-49ea-aa4f-3b1d5c622481"
      },
      "execution_count": 13,
      "outputs": [
        {
          "output_type": "stream",
          "name": "stdout",
          "text": [
            "1/1 [==============================] - 0s 73ms/step\n"
          ]
        },
        {
          "output_type": "execute_result",
          "data": {
            "text/plain": [
              "array([[5.1095233]], dtype=float32)"
            ]
          },
          "metadata": {},
          "execution_count": 13
        }
      ]
    },
    {
      "cell_type": "code",
      "source": [
        "y_pred + 11 ## 11 is loss but it is still bad prediction"
      ],
      "metadata": {
        "colab": {
          "base_uri": "https://localhost:8080/"
        },
        "id": "ynvNtD3mGymF",
        "outputId": "d45f6e5b-e726-4d57-a0ba-1476aef3122b"
      },
      "execution_count": 14,
      "outputs": [
        {
          "output_type": "execute_result",
          "data": {
            "text/plain": [
              "array([[16.109524]], dtype=float32)"
            ]
          },
          "metadata": {},
          "execution_count": 14
        }
      ]
    },
    {
      "cell_type": "markdown",
      "source": [
        "## Improving our model\n",
        "\n",
        "We can improve our model, by altering the steps we took to create a model.\n",
        "\n",
        "1. **Creating a model** - here we might add more layers, increase the number of hidden units (all called neurons) within each of the hidden layers, change the activation function of each layer.\n",
        "2. **Compiling a model** - here we might change the optimization function or perhaps the **learning rate** of the optimization function.\n",
        "3. **Fitting a model** - here we might fit a model for more **epochs** (leave it training for longer) or on more data (give the model more examples to learn from)."
      ],
      "metadata": {
        "id": "q49AnBmfHEK6"
      }
    },
    {
      "cell_type": "code",
      "source": [
        "# Let's rebuild our model\n",
        "\n",
        "# 1. Create the model\n",
        "model = tf.keras.Sequential([\n",
        "    tf.keras.layers.Dense(1)\n",
        "])\n",
        "\n",
        "# 2. Compile the model\n",
        "model.compile(loss = tf.keras.losses.mae,\n",
        "              optimizer = tf.keras.optimizers.SGD(),\n",
        "              metrics = [\"mae\"])\n",
        "\n",
        "# 3. Fit the model (this time we'll train for longer)\n",
        "model.fit(tf.expand_dims(X, axis=-1), y, epochs=100)"
      ],
      "metadata": {
        "colab": {
          "base_uri": "https://localhost:8080/"
        },
        "id": "15YNf2mtHW3N",
        "outputId": "d80d8d2c-333c-4206-d622-789a6cbb7281"
      },
      "execution_count": 15,
      "outputs": [
        {
          "output_type": "stream",
          "name": "stdout",
          "text": [
            "Epoch 1/100\n",
            "1/1 [==============================] - 0s 258ms/step - loss: 14.4993 - mae: 14.4993\n",
            "Epoch 2/100\n",
            "1/1 [==============================] - 0s 8ms/step - loss: 14.3668 - mae: 14.3668\n",
            "Epoch 3/100\n",
            "1/1 [==============================] - 0s 9ms/step - loss: 14.2343 - mae: 14.2343\n",
            "Epoch 4/100\n",
            "1/1 [==============================] - 0s 7ms/step - loss: 14.1018 - mae: 14.1018\n",
            "Epoch 5/100\n",
            "1/1 [==============================] - 0s 10ms/step - loss: 13.9693 - mae: 13.9693\n",
            "Epoch 6/100\n",
            "1/1 [==============================] - 0s 8ms/step - loss: 13.8368 - mae: 13.8368\n",
            "Epoch 7/100\n",
            "1/1 [==============================] - 0s 7ms/step - loss: 13.7043 - mae: 13.7043\n",
            "Epoch 8/100\n",
            "1/1 [==============================] - 0s 7ms/step - loss: 13.5718 - mae: 13.5718\n",
            "Epoch 9/100\n",
            "1/1 [==============================] - 0s 10ms/step - loss: 13.4393 - mae: 13.4393\n",
            "Epoch 10/100\n",
            "1/1 [==============================] - 0s 9ms/step - loss: 13.3068 - mae: 13.3068\n",
            "Epoch 11/100\n",
            "1/1 [==============================] - 0s 9ms/step - loss: 13.1743 - mae: 13.1743\n",
            "Epoch 12/100\n",
            "1/1 [==============================] - 0s 10ms/step - loss: 13.0418 - mae: 13.0418\n",
            "Epoch 13/100\n",
            "1/1 [==============================] - 0s 9ms/step - loss: 12.9093 - mae: 12.9093\n",
            "Epoch 14/100\n",
            "1/1 [==============================] - 0s 7ms/step - loss: 12.7768 - mae: 12.7768\n",
            "Epoch 15/100\n",
            "1/1 [==============================] - 0s 7ms/step - loss: 12.6443 - mae: 12.6443\n",
            "Epoch 16/100\n",
            "1/1 [==============================] - 0s 6ms/step - loss: 12.5118 - mae: 12.5118\n",
            "Epoch 17/100\n",
            "1/1 [==============================] - 0s 6ms/step - loss: 12.3793 - mae: 12.3793\n",
            "Epoch 18/100\n",
            "1/1 [==============================] - 0s 7ms/step - loss: 12.2468 - mae: 12.2468\n",
            "Epoch 19/100\n",
            "1/1 [==============================] - 0s 7ms/step - loss: 12.1143 - mae: 12.1143\n",
            "Epoch 20/100\n",
            "1/1 [==============================] - 0s 7ms/step - loss: 11.9818 - mae: 11.9818\n",
            "Epoch 21/100\n",
            "1/1 [==============================] - 0s 8ms/step - loss: 11.8493 - mae: 11.8493\n",
            "Epoch 22/100\n",
            "1/1 [==============================] - 0s 8ms/step - loss: 11.7168 - mae: 11.7168\n",
            "Epoch 23/100\n",
            "1/1 [==============================] - 0s 7ms/step - loss: 11.5843 - mae: 11.5843\n",
            "Epoch 24/100\n",
            "1/1 [==============================] - 0s 10ms/step - loss: 11.4518 - mae: 11.4518\n",
            "Epoch 25/100\n",
            "1/1 [==============================] - 0s 11ms/step - loss: 11.3193 - mae: 11.3193\n",
            "Epoch 26/100\n",
            "1/1 [==============================] - 0s 8ms/step - loss: 11.1868 - mae: 11.1868\n",
            "Epoch 27/100\n",
            "1/1 [==============================] - 0s 7ms/step - loss: 11.0543 - mae: 11.0543\n",
            "Epoch 28/100\n",
            "1/1 [==============================] - 0s 7ms/step - loss: 10.9218 - mae: 10.9218\n",
            "Epoch 29/100\n",
            "1/1 [==============================] - 0s 9ms/step - loss: 10.7893 - mae: 10.7893\n",
            "Epoch 30/100\n",
            "1/1 [==============================] - 0s 8ms/step - loss: 10.6568 - mae: 10.6568\n",
            "Epoch 31/100\n",
            "1/1 [==============================] - 0s 6ms/step - loss: 10.5243 - mae: 10.5243\n",
            "Epoch 32/100\n",
            "1/1 [==============================] - 0s 10ms/step - loss: 10.3918 - mae: 10.3918\n",
            "Epoch 33/100\n",
            "1/1 [==============================] - 0s 11ms/step - loss: 10.2593 - mae: 10.2593\n",
            "Epoch 34/100\n",
            "1/1 [==============================] - 0s 7ms/step - loss: 10.1268 - mae: 10.1268\n",
            "Epoch 35/100\n",
            "1/1 [==============================] - 0s 6ms/step - loss: 9.9943 - mae: 9.9943\n",
            "Epoch 36/100\n",
            "1/1 [==============================] - 0s 6ms/step - loss: 9.8618 - mae: 9.8618\n",
            "Epoch 37/100\n",
            "1/1 [==============================] - 0s 6ms/step - loss: 9.7293 - mae: 9.7293\n",
            "Epoch 38/100\n",
            "1/1 [==============================] - 0s 8ms/step - loss: 9.5968 - mae: 9.5968\n",
            "Epoch 39/100\n",
            "1/1 [==============================] - 0s 9ms/step - loss: 9.4643 - mae: 9.4643\n",
            "Epoch 40/100\n",
            "1/1 [==============================] - 0s 10ms/step - loss: 9.3318 - mae: 9.3318\n",
            "Epoch 41/100\n",
            "1/1 [==============================] - 0s 8ms/step - loss: 9.1993 - mae: 9.1993\n",
            "Epoch 42/100\n",
            "1/1 [==============================] - 0s 7ms/step - loss: 9.0668 - mae: 9.0668\n",
            "Epoch 43/100\n",
            "1/1 [==============================] - 0s 8ms/step - loss: 8.9343 - mae: 8.9343\n",
            "Epoch 44/100\n",
            "1/1 [==============================] - 0s 7ms/step - loss: 8.8018 - mae: 8.8018\n",
            "Epoch 45/100\n",
            "1/1 [==============================] - 0s 7ms/step - loss: 8.6693 - mae: 8.6693\n",
            "Epoch 46/100\n",
            "1/1 [==============================] - 0s 7ms/step - loss: 8.5368 - mae: 8.5368\n",
            "Epoch 47/100\n",
            "1/1 [==============================] - 0s 7ms/step - loss: 8.4043 - mae: 8.4043\n",
            "Epoch 48/100\n",
            "1/1 [==============================] - 0s 7ms/step - loss: 8.2718 - mae: 8.2718\n",
            "Epoch 49/100\n",
            "1/1 [==============================] - 0s 7ms/step - loss: 8.1393 - mae: 8.1393\n",
            "Epoch 50/100\n",
            "1/1 [==============================] - 0s 7ms/step - loss: 8.0068 - mae: 8.0068\n",
            "Epoch 51/100\n",
            "1/1 [==============================] - 0s 6ms/step - loss: 7.8743 - mae: 7.8743\n",
            "Epoch 52/100\n",
            "1/1 [==============================] - 0s 6ms/step - loss: 7.7418 - mae: 7.7418\n",
            "Epoch 53/100\n",
            "1/1 [==============================] - 0s 8ms/step - loss: 7.6093 - mae: 7.6093\n",
            "Epoch 54/100\n",
            "1/1 [==============================] - 0s 8ms/step - loss: 7.4768 - mae: 7.4768\n",
            "Epoch 55/100\n",
            "1/1 [==============================] - 0s 8ms/step - loss: 7.3443 - mae: 7.3443\n",
            "Epoch 56/100\n",
            "1/1 [==============================] - 0s 7ms/step - loss: 7.2118 - mae: 7.2118\n",
            "Epoch 57/100\n",
            "1/1 [==============================] - 0s 6ms/step - loss: 7.0800 - mae: 7.0800\n",
            "Epoch 58/100\n",
            "1/1 [==============================] - 0s 7ms/step - loss: 7.0744 - mae: 7.0744\n",
            "Epoch 59/100\n",
            "1/1 [==============================] - 0s 6ms/step - loss: 7.0687 - mae: 7.0687\n",
            "Epoch 60/100\n",
            "1/1 [==============================] - 0s 6ms/step - loss: 7.0631 - mae: 7.0631\n",
            "Epoch 61/100\n",
            "1/1 [==============================] - 0s 6ms/step - loss: 7.0575 - mae: 7.0575\n",
            "Epoch 62/100\n",
            "1/1 [==============================] - 0s 7ms/step - loss: 7.0519 - mae: 7.0519\n",
            "Epoch 63/100\n",
            "1/1 [==============================] - 0s 6ms/step - loss: 7.0463 - mae: 7.0463\n",
            "Epoch 64/100\n",
            "1/1 [==============================] - 0s 6ms/step - loss: 7.0406 - mae: 7.0406\n",
            "Epoch 65/100\n",
            "1/1 [==============================] - 0s 6ms/step - loss: 7.0350 - mae: 7.0350\n",
            "Epoch 66/100\n",
            "1/1 [==============================] - 0s 9ms/step - loss: 7.0294 - mae: 7.0294\n",
            "Epoch 67/100\n",
            "1/1 [==============================] - 0s 9ms/step - loss: 7.0238 - mae: 7.0238\n",
            "Epoch 68/100\n",
            "1/1 [==============================] - 0s 7ms/step - loss: 7.0181 - mae: 7.0181\n",
            "Epoch 69/100\n",
            "1/1 [==============================] - 0s 7ms/step - loss: 7.0125 - mae: 7.0125\n",
            "Epoch 70/100\n",
            "1/1 [==============================] - 0s 7ms/step - loss: 7.0069 - mae: 7.0069\n",
            "Epoch 71/100\n",
            "1/1 [==============================] - 0s 8ms/step - loss: 7.0012 - mae: 7.0012\n",
            "Epoch 72/100\n",
            "1/1 [==============================] - 0s 8ms/step - loss: 6.9956 - mae: 6.9956\n",
            "Epoch 73/100\n",
            "1/1 [==============================] - 0s 7ms/step - loss: 6.9900 - mae: 6.9900\n",
            "Epoch 74/100\n",
            "1/1 [==============================] - 0s 7ms/step - loss: 6.9844 - mae: 6.9844\n",
            "Epoch 75/100\n",
            "1/1 [==============================] - 0s 6ms/step - loss: 6.9788 - mae: 6.9788\n",
            "Epoch 76/100\n",
            "1/1 [==============================] - 0s 7ms/step - loss: 6.9731 - mae: 6.9731\n",
            "Epoch 77/100\n",
            "1/1 [==============================] - 0s 7ms/step - loss: 6.9675 - mae: 6.9675\n",
            "Epoch 78/100\n",
            "1/1 [==============================] - 0s 10ms/step - loss: 6.9619 - mae: 6.9619\n",
            "Epoch 79/100\n",
            "1/1 [==============================] - 0s 7ms/step - loss: 6.9563 - mae: 6.9563\n",
            "Epoch 80/100\n",
            "1/1 [==============================] - 0s 6ms/step - loss: 6.9506 - mae: 6.9506\n",
            "Epoch 81/100\n",
            "1/1 [==============================] - 0s 7ms/step - loss: 6.9450 - mae: 6.9450\n",
            "Epoch 82/100\n",
            "1/1 [==============================] - 0s 6ms/step - loss: 6.9394 - mae: 6.9394\n",
            "Epoch 83/100\n",
            "1/1 [==============================] - 0s 6ms/step - loss: 6.9338 - mae: 6.9338\n",
            "Epoch 84/100\n",
            "1/1 [==============================] - 0s 7ms/step - loss: 6.9281 - mae: 6.9281\n",
            "Epoch 85/100\n",
            "1/1 [==============================] - 0s 6ms/step - loss: 6.9225 - mae: 6.9225\n",
            "Epoch 86/100\n",
            "1/1 [==============================] - 0s 6ms/step - loss: 6.9169 - mae: 6.9169\n",
            "Epoch 87/100\n",
            "1/1 [==============================] - 0s 6ms/step - loss: 6.9113 - mae: 6.9113\n",
            "Epoch 88/100\n",
            "1/1 [==============================] - 0s 6ms/step - loss: 6.9056 - mae: 6.9056\n",
            "Epoch 89/100\n",
            "1/1 [==============================] - 0s 5ms/step - loss: 6.9000 - mae: 6.9000\n",
            "Epoch 90/100\n",
            "1/1 [==============================] - 0s 6ms/step - loss: 6.8944 - mae: 6.8944\n",
            "Epoch 91/100\n",
            "1/1 [==============================] - 0s 6ms/step - loss: 6.8888 - mae: 6.8888\n",
            "Epoch 92/100\n",
            "1/1 [==============================] - 0s 6ms/step - loss: 6.8831 - mae: 6.8831\n",
            "Epoch 93/100\n",
            "1/1 [==============================] - 0s 6ms/step - loss: 6.8775 - mae: 6.8775\n",
            "Epoch 94/100\n",
            "1/1 [==============================] - 0s 7ms/step - loss: 6.8719 - mae: 6.8719\n",
            "Epoch 95/100\n",
            "1/1 [==============================] - 0s 7ms/step - loss: 6.8663 - mae: 6.8663\n",
            "Epoch 96/100\n",
            "1/1 [==============================] - 0s 7ms/step - loss: 6.8606 - mae: 6.8606\n",
            "Epoch 97/100\n",
            "1/1 [==============================] - 0s 7ms/step - loss: 6.8550 - mae: 6.8550\n",
            "Epoch 98/100\n",
            "1/1 [==============================] - 0s 6ms/step - loss: 6.8494 - mae: 6.8494\n",
            "Epoch 99/100\n",
            "1/1 [==============================] - 0s 6ms/step - loss: 6.8438 - mae: 6.8438\n",
            "Epoch 100/100\n",
            "1/1 [==============================] - 0s 6ms/step - loss: 6.8381 - mae: 6.8381\n"
          ]
        },
        {
          "output_type": "execute_result",
          "data": {
            "text/plain": [
              "<keras.callbacks.History at 0x7fb3b05e7430>"
            ]
          },
          "metadata": {},
          "execution_count": 15
        }
      ]
    },
    {
      "cell_type": "code",
      "source": [
        "# Remind ourselves of the data\n",
        "X, y"
      ],
      "metadata": {
        "colab": {
          "base_uri": "https://localhost:8080/"
        },
        "id": "SEUHoPoMQuK_",
        "outputId": "0efeee11-ed8a-41f7-c108-0ab4f94ec04d"
      },
      "execution_count": 16,
      "outputs": [
        {
          "output_type": "execute_result",
          "data": {
            "text/plain": [
              "(<tf.Tensor: shape=(8,), dtype=float64, numpy=array([-7., -4., -1.,  2.,  5.,  8., 11., 14.])>,\n",
              " <tf.Tensor: shape=(8,), dtype=float64, numpy=array([ 3.,  6.,  9., 12., 15., 18., 21., 24.])>)"
            ]
          },
          "metadata": {},
          "execution_count": 16
        }
      ]
    },
    {
      "cell_type": "code",
      "source": [
        "# Let's see if our model's prediction has improved..\n",
        "model.predict([17.0])"
      ],
      "metadata": {
        "colab": {
          "base_uri": "https://localhost:8080/"
        },
        "id": "B2SJ14yvRZvx",
        "outputId": "c5099325-1d01-4f33-c797-03c87e3b1c3a"
      },
      "execution_count": 17,
      "outputs": [
        {
          "output_type": "stream",
          "name": "stdout",
          "text": [
            "1/1 [==============================] - 0s 56ms/step\n"
          ]
        },
        {
          "output_type": "execute_result",
          "data": {
            "text/plain": [
              "array([[29.356445]], dtype=float32)"
            ]
          },
          "metadata": {},
          "execution_count": 17
        }
      ]
    },
    {
      "cell_type": "code",
      "source": [
        "# Let's see if we can make another change to improve our model\n",
        "\n",
        "# 1. Create the model (this time with an extra hidden layer with 100 hidden units)\n",
        "model = tf.keras.Sequential([\n",
        "    tf.keras.layers.Dense(100, activation=\"relu\"),\n",
        "    tf.keras.layers.Dense(1)\n",
        "])\n",
        "\n",
        "# 2. Compile the model\n",
        "model.compile(loss = \"mae\", # \"tf.keras.losses.mae\" and \"mae\" are same\n",
        "              optimizer = tf.keras.optimizers.SGD(),\n",
        "              metrics = [\"mae\"])\n",
        "\n",
        "# 3. Fit the model (this time we'll train for longer)\n",
        "model.fit(tf.expand_dims(X, axis=-1), y, epochs=100)"
      ],
      "metadata": {
        "colab": {
          "base_uri": "https://localhost:8080/"
        },
        "id": "ql1OC2AyRpn5",
        "outputId": "e86befa3-d2e2-4787-d31b-738b73302412"
      },
      "execution_count": 18,
      "outputs": [
        {
          "output_type": "stream",
          "name": "stdout",
          "text": [
            "Epoch 1/100\n",
            "1/1 [==============================] - 0s 313ms/step - loss: 12.9071 - mae: 12.9071\n",
            "Epoch 2/100\n",
            "1/1 [==============================] - 0s 8ms/step - loss: 12.4552 - mae: 12.4552\n",
            "Epoch 3/100\n",
            "1/1 [==============================] - 0s 8ms/step - loss: 12.0062 - mae: 12.0062\n",
            "Epoch 4/100\n",
            "1/1 [==============================] - 0s 10ms/step - loss: 11.5430 - mae: 11.5430\n",
            "Epoch 5/100\n",
            "1/1 [==============================] - 0s 7ms/step - loss: 11.0644 - mae: 11.0644\n",
            "Epoch 6/100\n",
            "1/1 [==============================] - 0s 7ms/step - loss: 10.5687 - mae: 10.5687\n",
            "Epoch 7/100\n",
            "1/1 [==============================] - 0s 5ms/step - loss: 10.0470 - mae: 10.0470\n",
            "Epoch 8/100\n",
            "1/1 [==============================] - 0s 7ms/step - loss: 9.5045 - mae: 9.5045\n",
            "Epoch 9/100\n",
            "1/1 [==============================] - 0s 7ms/step - loss: 8.9346 - mae: 8.9346\n",
            "Epoch 10/100\n",
            "1/1 [==============================] - 0s 7ms/step - loss: 8.3276 - mae: 8.3276\n",
            "Epoch 11/100\n",
            "1/1 [==============================] - 0s 7ms/step - loss: 7.6747 - mae: 7.6747\n",
            "Epoch 12/100\n",
            "1/1 [==============================] - 0s 8ms/step - loss: 6.9722 - mae: 6.9722\n",
            "Epoch 13/100\n",
            "1/1 [==============================] - 0s 7ms/step - loss: 6.2134 - mae: 6.2134\n",
            "Epoch 14/100\n",
            "1/1 [==============================] - 0s 6ms/step - loss: 5.4528 - mae: 5.4528\n",
            "Epoch 15/100\n",
            "1/1 [==============================] - 0s 7ms/step - loss: 4.6151 - mae: 4.6151\n",
            "Epoch 16/100\n",
            "1/1 [==============================] - 0s 10ms/step - loss: 4.0425 - mae: 4.0425\n",
            "Epoch 17/100\n",
            "1/1 [==============================] - 0s 10ms/step - loss: 3.9477 - mae: 3.9477\n",
            "Epoch 18/100\n",
            "1/1 [==============================] - 0s 9ms/step - loss: 3.9311 - mae: 3.9311\n",
            "Epoch 19/100\n",
            "1/1 [==============================] - 0s 17ms/step - loss: 3.9226 - mae: 3.9226\n",
            "Epoch 20/100\n",
            "1/1 [==============================] - 0s 7ms/step - loss: 3.9375 - mae: 3.9375\n",
            "Epoch 21/100\n",
            "1/1 [==============================] - 0s 7ms/step - loss: 3.8974 - mae: 3.8974\n",
            "Epoch 22/100\n",
            "1/1 [==============================] - 0s 9ms/step - loss: 3.9462 - mae: 3.9462\n",
            "Epoch 23/100\n",
            "1/1 [==============================] - 0s 8ms/step - loss: 3.8869 - mae: 3.8869\n",
            "Epoch 24/100\n",
            "1/1 [==============================] - 0s 8ms/step - loss: 3.9513 - mae: 3.9513\n",
            "Epoch 25/100\n",
            "1/1 [==============================] - 0s 5ms/step - loss: 3.8933 - mae: 3.8933\n",
            "Epoch 26/100\n",
            "1/1 [==============================] - 0s 10ms/step - loss: 3.9261 - mae: 3.9261\n",
            "Epoch 27/100\n",
            "1/1 [==============================] - 0s 7ms/step - loss: 3.8997 - mae: 3.8997\n",
            "Epoch 28/100\n",
            "1/1 [==============================] - 0s 7ms/step - loss: 3.9008 - mae: 3.9008\n",
            "Epoch 29/100\n",
            "1/1 [==============================] - 0s 6ms/step - loss: 3.9063 - mae: 3.9063\n",
            "Epoch 30/100\n",
            "1/1 [==============================] - 0s 6ms/step - loss: 3.8756 - mae: 3.8756\n",
            "Epoch 31/100\n",
            "1/1 [==============================] - 0s 7ms/step - loss: 3.9216 - mae: 3.9216\n",
            "Epoch 32/100\n",
            "1/1 [==============================] - 0s 7ms/step - loss: 3.8576 - mae: 3.8576\n",
            "Epoch 33/100\n",
            "1/1 [==============================] - 0s 7ms/step - loss: 3.9283 - mae: 3.9283\n",
            "Epoch 34/100\n",
            "1/1 [==============================] - 0s 7ms/step - loss: 3.8628 - mae: 3.8628\n",
            "Epoch 35/100\n",
            "1/1 [==============================] - 0s 7ms/step - loss: 3.9032 - mae: 3.9032\n",
            "Epoch 36/100\n",
            "1/1 [==============================] - 0s 6ms/step - loss: 3.8694 - mae: 3.8694\n",
            "Epoch 37/100\n",
            "1/1 [==============================] - 0s 7ms/step - loss: 3.8777 - mae: 3.8777\n",
            "Epoch 38/100\n",
            "1/1 [==============================] - 0s 7ms/step - loss: 3.8762 - mae: 3.8762\n",
            "Epoch 39/100\n",
            "1/1 [==============================] - 0s 7ms/step - loss: 3.8581 - mae: 3.8581\n",
            "Epoch 40/100\n",
            "1/1 [==============================] - 0s 9ms/step - loss: 3.8917 - mae: 3.8917\n",
            "Epoch 41/100\n",
            "1/1 [==============================] - 0s 7ms/step - loss: 3.8339 - mae: 3.8339\n",
            "Epoch 42/100\n",
            "1/1 [==============================] - 0s 8ms/step - loss: 3.8986 - mae: 3.8986\n",
            "Epoch 43/100\n",
            "1/1 [==============================] - 0s 9ms/step - loss: 3.8334 - mae: 3.8334\n",
            "Epoch 44/100\n",
            "1/1 [==============================] - 0s 8ms/step - loss: 3.8791 - mae: 3.8791\n",
            "Epoch 45/100\n",
            "1/1 [==============================] - 0s 8ms/step - loss: 3.8403 - mae: 3.8403\n",
            "Epoch 46/100\n",
            "1/1 [==============================] - 0s 7ms/step - loss: 3.8533 - mae: 3.8533\n",
            "Epoch 47/100\n",
            "1/1 [==============================] - 0s 7ms/step - loss: 3.8507 - mae: 3.8507\n",
            "Epoch 48/100\n",
            "1/1 [==============================] - 0s 6ms/step - loss: 3.8352 - mae: 3.8352\n",
            "Epoch 49/100\n",
            "1/1 [==============================] - 0s 7ms/step - loss: 3.8629 - mae: 3.8629\n",
            "Epoch 50/100\n",
            "1/1 [==============================] - 0s 8ms/step - loss: 3.8089 - mae: 3.8089\n",
            "Epoch 51/100\n",
            "1/1 [==============================] - 0s 7ms/step - loss: 3.8700 - mae: 3.8700\n",
            "Epoch 52/100\n",
            "1/1 [==============================] - 0s 8ms/step - loss: 3.8052 - mae: 3.8052\n",
            "Epoch 53/100\n",
            "1/1 [==============================] - 0s 6ms/step - loss: 3.8537 - mae: 3.8537\n",
            "Epoch 54/100\n",
            "1/1 [==============================] - 0s 8ms/step - loss: 3.8123 - mae: 3.8123\n",
            "Epoch 55/100\n",
            "1/1 [==============================] - 0s 7ms/step - loss: 3.8291 - mae: 3.8291\n",
            "Epoch 56/100\n",
            "1/1 [==============================] - 0s 8ms/step - loss: 3.8281 - mae: 3.8281\n",
            "Epoch 57/100\n",
            "1/1 [==============================] - 0s 7ms/step - loss: 3.8092 - mae: 3.8092\n",
            "Epoch 58/100\n",
            "1/1 [==============================] - 0s 12ms/step - loss: 3.8352 - mae: 3.8352\n",
            "Epoch 59/100\n",
            "1/1 [==============================] - 0s 8ms/step - loss: 3.7826 - mae: 3.7826\n",
            "Epoch 60/100\n",
            "1/1 [==============================] - 0s 11ms/step - loss: 3.8425 - mae: 3.8425\n",
            "Epoch 61/100\n",
            "1/1 [==============================] - 0s 10ms/step - loss: 3.7780 - mae: 3.7780\n",
            "Epoch 62/100\n",
            "1/1 [==============================] - 0s 7ms/step - loss: 3.8269 - mae: 3.8269\n",
            "Epoch 63/100\n",
            "1/1 [==============================] - 0s 7ms/step - loss: 3.7853 - mae: 3.7853\n",
            "Epoch 64/100\n",
            "1/1 [==============================] - 0s 7ms/step - loss: 3.8083 - mae: 3.8083\n",
            "Epoch 65/100\n",
            "1/1 [==============================] - 0s 8ms/step - loss: 3.8013 - mae: 3.8013\n",
            "Epoch 66/100\n",
            "1/1 [==============================] - 0s 8ms/step - loss: 3.7818 - mae: 3.7818\n",
            "Epoch 67/100\n",
            "1/1 [==============================] - 0s 8ms/step - loss: 3.8086 - mae: 3.8086\n",
            "Epoch 68/100\n",
            "1/1 [==============================] - 0s 8ms/step - loss: 3.7549 - mae: 3.7549\n",
            "Epoch 69/100\n",
            "1/1 [==============================] - 0s 7ms/step - loss: 3.8161 - mae: 3.8161\n",
            "Epoch 70/100\n",
            "1/1 [==============================] - 0s 8ms/step - loss: 3.7519 - mae: 3.7519\n",
            "Epoch 71/100\n",
            "1/1 [==============================] - 0s 9ms/step - loss: 3.7989 - mae: 3.7989\n",
            "Epoch 72/100\n",
            "1/1 [==============================] - 0s 9ms/step - loss: 3.7649 - mae: 3.7649\n",
            "Epoch 73/100\n",
            "1/1 [==============================] - 0s 9ms/step - loss: 3.7802 - mae: 3.7802\n",
            "Epoch 74/100\n",
            "1/1 [==============================] - 0s 7ms/step - loss: 3.7755 - mae: 3.7755\n",
            "Epoch 75/100\n",
            "1/1 [==============================] - 0s 6ms/step - loss: 3.7531 - mae: 3.7531\n",
            "Epoch 76/100\n",
            "1/1 [==============================] - 0s 9ms/step - loss: 3.7830 - mae: 3.7830\n",
            "Epoch 77/100\n",
            "1/1 [==============================] - 0s 7ms/step - loss: 3.7259 - mae: 3.7259\n",
            "Epoch 78/100\n",
            "1/1 [==============================] - 0s 9ms/step - loss: 3.7907 - mae: 3.7907\n",
            "Epoch 79/100\n",
            "1/1 [==============================] - 0s 8ms/step - loss: 3.7268 - mae: 3.7268\n",
            "Epoch 80/100\n",
            "1/1 [==============================] - 0s 8ms/step - loss: 3.7737 - mae: 3.7737\n",
            "Epoch 81/100\n",
            "1/1 [==============================] - 0s 7ms/step - loss: 3.7431 - mae: 3.7431\n",
            "Epoch 82/100\n",
            "1/1 [==============================] - 0s 7ms/step - loss: 3.7504 - mae: 3.7504\n",
            "Epoch 83/100\n",
            "1/1 [==============================] - 0s 11ms/step - loss: 3.7506 - mae: 3.7506\n",
            "Epoch 84/100\n",
            "1/1 [==============================] - 0s 7ms/step - loss: 3.7230 - mae: 3.7230\n",
            "Epoch 85/100\n",
            "1/1 [==============================] - 0s 8ms/step - loss: 3.7584 - mae: 3.7584\n",
            "Epoch 86/100\n",
            "1/1 [==============================] - 0s 10ms/step - loss: 3.6956 - mae: 3.6956\n",
            "Epoch 87/100\n",
            "1/1 [==============================] - 0s 9ms/step - loss: 3.7663 - mae: 3.7663\n",
            "Epoch 88/100\n",
            "1/1 [==============================] - 0s 8ms/step - loss: 3.7049 - mae: 3.7049\n",
            "Epoch 89/100\n",
            "1/1 [==============================] - 0s 6ms/step - loss: 3.7468 - mae: 3.7468\n",
            "Epoch 90/100\n",
            "1/1 [==============================] - 0s 10ms/step - loss: 3.7191 - mae: 3.7191\n",
            "Epoch 91/100\n",
            "1/1 [==============================] - 0s 5ms/step - loss: 3.7193 - mae: 3.7193\n",
            "Epoch 92/100\n",
            "1/1 [==============================] - 0s 7ms/step - loss: 3.7268 - mae: 3.7268\n",
            "Epoch 93/100\n",
            "1/1 [==============================] - 0s 7ms/step - loss: 3.6916 - mae: 3.6916\n",
            "Epoch 94/100\n",
            "1/1 [==============================] - 0s 8ms/step - loss: 3.7348 - mae: 3.7348\n",
            "Epoch 95/100\n",
            "1/1 [==============================] - 0s 6ms/step - loss: 3.6717 - mae: 3.6717\n",
            "Epoch 96/100\n",
            "1/1 [==============================] - 0s 6ms/step - loss: 3.7350 - mae: 3.7350\n",
            "Epoch 97/100\n",
            "1/1 [==============================] - 0s 6ms/step - loss: 3.6882 - mae: 3.6882\n",
            "Epoch 98/100\n",
            "1/1 [==============================] - 0s 6ms/step - loss: 3.7147 - mae: 3.7147\n",
            "Epoch 99/100\n",
            "1/1 [==============================] - 0s 6ms/step - loss: 3.6961 - mae: 3.6961\n",
            "Epoch 100/100\n",
            "1/1 [==============================] - 0s 6ms/step - loss: 3.6868 - mae: 3.6868\n"
          ]
        },
        {
          "output_type": "execute_result",
          "data": {
            "text/plain": [
              "<keras.callbacks.History at 0x7fb3b10553c0>"
            ]
          },
          "metadata": {},
          "execution_count": 18
        }
      ]
    },
    {
      "cell_type": "code",
      "source": [
        "# Let's remind ourselves of the data\n",
        "X, y"
      ],
      "metadata": {
        "colab": {
          "base_uri": "https://localhost:8080/"
        },
        "id": "fLnFmhZ2TKz-",
        "outputId": "93d450ac-809f-470a-ce47-f642c6d331a9"
      },
      "execution_count": 19,
      "outputs": [
        {
          "output_type": "execute_result",
          "data": {
            "text/plain": [
              "(<tf.Tensor: shape=(8,), dtype=float64, numpy=array([-7., -4., -1.,  2.,  5.,  8., 11., 14.])>,\n",
              " <tf.Tensor: shape=(8,), dtype=float64, numpy=array([ 3.,  6.,  9., 12., 15., 18., 21., 24.])>)"
            ]
          },
          "metadata": {},
          "execution_count": 19
        }
      ]
    },
    {
      "cell_type": "code",
      "source": [
        "# Let's try to make a prediction\n",
        "model.predict([17.0])\n",
        "# Normalde y degeri x degerinin 10 fazlasi olmali yani cevap 27 ve bir onceki islemde 29 vermisti bu sefer 31.78 aldik dolayisiyla negatif bir sonuc\n",
        "# modelimiz overfitting yapiyor yani asiri ogrenmeye yaklasiyor"
      ],
      "metadata": {
        "colab": {
          "base_uri": "https://localhost:8080/"
        },
        "id": "c-MDm15YU3CB",
        "outputId": "956d44dc-4543-4698-c4e0-91827d52c38e"
      },
      "execution_count": 20,
      "outputs": [
        {
          "output_type": "stream",
          "name": "stdout",
          "text": [
            "1/1 [==============================] - 0s 54ms/step\n"
          ]
        },
        {
          "output_type": "execute_result",
          "data": {
            "text/plain": [
              "array([[32.641342]], dtype=float32)"
            ]
          },
          "metadata": {},
          "execution_count": 20
        }
      ]
    },
    {
      "cell_type": "code",
      "source": [
        "# Let's see if we can make another change to improve our model\n",
        "\n",
        "# 1. Create the model (this time with an extra hidden layer with 100 hidden units)\n",
        "model = tf.keras.Sequential([\n",
        "    tf.keras.layers.Dense(50, activation=\"relu\"),\n",
        "    tf.keras.layers.Dense(1)\n",
        "])\n",
        "\n",
        "# 2. Compile the model\n",
        "model.compile(loss = \"mae\", # \"tf.keras.losses.mae\" and \"mae\" are same\n",
        "              optimizer = tf.keras.optimizers.Adam(learning_rate=0.01), # Adam optimizer is the most valuable hyperparameter\n",
        "              metrics = [\"mae\"])\n",
        "\n",
        "# 3. Fit the model (this time we'll train for longer)\n",
        "model.fit(tf.expand_dims(X, axis=-1), y, epochs=100)"
      ],
      "metadata": {
        "colab": {
          "base_uri": "https://localhost:8080/"
        },
        "id": "8a-VNrzTU7Aq",
        "outputId": "8854c01c-ae9f-4358-87d5-c748797dd61e"
      },
      "execution_count": 21,
      "outputs": [
        {
          "output_type": "stream",
          "name": "stdout",
          "text": [
            "Epoch 1/100\n",
            "1/1 [==============================] - 0s 457ms/step - loss: 12.1789 - mae: 12.1789\n",
            "Epoch 2/100\n",
            "1/1 [==============================] - 0s 9ms/step - loss: 11.8080 - mae: 11.8080\n",
            "Epoch 3/100\n",
            "1/1 [==============================] - 0s 8ms/step - loss: 11.5327 - mae: 11.5327\n",
            "Epoch 4/100\n",
            "1/1 [==============================] - 0s 7ms/step - loss: 11.1003 - mae: 11.1003\n",
            "Epoch 5/100\n",
            "1/1 [==============================] - 0s 8ms/step - loss: 10.7517 - mae: 10.7517\n",
            "Epoch 6/100\n",
            "1/1 [==============================] - 0s 7ms/step - loss: 10.4081 - mae: 10.4081\n",
            "Epoch 7/100\n",
            "1/1 [==============================] - 0s 7ms/step - loss: 10.0547 - mae: 10.0547\n",
            "Epoch 8/100\n",
            "1/1 [==============================] - 0s 7ms/step - loss: 9.6897 - mae: 9.6897\n",
            "Epoch 9/100\n",
            "1/1 [==============================] - 0s 9ms/step - loss: 9.3137 - mae: 9.3137\n",
            "Epoch 10/100\n",
            "1/1 [==============================] - 0s 7ms/step - loss: 8.9289 - mae: 8.9289\n",
            "Epoch 11/100\n",
            "1/1 [==============================] - 0s 11ms/step - loss: 8.5301 - mae: 8.5301\n",
            "Epoch 12/100\n",
            "1/1 [==============================] - 0s 9ms/step - loss: 8.1159 - mae: 8.1159\n",
            "Epoch 13/100\n",
            "1/1 [==============================] - 0s 8ms/step - loss: 7.6853 - mae: 7.6853\n",
            "Epoch 14/100\n",
            "1/1 [==============================] - 0s 14ms/step - loss: 7.2394 - mae: 7.2394\n",
            "Epoch 15/100\n",
            "1/1 [==============================] - 0s 8ms/step - loss: 6.7807 - mae: 6.7807\n",
            "Epoch 16/100\n",
            "1/1 [==============================] - 0s 7ms/step - loss: 6.3030 - mae: 6.3030\n",
            "Epoch 17/100\n",
            "1/1 [==============================] - 0s 7ms/step - loss: 5.8050 - mae: 5.8050\n",
            "Epoch 18/100\n",
            "1/1 [==============================] - 0s 6ms/step - loss: 5.2853 - mae: 5.2853\n",
            "Epoch 19/100\n",
            "1/1 [==============================] - 0s 7ms/step - loss: 4.7414 - mae: 4.7414\n",
            "Epoch 20/100\n",
            "1/1 [==============================] - 0s 7ms/step - loss: 4.1695 - mae: 4.1695\n",
            "Epoch 21/100\n",
            "1/1 [==============================] - 0s 7ms/step - loss: 3.7422 - mae: 3.7422\n",
            "Epoch 22/100\n",
            "1/1 [==============================] - 0s 7ms/step - loss: 3.5318 - mae: 3.5318\n",
            "Epoch 23/100\n",
            "1/1 [==============================] - 0s 7ms/step - loss: 3.6161 - mae: 3.6161\n",
            "Epoch 24/100\n",
            "1/1 [==============================] - 0s 7ms/step - loss: 3.7127 - mae: 3.7127\n",
            "Epoch 25/100\n",
            "1/1 [==============================] - 0s 7ms/step - loss: 3.8042 - mae: 3.8042\n",
            "Epoch 26/100\n",
            "1/1 [==============================] - 0s 8ms/step - loss: 3.9882 - mae: 3.9882\n",
            "Epoch 27/100\n",
            "1/1 [==============================] - 0s 8ms/step - loss: 4.1115 - mae: 4.1115\n",
            "Epoch 28/100\n",
            "1/1 [==============================] - 0s 7ms/step - loss: 4.1746 - mae: 4.1746\n",
            "Epoch 29/100\n",
            "1/1 [==============================] - 0s 7ms/step - loss: 4.1834 - mae: 4.1834\n",
            "Epoch 30/100\n",
            "1/1 [==============================] - 0s 7ms/step - loss: 4.1441 - mae: 4.1441\n",
            "Epoch 31/100\n",
            "1/1 [==============================] - 0s 6ms/step - loss: 4.0631 - mae: 4.0631\n",
            "Epoch 32/100\n",
            "1/1 [==============================] - 0s 6ms/step - loss: 3.9499 - mae: 3.9499\n",
            "Epoch 33/100\n",
            "1/1 [==============================] - 0s 6ms/step - loss: 3.8069 - mae: 3.8069\n",
            "Epoch 34/100\n",
            "1/1 [==============================] - 0s 9ms/step - loss: 3.6436 - mae: 3.6436\n",
            "Epoch 35/100\n",
            "1/1 [==============================] - 0s 8ms/step - loss: 3.5394 - mae: 3.5394\n",
            "Epoch 36/100\n",
            "1/1 [==============================] - 0s 9ms/step - loss: 3.4593 - mae: 3.4593\n",
            "Epoch 37/100\n",
            "1/1 [==============================] - 0s 8ms/step - loss: 3.3785 - mae: 3.3785\n",
            "Epoch 38/100\n",
            "1/1 [==============================] - 0s 7ms/step - loss: 3.2959 - mae: 3.2959\n",
            "Epoch 39/100\n",
            "1/1 [==============================] - 0s 8ms/step - loss: 3.2136 - mae: 3.2136\n",
            "Epoch 40/100\n",
            "1/1 [==============================] - 0s 7ms/step - loss: 3.1320 - mae: 3.1320\n",
            "Epoch 41/100\n",
            "1/1 [==============================] - 0s 7ms/step - loss: 3.1235 - mae: 3.1235\n",
            "Epoch 42/100\n",
            "1/1 [==============================] - 0s 7ms/step - loss: 3.1387 - mae: 3.1387\n",
            "Epoch 43/100\n",
            "1/1 [==============================] - 0s 8ms/step - loss: 3.1326 - mae: 3.1326\n",
            "Epoch 44/100\n",
            "1/1 [==============================] - 0s 7ms/step - loss: 3.1023 - mae: 3.1023\n",
            "Epoch 45/100\n",
            "1/1 [==============================] - 0s 7ms/step - loss: 3.0587 - mae: 3.0587\n",
            "Epoch 46/100\n",
            "1/1 [==============================] - 0s 8ms/step - loss: 2.9883 - mae: 2.9883\n",
            "Epoch 47/100\n",
            "1/1 [==============================] - 0s 8ms/step - loss: 2.9068 - mae: 2.9068\n",
            "Epoch 48/100\n",
            "1/1 [==============================] - 0s 9ms/step - loss: 2.8087 - mae: 2.8087\n",
            "Epoch 49/100\n",
            "1/1 [==============================] - 0s 7ms/step - loss: 2.7238 - mae: 2.7238\n",
            "Epoch 50/100\n",
            "1/1 [==============================] - 0s 14ms/step - loss: 2.6945 - mae: 2.6945\n",
            "Epoch 51/100\n",
            "1/1 [==============================] - 0s 25ms/step - loss: 2.6674 - mae: 2.6674\n",
            "Epoch 52/100\n",
            "1/1 [==============================] - 0s 17ms/step - loss: 2.6136 - mae: 2.6136\n",
            "Epoch 53/100\n",
            "1/1 [==============================] - 0s 12ms/step - loss: 2.5640 - mae: 2.5640\n",
            "Epoch 54/100\n",
            "1/1 [==============================] - 0s 12ms/step - loss: 2.5061 - mae: 2.5061\n",
            "Epoch 55/100\n",
            "1/1 [==============================] - 0s 12ms/step - loss: 2.4424 - mae: 2.4424\n",
            "Epoch 56/100\n",
            "1/1 [==============================] - 0s 24ms/step - loss: 2.3676 - mae: 2.3676\n",
            "Epoch 57/100\n",
            "1/1 [==============================] - 0s 10ms/step - loss: 2.2826 - mae: 2.2826\n",
            "Epoch 58/100\n",
            "1/1 [==============================] - 0s 8ms/step - loss: 2.1870 - mae: 2.1870\n",
            "Epoch 59/100\n",
            "1/1 [==============================] - 0s 11ms/step - loss: 2.0803 - mae: 2.0803\n",
            "Epoch 60/100\n",
            "1/1 [==============================] - 0s 9ms/step - loss: 2.0270 - mae: 2.0270\n",
            "Epoch 61/100\n",
            "1/1 [==============================] - 0s 8ms/step - loss: 1.9443 - mae: 1.9443\n",
            "Epoch 62/100\n",
            "1/1 [==============================] - 0s 13ms/step - loss: 1.8213 - mae: 1.8213\n",
            "Epoch 63/100\n",
            "1/1 [==============================] - 0s 21ms/step - loss: 1.6688 - mae: 1.6688\n",
            "Epoch 64/100\n",
            "1/1 [==============================] - 0s 14ms/step - loss: 1.5768 - mae: 1.5768\n",
            "Epoch 65/100\n",
            "1/1 [==============================] - 0s 12ms/step - loss: 1.4889 - mae: 1.4889\n",
            "Epoch 66/100\n",
            "1/1 [==============================] - 0s 23ms/step - loss: 1.3780 - mae: 1.3780\n",
            "Epoch 67/100\n",
            "1/1 [==============================] - 0s 19ms/step - loss: 1.2625 - mae: 1.2625\n",
            "Epoch 68/100\n",
            "1/1 [==============================] - 0s 12ms/step - loss: 1.1422 - mae: 1.1422\n",
            "Epoch 69/100\n",
            "1/1 [==============================] - 0s 11ms/step - loss: 1.0277 - mae: 1.0277\n",
            "Epoch 70/100\n",
            "1/1 [==============================] - 0s 13ms/step - loss: 0.9191 - mae: 0.9191\n",
            "Epoch 71/100\n",
            "1/1 [==============================] - 0s 11ms/step - loss: 0.7997 - mae: 0.7997\n",
            "Epoch 72/100\n",
            "1/1 [==============================] - 0s 13ms/step - loss: 0.6717 - mae: 0.6717\n",
            "Epoch 73/100\n",
            "1/1 [==============================] - 0s 11ms/step - loss: 0.5332 - mae: 0.5332\n",
            "Epoch 74/100\n",
            "1/1 [==============================] - 0s 8ms/step - loss: 0.4021 - mae: 0.4021\n",
            "Epoch 75/100\n",
            "1/1 [==============================] - 0s 7ms/step - loss: 0.3726 - mae: 0.3726\n",
            "Epoch 76/100\n",
            "1/1 [==============================] - 0s 9ms/step - loss: 0.2896 - mae: 0.2896\n",
            "Epoch 77/100\n",
            "1/1 [==============================] - 0s 19ms/step - loss: 0.3150 - mae: 0.3150\n",
            "Epoch 78/100\n",
            "1/1 [==============================] - 0s 10ms/step - loss: 0.3170 - mae: 0.3170\n",
            "Epoch 79/100\n",
            "1/1 [==============================] - 0s 18ms/step - loss: 0.4469 - mae: 0.4469\n",
            "Epoch 80/100\n",
            "1/1 [==============================] - 0s 11ms/step - loss: 0.3495 - mae: 0.3495\n",
            "Epoch 81/100\n",
            "1/1 [==============================] - 0s 9ms/step - loss: 0.5684 - mae: 0.5684\n",
            "Epoch 82/100\n",
            "1/1 [==============================] - 0s 11ms/step - loss: 0.5159 - mae: 0.5159\n",
            "Epoch 83/100\n",
            "1/1 [==============================] - 0s 10ms/step - loss: 0.5069 - mae: 0.5069\n",
            "Epoch 84/100\n",
            "1/1 [==============================] - 0s 13ms/step - loss: 0.6035 - mae: 0.6035\n",
            "Epoch 85/100\n",
            "1/1 [==============================] - 0s 7ms/step - loss: 0.4838 - mae: 0.4838\n",
            "Epoch 86/100\n",
            "1/1 [==============================] - 0s 7ms/step - loss: 0.4326 - mae: 0.4326\n",
            "Epoch 87/100\n",
            "1/1 [==============================] - 0s 7ms/step - loss: 0.3998 - mae: 0.3998\n",
            "Epoch 88/100\n",
            "1/1 [==============================] - 0s 7ms/step - loss: 0.3763 - mae: 0.3763\n",
            "Epoch 89/100\n",
            "1/1 [==============================] - 0s 7ms/step - loss: 0.3529 - mae: 0.3529\n",
            "Epoch 90/100\n",
            "1/1 [==============================] - 0s 8ms/step - loss: 0.3130 - mae: 0.3130\n",
            "Epoch 91/100\n",
            "1/1 [==============================] - 0s 7ms/step - loss: 0.4012 - mae: 0.4012\n",
            "Epoch 92/100\n",
            "1/1 [==============================] - 0s 7ms/step - loss: 0.3102 - mae: 0.3102\n",
            "Epoch 93/100\n",
            "1/1 [==============================] - 0s 11ms/step - loss: 0.2227 - mae: 0.2227\n",
            "Epoch 94/100\n",
            "1/1 [==============================] - 0s 12ms/step - loss: 0.2418 - mae: 0.2418\n",
            "Epoch 95/100\n",
            "1/1 [==============================] - 0s 25ms/step - loss: 0.2681 - mae: 0.2681\n",
            "Epoch 96/100\n",
            "1/1 [==============================] - 0s 18ms/step - loss: 0.2439 - mae: 0.2439\n",
            "Epoch 97/100\n",
            "1/1 [==============================] - 0s 14ms/step - loss: 0.2132 - mae: 0.2132\n",
            "Epoch 98/100\n",
            "1/1 [==============================] - 0s 15ms/step - loss: 0.2665 - mae: 0.2665\n",
            "Epoch 99/100\n",
            "1/1 [==============================] - 0s 12ms/step - loss: 0.2669 - mae: 0.2669\n",
            "Epoch 100/100\n",
            "1/1 [==============================] - 0s 13ms/step - loss: 0.2097 - mae: 0.2097\n"
          ]
        },
        {
          "output_type": "execute_result",
          "data": {
            "text/plain": [
              "<keras.callbacks.History at 0x7fb3b0f030a0>"
            ]
          },
          "metadata": {},
          "execution_count": 21
        }
      ]
    },
    {
      "cell_type": "code",
      "source": [
        "model.predict([17.0])"
      ],
      "metadata": {
        "colab": {
          "base_uri": "https://localhost:8080/"
        },
        "id": "bQZAwZ9XXQmt",
        "outputId": "5a6cdac5-54ef-4335-d9f9-460eb7a36762"
      },
      "execution_count": 22,
      "outputs": [
        {
          "output_type": "stream",
          "name": "stdout",
          "text": [
            "1/1 [==============================] - 0s 90ms/step\n"
          ]
        },
        {
          "output_type": "execute_result",
          "data": {
            "text/plain": [
              "array([[27.549974]], dtype=float32)"
            ]
          },
          "metadata": {},
          "execution_count": 22
        }
      ]
    },
    {
      "cell_type": "markdown",
      "source": [
        "## Evaluating a model\n",
        "\n",
        "In practice, a typical workflow you'll go through when building neural networks is:\n",
        "\n",
        "```\n",
        "Build a model -> fit it -> evaluate it -> tweak a model -> fit it -> evaluate it -> tweak a model -> fit it -> evaluate it.....```"
      ],
      "metadata": {
        "id": "AlBlzXBbXT3o"
      }
    },
    {
      "cell_type": "markdown",
      "source": [
        "When it comes to evaluation... there are 3 words you should memorize:\n",
        "\n",
        "> \"Visualize, visualize, visualize\"\n",
        "\n",
        "It is a good idea to visualize:\n",
        "* The data - what data are we working with? What does it look like?\n",
        "* The model itself - what does our model look like?\n",
        "* The training of a model - how does a model perform while it learns?\n",
        "* The predictions of the model - how do the predictions of a model line up against the ground truth (the original labels)?"
      ],
      "metadata": {
        "id": "BylQadw-X1ap"
      }
    },
    {
      "cell_type": "code",
      "source": [
        "# Make a bigger dataset\n",
        "X = tf.range(-100, 100, 4)\n",
        "X"
      ],
      "metadata": {
        "colab": {
          "base_uri": "https://localhost:8080/"
        },
        "id": "qQsOxgrDZRy6",
        "outputId": "20f70ada-5ae9-420a-e15f-ee0056f1b339"
      },
      "execution_count": 23,
      "outputs": [
        {
          "output_type": "execute_result",
          "data": {
            "text/plain": [
              "<tf.Tensor: shape=(50,), dtype=int32, numpy=\n",
              "array([-100,  -96,  -92,  -88,  -84,  -80,  -76,  -72,  -68,  -64,  -60,\n",
              "        -56,  -52,  -48,  -44,  -40,  -36,  -32,  -28,  -24,  -20,  -16,\n",
              "        -12,   -8,   -4,    0,    4,    8,   12,   16,   20,   24,   28,\n",
              "         32,   36,   40,   44,   48,   52,   56,   60,   64,   68,   72,\n",
              "         76,   80,   84,   88,   92,   96], dtype=int32)>"
            ]
          },
          "metadata": {},
          "execution_count": 23
        }
      ]
    },
    {
      "cell_type": "code",
      "source": [
        "# Make labels for the dataset\n",
        "y = X + 10\n",
        "y"
      ],
      "metadata": {
        "colab": {
          "base_uri": "https://localhost:8080/"
        },
        "id": "Vyo3v3utaujx",
        "outputId": "1a83d2b0-568b-47a4-e648-334873e60863"
      },
      "execution_count": 24,
      "outputs": [
        {
          "output_type": "execute_result",
          "data": {
            "text/plain": [
              "<tf.Tensor: shape=(50,), dtype=int32, numpy=\n",
              "array([-90, -86, -82, -78, -74, -70, -66, -62, -58, -54, -50, -46, -42,\n",
              "       -38, -34, -30, -26, -22, -18, -14, -10,  -6,  -2,   2,   6,  10,\n",
              "        14,  18,  22,  26,  30,  34,  38,  42,  46,  50,  54,  58,  62,\n",
              "        66,  70,  74,  78,  82,  86,  90,  94,  98, 102, 106], dtype=int32)>"
            ]
          },
          "metadata": {},
          "execution_count": 24
        }
      ]
    },
    {
      "cell_type": "code",
      "source": [
        "# Visualize the data\n",
        "import matplotlib.pyplot as plt\n",
        "\n",
        "plt.scatter(X, y)"
      ],
      "metadata": {
        "colab": {
          "base_uri": "https://localhost:8080/",
          "height": 447
        },
        "id": "P5q_G2Mua1tl",
        "outputId": "50c0fe30-5882-4db7-e3aa-553ebee39536"
      },
      "execution_count": 25,
      "outputs": [
        {
          "output_type": "execute_result",
          "data": {
            "text/plain": [
              "<matplotlib.collections.PathCollection at 0x7fb3b0338a30>"
            ]
          },
          "metadata": {},
          "execution_count": 25
        },
        {
          "output_type": "display_data",
          "data": {
            "text/plain": [
              "<Figure size 640x480 with 1 Axes>"
            ],
            "image/png": "[encoded data removed]"
          },
          "metadata": {}
        }
      ]
    },
    {
      "cell_type": "markdown",
      "source": [
        "### The 3 sets...\n",
        "\n",
        "* **Training set** - the model learns from this data, which is typically %70-80 of the total data you have available.\n",
        "* **Validation set** - the model gets tuned on this data, which is typically 10-15% of the data available.\n",
        "* **Test set** - the model gets evaluated on this data to test what is has learned, this set is typically 10-15% of the total data available."
      ],
      "metadata": {
        "id": "tAmCpujdbBWF"
      }
    },
    {
      "cell_type": "code",
      "source": [
        "# Check the length of how many samples we have\n",
        "len(X)"
      ],
      "metadata": {
        "colab": {
          "base_uri": "https://localhost:8080/"
        },
        "id": "_hY8pkkObcuU",
        "outputId": "a8fff06a-c2fb-427b-9cdb-5eebf6322906"
      },
      "execution_count": 26,
      "outputs": [
        {
          "output_type": "execute_result",
          "data": {
            "text/plain": [
              "50"
            ]
          },
          "metadata": {},
          "execution_count": 26
        }
      ]
    },
    {
      "cell_type": "code",
      "source": [
        "# Split the data into train and test sets\n",
        "X_train = X[:40] # First 40 are training examples (%80 of the data)\n",
        "y_train = y[:40] # same idea as X\n",
        "\n",
        "X_test = X[40:] # Last 10 are testing examples (%20 of the data)\n",
        "y_test = y[40:] # same idea as X\n",
        "\n",
        "len(X_train), len(X_test), len(y_train), len(y_test)"
      ],
      "metadata": {
        "colab": {
          "base_uri": "https://localhost:8080/"
        },
        "id": "x541tYuRdVx3",
        "outputId": "d79df1f0-b431-4564-a8a0-081de6892e75"
      },
      "execution_count": 27,
      "outputs": [
        {
          "output_type": "execute_result",
          "data": {
            "text/plain": [
              "(40, 10, 40, 10)"
            ]
          },
          "metadata": {},
          "execution_count": 27
        }
      ]
    },
    {
      "cell_type": "markdown",
      "source": [
        "### Visualizing the data\n",
        "\n",
        "Now we've got our data in training and test sets.. let's visualize it again!"
      ],
      "metadata": {
        "id": "mIzhPKZweMHs"
      }
    },
    {
      "cell_type": "code",
      "source": [
        "plt.figure(figsize=(10, 7))\n",
        "#Plot training data in blue\n",
        "plt.scatter(X_train, y_train, c = \"b\", label = \"Training data\")\n",
        "# Plot test data in green\n",
        "plt.scatter(X_test, y_test, c = \"g\", label = \"Testing data\")\n",
        "# Show a legend\n",
        "plt.legend();"
      ],
      "metadata": {
        "colab": {
          "base_uri": "https://localhost:8080/",
          "height": 599
        },
        "id": "WJ7x64VIkKn6",
        "outputId": "89a0cab7-00dc-48be-d4bd-2f3044d6694a"
      },
      "execution_count": 28,
      "outputs": [
        {
          "output_type": "display_data",
          "data": {
            "text/plain": [
              "<Figure size 1000x700 with 1 Axes>"
            ],
            "image/png": "[encoded data removed]"
          },
          "metadata": {}
        }
      ]
    },
    {
      "cell_type": "code",
      "source": [
        "# Let's have a look at how to build a neural network for our data\n",
        "\n",
        "# 1. Create a model\n",
        "model = tf.keras.Sequential([\n",
        "    tf.keras.layers.Dense(1)\n",
        "])\n",
        "\n",
        "# 2. Compile the model\n",
        "model.compile(loss = tf.keras.losses.mae,\n",
        "              optimizer = tf.keras.optimizers.SGD(),\n",
        "              metrics = [\"mae\"])\n",
        "\n",
        "# 3. Fit the model\n",
        "# model.fit(tf.expand_dims(X_train, axis=-1), y_train, epochs=100)"
      ],
      "metadata": {
        "id": "ocr7riXmk3lc"
      },
      "execution_count": 29,
      "outputs": []
    },
    {
      "cell_type": "markdown",
      "source": [
        "### Visualizing the model"
      ],
      "metadata": {
        "id": "pj9QN995mT8K"
      }
    },
    {
      "cell_type": "code",
      "source": [
        "model.summary()"
      ],
      "metadata": {
        "colab": {
          "base_uri": "https://localhost:8080/",
          "height": 287
        },
        "id": "DsKpvxFFmcDN",
        "outputId": "27c259bd-cb2b-4eac-eb0b-72eeade53689"
      },
      "execution_count": 31,
      "outputs": [
        {
          "output_type": "error",
          "ename": "ValueError",
          "evalue": "ignored",
          "traceback": [
            "\u001b[0;31m---------------------------------------------------------------------------\u001b[0m",
            "\u001b[0;31mValueError\u001b[0m                                Traceback (most recent call last)",
            "\u001b[0;32m<ipython-input-31-5f15418b3570>\u001b[0m in \u001b[0;36m<cell line: 1>\u001b[0;34m()\u001b[0m\n\u001b[0;32m----> 1\u001b[0;31m \u001b[0mmodel\u001b[0m\u001b[0;34m.\u001b[0m\u001b[0msummary\u001b[0m\u001b[0;34m(\u001b[0m\u001b[0;34m)\u001b[0m\u001b[0;34m\u001b[0m\u001b[0;34m\u001b[0m\u001b[0m\n\u001b[0m",
            "\u001b[0;32m/usr/local/lib/python3.10/dist-packages/keras/engine/training.py\u001b[0m in \u001b[0;36msummary\u001b[0;34m(self, line_length, positions, print_fn, expand_nested, show_trainable, layer_range)\u001b[0m\n\u001b[1;32m   3227\u001b[0m         \"\"\"\n\u001b[1;32m   3228\u001b[0m         \u001b[0;32mif\u001b[0m \u001b[0;32mnot\u001b[0m \u001b[0mself\u001b[0m\u001b[0;34m.\u001b[0m\u001b[0mbuilt\u001b[0m\u001b[0;34m:\u001b[0m\u001b[0;34m\u001b[0m\u001b[0;34m\u001b[0m\u001b[0m\n\u001b[0;32m-> 3229\u001b[0;31m             raise ValueError(\n\u001b[0m\u001b[1;32m   3230\u001b[0m                 \u001b[0;34m\"This model has not yet been built. \"\u001b[0m\u001b[0;34m\u001b[0m\u001b[0;34m\u001b[0m\u001b[0m\n\u001b[1;32m   3231\u001b[0m                 \u001b[0;34m\"Build the model first by calling `build()` or by calling \"\u001b[0m\u001b[0;34m\u001b[0m\u001b[0;34m\u001b[0m\u001b[0m\n",
            "\u001b[0;31mValueError\u001b[0m: This model has not yet been built. Build the model first by calling `build()` or by calling the model on a batch of data."
          ]
        }
      ]
    },
    {
      "cell_type": "code",
      "source": [
        "X[0].shape, X[0], y[0]"
      ],
      "metadata": {
        "colab": {
          "base_uri": "https://localhost:8080/"
        },
        "id": "7dgUonU3nSa5",
        "outputId": "b0f75318-b8a2-4024-b5a6-40f50723a069"
      },
      "execution_count": 32,
      "outputs": [
        {
          "output_type": "execute_result",
          "data": {
            "text/plain": [
              "(TensorShape([]),\n",
              " <tf.Tensor: shape=(), dtype=int32, numpy=-100>,\n",
              " <tf.Tensor: shape=(), dtype=int32, numpy=-90>)"
            ]
          },
          "metadata": {},
          "execution_count": 32
        }
      ]
    },
    {
      "cell_type": "code",
      "source": [
        "# Let's create a model which builds automatically by defining the input_shape argument in the first layer\n",
        "tf.random.set_seed(42)\n",
        "\n",
        "# Create a model (same as above)\n",
        "model = tf.keras.Sequential([\n",
        "    tf.keras.layers.Dense(10, input_shape = [1], name=\"input_layer\"), # input_shape = [1] tek bir eleman input olarak veriliyor -100 gibi\n",
        "    tf.keras.layers.Dense(1, name=\"output_layer\")\n",
        "], name=\"model_1\")\n",
        "\n",
        "# 2. Compile the model\n",
        "model.compile(loss = tf.keras.losses.mae,\n",
        "              optimizer = tf.keras.optimizers.SGD(),\n",
        "              metrics = [\"mae\"])"
      ],
      "metadata": {
        "id": "23PkHjlzmfiB"
      },
      "execution_count": 33,
      "outputs": []
    },
    {
      "cell_type": "code",
      "source": [
        "model.summary()"
      ],
      "metadata": {
        "colab": {
          "base_uri": "https://localhost:8080/"
        },
        "id": "xtq64657nydA",
        "outputId": "3b766a9c-878f-4943-ee37-0b61e59cf680"
      },
      "execution_count": 34,
      "outputs": [
        {
          "output_type": "stream",
          "name": "stdout",
          "text": [
            "Model: \"model_1\"\n",
            "_________________________________________________________________\n",
            " Layer (type)                Output Shape              Param #   \n",
            "=================================================================\n",
            " input_layer (Dense)         (None, 10)                20        \n",
            "                                                                 \n",
            " output_layer (Dense)        (None, 1)                 11        \n",
            "                                                                 \n",
            "=================================================================\n",
            "Total params: 31\n",
            "Trainable params: 31\n",
            "Non-trainable params: 0\n",
            "_________________________________________________________________\n"
          ]
        }
      ]
    },
    {
      "cell_type": "markdown",
      "source": [
        "* Total params - total number of parameters in the model.\n",
        "* Trainable params - these are parameters (pattern) the model can update as it trains.\n",
        "* Non-trainable params - these parameters aren't updated during training (this is typical when you bring in already learn patterns or parameters from other models during **transfer learning**)"
      ],
      "metadata": {
        "id": "FOwgvDGhoPbx"
      }
    },
    {
      "cell_type": "code",
      "source": [
        "# Let's fit our model to the training data\n",
        "model.fit(tf.expand_dims(X_train, axis=-1), y_train, epochs=100, verbose = 0) # verbose = 0 herhangi bir output vermez."
      ],
      "metadata": {
        "colab": {
          "base_uri": "https://localhost:8080/"
        },
        "id": "pHxXpas6n0Mo",
        "outputId": "a241989e-e28a-43bf-e135-69fd7f96eaaf"
      },
      "execution_count": 35,
      "outputs": [
        {
          "output_type": "execute_result",
          "data": {
            "text/plain": [
              "<keras.callbacks.History at 0x7fb3b041d5a0>"
            ]
          },
          "metadata": {},
          "execution_count": 35
        }
      ]
    },
    {
      "cell_type": "code",
      "source": [
        "# Get a summary of our model\n",
        "model.summary()"
      ],
      "metadata": {
        "colab": {
          "base_uri": "https://localhost:8080/"
        },
        "id": "RpUOft_5rGYr",
        "outputId": "30339d86-763d-4b87-dd39-3a611b8b2e77"
      },
      "execution_count": 36,
      "outputs": [
        {
          "output_type": "stream",
          "name": "stdout",
          "text": [
            "Model: \"model_1\"\n",
            "_________________________________________________________________\n",
            " Layer (type)                Output Shape              Param #   \n",
            "=================================================================\n",
            " input_layer (Dense)         (None, 10)                20        \n",
            "                                                                 \n",
            " output_layer (Dense)        (None, 1)                 11        \n",
            "                                                                 \n",
            "=================================================================\n",
            "Total params: 31\n",
            "Trainable params: 31\n",
            "Non-trainable params: 0\n",
            "_________________________________________________________________\n"
          ]
        }
      ]
    },
    {
      "cell_type": "code",
      "source": [
        "from tensorflow.keras.utils import plot_model\n",
        "\n",
        "plot_model(model=model, show_shapes = True)"
      ],
      "metadata": {
        "colab": {
          "base_uri": "https://localhost:8080/",
          "height": 312
        },
        "id": "wNyvsbxEHeC1",
        "outputId": "d33023bd-2d3e-4aad-b7d5-bf479aa5cd74"
      },
      "execution_count": 37,
      "outputs": [
        {
          "output_type": "execute_result",
          "data": {
            "image/png": "[encoded data removed]",
            "text/plain": [
              "<IPython.core.display.Image object>"
            ]
          },
          "metadata": {},
          "execution_count": 37
        }
      ]
    },
    {
      "cell_type": "markdown",
      "source": [
        "### Visualizing our model's predictions\n",
        "\n",
        "To visualize predictions, it is a good idea to plot them against the ground truth labels.\n",
        "\n",
        "Often you'll see this in the form of `y_test` or `y_true` versus `y_pred` (ground truth versus your model's predictions)."
      ],
      "metadata": {
        "id": "JFnv1-cZIOFg"
      }
    },
    {
      "cell_type": "code",
      "source": [
        "# Make some predictions\n",
        "y_pred = model.predict(X_test)\n",
        "y_pred"
      ],
      "metadata": {
        "colab": {
          "base_uri": "https://localhost:8080/"
        },
        "id": "ZubI4-6LJ4xs",
        "outputId": "1299387e-2964-4770-94e2-436ee456ef46"
      },
      "execution_count": 38,
      "outputs": [
        {
          "output_type": "stream",
          "name": "stderr",
          "text": [
            "WARNING:tensorflow:5 out of the last 5 calls to <function Model.make_predict_function.<locals>.predict_function at 0x7fb3b02f0790> triggered tf.function retracing. Tracing is expensive and the excessive number of tracings could be due to (1) creating @tf.function repeatedly in a loop, (2) passing tensors with different shapes, (3) passing Python objects instead of tensors. For (1), please define your @tf.function outside of the loop. For (2), @tf.function has reduce_retracing=True option that can avoid unnecessary retracing. For (3), please refer to https://www.tensorflow.org/guide/function#controlling_retracing and https://www.tensorflow.org/api_docs/python/tf/function for  more details.\n"
          ]
        },
        {
          "output_type": "stream",
          "name": "stdout",
          "text": [
            "1/1 [==============================] - 0s 46ms/step\n"
          ]
        },
        {
          "output_type": "execute_result",
          "data": {
            "text/plain": [
              "array([[ 90.98099 ],\n",
              "       [ 96.92436 ],\n",
              "       [102.86774 ],\n",
              "       [108.81112 ],\n",
              "       [114.75449 ],\n",
              "       [120.69788 ],\n",
              "       [126.641266],\n",
              "       [132.58464 ],\n",
              "       [138.52802 ],\n",
              "       [144.47139 ]], dtype=float32)"
            ]
          },
          "metadata": {},
          "execution_count": 38
        }
      ]
    },
    {
      "cell_type": "code",
      "source": [
        "y_test"
      ],
      "metadata": {
        "colab": {
          "base_uri": "https://localhost:8080/"
        },
        "id": "RkHG-mLKK_aT",
        "outputId": "b70cb715-c8e6-4dfb-b9dd-2e571a8c3854"
      },
      "execution_count": 39,
      "outputs": [
        {
          "output_type": "execute_result",
          "data": {
            "text/plain": [
              "<tf.Tensor: shape=(10,), dtype=int32, numpy=array([ 70,  74,  78,  82,  86,  90,  94,  98, 102, 106], dtype=int32)>"
            ]
          },
          "metadata": {},
          "execution_count": 39
        }
      ]
    },
    {
      "cell_type": "code",
      "source": [
        "# Let's create a plotting function\n",
        "def plot_predictions(train_data=X_train, train_labels = y_train, test_data = X_test, test_labels = y_test, predictions=y_pred):\n",
        "  \"\"\"\n",
        "  Plots training data, test data and compares predictions to ground truth labels.\n",
        "  \"\"\"\n",
        "  plt.figure(figsize = (10, 7))\n",
        "  #Plot training data in blue\n",
        "  plt.scatter(train_data, train_labels, c = \"b\", label = \"Training data\")\n",
        "  # Plot test data in green\n",
        "  plt.scatter(test_data, test_labels, c = \"g\", label = \"Testing data\")\n",
        "  # Plot model's predictions in red\n",
        "  plt.scatter(test_data, predictions, c=\"r\", label = \"Predictions\")\n",
        "  # Show a legend\n",
        "  plt.legend();"
      ],
      "metadata": {
        "id": "GzO5wpDKLD2I"
      },
      "execution_count": 40,
      "outputs": []
    },
    {
      "cell_type": "code",
      "source": [
        "plot_predictions()"
      ],
      "metadata": {
        "colab": {
          "base_uri": "https://localhost:8080/",
          "height": 599
        },
        "id": "av2YQdbbM-iA",
        "outputId": "af6443b3-64c8-48ee-daa9-83327040190f"
      },
      "execution_count": 41,
      "outputs": [
        {
          "output_type": "display_data",
          "data": {
            "text/plain": [
              "<Figure size 1000x700 with 1 Axes>"
            ],
            "image/png": "[encoded data removed]"
          },
          "metadata": {}
        }
      ]
    },
    {
      "cell_type": "markdown",
      "source": [
        "### Evaluating our model's predictions with regression evaluation metrics\n",
        "\n",
        "Depending on the problem you're working on, there will be different evaluation metrics to evaluate your model's performance.\n",
        "\n",
        "Since we're working on a regression, two of the main metrics:\n",
        "* MAE - mean absolute error, \"on average , how wrong is each of my model's predictions\"\n",
        "* MSE - mean squared error, \"square the average errors\""
      ],
      "metadata": {
        "id": "Mspj2oQuNVok"
      }
    },
    {
      "cell_type": "code",
      "source": [
        "# Evaluate the model on the test\n",
        "model.evaluate(X_test, y_test)"
      ],
      "metadata": {
        "colab": {
          "base_uri": "https://localhost:8080/"
        },
        "id": "2ys8XQapOQah",
        "outputId": "308673c0-532c-4ce1-9167-a844649a97d7"
      },
      "execution_count": 42,
      "outputs": [
        {
          "output_type": "stream",
          "name": "stdout",
          "text": [
            "1/1 [==============================] - 0s 107ms/step - loss: 29.7262 - mae: 29.7262\n"
          ]
        },
        {
          "output_type": "execute_result",
          "data": {
            "text/plain": [
              "[29.7261905670166, 29.7261905670166]"
            ]
          },
          "metadata": {},
          "execution_count": 42
        }
      ]
    },
    {
      "cell_type": "code",
      "source": [
        "# Calculate the mean absolute error\n",
        "mae = tf.metrics.mean_absolute_error(y_true=y_test, y_pred=tf.constant(y_pred))\n",
        "mae"
      ],
      "metadata": {
        "colab": {
          "base_uri": "https://localhost:8080/"
        },
        "id": "Ao8y133IRJtA",
        "outputId": "9e02bc33-3813-4c18-cee3-ee91cb4a271c"
      },
      "execution_count": 43,
      "outputs": [
        {
          "output_type": "execute_result",
          "data": {
            "text/plain": [
              "<tf.Tensor: shape=(10,), dtype=float32, numpy=\n",
              "array([10.1961975, 11.969745 , 15.494189 , 20.81112  , 26.754492 ,\n",
              "       32.697884 , 38.641266 , 44.58464  , 50.528015 , 56.471386 ],\n",
              "      dtype=float32)>"
            ]
          },
          "metadata": {},
          "execution_count": 43
        }
      ]
    },
    {
      "cell_type": "code",
      "source": [
        "y_pred"
      ],
      "metadata": {
        "colab": {
          "base_uri": "https://localhost:8080/"
        },
        "id": "i1C9jCOXQ7QC",
        "outputId": "7f57b608-4d16-419c-8f94-519a130f917e"
      },
      "execution_count": 44,
      "outputs": [
        {
          "output_type": "execute_result",
          "data": {
            "text/plain": [
              "array([[ 90.98099 ],\n",
              "       [ 96.92436 ],\n",
              "       [102.86774 ],\n",
              "       [108.81112 ],\n",
              "       [114.75449 ],\n",
              "       [120.69788 ],\n",
              "       [126.641266],\n",
              "       [132.58464 ],\n",
              "       [138.52802 ],\n",
              "       [144.47139 ]], dtype=float32)"
            ]
          },
          "metadata": {},
          "execution_count": 44
        }
      ]
    },
    {
      "cell_type": "code",
      "source": [
        "y_test"
      ],
      "metadata": {
        "colab": {
          "base_uri": "https://localhost:8080/"
        },
        "id": "HWZdU3gKRHMr",
        "outputId": "8059a17d-a124-4992-ad22-27c5397bf174"
      },
      "execution_count": 45,
      "outputs": [
        {
          "output_type": "execute_result",
          "data": {
            "text/plain": [
              "<tf.Tensor: shape=(10,), dtype=int32, numpy=array([ 70,  74,  78,  82,  86,  90,  94,  98, 102, 106], dtype=int32)>"
            ]
          },
          "metadata": {},
          "execution_count": 45
        }
      ]
    },
    {
      "cell_type": "code",
      "source": [
        "tf.squeeze(y_pred)"
      ],
      "metadata": {
        "colab": {
          "base_uri": "https://localhost:8080/"
        },
        "id": "03zeu62qRH9Z",
        "outputId": "97562889-dd16-4979-98ec-424ff9a43d8e"
      },
      "execution_count": 46,
      "outputs": [
        {
          "output_type": "execute_result",
          "data": {
            "text/plain": [
              "<tf.Tensor: shape=(10,), dtype=float32, numpy=\n",
              "array([ 90.98099 ,  96.92436 , 102.86774 , 108.81112 , 114.75449 ,\n",
              "       120.69788 , 126.641266, 132.58464 , 138.52802 , 144.47139 ],\n",
              "      dtype=float32)>"
            ]
          },
          "metadata": {},
          "execution_count": 46
        }
      ]
    },
    {
      "cell_type": "code",
      "source": [
        "# Calculate the mean absolute error\n",
        "mae = tf.metrics.mean_absolute_error(y_true=y_test, y_pred=tf.squeeze(y_pred)) # Ustteki ornekte squeeze yapmadik ve y_test ile y_pred shape'i farkliydi sonuc alamadik.\n",
        "mae"
      ],
      "metadata": {
        "colab": {
          "base_uri": "https://localhost:8080/"
        },
        "id": "HSlCW9j1Sydl",
        "outputId": "29d73979-782e-4602-a41e-970f1bf17871"
      },
      "execution_count": 47,
      "outputs": [
        {
          "output_type": "execute_result",
          "data": {
            "text/plain": [
              "<tf.Tensor: shape=(), dtype=float32, numpy=29.72619>"
            ]
          },
          "metadata": {},
          "execution_count": 47
        }
      ]
    },
    {
      "cell_type": "code",
      "source": [
        "# Calculate the mean square error\n",
        "mse = tf.metrics.mean_squared_error(y_true = y_test, y_pred = tf.squeeze(y_pred))\n",
        "mse"
      ],
      "metadata": {
        "colab": {
          "base_uri": "https://localhost:8080/"
        },
        "id": "n52iTX5sTE_1",
        "outputId": "27289c36-428d-4d12-c84a-34c80507db51"
      },
      "execution_count": 48,
      "outputs": [
        {
          "output_type": "execute_result",
          "data": {
            "text/plain": [
              "<tf.Tensor: shape=(), dtype=float32, numpy=914.8043>"
            ]
          },
          "metadata": {},
          "execution_count": 48
        }
      ]
    },
    {
      "cell_type": "code",
      "source": [
        "# Make some functions to reuse MAE and MSE\n",
        "def mae(y_true, y_pred):\n",
        "  return tf.metrics.mean_absolute_error(y_true = y_true, y_pred = tf.squeeze(y_pred))\n",
        "\n",
        "def mse(y_true, y_pred):\n",
        "  return tf.metrics.mean_squared_error(y_true = y_true, y_pred = tf.squeeze(y_pred))"
      ],
      "metadata": {
        "id": "KAC1C_SYTklM"
      },
      "execution_count": 49,
      "outputs": []
    },
    {
      "cell_type": "markdown",
      "source": [
        "### Running experiments to improve our model\n",
        "\n",
        "```\n",
        "Build a model -> Fit it -> Evaluate it -> Tweak it -> Fit it -> Evaluate it -> Tweak it -> Fit it -> Evaluate it... ```\n",
        "\n",
        "1. Get more data - get more examples for your model to train on (more opportunities to learn patterns or relationship between features and labels).\n",
        "2. Make your model larger (using a more complex model) - this might come in the form of more layers or more hidden units in each layer.\n",
        "3. Train for longer - give your model more of a chance to find patterns in data.\n",
        "\n",
        "Let's do 3 modelling experiments:\n",
        "\n",
        "1. `model_1` - same as the original model, 1 layer, trained for 100 epochs.\n",
        "2. `model_2` - 2 layers, trained for 100 epochs\n",
        "3. `model_3` - 2 layers, trained for 500 epochs\n",
        "\n",
        "**Build `model_1`**"
      ],
      "metadata": {
        "id": "-xds1_8JUlCa"
      }
    },
    {
      "cell_type": "code",
      "source": [
        "# Set random seed\n",
        "tf.random.set_seed(42)\n",
        "\n",
        "# 1. Create the model\n",
        "model_1 = tf.keras.Sequential([\n",
        "    tf.keras.layers.Dense(1)\n",
        "])\n",
        "\n",
        "# 2. Compile the model\n",
        "model_1.compile(loss = tf.keras.losses.mae,\n",
        "                optimizer = tf.keras.optimizers.SGD(),\n",
        "                metrics = [\"mae\"])\n",
        "\n",
        "# 3. Fit the model\n",
        "model_1.fit(tf.expand_dims(X_train, axis=-1), y_train, epochs=100)"
      ],
      "metadata": {
        "colab": {
          "base_uri": "https://localhost:8080/"
        },
        "id": "zPKY8t-UU2US",
        "outputId": "eaee3ba3-6d4d-4b28-82c4-3e3c98639b3e"
      },
      "execution_count": 50,
      "outputs": [
        {
          "output_type": "stream",
          "name": "stdout",
          "text": [
            "Epoch 1/100\n",
            "2/2 [==============================] - 0s 11ms/step - loss: 15.2070 - mae: 15.2070\n",
            "Epoch 2/100\n",
            "2/2 [==============================] - 0s 6ms/step - loss: 10.9560 - mae: 10.9560\n",
            "Epoch 3/100\n",
            "2/2 [==============================] - 0s 7ms/step - loss: 11.7025 - mae: 11.7025\n",
            "Epoch 4/100\n",
            "2/2 [==============================] - 0s 5ms/step - loss: 9.3259 - mae: 9.3259\n",
            "Epoch 5/100\n",
            "2/2 [==============================] - 0s 5ms/step - loss: 10.1987 - mae: 10.1987\n",
            "Epoch 6/100\n",
            "2/2 [==============================] - 0s 5ms/step - loss: 9.4575 - mae: 9.4575\n",
            "Epoch 7/100\n",
            "2/2 [==============================] - 0s 5ms/step - loss: 8.5931 - mae: 8.5931\n",
            "Epoch 8/100\n",
            "2/2 [==============================] - 0s 5ms/step - loss: 9.0456 - mae: 9.0456\n",
            "Epoch 9/100\n",
            "2/2 [==============================] - 0s 5ms/step - loss: 18.8094 - mae: 18.8094\n",
            "Epoch 10/100\n",
            "2/2 [==============================] - 0s 11ms/step - loss: 10.1460 - mae: 10.1460\n",
            "Epoch 11/100\n",
            "2/2 [==============================] - 0s 7ms/step - loss: 8.4101 - mae: 8.4101\n",
            "Epoch 12/100\n",
            "2/2 [==============================] - 0s 6ms/step - loss: 10.6892 - mae: 10.6892\n",
            "Epoch 13/100\n",
            "2/2 [==============================] - 0s 6ms/step - loss: 9.8075 - mae: 9.8075\n",
            "Epoch 14/100\n",
            "2/2 [==============================] - 0s 7ms/step - loss: 16.0719 - mae: 16.0719\n",
            "Epoch 15/100\n",
            "2/2 [==============================] - 0s 5ms/step - loss: 11.3579 - mae: 11.3579\n",
            "Epoch 16/100\n",
            "2/2 [==============================] - 0s 7ms/step - loss: 8.5533 - mae: 8.5533\n",
            "Epoch 17/100\n",
            "2/2 [==============================] - 0s 9ms/step - loss: 13.6677 - mae: 13.6677\n",
            "Epoch 18/100\n",
            "2/2 [==============================] - 0s 5ms/step - loss: 11.5042 - mae: 11.5042\n",
            "Epoch 19/100\n",
            "2/2 [==============================] - 0s 5ms/step - loss: 17.8640 - mae: 17.8640\n",
            "Epoch 20/100\n",
            "2/2 [==============================] - 0s 5ms/step - loss: 14.9991 - mae: 14.9991\n",
            "Epoch 21/100\n",
            "2/2 [==============================] - 0s 5ms/step - loss: 10.8712 - mae: 10.8712\n",
            "Epoch 22/100\n",
            "2/2 [==============================] - 0s 5ms/step - loss: 8.6253 - mae: 8.6253\n",
            "Epoch 23/100\n",
            "2/2 [==============================] - 0s 5ms/step - loss: 9.6870 - mae: 9.6870\n",
            "Epoch 24/100\n",
            "2/2 [==============================] - 0s 8ms/step - loss: 8.5802 - mae: 8.5802\n",
            "Epoch 25/100\n",
            "2/2 [==============================] - 0s 5ms/step - loss: 11.5913 - mae: 11.5913\n",
            "Epoch 26/100\n",
            "2/2 [==============================] - 0s 4ms/step - loss: 15.1356 - mae: 15.1356\n",
            "Epoch 27/100\n",
            "2/2 [==============================] - 0s 4ms/step - loss: 12.0280 - mae: 12.0280\n",
            "Epoch 28/100\n",
            "2/2 [==============================] - 0s 4ms/step - loss: 13.3145 - mae: 13.3145\n",
            "Epoch 29/100\n",
            "2/2 [==============================] - 0s 4ms/step - loss: 9.5925 - mae: 9.5925\n",
            "Epoch 30/100\n",
            "2/2 [==============================] - 0s 4ms/step - loss: 17.0833 - mae: 17.0833\n",
            "Epoch 31/100\n",
            "2/2 [==============================] - 0s 4ms/step - loss: 22.9670 - mae: 22.9670\n",
            "Epoch 32/100\n",
            "2/2 [==============================] - 0s 4ms/step - loss: 7.5506 - mae: 7.5506\n",
            "Epoch 33/100\n",
            "2/2 [==============================] - 0s 4ms/step - loss: 15.4259 - mae: 15.4259\n",
            "Epoch 34/100\n",
            "2/2 [==============================] - 0s 4ms/step - loss: 13.3521 - mae: 13.3521\n",
            "Epoch 35/100\n",
            "2/2 [==============================] - 0s 4ms/step - loss: 7.9789 - mae: 7.9789\n",
            "Epoch 36/100\n",
            "2/2 [==============================] - 0s 6ms/step - loss: 9.9843 - mae: 9.9843\n",
            "Epoch 37/100\n",
            "2/2 [==============================] - 0s 5ms/step - loss: 9.7338 - mae: 9.7338\n",
            "Epoch 38/100\n",
            "2/2 [==============================] - 0s 5ms/step - loss: 10.6017 - mae: 10.6017\n",
            "Epoch 39/100\n",
            "2/2 [==============================] - 0s 5ms/step - loss: 15.6677 - mae: 15.6677\n",
            "Epoch 40/100\n",
            "2/2 [==============================] - 0s 4ms/step - loss: 13.4171 - mae: 13.4171\n",
            "Epoch 41/100\n",
            "2/2 [==============================] - 0s 4ms/step - loss: 9.2751 - mae: 9.2751\n",
            "Epoch 42/100\n",
            "2/2 [==============================] - 0s 4ms/step - loss: 10.9996 - mae: 10.9996\n",
            "Epoch 43/100\n",
            "2/2 [==============================] - 0s 8ms/step - loss: 8.3312 - mae: 8.3312\n",
            "Epoch 44/100\n",
            "2/2 [==============================] - 0s 5ms/step - loss: 13.0437 - mae: 13.0437\n",
            "Epoch 45/100\n",
            "2/2 [==============================] - 0s 5ms/step - loss: 13.6760 - mae: 13.6760\n",
            "Epoch 46/100\n",
            "2/2 [==============================] - 0s 5ms/step - loss: 8.2848 - mae: 8.2848\n",
            "Epoch 47/100\n",
            "2/2 [==============================] - 0s 5ms/step - loss: 8.7210 - mae: 8.7210\n",
            "Epoch 48/100\n",
            "2/2 [==============================] - 0s 5ms/step - loss: 10.0207 - mae: 10.0207\n",
            "Epoch 49/100\n",
            "2/2 [==============================] - 0s 4ms/step - loss: 8.5059 - mae: 8.5059\n",
            "Epoch 50/100\n",
            "2/2 [==============================] - 0s 4ms/step - loss: 9.0112 - mae: 9.0112\n",
            "Epoch 51/100\n",
            "2/2 [==============================] - 0s 6ms/step - loss: 9.3705 - mae: 9.3705\n",
            "Epoch 52/100\n",
            "2/2 [==============================] - 0s 5ms/step - loss: 14.1662 - mae: 14.1662\n",
            "Epoch 53/100\n",
            "2/2 [==============================] - 0s 6ms/step - loss: 14.8862 - mae: 14.8862\n",
            "Epoch 54/100\n",
            "2/2 [==============================] - 0s 6ms/step - loss: 14.8255 - mae: 14.8255\n",
            "Epoch 55/100\n",
            "2/2 [==============================] - 0s 4ms/step - loss: 12.6069 - mae: 12.6069\n",
            "Epoch 56/100\n",
            "2/2 [==============================] - 0s 6ms/step - loss: 7.5941 - mae: 7.5941\n",
            "Epoch 57/100\n",
            "2/2 [==============================] - 0s 6ms/step - loss: 8.7857 - mae: 8.7857\n",
            "Epoch 58/100\n",
            "2/2 [==============================] - 0s 5ms/step - loss: 8.3745 - mae: 8.3745\n",
            "Epoch 59/100\n",
            "2/2 [==============================] - 0s 5ms/step - loss: 9.1709 - mae: 9.1709\n",
            "Epoch 60/100\n",
            "2/2 [==============================] - 0s 4ms/step - loss: 9.1137 - mae: 9.1137\n",
            "Epoch 61/100\n",
            "2/2 [==============================] - 0s 6ms/step - loss: 10.6514 - mae: 10.6514\n",
            "Epoch 62/100\n",
            "2/2 [==============================] - 0s 7ms/step - loss: 7.4344 - mae: 7.4344\n",
            "Epoch 63/100\n",
            "2/2 [==============================] - 0s 5ms/step - loss: 10.5292 - mae: 10.5292\n",
            "Epoch 64/100\n",
            "2/2 [==============================] - 0s 5ms/step - loss: 12.1391 - mae: 12.1391\n",
            "Epoch 65/100\n",
            "2/2 [==============================] - 0s 5ms/step - loss: 9.4606 - mae: 9.4606\n",
            "Epoch 66/100\n",
            "2/2 [==============================] - 0s 5ms/step - loss: 11.5461 - mae: 11.5461\n",
            "Epoch 67/100\n",
            "2/2 [==============================] - 0s 9ms/step - loss: 8.0189 - mae: 8.0189\n",
            "Epoch 68/100\n",
            "2/2 [==============================] - 0s 8ms/step - loss: 8.5530 - mae: 8.5530\n",
            "Epoch 69/100\n",
            "2/2 [==============================] - 0s 6ms/step - loss: 12.2213 - mae: 12.2213\n",
            "Epoch 70/100\n",
            "2/2 [==============================] - 0s 9ms/step - loss: 8.9356 - mae: 8.9356\n",
            "Epoch 71/100\n",
            "2/2 [==============================] - 0s 7ms/step - loss: 9.9088 - mae: 9.9088\n",
            "Epoch 72/100\n",
            "2/2 [==============================] - 0s 7ms/step - loss: 9.9524 - mae: 9.9524\n",
            "Epoch 73/100\n",
            "2/2 [==============================] - 0s 5ms/step - loss: 12.4028 - mae: 12.4028\n",
            "Epoch 74/100\n",
            "2/2 [==============================] - 0s 7ms/step - loss: 10.6061 - mae: 10.6061\n",
            "Epoch 75/100\n",
            "2/2 [==============================] - 0s 5ms/step - loss: 9.6092 - mae: 9.6092\n",
            "Epoch 76/100\n",
            "2/2 [==============================] - 0s 4ms/step - loss: 11.0680 - mae: 11.0680\n",
            "Epoch 77/100\n",
            "2/2 [==============================] - 0s 5ms/step - loss: 8.2593 - mae: 8.2593\n",
            "Epoch 78/100\n",
            "2/2 [==============================] - 0s 5ms/step - loss: 8.9356 - mae: 8.9356\n",
            "Epoch 79/100\n",
            "2/2 [==============================] - 0s 5ms/step - loss: 19.8388 - mae: 19.8388\n",
            "Epoch 80/100\n",
            "2/2 [==============================] - 0s 5ms/step - loss: 17.7737 - mae: 17.7737\n",
            "Epoch 81/100\n",
            "2/2 [==============================] - 0s 5ms/step - loss: 7.0940 - mae: 7.0940\n",
            "Epoch 82/100\n",
            "2/2 [==============================] - 0s 5ms/step - loss: 10.3833 - mae: 10.3833\n",
            "Epoch 83/100\n",
            "2/2 [==============================] - 0s 4ms/step - loss: 9.8017 - mae: 9.8017\n",
            "Epoch 84/100\n",
            "2/2 [==============================] - 0s 5ms/step - loss: 7.9469 - mae: 7.9469\n",
            "Epoch 85/100\n",
            "2/2 [==============================] - 0s 4ms/step - loss: 9.4640 - mae: 9.4640\n",
            "Epoch 86/100\n",
            "2/2 [==============================] - 0s 4ms/step - loss: 9.5058 - mae: 9.5058\n",
            "Epoch 87/100\n",
            "2/2 [==============================] - 0s 4ms/step - loss: 11.4606 - mae: 11.4606\n",
            "Epoch 88/100\n",
            "2/2 [==============================] - 0s 5ms/step - loss: 9.9577 - mae: 9.9577\n",
            "Epoch 89/100\n",
            "2/2 [==============================] - 0s 5ms/step - loss: 7.2503 - mae: 7.2503\n",
            "Epoch 90/100\n",
            "2/2 [==============================] - 0s 4ms/step - loss: 12.7235 - mae: 12.7235\n",
            "Epoch 91/100\n",
            "2/2 [==============================] - 0s 5ms/step - loss: 7.3190 - mae: 7.3190\n",
            "Epoch 92/100\n",
            "2/2 [==============================] - 0s 4ms/step - loss: 7.6845 - mae: 7.6845\n",
            "Epoch 93/100\n",
            "2/2 [==============================] - 0s 9ms/step - loss: 7.1133 - mae: 7.1133\n",
            "Epoch 94/100\n",
            "2/2 [==============================] - 0s 5ms/step - loss: 12.5680 - mae: 12.5680\n",
            "Epoch 95/100\n",
            "2/2 [==============================] - 0s 5ms/step - loss: 9.9422 - mae: 9.9422\n",
            "Epoch 96/100\n",
            "2/2 [==============================] - 0s 5ms/step - loss: 9.1243 - mae: 9.1243\n",
            "Epoch 97/100\n",
            "2/2 [==============================] - 0s 6ms/step - loss: 12.0530 - mae: 12.0530\n",
            "Epoch 98/100\n",
            "2/2 [==============================] - 0s 5ms/step - loss: 9.0887 - mae: 9.0887\n",
            "Epoch 99/100\n",
            "2/2 [==============================] - 0s 7ms/step - loss: 8.4866 - mae: 8.4866\n",
            "Epoch 100/100\n",
            "2/2 [==============================] - 0s 7ms/step - loss: 14.4218 - mae: 14.4218\n"
          ]
        },
        {
          "output_type": "execute_result",
          "data": {
            "text/plain": [
              "<keras.callbacks.History at 0x7fb39efe0be0>"
            ]
          },
          "metadata": {},
          "execution_count": 50
        }
      ]
    },
    {
      "cell_type": "code",
      "source": [
        "# Make and plot predictions for model_1\n",
        "y_preds_1 = model_1.predict(X_test)\n",
        "plot_predictions(predictions=y_preds_1)"
      ],
      "metadata": {
        "colab": {
          "base_uri": "https://localhost:8080/",
          "height": 654
        },
        "id": "m86ck4BKV394",
        "outputId": "5eee2298-95f9-4035-830d-5cd8613b0f39"
      },
      "execution_count": 51,
      "outputs": [
        {
          "output_type": "stream",
          "name": "stderr",
          "text": [
            "WARNING:tensorflow:6 out of the last 6 calls to <function Model.make_predict_function.<locals>.predict_function at 0x7fb3b02fab90> triggered tf.function retracing. Tracing is expensive and the excessive number of tracings could be due to (1) creating @tf.function repeatedly in a loop, (2) passing tensors with different shapes, (3) passing Python objects instead of tensors. For (1), please define your @tf.function outside of the loop. For (2), @tf.function has reduce_retracing=True option that can avoid unnecessary retracing. For (3), please refer to https://www.tensorflow.org/guide/function#controlling_retracing and https://www.tensorflow.org/api_docs/python/tf/function for  more details.\n"
          ]
        },
        {
          "output_type": "stream",
          "name": "stdout",
          "text": [
            "1/1 [==============================] - 0s 57ms/step\n"
          ]
        },
        {
          "output_type": "display_data",
          "data": {
            "text/plain": [
              "<Figure size 1000x700 with 1 Axes>"
            ],
            "image/png": "[encoded data removed]"
          },
          "metadata": {}
        }
      ]
    },
    {
      "cell_type": "code",
      "source": [
        "# Calculate model_1 evaluation metrics\n",
        "mae_1 = mae(y_test, y_preds_1)\n",
        "mse_1 = mse(y_test, y_preds_1)\n",
        "mae_1, mse_1"
      ],
      "metadata": {
        "colab": {
          "base_uri": "https://localhost:8080/"
        },
        "id": "jVFceepsYqVb",
        "outputId": "00c4e234-d6ee-4a1d-fe63-273f0d3a19dc"
      },
      "execution_count": 52,
      "outputs": [
        {
          "output_type": "execute_result",
          "data": {
            "text/plain": [
              "(<tf.Tensor: shape=(), dtype=float32, numpy=30.67312>,\n",
              " <tf.Tensor: shape=(), dtype=float32, numpy=951.3215>)"
            ]
          },
          "metadata": {},
          "execution_count": 52
        }
      ]
    },
    {
      "cell_type": "markdown",
      "source": [
        "**Build `model_2`**\n",
        "* 2 dense layers, trained for 100 epochs"
      ],
      "metadata": {
        "id": "mUS03hSjY_RU"
      }
    },
    {
      "cell_type": "code",
      "source": [
        "# Set random seed\n",
        "tf.random.set_seed(42)\n",
        "\n",
        "# 1. Create the model\n",
        "model_2 = tf.keras.Sequential([\n",
        "    tf.keras.layers.Dense(10),\n",
        "    tf.keras.layers.Dense(1)\n",
        "])\n",
        "\n",
        "# 2. Compile the model\n",
        "model_2.compile(loss = tf.keras.losses.mae,\n",
        "                optimizer = tf.keras.optimizers.SGD(),\n",
        "                metrics = [\"mse\"])\n",
        "\n",
        "# 3. Fit the model\n",
        "model_2.fit(tf.expand_dims(X_train, axis=-1), y_train, epochs=100)"
      ],
      "metadata": {
        "colab": {
          "base_uri": "https://localhost:8080/"
        },
        "id": "KTOSWL4OZwcB",
        "outputId": "afc4f1c1-4c91-4e40-fa36-2411bfa75b8e"
      },
      "execution_count": 53,
      "outputs": [
        {
          "output_type": "stream",
          "name": "stdout",
          "text": [
            "Epoch 1/100\n",
            "2/2 [==============================] - 0s 8ms/step - loss: 27.9063 - mse: 1422.7815\n",
            "Epoch 2/100\n",
            "2/2 [==============================] - 0s 5ms/step - loss: 25.2259 - mse: 909.6188\n",
            "Epoch 3/100\n",
            "2/2 [==============================] - 0s 4ms/step - loss: 30.1118 - mse: 1359.7465\n",
            "Epoch 4/100\n",
            "2/2 [==============================] - 0s 5ms/step - loss: 16.3199 - mse: 388.1418\n",
            "Epoch 5/100\n",
            "2/2 [==============================] - 0s 5ms/step - loss: 22.3675 - mse: 732.1189\n",
            "Epoch 6/100\n",
            "2/2 [==============================] - 0s 4ms/step - loss: 11.3016 - mse: 142.8464\n",
            "Epoch 7/100\n",
            "2/2 [==============================] - 0s 6ms/step - loss: 12.3684 - mse: 197.9722\n",
            "Epoch 8/100\n",
            "2/2 [==============================] - 0s 6ms/step - loss: 11.0204 - mse: 141.8931\n",
            "Epoch 9/100\n",
            "2/2 [==============================] - 0s 6ms/step - loss: 39.0710 - mse: 2376.1633\n",
            "Epoch 10/100\n",
            "2/2 [==============================] - 0s 5ms/step - loss: 26.6446 - mse: 997.9434\n",
            "Epoch 11/100\n",
            "2/2 [==============================] - 0s 5ms/step - loss: 11.8172 - mse: 219.2962\n",
            "Epoch 12/100\n",
            "2/2 [==============================] - 0s 6ms/step - loss: 23.6133 - mse: 790.5098\n",
            "Epoch 13/100\n",
            "2/2 [==============================] - 0s 10ms/step - loss: 21.2453 - mse: 644.1319\n",
            "Epoch 14/100\n",
            "2/2 [==============================] - 0s 5ms/step - loss: 23.7198 - mse: 863.2365\n",
            "Epoch 15/100\n",
            "2/2 [==============================] - 0s 5ms/step - loss: 15.7863 - mse: 339.2495\n",
            "Epoch 16/100\n",
            "2/2 [==============================] - 0s 5ms/step - loss: 10.4485 - mse: 125.0580\n",
            "Epoch 17/100\n",
            "2/2 [==============================] - 0s 5ms/step - loss: 19.7054 - mse: 528.5359\n",
            "Epoch 18/100\n",
            "2/2 [==============================] - 0s 7ms/step - loss: 13.3278 - mse: 278.2226\n",
            "Epoch 19/100\n",
            "2/2 [==============================] - 0s 6ms/step - loss: 16.3133 - mse: 427.0780\n",
            "Epoch 20/100\n",
            "2/2 [==============================] - 0s 7ms/step - loss: 8.2644 - mse: 93.7196\n",
            "Epoch 21/100\n",
            "2/2 [==============================] - 0s 4ms/step - loss: 14.4908 - mse: 290.5429\n",
            "Epoch 22/100\n",
            "2/2 [==============================] - 0s 5ms/step - loss: 12.9106 - mse: 247.6029\n",
            "Epoch 23/100\n",
            "2/2 [==============================] - 0s 6ms/step - loss: 15.5433 - mse: 316.4499\n",
            "Epoch 24/100\n",
            "2/2 [==============================] - 0s 8ms/step - loss: 15.3347 - mse: 318.0920\n",
            "Epoch 25/100\n",
            "2/2 [==============================] - 0s 4ms/step - loss: 14.3882 - mse: 273.6200\n",
            "Epoch 26/100\n",
            "2/2 [==============================] - 0s 5ms/step - loss: 19.4298 - mse: 572.6163\n",
            "Epoch 27/100\n",
            "2/2 [==============================] - 0s 4ms/step - loss: 11.4190 - mse: 165.7503\n",
            "Epoch 28/100\n",
            "2/2 [==============================] - 0s 5ms/step - loss: 28.8237 - mse: 1349.2847\n",
            "Epoch 29/100\n",
            "2/2 [==============================] - 0s 5ms/step - loss: 9.2580 - mse: 95.4494\n",
            "Epoch 30/100\n",
            "2/2 [==============================] - 0s 4ms/step - loss: 29.6134 - mse: 1582.3011\n",
            "Epoch 31/100\n",
            "2/2 [==============================] - 0s 5ms/step - loss: 53.7043 - mse: 5164.9863\n",
            "Epoch 32/100\n",
            "2/2 [==============================] - 0s 5ms/step - loss: 9.5267 - mse: 100.8717\n",
            "Epoch 33/100\n",
            "2/2 [==============================] - 0s 7ms/step - loss: 12.1094 - mse: 177.1883\n",
            "Epoch 34/100\n",
            "2/2 [==============================] - 0s 5ms/step - loss: 23.6346 - mse: 845.4196\n",
            "Epoch 35/100\n",
            "2/2 [==============================] - 0s 5ms/step - loss: 12.6691 - mse: 241.2244\n",
            "Epoch 36/100\n",
            "2/2 [==============================] - 0s 4ms/step - loss: 21.6304 - mse: 667.1560\n",
            "Epoch 37/100\n",
            "2/2 [==============================] - 0s 5ms/step - loss: 11.3043 - mse: 148.4537\n",
            "Epoch 38/100\n",
            "2/2 [==============================] - 0s 6ms/step - loss: 13.3269 - mse: 262.1880\n",
            "Epoch 39/100\n",
            "2/2 [==============================] - 0s 5ms/step - loss: 10.7280 - mse: 135.7993\n",
            "Epoch 40/100\n",
            "2/2 [==============================] - 0s 6ms/step - loss: 16.1136 - mse: 374.8014\n",
            "Epoch 41/100\n",
            "2/2 [==============================] - 0s 9ms/step - loss: 12.1505 - mse: 187.6241\n",
            "Epoch 42/100\n",
            "2/2 [==============================] - 0s 4ms/step - loss: 10.1926 - mse: 115.0840\n",
            "Epoch 43/100\n",
            "2/2 [==============================] - 0s 6ms/step - loss: 9.8930 - mse: 107.0498\n",
            "Epoch 44/100\n",
            "2/2 [==============================] - 0s 6ms/step - loss: 31.4249 - mse: 1616.1714\n",
            "Epoch 45/100\n",
            "2/2 [==============================] - 0s 5ms/step - loss: 12.2425 - mse: 188.2742\n",
            "Epoch 46/100\n",
            "2/2 [==============================] - 0s 5ms/step - loss: 16.8610 - mse: 425.0758\n",
            "Epoch 47/100\n",
            "2/2 [==============================] - 0s 5ms/step - loss: 15.9993 - mse: 348.6832\n",
            "Epoch 48/100\n",
            "2/2 [==============================] - 0s 5ms/step - loss: 8.9256 - mse: 128.5530\n",
            "Epoch 49/100\n",
            "2/2 [==============================] - 0s 4ms/step - loss: 13.4532 - mse: 263.6978\n",
            "Epoch 50/100\n",
            "2/2 [==============================] - 0s 5ms/step - loss: 14.9988 - mse: 300.1196\n",
            "Epoch 51/100\n",
            "2/2 [==============================] - 0s 5ms/step - loss: 13.5666 - mse: 252.7914\n",
            "Epoch 52/100\n",
            "2/2 [==============================] - 0s 8ms/step - loss: 18.0037 - mse: 452.3793\n",
            "Epoch 53/100\n",
            "2/2 [==============================] - 0s 6ms/step - loss: 22.5276 - mse: 736.1325\n",
            "Epoch 54/100\n",
            "2/2 [==============================] - 0s 4ms/step - loss: 27.3967 - mse: 1163.6029\n",
            "Epoch 55/100\n",
            "2/2 [==============================] - 0s 5ms/step - loss: 27.1042 - mse: 1120.8771\n",
            "Epoch 56/100\n",
            "2/2 [==============================] - 0s 7ms/step - loss: 11.5671 - mse: 173.7460\n",
            "Epoch 57/100\n",
            "2/2 [==============================] - 0s 5ms/step - loss: 13.6603 - mse: 239.9931\n",
            "Epoch 58/100\n",
            "2/2 [==============================] - 0s 5ms/step - loss: 10.1197 - mse: 114.3979\n",
            "Epoch 59/100\n",
            "2/2 [==============================] - 0s 5ms/step - loss: 14.5932 - mse: 305.8821\n",
            "Epoch 60/100\n",
            "2/2 [==============================] - 0s 4ms/step - loss: 10.0615 - mse: 119.6041\n",
            "Epoch 61/100\n",
            "2/2 [==============================] - 0s 5ms/step - loss: 15.1059 - mse: 314.5341\n",
            "Epoch 62/100\n",
            "2/2 [==============================] - 0s 5ms/step - loss: 12.0187 - mse: 201.5319\n",
            "Epoch 63/100\n",
            "2/2 [==============================] - 0s 5ms/step - loss: 10.3440 - mse: 138.6033\n",
            "Epoch 64/100\n",
            "2/2 [==============================] - 0s 5ms/step - loss: 24.0855 - mse: 853.4025\n",
            "Epoch 65/100\n",
            "2/2 [==============================] - 0s 4ms/step - loss: 10.5220 - mse: 132.8005\n",
            "Epoch 66/100\n",
            "2/2 [==============================] - 0s 5ms/step - loss: 21.1055 - mse: 656.2260\n",
            "Epoch 67/100\n",
            "2/2 [==============================] - 0s 5ms/step - loss: 10.5084 - mse: 128.2823\n",
            "Epoch 68/100\n",
            "2/2 [==============================] - 0s 5ms/step - loss: 14.2979 - mse: 307.8938\n",
            "Epoch 69/100\n",
            "2/2 [==============================] - 0s 5ms/step - loss: 10.5873 - mse: 128.1311\n",
            "Epoch 70/100\n",
            "2/2 [==============================] - 0s 5ms/step - loss: 12.6660 - mse: 203.5359\n",
            "Epoch 71/100\n",
            "2/2 [==============================] - 0s 4ms/step - loss: 13.0908 - mse: 229.7134\n",
            "Epoch 72/100\n",
            "2/2 [==============================] - 0s 4ms/step - loss: 19.5040 - mse: 539.8709\n",
            "Epoch 73/100\n",
            "2/2 [==============================] - 0s 4ms/step - loss: 11.1786 - mse: 192.6383\n",
            "Epoch 74/100\n",
            "2/2 [==============================] - 0s 5ms/step - loss: 21.7491 - mse: 735.9580\n",
            "Epoch 75/100\n",
            "2/2 [==============================] - 0s 4ms/step - loss: 7.2286 - mse: 71.7964\n",
            "Epoch 76/100\n",
            "2/2 [==============================] - 0s 4ms/step - loss: 9.4480 - mse: 149.5609\n",
            "Epoch 77/100\n",
            "2/2 [==============================] - 0s 5ms/step - loss: 22.1218 - mse: 730.8151\n",
            "Epoch 78/100\n",
            "2/2 [==============================] - 0s 5ms/step - loss: 17.5632 - mse: 468.8424\n",
            "Epoch 79/100\n",
            "2/2 [==============================] - 0s 4ms/step - loss: 14.7779 - mse: 319.5269\n",
            "Epoch 80/100\n",
            "2/2 [==============================] - 0s 4ms/step - loss: 24.9995 - mse: 952.7198\n",
            "Epoch 81/100\n",
            "2/2 [==============================] - 0s 5ms/step - loss: 10.8594 - mse: 138.7836\n",
            "Epoch 82/100\n",
            "2/2 [==============================] - 0s 4ms/step - loss: 12.8005 - mse: 233.5065\n",
            "Epoch 83/100\n",
            "2/2 [==============================] - 0s 4ms/step - loss: 17.5930 - mse: 403.6547\n",
            "Epoch 84/100\n",
            "2/2 [==============================] - 0s 4ms/step - loss: 7.3111 - mse: 73.4364\n",
            "Epoch 85/100\n",
            "2/2 [==============================] - 0s 5ms/step - loss: 15.0994 - mse: 318.1094\n",
            "Epoch 86/100\n",
            "2/2 [==============================] - 0s 5ms/step - loss: 15.3955 - mse: 318.3575\n",
            "Epoch 87/100\n",
            "2/2 [==============================] - 0s 4ms/step - loss: 19.3207 - mse: 530.9623\n",
            "Epoch 88/100\n",
            "2/2 [==============================] - 0s 4ms/step - loss: 29.2745 - mse: 1237.0701\n",
            "Epoch 89/100\n",
            "2/2 [==============================] - 0s 5ms/step - loss: 10.1116 - mse: 124.4348\n",
            "Epoch 90/100\n",
            "2/2 [==============================] - 0s 5ms/step - loss: 21.0690 - mse: 635.5707\n",
            "Epoch 91/100\n",
            "2/2 [==============================] - 0s 5ms/step - loss: 10.4784 - mse: 164.1231\n",
            "Epoch 92/100\n",
            "2/2 [==============================] - 0s 5ms/step - loss: 17.9864 - mse: 442.5574\n",
            "Epoch 93/100\n",
            "2/2 [==============================] - 0s 6ms/step - loss: 6.5675 - mse: 61.6264\n",
            "Epoch 94/100\n",
            "2/2 [==============================] - 0s 4ms/step - loss: 11.1320 - mse: 152.9440\n",
            "Epoch 95/100\n",
            "2/2 [==============================] - 0s 5ms/step - loss: 24.3617 - mse: 890.2712\n",
            "Epoch 96/100\n",
            "2/2 [==============================] - 0s 5ms/step - loss: 10.7380 - mse: 172.8318\n",
            "Epoch 97/100\n",
            "2/2 [==============================] - 0s 5ms/step - loss: 15.3550 - mse: 357.2243\n",
            "Epoch 98/100\n",
            "2/2 [==============================] - 0s 5ms/step - loss: 8.2534 - mse: 111.3484\n",
            "Epoch 99/100\n",
            "2/2 [==============================] - 0s 5ms/step - loss: 16.5240 - mse: 383.4546\n",
            "Epoch 100/100\n",
            "2/2 [==============================] - 0s 7ms/step - loss: 14.3055 - mse: 295.4290\n"
          ]
        },
        {
          "output_type": "execute_result",
          "data": {
            "text/plain": [
              "<keras.callbacks.History at 0x7fb3b02f5690>"
            ]
          },
          "metadata": {},
          "execution_count": 53
        }
      ]
    },
    {
      "cell_type": "code",
      "source": [
        "# Make and plot predictions for model_2\n",
        "y_preds_2 = model_2.predict(X_test)\n",
        "plot_predictions(predictions=y_preds_2)"
      ],
      "metadata": {
        "colab": {
          "base_uri": "https://localhost:8080/",
          "height": 616
        },
        "id": "Egl8GXKcaHqi",
        "outputId": "64da0128-642b-47c3-acec-3f8e896e4a08"
      },
      "execution_count": 54,
      "outputs": [
        {
          "output_type": "stream",
          "name": "stdout",
          "text": [
            "1/1 [==============================] - 0s 38ms/step\n"
          ]
        },
        {
          "output_type": "display_data",
          "data": {
            "text/plain": [
              "<Figure size 1000x700 with 1 Axes>"
            ],
            "image/png": "[encoded data removed]"
          },
          "metadata": {}
        }
      ]
    },
    {
      "cell_type": "code",
      "source": [
        "# Calculate model_2 evaluation metrics\n",
        "mae_2 = mae(y_test, y_preds_2)\n",
        "mse_2 = mse(y_test, y_preds_2)\n",
        "mae_2, mse_2"
      ],
      "metadata": {
        "colab": {
          "base_uri": "https://localhost:8080/"
        },
        "id": "Ja2IBIXJae30",
        "outputId": "bed76132-b40c-42e8-df53-9b5c997903cb"
      },
      "execution_count": 55,
      "outputs": [
        {
          "output_type": "execute_result",
          "data": {
            "text/plain": [
              "(<tf.Tensor: shape=(), dtype=float32, numpy=10.761274>,\n",
              " <tf.Tensor: shape=(), dtype=float32, numpy=123.67>)"
            ]
          },
          "metadata": {},
          "execution_count": 55
        }
      ]
    },
    {
      "cell_type": "markdown",
      "source": [
        "**Build `model_3`**\n",
        "\n",
        "* 2 layers, trained for 500 epochs"
      ],
      "metadata": {
        "id": "MjvfkEQvanTE"
      }
    },
    {
      "cell_type": "code",
      "source": [
        "# Set the random seed\n",
        "tf.random.set_seed(42)\n",
        "\n",
        "# 1. Create a model\n",
        "model_3 = tf.keras.Sequential([\n",
        "    tf.keras.layers.Dense(10),\n",
        "    tf.keras.layers.Dense(1)\n",
        "])\n",
        "\n",
        "# 2. Compile the model\n",
        "model_3.compile(loss = tf.keras.losses.mae,\n",
        "                optimizer = tf.keras.optimizers.SGD(),\n",
        "                metrics = [\"mae\"])\n",
        "\n",
        "# 3. Fit the model\n",
        "model_3.fit(tf.expand_dims(X_train, axis=-1), y_train, epochs=500)"
      ],
      "metadata": {
        "colab": {
          "base_uri": "https://localhost:8080/"
        },
        "id": "VB2JQ_VTdw2b",
        "outputId": "d35a758e-c517-4c36-b102-0dc5fd26482e"
      },
      "execution_count": 56,
      "outputs": [
        {
          "output_type": "stream",
          "name": "stdout",
          "text": [
            "Epoch 1/500\n",
            "2/2 [==============================] - 0s 9ms/step - loss: 38.2306 - mae: 38.2306\n",
            "Epoch 2/500\n",
            "2/2 [==============================] - 0s 6ms/step - loss: 23.2736 - mae: 23.2736\n",
            "Epoch 3/500\n",
            "2/2 [==============================] - 0s 6ms/step - loss: 27.9857 - mae: 27.9857\n",
            "Epoch 4/500\n",
            "2/2 [==============================] - 0s 5ms/step - loss: 12.8346 - mae: 12.8346\n",
            "Epoch 5/500\n",
            "2/2 [==============================] - 0s 4ms/step - loss: 15.8553 - mae: 15.8553\n",
            "Epoch 6/500\n",
            "2/2 [==============================] - 0s 4ms/step - loss: 12.5574 - mae: 12.5574\n",
            "Epoch 7/500\n",
            "2/2 [==============================] - 0s 4ms/step - loss: 11.8137 - mae: 11.8137\n",
            "Epoch 8/500\n",
            "2/2 [==============================] - 0s 5ms/step - loss: 12.8621 - mae: 12.8621\n",
            "Epoch 9/500\n",
            "2/2 [==============================] - 0s 5ms/step - loss: 33.8327 - mae: 33.8327\n",
            "Epoch 10/500\n",
            "2/2 [==============================] - 0s 5ms/step - loss: 23.1519 - mae: 23.1519\n",
            "Epoch 11/500\n",
            "2/2 [==============================] - 0s 4ms/step - loss: 10.2338 - mae: 10.2338\n",
            "Epoch 12/500\n",
            "2/2 [==============================] - 0s 8ms/step - loss: 25.2529 - mae: 25.2529\n",
            "Epoch 13/500\n",
            "2/2 [==============================] - 0s 4ms/step - loss: 17.0861 - mae: 17.0861\n",
            "Epoch 14/500\n",
            "2/2 [==============================] - 0s 4ms/step - loss: 26.1222 - mae: 26.1222\n",
            "Epoch 15/500\n",
            "2/2 [==============================] - 0s 5ms/step - loss: 18.1540 - mae: 18.1540\n",
            "Epoch 16/500\n",
            "2/2 [==============================] - 0s 4ms/step - loss: 7.8417 - mae: 7.8417\n",
            "Epoch 17/500\n",
            "2/2 [==============================] - 0s 5ms/step - loss: 22.2786 - mae: 22.2786\n",
            "Epoch 18/500\n",
            "2/2 [==============================] - 0s 5ms/step - loss: 10.8296 - mae: 10.8296\n",
            "Epoch 19/500\n",
            "2/2 [==============================] - 0s 5ms/step - loss: 10.7220 - mae: 10.7220\n",
            "Epoch 20/500\n",
            "2/2 [==============================] - 0s 4ms/step - loss: 12.0471 - mae: 12.0471\n",
            "Epoch 21/500\n",
            "2/2 [==============================] - 0s 4ms/step - loss: 20.2261 - mae: 20.2261\n",
            "Epoch 22/500\n",
            "2/2 [==============================] - 0s 5ms/step - loss: 13.8169 - mae: 13.8169\n",
            "Epoch 23/500\n",
            "2/2 [==============================] - 0s 4ms/step - loss: 9.5482 - mae: 9.5482\n",
            "Epoch 24/500\n",
            "2/2 [==============================] - 0s 4ms/step - loss: 11.9084 - mae: 11.9084\n",
            "Epoch 25/500\n",
            "2/2 [==============================] - 0s 7ms/step - loss: 16.2907 - mae: 16.2907\n",
            "Epoch 26/500\n",
            "2/2 [==============================] - 0s 6ms/step - loss: 16.4751 - mae: 16.4751\n",
            "Epoch 27/500\n",
            "2/2 [==============================] - 0s 6ms/step - loss: 11.5945 - mae: 11.5945\n",
            "Epoch 28/500\n",
            "2/2 [==============================] - 0s 6ms/step - loss: 30.1683 - mae: 30.1683\n",
            "Epoch 29/500\n",
            "2/2 [==============================] - 0s 6ms/step - loss: 9.2346 - mae: 9.2346\n",
            "Epoch 30/500\n",
            "2/2 [==============================] - 0s 9ms/step - loss: 30.6881 - mae: 30.6881\n",
            "Epoch 31/500\n",
            "2/2 [==============================] - 0s 5ms/step - loss: 41.9879 - mae: 41.9879\n",
            "Epoch 32/500\n",
            "2/2 [==============================] - 0s 5ms/step - loss: 11.8780 - mae: 11.8780\n",
            "Epoch 33/500\n",
            "2/2 [==============================] - 0s 5ms/step - loss: 15.4845 - mae: 15.4845\n",
            "Epoch 34/500\n",
            "2/2 [==============================] - 0s 6ms/step - loss: 12.5690 - mae: 12.5690\n",
            "Epoch 35/500\n",
            "2/2 [==============================] - 0s 4ms/step - loss: 9.1667 - mae: 9.1667\n",
            "Epoch 36/500\n",
            "2/2 [==============================] - 0s 5ms/step - loss: 16.4985 - mae: 16.4985\n",
            "Epoch 37/500\n",
            "2/2 [==============================] - 0s 4ms/step - loss: 11.0487 - mae: 11.0487\n",
            "Epoch 38/500\n",
            "2/2 [==============================] - 0s 5ms/step - loss: 18.1783 - mae: 18.1783\n",
            "Epoch 39/500\n",
            "2/2 [==============================] - 0s 5ms/step - loss: 19.1099 - mae: 19.1099\n",
            "Epoch 40/500\n",
            "2/2 [==============================] - 0s 5ms/step - loss: 20.4572 - mae: 20.4572\n",
            "Epoch 41/500\n",
            "2/2 [==============================] - 0s 5ms/step - loss: 14.8259 - mae: 14.8259\n",
            "Epoch 42/500\n",
            "2/2 [==============================] - 0s 5ms/step - loss: 12.2152 - mae: 12.2152\n",
            "Epoch 43/500\n",
            "2/2 [==============================] - 0s 5ms/step - loss: 10.6804 - mae: 10.6804\n",
            "Epoch 44/500\n",
            "2/2 [==============================] - 0s 7ms/step - loss: 22.9923 - mae: 22.9923\n",
            "Epoch 45/500\n",
            "2/2 [==============================] - 0s 6ms/step - loss: 10.3417 - mae: 10.3417\n",
            "Epoch 46/500\n",
            "2/2 [==============================] - 0s 5ms/step - loss: 11.7428 - mae: 11.7428\n",
            "Epoch 47/500\n",
            "2/2 [==============================] - 0s 4ms/step - loss: 9.6179 - mae: 9.6179\n",
            "Epoch 48/500\n",
            "2/2 [==============================] - 0s 5ms/step - loss: 17.2086 - mae: 17.2086\n",
            "Epoch 49/500\n",
            "2/2 [==============================] - 0s 5ms/step - loss: 9.5441 - mae: 9.5441\n",
            "Epoch 50/500\n",
            "2/2 [==============================] - 0s 7ms/step - loss: 13.8004 - mae: 13.8004\n",
            "Epoch 51/500\n",
            "2/2 [==============================] - 0s 9ms/step - loss: 11.5664 - mae: 11.5664\n",
            "Epoch 52/500\n",
            "2/2 [==============================] - 0s 7ms/step - loss: 30.6590 - mae: 30.6590\n",
            "Epoch 53/500\n",
            "2/2 [==============================] - 0s 5ms/step - loss: 14.3817 - mae: 14.3817\n",
            "Epoch 54/500\n",
            "2/2 [==============================] - 0s 5ms/step - loss: 24.0487 - mae: 24.0487\n",
            "Epoch 55/500\n",
            "2/2 [==============================] - 0s 5ms/step - loss: 23.2701 - mae: 23.2701\n",
            "Epoch 56/500\n",
            "2/2 [==============================] - 0s 4ms/step - loss: 10.8719 - mae: 10.8719\n",
            "Epoch 57/500\n",
            "2/2 [==============================] - 0s 4ms/step - loss: 12.7505 - mae: 12.7505\n",
            "Epoch 58/500\n",
            "2/2 [==============================] - 0s 4ms/step - loss: 9.5918 - mae: 9.5918\n",
            "Epoch 59/500\n",
            "2/2 [==============================] - 0s 4ms/step - loss: 12.9358 - mae: 12.9358\n",
            "Epoch 60/500\n",
            "2/2 [==============================] - 0s 4ms/step - loss: 10.6347 - mae: 10.6347\n",
            "Epoch 61/500\n",
            "2/2 [==============================] - 0s 5ms/step - loss: 17.4144 - mae: 17.4144\n",
            "Epoch 62/500\n",
            "2/2 [==============================] - 0s 6ms/step - loss: 10.5579 - mae: 10.5579\n",
            "Epoch 63/500\n",
            "2/2 [==============================] - 0s 4ms/step - loss: 10.4470 - mae: 10.4470\n",
            "Epoch 64/500\n",
            "2/2 [==============================] - 0s 4ms/step - loss: 24.8414 - mae: 24.8414\n",
            "Epoch 65/500\n",
            "2/2 [==============================] - 0s 4ms/step - loss: 10.6363 - mae: 10.6363\n",
            "Epoch 66/500\n",
            "2/2 [==============================] - 0s 5ms/step - loss: 21.9741 - mae: 21.9741\n",
            "Epoch 67/500\n",
            "2/2 [==============================] - 0s 5ms/step - loss: 10.1588 - mae: 10.1588\n",
            "Epoch 68/500\n",
            "2/2 [==============================] - 0s 5ms/step - loss: 13.3365 - mae: 13.3365\n",
            "Epoch 69/500\n",
            "2/2 [==============================] - 0s 5ms/step - loss: 11.3211 - mae: 11.3211\n",
            "Epoch 70/500\n",
            "2/2 [==============================] - 0s 4ms/step - loss: 13.5000 - mae: 13.5000\n",
            "Epoch 71/500\n",
            "2/2 [==============================] - 0s 5ms/step - loss: 15.5186 - mae: 15.5186\n",
            "Epoch 72/500\n",
            "2/2 [==============================] - 0s 4ms/step - loss: 11.7628 - mae: 11.7628\n",
            "Epoch 73/500\n",
            "2/2 [==============================] - 0s 5ms/step - loss: 16.5507 - mae: 16.5507\n",
            "Epoch 74/500\n",
            "2/2 [==============================] - 0s 5ms/step - loss: 24.0829 - mae: 24.0829\n",
            "Epoch 75/500\n",
            "2/2 [==============================] - 0s 5ms/step - loss: 9.5659 - mae: 9.5659\n",
            "Epoch 76/500\n",
            "2/2 [==============================] - 0s 4ms/step - loss: 12.4186 - mae: 12.4186\n",
            "Epoch 77/500\n",
            "2/2 [==============================] - 0s 7ms/step - loss: 16.6975 - mae: 16.6975\n",
            "Epoch 78/500\n",
            "2/2 [==============================] - 0s 7ms/step - loss: 9.0307 - mae: 9.0307\n",
            "Epoch 79/500\n",
            "2/2 [==============================] - 0s 5ms/step - loss: 24.0652 - mae: 24.0652\n",
            "Epoch 80/500\n",
            "2/2 [==============================] - 0s 9ms/step - loss: 26.8623 - mae: 26.8623\n",
            "Epoch 81/500\n",
            "2/2 [==============================] - 0s 9ms/step - loss: 11.6904 - mae: 11.6904\n",
            "Epoch 82/500\n",
            "2/2 [==============================] - 0s 10ms/step - loss: 11.9706 - mae: 11.9706\n",
            "Epoch 83/500\n",
            "2/2 [==============================] - 0s 6ms/step - loss: 17.3454 - mae: 17.3454\n",
            "Epoch 84/500\n",
            "2/2 [==============================] - 0s 6ms/step - loss: 7.2178 - mae: 7.2178\n",
            "Epoch 85/500\n",
            "2/2 [==============================] - 0s 6ms/step - loss: 14.8948 - mae: 14.8948\n",
            "Epoch 86/500\n",
            "2/2 [==============================] - 0s 7ms/step - loss: 15.2253 - mae: 15.2253\n",
            "Epoch 87/500\n",
            "2/2 [==============================] - 0s 6ms/step - loss: 18.9999 - mae: 18.9999\n",
            "Epoch 88/500\n",
            "2/2 [==============================] - 0s 6ms/step - loss: 30.0928 - mae: 30.0928\n",
            "Epoch 89/500\n",
            "2/2 [==============================] - 0s 5ms/step - loss: 10.1807 - mae: 10.1807\n",
            "Epoch 90/500\n",
            "2/2 [==============================] - 0s 5ms/step - loss: 21.7620 - mae: 21.7620\n",
            "Epoch 91/500\n",
            "2/2 [==============================] - 0s 8ms/step - loss: 10.5990 - mae: 10.5990\n",
            "Epoch 92/500\n",
            "2/2 [==============================] - 0s 8ms/step - loss: 18.6222 - mae: 18.6222\n",
            "Epoch 93/500\n",
            "2/2 [==============================] - 0s 5ms/step - loss: 8.1541 - mae: 8.1541\n",
            "Epoch 94/500\n",
            "2/2 [==============================] - 0s 5ms/step - loss: 11.3738 - mae: 11.3738\n",
            "Epoch 95/500\n",
            "2/2 [==============================] - 0s 5ms/step - loss: 25.6312 - mae: 25.6312\n",
            "Epoch 96/500\n",
            "2/2 [==============================] - 0s 5ms/step - loss: 10.9986 - mae: 10.9986\n",
            "Epoch 97/500\n",
            "2/2 [==============================] - 0s 6ms/step - loss: 16.4419 - mae: 16.4419\n",
            "Epoch 98/500\n",
            "2/2 [==============================] - 0s 6ms/step - loss: 6.7871 - mae: 6.7871\n",
            "Epoch 99/500\n",
            "2/2 [==============================] - 0s 9ms/step - loss: 11.6482 - mae: 11.6482\n",
            "Epoch 100/500\n",
            "2/2 [==============================] - 0s 5ms/step - loss: 23.4323 - mae: 23.4323\n",
            "Epoch 101/500\n",
            "2/2 [==============================] - 0s 4ms/step - loss: 21.4290 - mae: 21.4290\n",
            "Epoch 102/500\n",
            "2/2 [==============================] - 0s 7ms/step - loss: 10.7833 - mae: 10.7833\n",
            "Epoch 103/500\n",
            "2/2 [==============================] - 0s 6ms/step - loss: 9.1525 - mae: 9.1525\n",
            "Epoch 104/500\n",
            "2/2 [==============================] - 0s 12ms/step - loss: 24.0772 - mae: 24.0772\n",
            "Epoch 105/500\n",
            "2/2 [==============================] - 0s 6ms/step - loss: 10.8715 - mae: 10.8715\n",
            "Epoch 106/500\n",
            "2/2 [==============================] - 0s 6ms/step - loss: 11.3331 - mae: 11.3331\n",
            "Epoch 107/500\n",
            "2/2 [==============================] - 0s 6ms/step - loss: 21.7009 - mae: 21.7009\n",
            "Epoch 108/500\n",
            "2/2 [==============================] - 0s 6ms/step - loss: 7.1830 - mae: 7.1830\n",
            "Epoch 109/500\n",
            "2/2 [==============================] - 0s 6ms/step - loss: 18.9198 - mae: 18.9198\n",
            "Epoch 110/500\n",
            "2/2 [==============================] - 0s 6ms/step - loss: 11.0229 - mae: 11.0229\n",
            "Epoch 111/500\n",
            "2/2 [==============================] - 0s 5ms/step - loss: 17.5662 - mae: 17.5662\n",
            "Epoch 112/500\n",
            "2/2 [==============================] - 0s 7ms/step - loss: 7.1385 - mae: 7.1385\n",
            "Epoch 113/500\n",
            "2/2 [==============================] - 0s 7ms/step - loss: 19.5871 - mae: 19.5871\n",
            "Epoch 114/500\n",
            "2/2 [==============================] - 0s 7ms/step - loss: 17.2866 - mae: 17.2866\n",
            "Epoch 115/500\n",
            "2/2 [==============================] - 0s 7ms/step - loss: 11.1454 - mae: 11.1454\n",
            "Epoch 116/500\n",
            "2/2 [==============================] - 0s 5ms/step - loss: 23.4600 - mae: 23.4600\n",
            "Epoch 117/500\n",
            "2/2 [==============================] - 0s 6ms/step - loss: 9.6522 - mae: 9.6522\n",
            "Epoch 118/500\n",
            "2/2 [==============================] - 0s 5ms/step - loss: 10.7384 - mae: 10.7384\n",
            "Epoch 119/500\n",
            "2/2 [==============================] - 0s 5ms/step - loss: 8.0322 - mae: 8.0322\n",
            "Epoch 120/500\n",
            "2/2 [==============================] - 0s 5ms/step - loss: 29.8993 - mae: 29.8993\n",
            "Epoch 121/500\n",
            "2/2 [==============================] - 0s 5ms/step - loss: 8.0672 - mae: 8.0672\n",
            "Epoch 122/500\n",
            "2/2 [==============================] - 0s 5ms/step - loss: 28.4892 - mae: 28.4892\n",
            "Epoch 123/500\n",
            "2/2 [==============================] - 0s 5ms/step - loss: 33.1255 - mae: 33.1255\n",
            "Epoch 124/500\n",
            "2/2 [==============================] - 0s 5ms/step - loss: 19.7950 - mae: 19.7950\n",
            "Epoch 125/500\n",
            "2/2 [==============================] - 0s 6ms/step - loss: 7.6368 - mae: 7.6368\n",
            "Epoch 126/500\n",
            "2/2 [==============================] - 0s 5ms/step - loss: 17.0794 - mae: 17.0794\n",
            "Epoch 127/500\n",
            "2/2 [==============================] - 0s 6ms/step - loss: 7.4746 - mae: 7.4746\n",
            "Epoch 128/500\n",
            "2/2 [==============================] - 0s 4ms/step - loss: 18.0866 - mae: 18.0866\n",
            "Epoch 129/500\n",
            "2/2 [==============================] - 0s 4ms/step - loss: 8.7414 - mae: 8.7414\n",
            "Epoch 130/500\n",
            "2/2 [==============================] - 0s 8ms/step - loss: 22.5080 - mae: 22.5080\n",
            "Epoch 131/500\n",
            "2/2 [==============================] - 0s 5ms/step - loss: 10.2036 - mae: 10.2036\n",
            "Epoch 132/500\n",
            "2/2 [==============================] - 0s 6ms/step - loss: 14.9903 - mae: 14.9903\n",
            "Epoch 133/500\n",
            "2/2 [==============================] - 0s 5ms/step - loss: 7.0599 - mae: 7.0599\n",
            "Epoch 134/500\n",
            "2/2 [==============================] - 0s 6ms/step - loss: 23.8681 - mae: 23.8681\n",
            "Epoch 135/500\n",
            "2/2 [==============================] - 0s 6ms/step - loss: 16.5770 - mae: 16.5770\n",
            "Epoch 136/500\n",
            "2/2 [==============================] - 0s 6ms/step - loss: 14.8086 - mae: 14.8086\n",
            "Epoch 137/500\n",
            "2/2 [==============================] - 0s 5ms/step - loss: 23.0675 - mae: 23.0675\n",
            "Epoch 138/500\n",
            "2/2 [==============================] - 0s 5ms/step - loss: 9.0802 - mae: 9.0802\n",
            "Epoch 139/500\n",
            "2/2 [==============================] - 0s 5ms/step - loss: 8.8777 - mae: 8.8777\n",
            "Epoch 140/500\n",
            "2/2 [==============================] - 0s 5ms/step - loss: 16.4218 - mae: 16.4218\n",
            "Epoch 141/500\n",
            "2/2 [==============================] - 0s 4ms/step - loss: 8.3915 - mae: 8.3915\n",
            "Epoch 142/500\n",
            "2/2 [==============================] - 0s 6ms/step - loss: 36.9115 - mae: 36.9115\n",
            "Epoch 143/500\n",
            "2/2 [==============================] - 0s 5ms/step - loss: 25.5296 - mae: 25.5296\n",
            "Epoch 144/500\n",
            "2/2 [==============================] - 0s 6ms/step - loss: 9.5198 - mae: 9.5198\n",
            "Epoch 145/500\n",
            "2/2 [==============================] - 0s 5ms/step - loss: 26.6085 - mae: 26.6085\n",
            "Epoch 146/500\n",
            "2/2 [==============================] - 0s 6ms/step - loss: 8.6904 - mae: 8.6904\n",
            "Epoch 147/500\n",
            "2/2 [==============================] - 0s 6ms/step - loss: 15.6027 - mae: 15.6027\n",
            "Epoch 148/500\n",
            "2/2 [==============================] - 0s 5ms/step - loss: 18.2944 - mae: 18.2944\n",
            "Epoch 149/500\n",
            "2/2 [==============================] - 0s 4ms/step - loss: 8.1816 - mae: 8.1816\n",
            "Epoch 150/500\n",
            "2/2 [==============================] - 0s 5ms/step - loss: 7.4745 - mae: 7.4745\n",
            "Epoch 151/500\n",
            "2/2 [==============================] - 0s 6ms/step - loss: 18.3612 - mae: 18.3612\n",
            "Epoch 152/500\n",
            "2/2 [==============================] - 0s 5ms/step - loss: 10.2734 - mae: 10.2734\n",
            "Epoch 153/500\n",
            "2/2 [==============================] - 0s 5ms/step - loss: 29.7030 - mae: 29.7030\n",
            "Epoch 154/500\n",
            "2/2 [==============================] - 0s 4ms/step - loss: 10.5288 - mae: 10.5288\n",
            "Epoch 155/500\n",
            "2/2 [==============================] - 0s 5ms/step - loss: 15.4300 - mae: 15.4300\n",
            "Epoch 156/500\n",
            "2/2 [==============================] - 0s 5ms/step - loss: 16.9739 - mae: 16.9739\n",
            "Epoch 157/500\n",
            "2/2 [==============================] - 0s 5ms/step - loss: 32.9273 - mae: 32.9273\n",
            "Epoch 158/500\n",
            "2/2 [==============================] - 0s 5ms/step - loss: 10.7086 - mae: 10.7086\n",
            "Epoch 159/500\n",
            "2/2 [==============================] - 0s 5ms/step - loss: 8.8976 - mae: 8.8976\n",
            "Epoch 160/500\n",
            "2/2 [==============================] - 0s 6ms/step - loss: 22.2228 - mae: 22.2228\n",
            "Epoch 161/500\n",
            "2/2 [==============================] - 0s 5ms/step - loss: 11.7298 - mae: 11.7298\n",
            "Epoch 162/500\n",
            "2/2 [==============================] - 0s 8ms/step - loss: 21.6664 - mae: 21.6664\n",
            "Epoch 163/500\n",
            "2/2 [==============================] - 0s 6ms/step - loss: 19.3338 - mae: 19.3338\n",
            "Epoch 164/500\n",
            "2/2 [==============================] - 0s 5ms/step - loss: 11.0538 - mae: 11.0538\n",
            "Epoch 165/500\n",
            "2/2 [==============================] - 0s 6ms/step - loss: 9.5901 - mae: 9.5901\n",
            "Epoch 166/500\n",
            "2/2 [==============================] - 0s 6ms/step - loss: 21.5307 - mae: 21.5307\n",
            "Epoch 167/500\n",
            "2/2 [==============================] - 0s 6ms/step - loss: 26.4311 - mae: 26.4311\n",
            "Epoch 168/500\n",
            "2/2 [==============================] - 0s 5ms/step - loss: 9.8561 - mae: 9.8561\n",
            "Epoch 169/500\n",
            "2/2 [==============================] - 0s 4ms/step - loss: 22.7263 - mae: 22.7263\n",
            "Epoch 170/500\n",
            "2/2 [==============================] - 0s 6ms/step - loss: 10.1108 - mae: 10.1108\n",
            "Epoch 171/500\n",
            "2/2 [==============================] - 0s 5ms/step - loss: 17.9695 - mae: 17.9695\n",
            "Epoch 172/500\n",
            "2/2 [==============================] - 0s 6ms/step - loss: 29.0205 - mae: 29.0205\n",
            "Epoch 173/500\n",
            "2/2 [==============================] - 0s 6ms/step - loss: 16.6648 - mae: 16.6648\n",
            "Epoch 174/500\n",
            "2/2 [==============================] - 0s 5ms/step - loss: 11.1840 - mae: 11.1840\n",
            "Epoch 175/500\n",
            "2/2 [==============================] - 0s 8ms/step - loss: 27.5346 - mae: 27.5346\n",
            "Epoch 176/500\n",
            "2/2 [==============================] - 0s 6ms/step - loss: 8.2986 - mae: 8.2986\n",
            "Epoch 177/500\n",
            "2/2 [==============================] - 0s 7ms/step - loss: 9.2751 - mae: 9.2751\n",
            "Epoch 178/500\n",
            "2/2 [==============================] - 0s 5ms/step - loss: 18.3091 - mae: 18.3091\n",
            "Epoch 179/500\n",
            "2/2 [==============================] - 0s 5ms/step - loss: 10.5176 - mae: 10.5176\n",
            "Epoch 180/500\n",
            "2/2 [==============================] - 0s 6ms/step - loss: 7.9066 - mae: 7.9066\n",
            "Epoch 181/500\n",
            "2/2 [==============================] - 0s 4ms/step - loss: 17.5526 - mae: 17.5526\n",
            "Epoch 182/500\n",
            "2/2 [==============================] - 0s 5ms/step - loss: 11.0560 - mae: 11.0560\n",
            "Epoch 183/500\n",
            "2/2 [==============================] - 0s 5ms/step - loss: 12.2791 - mae: 12.2791\n",
            "Epoch 184/500\n",
            "2/2 [==============================] - 0s 5ms/step - loss: 27.1052 - mae: 27.1052\n",
            "Epoch 185/500\n",
            "2/2 [==============================] - 0s 4ms/step - loss: 8.1625 - mae: 8.1625\n",
            "Epoch 186/500\n",
            "2/2 [==============================] - 0s 4ms/step - loss: 22.7005 - mae: 22.7005\n",
            "Epoch 187/500\n",
            "2/2 [==============================] - 0s 5ms/step - loss: 19.2104 - mae: 19.2104\n",
            "Epoch 188/500\n",
            "2/2 [==============================] - 0s 4ms/step - loss: 13.6214 - mae: 13.6214\n",
            "Epoch 189/500\n",
            "2/2 [==============================] - 0s 5ms/step - loss: 15.0609 - mae: 15.0609\n",
            "Epoch 190/500\n",
            "2/2 [==============================] - 0s 5ms/step - loss: 20.6018 - mae: 20.6018\n",
            "Epoch 191/500\n",
            "2/2 [==============================] - 0s 5ms/step - loss: 22.2444 - mae: 22.2444\n",
            "Epoch 192/500\n",
            "2/2 [==============================] - 0s 5ms/step - loss: 10.0072 - mae: 10.0072\n",
            "Epoch 193/500\n",
            "2/2 [==============================] - 0s 4ms/step - loss: 28.6041 - mae: 28.6041\n",
            "Epoch 194/500\n",
            "2/2 [==============================] - 0s 5ms/step - loss: 7.0457 - mae: 7.0457\n",
            "Epoch 195/500\n",
            "2/2 [==============================] - 0s 5ms/step - loss: 7.7814 - mae: 7.7814\n",
            "Epoch 196/500\n",
            "2/2 [==============================] - 0s 5ms/step - loss: 26.0261 - mae: 26.0261\n",
            "Epoch 197/500\n",
            "2/2 [==============================] - 0s 4ms/step - loss: 11.5783 - mae: 11.5783\n",
            "Epoch 198/500\n",
            "2/2 [==============================] - 0s 4ms/step - loss: 18.9419 - mae: 18.9419\n",
            "Epoch 199/500\n",
            "2/2 [==============================] - 0s 4ms/step - loss: 16.7292 - mae: 16.7292\n",
            "Epoch 200/500\n",
            "2/2 [==============================] - 0s 6ms/step - loss: 12.4095 - mae: 12.4095\n",
            "Epoch 201/500\n",
            "2/2 [==============================] - 0s 7ms/step - loss: 7.0999 - mae: 7.0999\n",
            "Epoch 202/500\n",
            "2/2 [==============================] - 0s 6ms/step - loss: 23.0006 - mae: 23.0006\n",
            "Epoch 203/500\n",
            "2/2 [==============================] - 0s 5ms/step - loss: 8.9911 - mae: 8.9911\n",
            "Epoch 204/500\n",
            "2/2 [==============================] - 0s 5ms/step - loss: 18.9486 - mae: 18.9486\n",
            "Epoch 205/500\n",
            "2/2 [==============================] - 0s 5ms/step - loss: 9.4095 - mae: 9.4095\n",
            "Epoch 206/500\n",
            "2/2 [==============================] - 0s 7ms/step - loss: 11.0430 - mae: 11.0430\n",
            "Epoch 207/500\n",
            "2/2 [==============================] - 0s 5ms/step - loss: 17.4756 - mae: 17.4756\n",
            "Epoch 208/500\n",
            "2/2 [==============================] - 0s 5ms/step - loss: 14.2426 - mae: 14.2426\n",
            "Epoch 209/500\n",
            "2/2 [==============================] - 0s 6ms/step - loss: 16.5279 - mae: 16.5279\n",
            "Epoch 210/500\n",
            "2/2 [==============================] - 0s 4ms/step - loss: 18.0062 - mae: 18.0062\n",
            "Epoch 211/500\n",
            "2/2 [==============================] - 0s 5ms/step - loss: 9.8820 - mae: 9.8820\n",
            "Epoch 212/500\n",
            "2/2 [==============================] - 0s 4ms/step - loss: 18.4483 - mae: 18.4483\n",
            "Epoch 213/500\n",
            "2/2 [==============================] - 0s 6ms/step - loss: 15.0173 - mae: 15.0173\n",
            "Epoch 214/500\n",
            "2/2 [==============================] - 0s 5ms/step - loss: 14.5759 - mae: 14.5759\n",
            "Epoch 215/500\n",
            "2/2 [==============================] - 0s 5ms/step - loss: 23.2714 - mae: 23.2714\n",
            "Epoch 216/500\n",
            "2/2 [==============================] - 0s 4ms/step - loss: 13.4225 - mae: 13.4225\n",
            "Epoch 217/500\n",
            "2/2 [==============================] - 0s 4ms/step - loss: 9.9141 - mae: 9.9141\n",
            "Epoch 218/500\n",
            "2/2 [==============================] - 0s 4ms/step - loss: 12.5217 - mae: 12.5217\n",
            "Epoch 219/500\n",
            "2/2 [==============================] - 0s 4ms/step - loss: 4.9700 - mae: 4.9700\n",
            "Epoch 220/500\n",
            "2/2 [==============================] - 0s 4ms/step - loss: 13.2707 - mae: 13.2707\n",
            "Epoch 221/500\n",
            "2/2 [==============================] - 0s 4ms/step - loss: 31.8263 - mae: 31.8263\n",
            "Epoch 222/500\n",
            "2/2 [==============================] - 0s 5ms/step - loss: 9.1758 - mae: 9.1758\n",
            "Epoch 223/500\n",
            "2/2 [==============================] - 0s 4ms/step - loss: 9.9172 - mae: 9.9172\n",
            "Epoch 224/500\n",
            "2/2 [==============================] - 0s 4ms/step - loss: 14.4593 - mae: 14.4593\n",
            "Epoch 225/500\n",
            "2/2 [==============================] - 0s 4ms/step - loss: 16.4542 - mae: 16.4542\n",
            "Epoch 226/500\n",
            "2/2 [==============================] - 0s 4ms/step - loss: 15.6091 - mae: 15.6091\n",
            "Epoch 227/500\n",
            "2/2 [==============================] - 0s 4ms/step - loss: 16.0705 - mae: 16.0705\n",
            "Epoch 228/500\n",
            "2/2 [==============================] - 0s 4ms/step - loss: 13.8505 - mae: 13.8505\n",
            "Epoch 229/500\n",
            "2/2 [==============================] - 0s 5ms/step - loss: 17.9563 - mae: 17.9563\n",
            "Epoch 230/500\n",
            "2/2 [==============================] - 0s 4ms/step - loss: 15.5452 - mae: 15.5452\n",
            "Epoch 231/500\n",
            "2/2 [==============================] - 0s 5ms/step - loss: 21.0623 - mae: 21.0623\n",
            "Epoch 232/500\n",
            "2/2 [==============================] - 0s 5ms/step - loss: 25.5983 - mae: 25.5983\n",
            "Epoch 233/500\n",
            "2/2 [==============================] - 0s 4ms/step - loss: 16.5707 - mae: 16.5707\n",
            "Epoch 234/500\n",
            "2/2 [==============================] - 0s 4ms/step - loss: 7.3431 - mae: 7.3431\n",
            "Epoch 235/500\n",
            "2/2 [==============================] - 0s 6ms/step - loss: 17.2196 - mae: 17.2196\n",
            "Epoch 236/500\n",
            "2/2 [==============================] - 0s 7ms/step - loss: 7.2171 - mae: 7.2171\n",
            "Epoch 237/500\n",
            "2/2 [==============================] - 0s 5ms/step - loss: 9.3331 - mae: 9.3331\n",
            "Epoch 238/500\n",
            "2/2 [==============================] - 0s 7ms/step - loss: 8.1691 - mae: 8.1691\n",
            "Epoch 239/500\n",
            "2/2 [==============================] - 0s 4ms/step - loss: 17.2938 - mae: 17.2938\n",
            "Epoch 240/500\n",
            "2/2 [==============================] - 0s 5ms/step - loss: 8.9648 - mae: 8.9648\n",
            "Epoch 241/500\n",
            "2/2 [==============================] - 0s 4ms/step - loss: 13.3472 - mae: 13.3472\n",
            "Epoch 242/500\n",
            "2/2 [==============================] - 0s 5ms/step - loss: 8.8653 - mae: 8.8653\n",
            "Epoch 243/500\n",
            "2/2 [==============================] - 0s 4ms/step - loss: 19.1793 - mae: 19.1793\n",
            "Epoch 244/500\n",
            "2/2 [==============================] - 0s 4ms/step - loss: 13.9224 - mae: 13.9224\n",
            "Epoch 245/500\n",
            "2/2 [==============================] - 0s 4ms/step - loss: 14.5675 - mae: 14.5675\n",
            "Epoch 246/500\n",
            "2/2 [==============================] - 0s 4ms/step - loss: 15.7034 - mae: 15.7034\n",
            "Epoch 247/500\n",
            "2/2 [==============================] - 0s 4ms/step - loss: 17.5474 - mae: 17.5474\n",
            "Epoch 248/500\n",
            "2/2 [==============================] - 0s 4ms/step - loss: 13.1123 - mae: 13.1123\n",
            "Epoch 249/500\n",
            "2/2 [==============================] - 0s 5ms/step - loss: 14.4378 - mae: 14.4378\n",
            "Epoch 250/500\n",
            "2/2 [==============================] - 0s 6ms/step - loss: 27.8496 - mae: 27.8496\n",
            "Epoch 251/500\n",
            "2/2 [==============================] - 0s 4ms/step - loss: 7.5019 - mae: 7.5019\n",
            "Epoch 252/500\n",
            "2/2 [==============================] - 0s 4ms/step - loss: 38.0608 - mae: 38.0608\n",
            "Epoch 253/500\n",
            "2/2 [==============================] - 0s 4ms/step - loss: 22.8871 - mae: 22.8871\n",
            "Epoch 254/500\n",
            "2/2 [==============================] - 0s 4ms/step - loss: 7.4348 - mae: 7.4348\n",
            "Epoch 255/500\n",
            "2/2 [==============================] - 0s 4ms/step - loss: 25.7773 - mae: 25.7773\n",
            "Epoch 256/500\n",
            "2/2 [==============================] - 0s 5ms/step - loss: 13.7075 - mae: 13.7075\n",
            "Epoch 257/500\n",
            "2/2 [==============================] - 0s 5ms/step - loss: 8.3326 - mae: 8.3326\n",
            "Epoch 258/500\n",
            "2/2 [==============================] - 0s 5ms/step - loss: 13.2086 - mae: 13.2086\n",
            "Epoch 259/500\n",
            "2/2 [==============================] - 0s 4ms/step - loss: 9.5203 - mae: 9.5203\n",
            "Epoch 260/500\n",
            "2/2 [==============================] - 0s 3ms/step - loss: 38.4762 - mae: 38.4762\n",
            "Epoch 261/500\n",
            "2/2 [==============================] - 0s 6ms/step - loss: 15.5276 - mae: 15.5276\n",
            "Epoch 262/500\n",
            "2/2 [==============================] - 0s 7ms/step - loss: 5.7724 - mae: 5.7724\n",
            "Epoch 263/500\n",
            "2/2 [==============================] - 0s 8ms/step - loss: 14.5934 - mae: 14.5934\n",
            "Epoch 264/500\n",
            "2/2 [==============================] - 0s 5ms/step - loss: 18.7456 - mae: 18.7456\n",
            "Epoch 265/500\n",
            "2/2 [==============================] - 0s 8ms/step - loss: 13.0910 - mae: 13.0910\n",
            "Epoch 266/500\n",
            "2/2 [==============================] - 0s 6ms/step - loss: 10.3033 - mae: 10.3033\n",
            "Epoch 267/500\n",
            "2/2 [==============================] - 0s 4ms/step - loss: 6.0312 - mae: 6.0312\n",
            "Epoch 268/500\n",
            "2/2 [==============================] - 0s 4ms/step - loss: 18.6795 - mae: 18.6795\n",
            "Epoch 269/500\n",
            "2/2 [==============================] - 0s 6ms/step - loss: 42.3051 - mae: 42.3051\n",
            "Epoch 270/500\n",
            "2/2 [==============================] - 0s 8ms/step - loss: 14.1074 - mae: 14.1074\n",
            "Epoch 271/500\n",
            "2/2 [==============================] - 0s 7ms/step - loss: 15.4539 - mae: 15.4539\n",
            "Epoch 272/500\n",
            "2/2 [==============================] - 0s 8ms/step - loss: 22.2786 - mae: 22.2786\n",
            "Epoch 273/500\n",
            "2/2 [==============================] - 0s 7ms/step - loss: 22.4814 - mae: 22.4814\n",
            "Epoch 274/500\n",
            "2/2 [==============================] - 0s 9ms/step - loss: 13.3633 - mae: 13.3633\n",
            "Epoch 275/500\n",
            "2/2 [==============================] - 0s 7ms/step - loss: 29.4397 - mae: 29.4397\n",
            "Epoch 276/500\n",
            "2/2 [==============================] - 0s 7ms/step - loss: 8.1264 - mae: 8.1264\n",
            "Epoch 277/500\n",
            "2/2 [==============================] - 0s 6ms/step - loss: 30.6427 - mae: 30.6427\n",
            "Epoch 278/500\n",
            "2/2 [==============================] - 0s 5ms/step - loss: 11.4824 - mae: 11.4824\n",
            "Epoch 279/500\n",
            "2/2 [==============================] - 0s 5ms/step - loss: 16.2225 - mae: 16.2225\n",
            "Epoch 280/500\n",
            "2/2 [==============================] - 0s 5ms/step - loss: 21.4909 - mae: 21.4909\n",
            "Epoch 281/500\n",
            "2/2 [==============================] - 0s 7ms/step - loss: 23.1559 - mae: 23.1559\n",
            "Epoch 282/500\n",
            "2/2 [==============================] - 0s 6ms/step - loss: 8.0641 - mae: 8.0641\n",
            "Epoch 283/500\n",
            "2/2 [==============================] - 0s 9ms/step - loss: 8.3296 - mae: 8.3296\n",
            "Epoch 284/500\n",
            "2/2 [==============================] - 0s 6ms/step - loss: 25.9114 - mae: 25.9114\n",
            "Epoch 285/500\n",
            "2/2 [==============================] - 0s 7ms/step - loss: 14.6010 - mae: 14.6010\n",
            "Epoch 286/500\n",
            "2/2 [==============================] - 0s 8ms/step - loss: 9.4156 - mae: 9.4156\n",
            "Epoch 287/500\n",
            "2/2 [==============================] - 0s 6ms/step - loss: 21.5667 - mae: 21.5667\n",
            "Epoch 288/500\n",
            "2/2 [==============================] - 0s 5ms/step - loss: 25.4701 - mae: 25.4701\n",
            "Epoch 289/500\n",
            "2/2 [==============================] - 0s 5ms/step - loss: 11.2588 - mae: 11.2588\n",
            "Epoch 290/500\n",
            "2/2 [==============================] - 0s 5ms/step - loss: 16.4381 - mae: 16.4381\n",
            "Epoch 291/500\n",
            "2/2 [==============================] - 0s 6ms/step - loss: 16.6682 - mae: 16.6682\n",
            "Epoch 292/500\n",
            "2/2 [==============================] - 0s 5ms/step - loss: 8.7917 - mae: 8.7917\n",
            "Epoch 293/500\n",
            "2/2 [==============================] - 0s 6ms/step - loss: 15.6576 - mae: 15.6576\n",
            "Epoch 294/500\n",
            "2/2 [==============================] - 0s 6ms/step - loss: 23.4983 - mae: 23.4983\n",
            "Epoch 295/500\n",
            "2/2 [==============================] - 0s 8ms/step - loss: 16.2138 - mae: 16.2138\n",
            "Epoch 296/500\n",
            "2/2 [==============================] - 0s 6ms/step - loss: 4.9137 - mae: 4.9137\n",
            "Epoch 297/500\n",
            "2/2 [==============================] - 0s 5ms/step - loss: 11.0115 - mae: 11.0115\n",
            "Epoch 298/500\n",
            "2/2 [==============================] - 0s 6ms/step - loss: 23.3162 - mae: 23.3162\n",
            "Epoch 299/500\n",
            "2/2 [==============================] - 0s 6ms/step - loss: 17.4075 - mae: 17.4075\n",
            "Epoch 300/500\n",
            "2/2 [==============================] - 0s 5ms/step - loss: 6.9230 - mae: 6.9230\n",
            "Epoch 301/500\n",
            "2/2 [==============================] - 0s 7ms/step - loss: 24.7987 - mae: 24.7987\n",
            "Epoch 302/500\n",
            "2/2 [==============================] - 0s 5ms/step - loss: 8.2386 - mae: 8.2386\n",
            "Epoch 303/500\n",
            "2/2 [==============================] - 0s 5ms/step - loss: 21.2072 - mae: 21.2072\n",
            "Epoch 304/500\n",
            "2/2 [==============================] - 0s 5ms/step - loss: 13.7531 - mae: 13.7531\n",
            "Epoch 305/500\n",
            "2/2 [==============================] - 0s 6ms/step - loss: 7.0931 - mae: 7.0931\n",
            "Epoch 306/500\n",
            "2/2 [==============================] - 0s 6ms/step - loss: 19.3312 - mae: 19.3312\n",
            "Epoch 307/500\n",
            "2/2 [==============================] - 0s 6ms/step - loss: 8.9888 - mae: 8.9888\n",
            "Epoch 308/500\n",
            "2/2 [==============================] - 0s 4ms/step - loss: 20.5804 - mae: 20.5804\n",
            "Epoch 309/500\n",
            "2/2 [==============================] - 0s 5ms/step - loss: 13.6081 - mae: 13.6081\n",
            "Epoch 310/500\n",
            "2/2 [==============================] - 0s 5ms/step - loss: 6.6669 - mae: 6.6669\n",
            "Epoch 311/500\n",
            "2/2 [==============================] - 0s 5ms/step - loss: 13.6625 - mae: 13.6625\n",
            "Epoch 312/500\n",
            "2/2 [==============================] - 0s 5ms/step - loss: 30.0138 - mae: 30.0138\n",
            "Epoch 313/500\n",
            "2/2 [==============================] - 0s 5ms/step - loss: 7.5631 - mae: 7.5631\n",
            "Epoch 314/500\n",
            "2/2 [==============================] - 0s 4ms/step - loss: 9.9590 - mae: 9.9590\n",
            "Epoch 315/500\n",
            "2/2 [==============================] - 0s 5ms/step - loss: 23.8617 - mae: 23.8617\n",
            "Epoch 316/500\n",
            "2/2 [==============================] - 0s 5ms/step - loss: 16.2070 - mae: 16.2070\n",
            "Epoch 317/500\n",
            "2/2 [==============================] - 0s 5ms/step - loss: 20.7124 - mae: 20.7124\n",
            "Epoch 318/500\n",
            "2/2 [==============================] - 0s 4ms/step - loss: 8.7473 - mae: 8.7473\n",
            "Epoch 319/500\n",
            "2/2 [==============================] - 0s 4ms/step - loss: 15.3042 - mae: 15.3042\n",
            "Epoch 320/500\n",
            "2/2 [==============================] - 0s 4ms/step - loss: 8.3722 - mae: 8.3722\n",
            "Epoch 321/500\n",
            "2/2 [==============================] - 0s 4ms/step - loss: 14.7237 - mae: 14.7237\n",
            "Epoch 322/500\n",
            "2/2 [==============================] - 0s 5ms/step - loss: 12.8034 - mae: 12.8034\n",
            "Epoch 323/500\n",
            "2/2 [==============================] - 0s 5ms/step - loss: 19.0698 - mae: 19.0698\n",
            "Epoch 324/500\n",
            "2/2 [==============================] - 0s 4ms/step - loss: 17.0706 - mae: 17.0706\n",
            "Epoch 325/500\n",
            "2/2 [==============================] - 0s 6ms/step - loss: 9.2869 - mae: 9.2869\n",
            "Epoch 326/500\n",
            "2/2 [==============================] - 0s 6ms/step - loss: 19.9036 - mae: 19.9036\n",
            "Epoch 327/500\n",
            "2/2 [==============================] - 0s 5ms/step - loss: 28.1810 - mae: 28.1810\n",
            "Epoch 328/500\n",
            "2/2 [==============================] - 0s 5ms/step - loss: 11.6938 - mae: 11.6938\n",
            "Epoch 329/500\n",
            "2/2 [==============================] - 0s 4ms/step - loss: 16.3675 - mae: 16.3675\n",
            "Epoch 330/500\n",
            "2/2 [==============================] - 0s 4ms/step - loss: 7.3339 - mae: 7.3339\n",
            "Epoch 331/500\n",
            "2/2 [==============================] - 0s 5ms/step - loss: 22.6079 - mae: 22.6079\n",
            "Epoch 332/500\n",
            "2/2 [==============================] - 0s 5ms/step - loss: 13.3784 - mae: 13.3784\n",
            "Epoch 333/500\n",
            "2/2 [==============================] - 0s 4ms/step - loss: 10.1940 - mae: 10.1940\n",
            "Epoch 334/500\n",
            "2/2 [==============================] - 0s 4ms/step - loss: 6.6403 - mae: 6.6403\n",
            "Epoch 335/500\n",
            "2/2 [==============================] - 0s 4ms/step - loss: 6.2725 - mae: 6.2725\n",
            "Epoch 336/500\n",
            "2/2 [==============================] - 0s 5ms/step - loss: 34.5620 - mae: 34.5620\n",
            "Epoch 337/500\n",
            "2/2 [==============================] - 0s 5ms/step - loss: 26.9903 - mae: 26.9903\n",
            "Epoch 338/500\n",
            "2/2 [==============================] - 0s 4ms/step - loss: 14.0243 - mae: 14.0243\n",
            "Epoch 339/500\n",
            "2/2 [==============================] - 0s 4ms/step - loss: 11.5699 - mae: 11.5699\n",
            "Epoch 340/500\n",
            "2/2 [==============================] - 0s 4ms/step - loss: 8.8253 - mae: 8.8253\n",
            "Epoch 341/500\n",
            "2/2 [==============================] - 0s 6ms/step - loss: 23.4512 - mae: 23.4512\n",
            "Epoch 342/500\n",
            "2/2 [==============================] - 0s 4ms/step - loss: 13.9262 - mae: 13.9262\n",
            "Epoch 343/500\n",
            "2/2 [==============================] - 0s 4ms/step - loss: 14.8190 - mae: 14.8190\n",
            "Epoch 344/500\n",
            "2/2 [==============================] - 0s 5ms/step - loss: 13.3914 - mae: 13.3914\n",
            "Epoch 345/500\n",
            "2/2 [==============================] - 0s 5ms/step - loss: 31.0203 - mae: 31.0203\n",
            "Epoch 346/500\n",
            "2/2 [==============================] - 0s 6ms/step - loss: 10.7030 - mae: 10.7030\n",
            "Epoch 347/500\n",
            "2/2 [==============================] - 0s 4ms/step - loss: 25.7217 - mae: 25.7217\n",
            "Epoch 348/500\n",
            "2/2 [==============================] - 0s 10ms/step - loss: 12.9063 - mae: 12.9063\n",
            "Epoch 349/500\n",
            "2/2 [==============================] - 0s 6ms/step - loss: 13.1596 - mae: 13.1596\n",
            "Epoch 350/500\n",
            "2/2 [==============================] - 0s 6ms/step - loss: 15.4408 - mae: 15.4408\n",
            "Epoch 351/500\n",
            "2/2 [==============================] - 0s 6ms/step - loss: 32.9569 - mae: 32.9569\n",
            "Epoch 352/500\n",
            "2/2 [==============================] - 0s 5ms/step - loss: 14.2018 - mae: 14.2018\n",
            "Epoch 353/500\n",
            "2/2 [==============================] - 0s 5ms/step - loss: 15.9183 - mae: 15.9183\n",
            "Epoch 354/500\n",
            "2/2 [==============================] - 0s 6ms/step - loss: 19.0832 - mae: 19.0832\n",
            "Epoch 355/500\n",
            "2/2 [==============================] - 0s 7ms/step - loss: 34.1360 - mae: 34.1360\n",
            "Epoch 356/500\n",
            "2/2 [==============================] - 0s 5ms/step - loss: 7.7028 - mae: 7.7028\n",
            "Epoch 357/500\n",
            "2/2 [==============================] - 0s 5ms/step - loss: 25.2277 - mae: 25.2277\n",
            "Epoch 358/500\n",
            "2/2 [==============================] - 0s 5ms/step - loss: 22.6851 - mae: 22.6851\n",
            "Epoch 359/500\n",
            "2/2 [==============================] - 0s 5ms/step - loss: 8.8953 - mae: 8.8953\n",
            "Epoch 360/500\n",
            "2/2 [==============================] - 0s 5ms/step - loss: 21.4784 - mae: 21.4784\n",
            "Epoch 361/500\n",
            "2/2 [==============================] - 0s 5ms/step - loss: 20.5946 - mae: 20.5946\n",
            "Epoch 362/500\n",
            "2/2 [==============================] - 0s 4ms/step - loss: 7.0854 - mae: 7.0854\n",
            "Epoch 363/500\n",
            "2/2 [==============================] - 0s 5ms/step - loss: 25.7870 - mae: 25.7870\n",
            "Epoch 364/500\n",
            "2/2 [==============================] - 0s 5ms/step - loss: 32.1949 - mae: 32.1949\n",
            "Epoch 365/500\n",
            "2/2 [==============================] - 0s 5ms/step - loss: 10.0219 - mae: 10.0219\n",
            "Epoch 366/500\n",
            "2/2 [==============================] - 0s 4ms/step - loss: 9.6900 - mae: 9.6900\n",
            "Epoch 367/500\n",
            "2/2 [==============================] - 0s 4ms/step - loss: 30.4287 - mae: 30.4287\n",
            "Epoch 368/500\n",
            "2/2 [==============================] - 0s 5ms/step - loss: 10.5226 - mae: 10.5226\n",
            "Epoch 369/500\n",
            "2/2 [==============================] - 0s 4ms/step - loss: 15.0117 - mae: 15.0117\n",
            "Epoch 370/500\n",
            "2/2 [==============================] - 0s 5ms/step - loss: 14.6729 - mae: 14.6729\n",
            "Epoch 371/500\n",
            "2/2 [==============================] - 0s 5ms/step - loss: 23.3954 - mae: 23.3954\n",
            "Epoch 372/500\n",
            "2/2 [==============================] - 0s 5ms/step - loss: 13.0626 - mae: 13.0626\n",
            "Epoch 373/500\n",
            "2/2 [==============================] - 0s 7ms/step - loss: 9.2305 - mae: 9.2305\n",
            "Epoch 374/500\n",
            "2/2 [==============================] - 0s 6ms/step - loss: 9.6989 - mae: 9.6989\n",
            "Epoch 375/500\n",
            "2/2 [==============================] - 0s 5ms/step - loss: 13.0318 - mae: 13.0318\n",
            "Epoch 376/500\n",
            "2/2 [==============================] - 0s 5ms/step - loss: 14.9135 - mae: 14.9135\n",
            "Epoch 377/500\n",
            "2/2 [==============================] - 0s 5ms/step - loss: 14.8262 - mae: 14.8262\n",
            "Epoch 378/500\n",
            "2/2 [==============================] - 0s 5ms/step - loss: 16.3008 - mae: 16.3008\n",
            "Epoch 379/500\n",
            "2/2 [==============================] - 0s 5ms/step - loss: 20.8796 - mae: 20.8796\n",
            "Epoch 380/500\n",
            "2/2 [==============================] - 0s 6ms/step - loss: 33.3911 - mae: 33.3911\n",
            "Epoch 381/500\n",
            "2/2 [==============================] - 0s 4ms/step - loss: 8.2055 - mae: 8.2055\n",
            "Epoch 382/500\n",
            "2/2 [==============================] - 0s 4ms/step - loss: 13.0033 - mae: 13.0033\n",
            "Epoch 383/500\n",
            "2/2 [==============================] - 0s 4ms/step - loss: 8.4599 - mae: 8.4599\n",
            "Epoch 384/500\n",
            "2/2 [==============================] - 0s 4ms/step - loss: 7.1021 - mae: 7.1021\n",
            "Epoch 385/500\n",
            "2/2 [==============================] - 0s 4ms/step - loss: 10.9764 - mae: 10.9764\n",
            "Epoch 386/500\n",
            "2/2 [==============================] - 0s 4ms/step - loss: 19.8310 - mae: 19.8310\n",
            "Epoch 387/500\n",
            "2/2 [==============================] - 0s 4ms/step - loss: 24.7106 - mae: 24.7106\n",
            "Epoch 388/500\n",
            "2/2 [==============================] - 0s 4ms/step - loss: 8.6971 - mae: 8.6971\n",
            "Epoch 389/500\n",
            "2/2 [==============================] - 0s 4ms/step - loss: 5.9501 - mae: 5.9501\n",
            "Epoch 390/500\n",
            "2/2 [==============================] - 0s 4ms/step - loss: 24.2703 - mae: 24.2703\n",
            "Epoch 391/500\n",
            "2/2 [==============================] - 0s 4ms/step - loss: 5.9715 - mae: 5.9715\n",
            "Epoch 392/500\n",
            "2/2 [==============================] - 0s 4ms/step - loss: 16.0600 - mae: 16.0600\n",
            "Epoch 393/500\n",
            "2/2 [==============================] - 0s 4ms/step - loss: 6.4850 - mae: 6.4850\n",
            "Epoch 394/500\n",
            "2/2 [==============================] - 0s 5ms/step - loss: 12.4956 - mae: 12.4956\n",
            "Epoch 395/500\n",
            "2/2 [==============================] - 0s 4ms/step - loss: 12.3689 - mae: 12.3689\n",
            "Epoch 396/500\n",
            "2/2 [==============================] - 0s 4ms/step - loss: 7.3360 - mae: 7.3360\n",
            "Epoch 397/500\n",
            "2/2 [==============================] - 0s 4ms/step - loss: 7.5936 - mae: 7.5936\n",
            "Epoch 398/500\n",
            "2/2 [==============================] - 0s 5ms/step - loss: 20.2589 - mae: 20.2589\n",
            "Epoch 399/500\n",
            "2/2 [==============================] - 0s 4ms/step - loss: 5.9145 - mae: 5.9145\n",
            "Epoch 400/500\n",
            "2/2 [==============================] - 0s 4ms/step - loss: 24.6491 - mae: 24.6491\n",
            "Epoch 401/500\n",
            "2/2 [==============================] - 0s 4ms/step - loss: 13.1088 - mae: 13.1088\n",
            "Epoch 402/500\n",
            "2/2 [==============================] - 0s 4ms/step - loss: 8.3451 - mae: 8.3451\n",
            "Epoch 403/500\n",
            "2/2 [==============================] - 0s 4ms/step - loss: 9.8291 - mae: 9.8291\n",
            "Epoch 404/500\n",
            "2/2 [==============================] - 0s 4ms/step - loss: 12.5634 - mae: 12.5634\n",
            "Epoch 405/500\n",
            "2/2 [==============================] - 0s 4ms/step - loss: 8.7742 - mae: 8.7742\n",
            "Epoch 406/500\n",
            "2/2 [==============================] - 0s 4ms/step - loss: 21.6409 - mae: 21.6409\n",
            "Epoch 407/500\n",
            "2/2 [==============================] - 0s 4ms/step - loss: 20.3561 - mae: 20.3561\n",
            "Epoch 408/500\n",
            "2/2 [==============================] - 0s 4ms/step - loss: 10.3610 - mae: 10.3610\n",
            "Epoch 409/500\n",
            "2/2 [==============================] - 0s 4ms/step - loss: 9.3591 - mae: 9.3591\n",
            "Epoch 410/500\n",
            "2/2 [==============================] - 0s 5ms/step - loss: 13.3936 - mae: 13.3936\n",
            "Epoch 411/500\n",
            "2/2 [==============================] - 0s 6ms/step - loss: 15.8529 - mae: 15.8529\n",
            "Epoch 412/500\n",
            "2/2 [==============================] - 0s 7ms/step - loss: 23.5563 - mae: 23.5563\n",
            "Epoch 413/500\n",
            "2/2 [==============================] - 0s 7ms/step - loss: 16.4078 - mae: 16.4078\n",
            "Epoch 414/500\n",
            "2/2 [==============================] - 0s 6ms/step - loss: 4.9300 - mae: 4.9300\n",
            "Epoch 415/500\n",
            "2/2 [==============================] - 0s 7ms/step - loss: 13.9721 - mae: 13.9721\n",
            "Epoch 416/500\n",
            "2/2 [==============================] - 0s 6ms/step - loss: 28.9613 - mae: 28.9613\n",
            "Epoch 417/500\n",
            "2/2 [==============================] - 0s 7ms/step - loss: 5.9700 - mae: 5.9700\n",
            "Epoch 418/500\n",
            "2/2 [==============================] - 0s 8ms/step - loss: 12.4681 - mae: 12.4681\n",
            "Epoch 419/500\n",
            "2/2 [==============================] - 0s 4ms/step - loss: 11.4780 - mae: 11.4780\n",
            "Epoch 420/500\n",
            "2/2 [==============================] - 0s 4ms/step - loss: 23.8503 - mae: 23.8503\n",
            "Epoch 421/500\n",
            "2/2 [==============================] - 0s 4ms/step - loss: 19.7599 - mae: 19.7599\n",
            "Epoch 422/500\n",
            "2/2 [==============================] - 0s 6ms/step - loss: 4.0259 - mae: 4.0259\n",
            "Epoch 423/500\n",
            "2/2 [==============================] - 0s 4ms/step - loss: 34.4864 - mae: 34.4864\n",
            "Epoch 424/500\n",
            "2/2 [==============================] - 0s 4ms/step - loss: 13.0042 - mae: 13.0042\n",
            "Epoch 425/500\n",
            "2/2 [==============================] - 0s 4ms/step - loss: 6.9397 - mae: 6.9397\n",
            "Epoch 426/500\n",
            "2/2 [==============================] - 0s 4ms/step - loss: 19.4256 - mae: 19.4256\n",
            "Epoch 427/500\n",
            "2/2 [==============================] - 0s 5ms/step - loss: 4.4555 - mae: 4.4555\n",
            "Epoch 428/500\n",
            "2/2 [==============================] - 0s 4ms/step - loss: 20.5952 - mae: 20.5952\n",
            "Epoch 429/500\n",
            "2/2 [==============================] - 0s 4ms/step - loss: 15.1972 - mae: 15.1972\n",
            "Epoch 430/500\n",
            "2/2 [==============================] - 0s 4ms/step - loss: 11.2801 - mae: 11.2801\n",
            "Epoch 431/500\n",
            "2/2 [==============================] - 0s 6ms/step - loss: 10.1810 - mae: 10.1810\n",
            "Epoch 432/500\n",
            "2/2 [==============================] - 0s 5ms/step - loss: 13.7599 - mae: 13.7599\n",
            "Epoch 433/500\n",
            "2/2 [==============================] - 0s 4ms/step - loss: 12.0052 - mae: 12.0052\n",
            "Epoch 434/500\n",
            "2/2 [==============================] - 0s 4ms/step - loss: 30.5615 - mae: 30.5615\n",
            "Epoch 435/500\n",
            "2/2 [==============================] - 0s 5ms/step - loss: 11.1571 - mae: 11.1571\n",
            "Epoch 436/500\n",
            "2/2 [==============================] - 0s 4ms/step - loss: 28.6583 - mae: 28.6583\n",
            "Epoch 437/500\n",
            "2/2 [==============================] - 0s 4ms/step - loss: 7.5050 - mae: 7.5050\n",
            "Epoch 438/500\n",
            "2/2 [==============================] - 0s 4ms/step - loss: 12.9177 - mae: 12.9177\n",
            "Epoch 439/500\n",
            "2/2 [==============================] - 0s 5ms/step - loss: 34.1664 - mae: 34.1664\n",
            "Epoch 440/500\n",
            "2/2 [==============================] - 0s 5ms/step - loss: 15.8338 - mae: 15.8338\n",
            "Epoch 441/500\n",
            "2/2 [==============================] - 0s 5ms/step - loss: 18.4886 - mae: 18.4886\n",
            "Epoch 442/500\n",
            "2/2 [==============================] - 0s 5ms/step - loss: 26.7183 - mae: 26.7183\n",
            "Epoch 443/500\n",
            "2/2 [==============================] - 0s 5ms/step - loss: 9.7809 - mae: 9.7809\n",
            "Epoch 444/500\n",
            "2/2 [==============================] - 0s 4ms/step - loss: 8.4455 - mae: 8.4455\n",
            "Epoch 445/500\n",
            "2/2 [==============================] - 0s 8ms/step - loss: 12.8622 - mae: 12.8622\n",
            "Epoch 446/500\n",
            "2/2 [==============================] - 0s 7ms/step - loss: 15.5824 - mae: 15.5824\n",
            "Epoch 447/500\n",
            "2/2 [==============================] - 0s 5ms/step - loss: 14.7362 - mae: 14.7362\n",
            "Epoch 448/500\n",
            "2/2 [==============================] - 0s 6ms/step - loss: 11.6076 - mae: 11.6076\n",
            "Epoch 449/500\n",
            "2/2 [==============================] - 0s 6ms/step - loss: 14.8092 - mae: 14.8092\n",
            "Epoch 450/500\n",
            "2/2 [==============================] - 0s 6ms/step - loss: 17.5625 - mae: 17.5625\n",
            "Epoch 451/500\n",
            "2/2 [==============================] - 0s 5ms/step - loss: 14.6250 - mae: 14.6250\n",
            "Epoch 452/500\n",
            "2/2 [==============================] - 0s 5ms/step - loss: 31.2819 - mae: 31.2819\n",
            "Epoch 453/500\n",
            "2/2 [==============================] - 0s 6ms/step - loss: 10.5706 - mae: 10.5706\n",
            "Epoch 454/500\n",
            "2/2 [==============================] - 0s 6ms/step - loss: 26.8633 - mae: 26.8633\n",
            "Epoch 455/500\n",
            "2/2 [==============================] - 0s 5ms/step - loss: 12.3002 - mae: 12.3002\n",
            "Epoch 456/500\n",
            "2/2 [==============================] - 0s 5ms/step - loss: 15.3437 - mae: 15.3437\n",
            "Epoch 457/500\n",
            "2/2 [==============================] - 0s 9ms/step - loss: 19.0500 - mae: 19.0500\n",
            "Epoch 458/500\n",
            "2/2 [==============================] - 0s 7ms/step - loss: 23.4984 - mae: 23.4984\n",
            "Epoch 459/500\n",
            "2/2 [==============================] - 0s 7ms/step - loss: 16.9432 - mae: 16.9432\n",
            "Epoch 460/500\n",
            "2/2 [==============================] - 0s 5ms/step - loss: 6.1182 - mae: 6.1182\n",
            "Epoch 461/500\n",
            "2/2 [==============================] - 0s 5ms/step - loss: 16.8775 - mae: 16.8775\n",
            "Epoch 462/500\n",
            "2/2 [==============================] - 0s 5ms/step - loss: 16.8344 - mae: 16.8344\n",
            "Epoch 463/500\n",
            "2/2 [==============================] - 0s 5ms/step - loss: 42.6234 - mae: 42.6234\n",
            "Epoch 464/500\n",
            "2/2 [==============================] - 0s 8ms/step - loss: 16.7679 - mae: 16.7679\n",
            "Epoch 465/500\n",
            "2/2 [==============================] - 0s 6ms/step - loss: 8.1144 - mae: 8.1144\n",
            "Epoch 466/500\n",
            "2/2 [==============================] - 0s 6ms/step - loss: 13.6726 - mae: 13.6726\n",
            "Epoch 467/500\n",
            "2/2 [==============================] - 0s 6ms/step - loss: 6.5054 - mae: 6.5054\n",
            "Epoch 468/500\n",
            "2/2 [==============================] - 0s 6ms/step - loss: 15.0361 - mae: 15.0361\n",
            "Epoch 469/500\n",
            "2/2 [==============================] - 0s 5ms/step - loss: 13.9128 - mae: 13.9128\n",
            "Epoch 470/500\n",
            "2/2 [==============================] - 0s 7ms/step - loss: 4.4051 - mae: 4.4051\n",
            "Epoch 471/500\n",
            "2/2 [==============================] - 0s 7ms/step - loss: 30.9252 - mae: 30.9252\n",
            "Epoch 472/500\n",
            "2/2 [==============================] - 0s 5ms/step - loss: 12.3591 - mae: 12.3591\n",
            "Epoch 473/500\n",
            "2/2 [==============================] - 0s 4ms/step - loss: 14.7372 - mae: 14.7372\n",
            "Epoch 474/500\n",
            "2/2 [==============================] - 0s 4ms/step - loss: 18.6355 - mae: 18.6355\n",
            "Epoch 475/500\n",
            "2/2 [==============================] - 0s 4ms/step - loss: 12.4305 - mae: 12.4305\n",
            "Epoch 476/500\n",
            "2/2 [==============================] - 0s 4ms/step - loss: 13.7052 - mae: 13.7052\n",
            "Epoch 477/500\n",
            "2/2 [==============================] - 0s 4ms/step - loss: 30.3075 - mae: 30.3075\n",
            "Epoch 478/500\n",
            "2/2 [==============================] - 0s 5ms/step - loss: 7.0416 - mae: 7.0416\n",
            "Epoch 479/500\n",
            "2/2 [==============================] - 0s 4ms/step - loss: 11.6871 - mae: 11.6871\n",
            "Epoch 480/500\n",
            "2/2 [==============================] - 0s 3ms/step - loss: 18.3600 - mae: 18.3600\n",
            "Epoch 481/500\n",
            "2/2 [==============================] - 0s 4ms/step - loss: 16.2165 - mae: 16.2165\n",
            "Epoch 482/500\n",
            "2/2 [==============================] - 0s 4ms/step - loss: 15.0097 - mae: 15.0097\n",
            "Epoch 483/500\n",
            "2/2 [==============================] - 0s 4ms/step - loss: 20.4561 - mae: 20.4561\n",
            "Epoch 484/500\n",
            "2/2 [==============================] - 0s 4ms/step - loss: 35.3358 - mae: 35.3358\n",
            "Epoch 485/500\n",
            "2/2 [==============================] - 0s 4ms/step - loss: 13.9433 - mae: 13.9433\n",
            "Epoch 486/500\n",
            "2/2 [==============================] - 0s 4ms/step - loss: 6.9802 - mae: 6.9802\n",
            "Epoch 487/500\n",
            "2/2 [==============================] - 0s 4ms/step - loss: 6.3258 - mae: 6.3258\n",
            "Epoch 488/500\n",
            "2/2 [==============================] - 0s 4ms/step - loss: 29.7553 - mae: 29.7553\n",
            "Epoch 489/500\n",
            "2/2 [==============================] - 0s 4ms/step - loss: 12.6851 - mae: 12.6851\n",
            "Epoch 490/500\n",
            "2/2 [==============================] - 0s 4ms/step - loss: 13.1219 - mae: 13.1219\n",
            "Epoch 491/500\n",
            "2/2 [==============================] - 0s 4ms/step - loss: 24.3901 - mae: 24.3901\n",
            "Epoch 492/500\n",
            "2/2 [==============================] - 0s 4ms/step - loss: 18.5520 - mae: 18.5520\n",
            "Epoch 493/500\n",
            "2/2 [==============================] - 0s 4ms/step - loss: 4.8009 - mae: 4.8009\n",
            "Epoch 494/500\n",
            "2/2 [==============================] - 0s 4ms/step - loss: 11.9207 - mae: 11.9207\n",
            "Epoch 495/500\n",
            "2/2 [==============================] - 0s 5ms/step - loss: 13.7574 - mae: 13.7574\n",
            "Epoch 496/500\n",
            "2/2 [==============================] - 0s 4ms/step - loss: 12.9405 - mae: 12.9405\n",
            "Epoch 497/500\n",
            "2/2 [==============================] - 0s 4ms/step - loss: 18.1039 - mae: 18.1039\n",
            "Epoch 498/500\n",
            "2/2 [==============================] - 0s 4ms/step - loss: 22.4865 - mae: 22.4865\n",
            "Epoch 499/500\n",
            "2/2 [==============================] - 0s 4ms/step - loss: 8.3100 - mae: 8.3100\n",
            "Epoch 500/500\n",
            "2/2 [==============================] - 0s 4ms/step - loss: 14.0510 - mae: 14.0510\n"
          ]
        },
        {
          "output_type": "execute_result",
          "data": {
            "text/plain": [
              "<keras.callbacks.History at 0x7fb3a3fd4490>"
            ]
          },
          "metadata": {},
          "execution_count": 56
        }
      ]
    },
    {
      "cell_type": "code",
      "source": [
        "# Make and plot some predictions\n",
        "y_pred_3 = model_3.predict(X_test)\n",
        "plot_predictions(predictions=y_pred_3)\n",
        "# Cok fazla deneme yaptigimiz icin (epochs=500) overfitting oldu ve model_1den bile daha kotu sonuc aldik"
      ],
      "metadata": {
        "colab": {
          "base_uri": "https://localhost:8080/",
          "height": 616
        },
        "id": "OaQOoozueXFn",
        "outputId": "217c9d4f-5ce5-4970-a7c4-7a152fd8e442"
      },
      "execution_count": 57,
      "outputs": [
        {
          "output_type": "stream",
          "name": "stdout",
          "text": [
            "1/1 [==============================] - 0s 74ms/step\n"
          ]
        },
        {
          "output_type": "display_data",
          "data": {
            "text/plain": [
              "<Figure size 1000x700 with 1 Axes>"
            ],
            "image/png": "[encoded data removed]"
          },
          "metadata": {}
        }
      ]
    },
    {
      "cell_type": "code",
      "source": [
        "# Calculate model_3 evaluation metrics\n",
        "mae_3 = mae(y_test, y_pred_3)\n",
        "mse_3 = mse(y_test, y_pred_3)\n",
        "mae_3, mse_3"
      ],
      "metadata": {
        "colab": {
          "base_uri": "https://localhost:8080/"
        },
        "id": "I7zb7eCXeqVi",
        "outputId": "84a648aa-492a-49a6-b579-f873bb594af4"
      },
      "execution_count": 58,
      "outputs": [
        {
          "output_type": "execute_result",
          "data": {
            "text/plain": [
              "(<tf.Tensor: shape=(), dtype=float32, numpy=67.39138>,\n",
              " <tf.Tensor: shape=(), dtype=float32, numpy=4624.591>)"
            ]
          },
          "metadata": {},
          "execution_count": 58
        }
      ]
    },
    {
      "cell_type": "markdown",
      "source": [
        "## Comparing the results of our experiments\n",
        "\n",
        "We've run a few experiments, let's compare the results."
      ],
      "metadata": {
        "id": "fQH7EKsWfQci"
      }
    },
    {
      "cell_type": "code",
      "source": [
        "# Let's compare our model's results using a pandas DataFrame\n",
        "import pandas as pd\n",
        "\n",
        "model_results = [[\"model_1\", mae_1.numpy(), mse_1.numpy()],\n",
        "                 [\"model_2\", mae_2.numpy(), mse_2.numpy()],\n",
        "                 [\"model_3\", mae_3.numpy(), mse_3.numpy()]]\n",
        "\n",
        "all_results = pd.DataFrame(model_results, columns=[\"model\", \"mae\", \"mse\"])\n",
        "all_results"
      ],
      "metadata": {
        "colab": {
          "base_uri": "https://localhost:8080/",
          "height": 143
        },
        "id": "QiJoyFD-fhUY",
        "outputId": "9ea79c72-c145-408a-992b-176f17b6ae45"
      },
      "execution_count": 59,
      "outputs": [
        {
          "output_type": "execute_result",
          "data": {
            "text/plain": [
              "     model        mae          mse\n",
              "0  model_1  30.673120   951.321472\n",
              "1  model_2  10.761274   123.669998\n",
              "2  model_3  67.391380  4624.590820"
            ],
            "text/html": [
              "\n",
              "  <div id=\"df-e3bf4a86-9612-4505-a298-c4a66f4c4565\">\n",
              "    <div class=\"colab-df-container\">\n",
              "      <div>\n",
              "<style scoped>\n",
              "    .dataframe tbody tr th:only-of-type {\n",
              "        vertical-align: middle;\n",
              "    }\n",
              "\n",
              "    .dataframe tbody tr th {\n",
              "        vertical-align: top;\n",
              "    }\n",
              "\n",
              "    .dataframe thead th {\n",
              "        text-align: right;\n",
              "    }\n",
              "</style>\n",
              "<table border=\"1\" class=\"dataframe\">\n",
              "  <thead>\n",
              "    <tr style=\"text-align: right;\">\n",
              "      <th></th>\n",
              "      <th>model</th>\n",
              "      <th>mae</th>\n",
              "      <th>mse</th>\n",
              "    </tr>\n",
              "  </thead>\n",
              "  <tbody>\n",
              "    <tr>\n",
              "      <th>0</th>\n",
              "      <td>model_1</td>\n",
              "      <td>30.673120</td>\n",
              "      <td>951.321472</td>\n",
              "    </tr>\n",
              "    <tr>\n",
              "      <th>1</th>\n",
              "      <td>model_2</td>\n",
              "      <td>10.761274</td>\n",
              "      <td>123.669998</td>\n",
              "    </tr>\n",
              "    <tr>\n",
              "      <th>2</th>\n",
              "      <td>model_3</td>\n",
              "      <td>67.391380</td>\n",
              "      <td>4624.590820</td>\n",
              "    </tr>\n",
              "  </tbody>\n",
              "</table>\n",
              "</div>\n",
              "      <button class=\"colab-df-convert\" onclick=\"convertToInteractive('df-e3bf4a86-9612-4505-a298-c4a66f4c4565')\"\n",
              "              title=\"Convert this dataframe to an interactive table.\"\n",
              "              style=\"display:none;\">\n",
              "        \n",
              "  <svg xmlns=\"http://www.w3.org/2000/svg\" height=\"24px\"viewBox=\"0 0 24 24\"\n",
              "       width=\"24px\">\n",
              "    <path d=\"M0 0h24v24H0V0z\" fill=\"none\"/>\n",
              "    <path d=\"M18.56 5.44l.94 2.06.94-2.06 2.06-.94-2.06-.94-.94-2.06-.94 2.06-2.06.94zm-11 1L8.5 8.5l.94-2.06 2.06-.94-2.06-.94L8.5 2.5l-.94 2.06-2.06.94zm10 10l.94 2.06.94-2.06 2.06-.94-2.06-.94-.94-2.06-.94 2.06-2.06.94z\"/><path d=\"M17.41 7.96l-1.37-1.37c-.4-.4-.92-.59-1.43-.59-.52 0-1.04.2-1.43.59L10.3 9.45l-7.72 7.72c-.78.78-.78 2.05 0 2.83L4 21.41c.39.39.9.59 1.41.59.51 0 1.02-.2 1.41-.59l7.78-7.78 2.81-2.81c.8-.78.8-2.07 0-2.86zM5.41 20L4 18.59l7.72-7.72 1.47 1.35L5.41 20z\"/>\n",
              "  </svg>\n",
              "      </button>\n",
              "      \n",
              "  <style>\n",
              "    .colab-df-container {\n",
              "      display:flex;\n",
              "      flex-wrap:wrap;\n",
              "      gap: 12px;\n",
              "    }\n",
              "\n",
              "    .colab-df-convert {\n",
              "      background-color: #E8F0FE;\n",
              "      border: none;\n",
              "      border-radius: 50%;\n",
              "      cursor: pointer;\n",
              "      display: none;\n",
              "      fill: #1967D2;\n",
              "      height: 32px;\n",
              "      padding: 0 0 0 0;\n",
              "      width: 32px;\n",
              "    }\n",
              "\n",
              "    .colab-df-convert:hover {\n",
              "      background-color: #E2EBFA;\n",
              "      box-shadow: 0px 1px 2px rgba(60, 64, 67, 0.3), 0px 1px 3px 1px rgba(60, 64, 67, 0.15);\n",
              "      fill: #174EA6;\n",
              "    }\n",
              "\n",
              "    [theme=dark] .colab-df-convert {\n",
              "      background-color: #3B4455;\n",
              "      fill: #D2E3FC;\n",
              "    }\n",
              "\n",
              "    [theme=dark] .colab-df-convert:hover {\n",
              "      background-color: #434B5C;\n",
              "      box-shadow: 0px 1px 3px 1px rgba(0, 0, 0, 0.15);\n",
              "      filter: drop-shadow(0px 1px 2px rgba(0, 0, 0, 0.3));\n",
              "      fill: #FFFFFF;\n",
              "    }\n",
              "  </style>\n",
              "\n",
              "      <script>\n",
              "        const buttonEl =\n",
              "          document.querySelector('#df-e3bf4a86-9612-4505-a298-c4a66f4c4565 button.colab-df-convert');\n",
              "        buttonEl.style.display =\n",
              "          google.colab.kernel.accessAllowed ? 'block' : 'none';\n",
              "\n",
              "        async function convertToInteractive(key) {\n",
              "          const element = document.querySelector('#df-e3bf4a86-9612-4505-a298-c4a66f4c4565');\n",
              "          const dataTable =\n",
              "            await google.colab.kernel.invokeFunction('convertToInteractive',\n",
              "                                                     [key], {});\n",
              "          if (!dataTable) return;\n",
              "\n",
              "          const docLinkHtml = 'Like what you see? Visit the ' +\n",
              "            '<a target=\"_blank\" href=https://colab.research.google.com/notebooks/data_table.ipynb>data table notebook</a>'\n",
              "            + ' to learn more about interactive tables.';\n",
              "          element.innerHTML = '';\n",
              "          dataTable['output_type'] = 'display_data';\n",
              "          await google.colab.output.renderOutput(dataTable, element);\n",
              "          const docLink = document.createElement('div');\n",
              "          docLink.innerHTML = docLinkHtml;\n",
              "          element.appendChild(docLink);\n",
              "        }\n",
              "      </script>\n",
              "    </div>\n",
              "  </div>\n",
              "  "
            ]
          },
          "metadata": {},
          "execution_count": 59
        }
      ]
    },
    {
      "cell_type": "markdown",
      "source": [
        "Looks like `model_2` performed the best.."
      ],
      "metadata": {
        "id": "6PDJk1GWhfeL"
      }
    },
    {
      "cell_type": "code",
      "source": [
        "model_2.summary()"
      ],
      "metadata": {
        "colab": {
          "base_uri": "https://localhost:8080/"
        },
        "id": "ixqK-vr_gyUD",
        "outputId": "c0b33643-5e4a-4a97-ec2c-3880118df77f"
      },
      "execution_count": 60,
      "outputs": [
        {
          "output_type": "stream",
          "name": "stdout",
          "text": [
            "Model: \"sequential_6\"\n",
            "_________________________________________________________________\n",
            " Layer (type)                Output Shape              Param #   \n",
            "=================================================================\n",
            " dense_8 (Dense)             (None, 10)                20        \n",
            "                                                                 \n",
            " dense_9 (Dense)             (None, 1)                 11        \n",
            "                                                                 \n",
            "=================================================================\n",
            "Total params: 31\n",
            "Trainable params: 31\n",
            "Non-trainable params: 0\n",
            "_________________________________________________________________\n"
          ]
        }
      ]
    },
    {
      "cell_type": "markdown",
      "source": [
        "> **Note:** One of your main goals should be to minimize the time between your experiments. The more experiments you do, the more things you'll figure out which don't work and in turn, get closer to figuring out what does work."
      ],
      "metadata": {
        "id": "mb3me_LghMmb"
      }
    },
    {
      "cell_type": "markdown",
      "source": [
        "## Tracking your experiments\n",
        "\n",
        "One really good habit in machine learning modelling is to track the results of your experiments.\n",
        "\n",
        "And when doing so, it can be tedious if you're running lots of experiments.\n",
        "\n",
        "Luckily, there are tools to help us!\n",
        "\n",
        "**Resource:** As you build more models, you'll want to look into using:\n",
        "\n",
        "* TensorBoard - a component of the TensorFlow library to help track modelling experiments.\n",
        "* Weights & Biases - a tool for tracking all kinds of machine learning experiments (plugs straight into TensorBoard).\n"
      ],
      "metadata": {
        "id": "IkeyvOzXiL_h"
      }
    },
    {
      "cell_type": "markdown",
      "source": [
        "## Saving our models\n",
        "\n",
        "Saving our models allows us to use them outside of Google Colab (or wherever they were trained) such as in a web application or a mobile app.\n",
        "\n",
        "There are two main formats we can save our model's too:\n",
        "\n",
        "1. The SavedModel format\n",
        "2. The HDF5 format"
      ],
      "metadata": {
        "id": "CbjwsKQ6jt2g"
      }
    },
    {
      "cell_type": "code",
      "source": [
        "# Save model using the SavedModel format, bu yontem hata vermesine ragmen dosyamizi kaydeder fakat kontrol etme istegi duyabiliriz.\n",
        "model_2.save(\"best_model_SavedModel_format\")"
      ],
      "metadata": {
        "colab": {
          "base_uri": "https://localhost:8080/"
        },
        "id": "egzfaqKfj0p2",
        "outputId": "f16a5095-5f84-4587-abd5-16c719b0092d"
      },
      "execution_count": 61,
      "outputs": [
        {
          "output_type": "stream",
          "name": "stderr",
          "text": [
            "WARNING:absl:Found untraced functions such as _update_step_xla while saving (showing 1 of 1). These functions will not be directly callable after loading.\n"
          ]
        }
      ]
    },
    {
      "cell_type": "code",
      "source": [
        "# Save model using the HDF5 format\n",
        "model_2.save(\"best_model_HDF5_format.h5\")"
      ],
      "metadata": {
        "id": "ZgSBmBAZk-Fy"
      },
      "execution_count": 62,
      "outputs": []
    },
    {
      "cell_type": "markdown",
      "source": [
        "## Loading in a saved model"
      ],
      "metadata": {
        "id": "sauGZh2rl4ov"
      }
    },
    {
      "cell_type": "code",
      "source": [
        "# Load in the SavedModel format model\n",
        "loaded_SavedModel_format = tf.keras.models.load_model(\"best_model_SavedModel_format\")\n",
        "loaded_SavedModel_format.summary()"
      ],
      "metadata": {
        "colab": {
          "base_uri": "https://localhost:8080/"
        },
        "id": "9xw7Avp0me5t",
        "outputId": "aedc6674-e9f9-4f1a-a4c3-643fc0cfb5d4"
      },
      "execution_count": 63,
      "outputs": [
        {
          "output_type": "stream",
          "name": "stdout",
          "text": [
            "Model: \"sequential_6\"\n",
            "_________________________________________________________________\n",
            " Layer (type)                Output Shape              Param #   \n",
            "=================================================================\n",
            " dense_8 (Dense)             (None, 10)                20        \n",
            "                                                                 \n",
            " dense_9 (Dense)             (None, 1)                 11        \n",
            "                                                                 \n",
            "=================================================================\n",
            "Total params: 31\n",
            "Trainable params: 31\n",
            "Non-trainable params: 0\n",
            "_________________________________________________________________\n"
          ]
        }
      ]
    },
    {
      "cell_type": "code",
      "source": [
        "model_2.summary()"
      ],
      "metadata": {
        "colab": {
          "base_uri": "https://localhost:8080/"
        },
        "id": "LTowYuaDm3JZ",
        "outputId": "563d683d-2750-411f-b81c-863a26189233"
      },
      "execution_count": 64,
      "outputs": [
        {
          "output_type": "stream",
          "name": "stdout",
          "text": [
            "Model: \"sequential_6\"\n",
            "_________________________________________________________________\n",
            " Layer (type)                Output Shape              Param #   \n",
            "=================================================================\n",
            " dense_8 (Dense)             (None, 10)                20        \n",
            "                                                                 \n",
            " dense_9 (Dense)             (None, 1)                 11        \n",
            "                                                                 \n",
            "=================================================================\n",
            "Total params: 31\n",
            "Trainable params: 31\n",
            "Non-trainable params: 0\n",
            "_________________________________________________________________\n"
          ]
        }
      ]
    },
    {
      "cell_type": "code",
      "source": [
        "# Compare model_2 predictions with SavedModel format model predictions, .h5 model load is same\n",
        "model_2_preds = model_2.predict(X_test)\n",
        "loaded_SavedModel_format_preds = loaded_SavedModel_format.predict(X_test)\n",
        "model_2_preds == loaded_SavedModel_format_preds"
      ],
      "metadata": {
        "colab": {
          "base_uri": "https://localhost:8080/"
        },
        "id": "Mx-8ZWEgnDek",
        "outputId": "b2ee111e-5e16-4fcf-cd31-a8567ebf633f"
      },
      "execution_count": 65,
      "outputs": [
        {
          "output_type": "stream",
          "name": "stdout",
          "text": [
            "1/1 [==============================] - 0s 90ms/step\n",
            "1/1 [==============================] - 0s 68ms/step\n"
          ]
        },
        {
          "output_type": "execute_result",
          "data": {
            "text/plain": [
              "array([[ True],\n",
              "       [ True],\n",
              "       [ True],\n",
              "       [ True],\n",
              "       [ True],\n",
              "       [ True],\n",
              "       [ True],\n",
              "       [ True],\n",
              "       [ True],\n",
              "       [ True]])"
            ]
          },
          "metadata": {},
          "execution_count": 65
        }
      ]
    },
    {
      "cell_type": "markdown",
      "source": [
        "## A larger example"
      ],
      "metadata": {
        "id": "257be2rYqNOf"
      }
    },
    {
      "cell_type": "code",
      "source": [
        "# Import the required libraries\n",
        "import tensorflow as tf\n",
        "import pandas as pd\n",
        "import matplotlib.pyplot as plt\n"
      ],
      "metadata": {
        "id": "CAY3CotKqWVT"
      },
      "execution_count": 66,
      "outputs": []
    },
    {
      "cell_type": "code",
      "source": [
        "# Read in the insurance dataset\n",
        "insurance = pd.read_csv(\"https://raw.githubusercontent.com/stedy/Machine-Learning-with-R-datasets/master/insurance.csv\")\n",
        "insurance"
      ],
      "metadata": {
        "colab": {
          "base_uri": "https://localhost:8080/",
          "height": 423
        },
        "id": "qbIoa-qhrQ6v",
        "outputId": "860a8626-ee17-42fe-d815-553cb960cd8c"
      },
      "execution_count": 67,
      "outputs": [
        {
          "output_type": "execute_result",
          "data": {
            "text/plain": [
              "      age     sex     bmi  children smoker     region      charges\n",
              "0      19  female  27.900         0    yes  southwest  16884.92400\n",
              "1      18    male  33.770         1     no  southeast   1725.55230\n",
              "2      28    male  33.000         3     no  southeast   4449.46200\n",
              "3      33    male  22.705         0     no  northwest  21984.47061\n",
              "4      32    male  28.880         0     no  northwest   3866.85520\n",
              "...   ...     ...     ...       ...    ...        ...          ...\n",
              "1333   50    male  30.970         3     no  northwest  10600.54830\n",
              "1334   18  female  31.920         0     no  northeast   2205.98080\n",
              "1335   18  female  36.850         0     no  southeast   1629.83350\n",
              "1336   21  female  25.800         0     no  southwest   2007.94500\n",
              "1337   61  female  29.070         0    yes  northwest  29141.36030\n",
              "\n",
              "[1338 rows x 7 columns]"
            ],
            "text/html": [
              "\n",
              "  <div id=\"df-c12a5e19-d663-41ad-bd23-b5fabb160c65\">\n",
              "    <div class=\"colab-df-container\">\n",
              "      <div>\n",
              "<style scoped>\n",
              "    .dataframe tbody tr th:only-of-type {\n",
              "        vertical-align: middle;\n",
              "    }\n",
              "\n",
              "    .dataframe tbody tr th {\n",
              "        vertical-align: top;\n",
              "    }\n",
              "\n",
              "    .dataframe thead th {\n",
              "        text-align: right;\n",
              "    }\n",
              "</style>\n",
              "<table border=\"1\" class=\"dataframe\">\n",
              "  <thead>\n",
              "    <tr style=\"text-align: right;\">\n",
              "      <th></th>\n",
              "      <th>age</th>\n",
              "      <th>sex</th>\n",
              "      <th>bmi</th>\n",
              "      <th>children</th>\n",
              "      <th>smoker</th>\n",
              "      <th>region</th>\n",
              "      <th>charges</th>\n",
              "    </tr>\n",
              "  </thead>\n",
              "  <tbody>\n",
              "    <tr>\n",
              "      <th>0</th>\n",
              "      <td>19</td>\n",
              "      <td>female</td>\n",
              "      <td>27.900</td>\n",
              "      <td>0</td>\n",
              "      <td>yes</td>\n",
              "      <td>southwest</td>\n",
              "      <td>16884.92400</td>\n",
              "    </tr>\n",
              "    <tr>\n",
              "      <th>1</th>\n",
              "      <td>18</td>\n",
              "      <td>male</td>\n",
              "      <td>33.770</td>\n",
              "      <td>1</td>\n",
              "      <td>no</td>\n",
              "      <td>southeast</td>\n",
              "      <td>1725.55230</td>\n",
              "    </tr>\n",
              "    <tr>\n",
              "      <th>2</th>\n",
              "      <td>28</td>\n",
              "      <td>male</td>\n",
              "      <td>33.000</td>\n",
              "      <td>3</td>\n",
              "      <td>no</td>\n",
              "      <td>southeast</td>\n",
              "      <td>4449.46200</td>\n",
              "    </tr>\n",
              "    <tr>\n",
              "      <th>3</th>\n",
              "      <td>33</td>\n",
              "      <td>male</td>\n",
              "      <td>22.705</td>\n",
              "      <td>0</td>\n",
              "      <td>no</td>\n",
              "      <td>northwest</td>\n",
              "      <td>21984.47061</td>\n",
              "    </tr>\n",
              "    <tr>\n",
              "      <th>4</th>\n",
              "      <td>32</td>\n",
              "      <td>male</td>\n",
              "      <td>28.880</td>\n",
              "      <td>0</td>\n",
              "      <td>no</td>\n",
              "      <td>northwest</td>\n",
              "      <td>3866.85520</td>\n",
              "    </tr>\n",
              "    <tr>\n",
              "      <th>...</th>\n",
              "      <td>...</td>\n",
              "      <td>...</td>\n",
              "      <td>...</td>\n",
              "      <td>...</td>\n",
              "      <td>...</td>\n",
              "      <td>...</td>\n",
              "      <td>...</td>\n",
              "    </tr>\n",
              "    <tr>\n",
              "      <th>1333</th>\n",
              "      <td>50</td>\n",
              "      <td>male</td>\n",
              "      <td>30.970</td>\n",
              "      <td>3</td>\n",
              "      <td>no</td>\n",
              "      <td>northwest</td>\n",
              "      <td>10600.54830</td>\n",
              "    </tr>\n",
              "    <tr>\n",
              "      <th>1334</th>\n",
              "      <td>18</td>\n",
              "      <td>female</td>\n",
              "      <td>31.920</td>\n",
              "      <td>0</td>\n",
              "      <td>no</td>\n",
              "      <td>northeast</td>\n",
              "      <td>2205.98080</td>\n",
              "    </tr>\n",
              "    <tr>\n",
              "      <th>1335</th>\n",
              "      <td>18</td>\n",
              "      <td>female</td>\n",
              "      <td>36.850</td>\n",
              "      <td>0</td>\n",
              "      <td>no</td>\n",
              "      <td>southeast</td>\n",
              "      <td>1629.83350</td>\n",
              "    </tr>\n",
              "    <tr>\n",
              "      <th>1336</th>\n",
              "      <td>21</td>\n",
              "      <td>female</td>\n",
              "      <td>25.800</td>\n",
              "      <td>0</td>\n",
              "      <td>no</td>\n",
              "      <td>southwest</td>\n",
              "      <td>2007.94500</td>\n",
              "    </tr>\n",
              "    <tr>\n",
              "      <th>1337</th>\n",
              "      <td>61</td>\n",
              "      <td>female</td>\n",
              "      <td>29.070</td>\n",
              "      <td>0</td>\n",
              "      <td>yes</td>\n",
              "      <td>northwest</td>\n",
              "      <td>29141.36030</td>\n",
              "    </tr>\n",
              "  </tbody>\n",
              "</table>\n",
              "<p>1338 rows × 7 columns</p>\n",
              "</div>\n",
              "      <button class=\"colab-df-convert\" onclick=\"convertToInteractive('df-c12a5e19-d663-41ad-bd23-b5fabb160c65')\"\n",
              "              title=\"Convert this dataframe to an interactive table.\"\n",
              "              style=\"display:none;\">\n",
              "        \n",
              "  <svg xmlns=\"http://www.w3.org/2000/svg\" height=\"24px\"viewBox=\"0 0 24 24\"\n",
              "       width=\"24px\">\n",
              "    <path d=\"M0 0h24v24H0V0z\" fill=\"none\"/>\n",
              "    <path d=\"M18.56 5.44l.94 2.06.94-2.06 2.06-.94-2.06-.94-.94-2.06-.94 2.06-2.06.94zm-11 1L8.5 8.5l.94-2.06 2.06-.94-2.06-.94L8.5 2.5l-.94 2.06-2.06.94zm10 10l.94 2.06.94-2.06 2.06-.94-2.06-.94-.94-2.06-.94 2.06-2.06.94z\"/><path d=\"M17.41 7.96l-1.37-1.37c-.4-.4-.92-.59-1.43-.59-.52 0-1.04.2-1.43.59L10.3 9.45l-7.72 7.72c-.78.78-.78 2.05 0 2.83L4 21.41c.39.39.9.59 1.41.59.51 0 1.02-.2 1.41-.59l7.78-7.78 2.81-2.81c.8-.78.8-2.07 0-2.86zM5.41 20L4 18.59l7.72-7.72 1.47 1.35L5.41 20z\"/>\n",
              "  </svg>\n",
              "      </button>\n",
              "      \n",
              "  <style>\n",
              "    .colab-df-container {\n",
              "      display:flex;\n",
              "      flex-wrap:wrap;\n",
              "      gap: 12px;\n",
              "    }\n",
              "\n",
              "    .colab-df-convert {\n",
              "      background-color: #E8F0FE;\n",
              "      border: none;\n",
              "      border-radius: 50%;\n",
              "      cursor: pointer;\n",
              "      display: none;\n",
              "      fill: #1967D2;\n",
              "      height: 32px;\n",
              "      padding: 0 0 0 0;\n",
              "      width: 32px;\n",
              "    }\n",
              "\n",
              "    .colab-df-convert:hover {\n",
              "      background-color: #E2EBFA;\n",
              "      box-shadow: 0px 1px 2px rgba(60, 64, 67, 0.3), 0px 1px 3px 1px rgba(60, 64, 67, 0.15);\n",
              "      fill: #174EA6;\n",
              "    }\n",
              "\n",
              "    [theme=dark] .colab-df-convert {\n",
              "      background-color: #3B4455;\n",
              "      fill: #D2E3FC;\n",
              "    }\n",
              "\n",
              "    [theme=dark] .colab-df-convert:hover {\n",
              "      background-color: #434B5C;\n",
              "      box-shadow: 0px 1px 3px 1px rgba(0, 0, 0, 0.15);\n",
              "      filter: drop-shadow(0px 1px 2px rgba(0, 0, 0, 0.3));\n",
              "      fill: #FFFFFF;\n",
              "    }\n",
              "  </style>\n",
              "\n",
              "      <script>\n",
              "        const buttonEl =\n",
              "          document.querySelector('#df-c12a5e19-d663-41ad-bd23-b5fabb160c65 button.colab-df-convert');\n",
              "        buttonEl.style.display =\n",
              "          google.colab.kernel.accessAllowed ? 'block' : 'none';\n",
              "\n",
              "        async function convertToInteractive(key) {\n",
              "          const element = document.querySelector('#df-c12a5e19-d663-41ad-bd23-b5fabb160c65');\n",
              "          const dataTable =\n",
              "            await google.colab.kernel.invokeFunction('convertToInteractive',\n",
              "                                                     [key], {});\n",
              "          if (!dataTable) return;\n",
              "\n",
              "          const docLinkHtml = 'Like what you see? Visit the ' +\n",
              "            '<a target=\"_blank\" href=https://colab.research.google.com/notebooks/data_table.ipynb>data table notebook</a>'\n",
              "            + ' to learn more about interactive tables.';\n",
              "          element.innerHTML = '';\n",
              "          dataTable['output_type'] = 'display_data';\n",
              "          await google.colab.output.renderOutput(dataTable, element);\n",
              "          const docLink = document.createElement('div');\n",
              "          docLink.innerHTML = docLinkHtml;\n",
              "          element.appendChild(docLink);\n",
              "        }\n",
              "      </script>\n",
              "    </div>\n",
              "  </div>\n",
              "  "
            ]
          },
          "metadata": {},
          "execution_count": 67
        }
      ]
    },
    {
      "cell_type": "code",
      "source": [
        "# Ilk olarak numerical encoding yapip textleri sayiya cevirmeliyiz.(one-hot encoding)\n",
        "insurance_one_hot = pd.get_dummies(insurance)\n",
        "insurance_one_hot.head()"
      ],
      "metadata": {
        "colab": {
          "base_uri": "https://localhost:8080/",
          "height": 206
        },
        "id": "G7-hXfx0rZ8W",
        "outputId": "74c70b15-324f-4e8f-880c-4887e736bef6"
      },
      "execution_count": 68,
      "outputs": [
        {
          "output_type": "execute_result",
          "data": {
            "text/plain": [
              "   age     bmi  children      charges  sex_female  sex_male  smoker_no  \\\n",
              "0   19  27.900         0  16884.92400           1         0          0   \n",
              "1   18  33.770         1   1725.55230           0         1          1   \n",
              "2   28  33.000         3   4449.46200           0         1          1   \n",
              "3   33  22.705         0  21984.47061           0         1          1   \n",
              "4   32  28.880         0   3866.85520           0         1          1   \n",
              "\n",
              "   smoker_yes  region_northeast  region_northwest  region_southeast  \\\n",
              "0           1                 0                 0                 0   \n",
              "1           0                 0                 0                 1   \n",
              "2           0                 0                 0                 1   \n",
              "3           0                 0                 1                 0   \n",
              "4           0                 0                 1                 0   \n",
              "\n",
              "   region_southwest  \n",
              "0                 1  \n",
              "1                 0  \n",
              "2                 0  \n",
              "3                 0  \n",
              "4                 0  "
            ],
            "text/html": [
              "\n",
              "  <div id=\"df-e8acd21a-2fb2-4ffd-b4b2-f348d5060766\">\n",
              "    <div class=\"colab-df-container\">\n",
              "      <div>\n",
              "<style scoped>\n",
              "    .dataframe tbody tr th:only-of-type {\n",
              "        vertical-align: middle;\n",
              "    }\n",
              "\n",
              "    .dataframe tbody tr th {\n",
              "        vertical-align: top;\n",
              "    }\n",
              "\n",
              "    .dataframe thead th {\n",
              "        text-align: right;\n",
              "    }\n",
              "</style>\n",
              "<table border=\"1\" class=\"dataframe\">\n",
              "  <thead>\n",
              "    <tr style=\"text-align: right;\">\n",
              "      <th></th>\n",
              "      <th>age</th>\n",
              "      <th>bmi</th>\n",
              "      <th>children</th>\n",
              "      <th>charges</th>\n",
              "      <th>sex_female</th>\n",
              "      <th>sex_male</th>\n",
              "      <th>smoker_no</th>\n",
              "      <th>smoker_yes</th>\n",
              "      <th>region_northeast</th>\n",
              "      <th>region_northwest</th>\n",
              "      <th>region_southeast</th>\n",
              "      <th>region_southwest</th>\n",
              "    </tr>\n",
              "  </thead>\n",
              "  <tbody>\n",
              "    <tr>\n",
              "      <th>0</th>\n",
              "      <td>19</td>\n",
              "      <td>27.900</td>\n",
              "      <td>0</td>\n",
              "      <td>16884.92400</td>\n",
              "      <td>1</td>\n",
              "      <td>0</td>\n",
              "      <td>0</td>\n",
              "      <td>1</td>\n",
              "      <td>0</td>\n",
              "      <td>0</td>\n",
              "      <td>0</td>\n",
              "      <td>1</td>\n",
              "    </tr>\n",
              "    <tr>\n",
              "      <th>1</th>\n",
              "      <td>18</td>\n",
              "      <td>33.770</td>\n",
              "      <td>1</td>\n",
              "      <td>1725.55230</td>\n",
              "      <td>0</td>\n",
              "      <td>1</td>\n",
              "      <td>1</td>\n",
              "      <td>0</td>\n",
              "      <td>0</td>\n",
              "      <td>0</td>\n",
              "      <td>1</td>\n",
              "      <td>0</td>\n",
              "    </tr>\n",
              "    <tr>\n",
              "      <th>2</th>\n",
              "      <td>28</td>\n",
              "      <td>33.000</td>\n",
              "      <td>3</td>\n",
              "      <td>4449.46200</td>\n",
              "      <td>0</td>\n",
              "      <td>1</td>\n",
              "      <td>1</td>\n",
              "      <td>0</td>\n",
              "      <td>0</td>\n",
              "      <td>0</td>\n",
              "      <td>1</td>\n",
              "      <td>0</td>\n",
              "    </tr>\n",
              "    <tr>\n",
              "      <th>3</th>\n",
              "      <td>33</td>\n",
              "      <td>22.705</td>\n",
              "      <td>0</td>\n",
              "      <td>21984.47061</td>\n",
              "      <td>0</td>\n",
              "      <td>1</td>\n",
              "      <td>1</td>\n",
              "      <td>0</td>\n",
              "      <td>0</td>\n",
              "      <td>1</td>\n",
              "      <td>0</td>\n",
              "      <td>0</td>\n",
              "    </tr>\n",
              "    <tr>\n",
              "      <th>4</th>\n",
              "      <td>32</td>\n",
              "      <td>28.880</td>\n",
              "      <td>0</td>\n",
              "      <td>3866.85520</td>\n",
              "      <td>0</td>\n",
              "      <td>1</td>\n",
              "      <td>1</td>\n",
              "      <td>0</td>\n",
              "      <td>0</td>\n",
              "      <td>1</td>\n",
              "      <td>0</td>\n",
              "      <td>0</td>\n",
              "    </tr>\n",
              "  </tbody>\n",
              "</table>\n",
              "</div>\n",
              "      <button class=\"colab-df-convert\" onclick=\"convertToInteractive('df-e8acd21a-2fb2-4ffd-b4b2-f348d5060766')\"\n",
              "              title=\"Convert this dataframe to an interactive table.\"\n",
              "              style=\"display:none;\">\n",
              "        \n",
              "  <svg xmlns=\"http://www.w3.org/2000/svg\" height=\"24px\"viewBox=\"0 0 24 24\"\n",
              "       width=\"24px\">\n",
              "    <path d=\"M0 0h24v24H0V0z\" fill=\"none\"/>\n",
              "    <path d=\"M18.56 5.44l.94 2.06.94-2.06 2.06-.94-2.06-.94-.94-2.06-.94 2.06-2.06.94zm-11 1L8.5 8.5l.94-2.06 2.06-.94-2.06-.94L8.5 2.5l-.94 2.06-2.06.94zm10 10l.94 2.06.94-2.06 2.06-.94-2.06-.94-.94-2.06-.94 2.06-2.06.94z\"/><path d=\"M17.41 7.96l-1.37-1.37c-.4-.4-.92-.59-1.43-.59-.52 0-1.04.2-1.43.59L10.3 9.45l-7.72 7.72c-.78.78-.78 2.05 0 2.83L4 21.41c.39.39.9.59 1.41.59.51 0 1.02-.2 1.41-.59l7.78-7.78 2.81-2.81c.8-.78.8-2.07 0-2.86zM5.41 20L4 18.59l7.72-7.72 1.47 1.35L5.41 20z\"/>\n",
              "  </svg>\n",
              "      </button>\n",
              "      \n",
              "  <style>\n",
              "    .colab-df-container {\n",
              "      display:flex;\n",
              "      flex-wrap:wrap;\n",
              "      gap: 12px;\n",
              "    }\n",
              "\n",
              "    .colab-df-convert {\n",
              "      background-color: #E8F0FE;\n",
              "      border: none;\n",
              "      border-radius: 50%;\n",
              "      cursor: pointer;\n",
              "      display: none;\n",
              "      fill: #1967D2;\n",
              "      height: 32px;\n",
              "      padding: 0 0 0 0;\n",
              "      width: 32px;\n",
              "    }\n",
              "\n",
              "    .colab-df-convert:hover {\n",
              "      background-color: #E2EBFA;\n",
              "      box-shadow: 0px 1px 2px rgba(60, 64, 67, 0.3), 0px 1px 3px 1px rgba(60, 64, 67, 0.15);\n",
              "      fill: #174EA6;\n",
              "    }\n",
              "\n",
              "    [theme=dark] .colab-df-convert {\n",
              "      background-color: #3B4455;\n",
              "      fill: #D2E3FC;\n",
              "    }\n",
              "\n",
              "    [theme=dark] .colab-df-convert:hover {\n",
              "      background-color: #434B5C;\n",
              "      box-shadow: 0px 1px 3px 1px rgba(0, 0, 0, 0.15);\n",
              "      filter: drop-shadow(0px 1px 2px rgba(0, 0, 0, 0.3));\n",
              "      fill: #FFFFFF;\n",
              "    }\n",
              "  </style>\n",
              "\n",
              "      <script>\n",
              "        const buttonEl =\n",
              "          document.querySelector('#df-e8acd21a-2fb2-4ffd-b4b2-f348d5060766 button.colab-df-convert');\n",
              "        buttonEl.style.display =\n",
              "          google.colab.kernel.accessAllowed ? 'block' : 'none';\n",
              "\n",
              "        async function convertToInteractive(key) {\n",
              "          const element = document.querySelector('#df-e8acd21a-2fb2-4ffd-b4b2-f348d5060766');\n",
              "          const dataTable =\n",
              "            await google.colab.kernel.invokeFunction('convertToInteractive',\n",
              "                                                     [key], {});\n",
              "          if (!dataTable) return;\n",
              "\n",
              "          const docLinkHtml = 'Like what you see? Visit the ' +\n",
              "            '<a target=\"_blank\" href=https://colab.research.google.com/notebooks/data_table.ipynb>data table notebook</a>'\n",
              "            + ' to learn more about interactive tables.';\n",
              "          element.innerHTML = '';\n",
              "          dataTable['output_type'] = 'display_data';\n",
              "          await google.colab.output.renderOutput(dataTable, element);\n",
              "          const docLink = document.createElement('div');\n",
              "          docLink.innerHTML = docLinkHtml;\n",
              "          element.appendChild(docLink);\n",
              "        }\n",
              "      </script>\n",
              "    </div>\n",
              "  </div>\n",
              "  "
            ]
          },
          "metadata": {},
          "execution_count": 68
        }
      ]
    },
    {
      "cell_type": "code",
      "source": [
        "# Create X and y values (features and labels)\n",
        "X = insurance_one_hot.drop(\"charges\", axis = 1)\n",
        "y = insurance_one_hot[\"charges\"]"
      ],
      "metadata": {
        "id": "1P7FIs-auHkW"
      },
      "execution_count": 69,
      "outputs": []
    },
    {
      "cell_type": "code",
      "source": [
        "# View X\n",
        "X.head()"
      ],
      "metadata": {
        "colab": {
          "base_uri": "https://localhost:8080/",
          "height": 206
        },
        "id": "xW6Tlj2xukMf",
        "outputId": "3640124d-6448-4deb-a558-0ea45b1db46f"
      },
      "execution_count": 70,
      "outputs": [
        {
          "output_type": "execute_result",
          "data": {
            "text/plain": [
              "   age     bmi  children  sex_female  sex_male  smoker_no  smoker_yes  \\\n",
              "0   19  27.900         0           1         0          0           1   \n",
              "1   18  33.770         1           0         1          1           0   \n",
              "2   28  33.000         3           0         1          1           0   \n",
              "3   33  22.705         0           0         1          1           0   \n",
              "4   32  28.880         0           0         1          1           0   \n",
              "\n",
              "   region_northeast  region_northwest  region_southeast  region_southwest  \n",
              "0                 0                 0                 0                 1  \n",
              "1                 0                 0                 1                 0  \n",
              "2                 0                 0                 1                 0  \n",
              "3                 0                 1                 0                 0  \n",
              "4                 0                 1                 0                 0  "
            ],
            "text/html": [
              "\n",
              "  <div id=\"df-e1465b55-5f75-4c8c-b0f8-863e04eee769\">\n",
              "    <div class=\"colab-df-container\">\n",
              "      <div>\n",
              "<style scoped>\n",
              "    .dataframe tbody tr th:only-of-type {\n",
              "        vertical-align: middle;\n",
              "    }\n",
              "\n",
              "    .dataframe tbody tr th {\n",
              "        vertical-align: top;\n",
              "    }\n",
              "\n",
              "    .dataframe thead th {\n",
              "        text-align: right;\n",
              "    }\n",
              "</style>\n",
              "<table border=\"1\" class=\"dataframe\">\n",
              "  <thead>\n",
              "    <tr style=\"text-align: right;\">\n",
              "      <th></th>\n",
              "      <th>age</th>\n",
              "      <th>bmi</th>\n",
              "      <th>children</th>\n",
              "      <th>sex_female</th>\n",
              "      <th>sex_male</th>\n",
              "      <th>smoker_no</th>\n",
              "      <th>smoker_yes</th>\n",
              "      <th>region_northeast</th>\n",
              "      <th>region_northwest</th>\n",
              "      <th>region_southeast</th>\n",
              "      <th>region_southwest</th>\n",
              "    </tr>\n",
              "  </thead>\n",
              "  <tbody>\n",
              "    <tr>\n",
              "      <th>0</th>\n",
              "      <td>19</td>\n",
              "      <td>27.900</td>\n",
              "      <td>0</td>\n",
              "      <td>1</td>\n",
              "      <td>0</td>\n",
              "      <td>0</td>\n",
              "      <td>1</td>\n",
              "      <td>0</td>\n",
              "      <td>0</td>\n",
              "      <td>0</td>\n",
              "      <td>1</td>\n",
              "    </tr>\n",
              "    <tr>\n",
              "      <th>1</th>\n",
              "      <td>18</td>\n",
              "      <td>33.770</td>\n",
              "      <td>1</td>\n",
              "      <td>0</td>\n",
              "      <td>1</td>\n",
              "      <td>1</td>\n",
              "      <td>0</td>\n",
              "      <td>0</td>\n",
              "      <td>0</td>\n",
              "      <td>1</td>\n",
              "      <td>0</td>\n",
              "    </tr>\n",
              "    <tr>\n",
              "      <th>2</th>\n",
              "      <td>28</td>\n",
              "      <td>33.000</td>\n",
              "      <td>3</td>\n",
              "      <td>0</td>\n",
              "      <td>1</td>\n",
              "      <td>1</td>\n",
              "      <td>0</td>\n",
              "      <td>0</td>\n",
              "      <td>0</td>\n",
              "      <td>1</td>\n",
              "      <td>0</td>\n",
              "    </tr>\n",
              "    <tr>\n",
              "      <th>3</th>\n",
              "      <td>33</td>\n",
              "      <td>22.705</td>\n",
              "      <td>0</td>\n",
              "      <td>0</td>\n",
              "      <td>1</td>\n",
              "      <td>1</td>\n",
              "      <td>0</td>\n",
              "      <td>0</td>\n",
              "      <td>1</td>\n",
              "      <td>0</td>\n",
              "      <td>0</td>\n",
              "    </tr>\n",
              "    <tr>\n",
              "      <th>4</th>\n",
              "      <td>32</td>\n",
              "      <td>28.880</td>\n",
              "      <td>0</td>\n",
              "      <td>0</td>\n",
              "      <td>1</td>\n",
              "      <td>1</td>\n",
              "      <td>0</td>\n",
              "      <td>0</td>\n",
              "      <td>1</td>\n",
              "      <td>0</td>\n",
              "      <td>0</td>\n",
              "    </tr>\n",
              "  </tbody>\n",
              "</table>\n",
              "</div>\n",
              "      <button class=\"colab-df-convert\" onclick=\"convertToInteractive('df-e1465b55-5f75-4c8c-b0f8-863e04eee769')\"\n",
              "              title=\"Convert this dataframe to an interactive table.\"\n",
              "              style=\"display:none;\">\n",
              "        \n",
              "  <svg xmlns=\"http://www.w3.org/2000/svg\" height=\"24px\"viewBox=\"0 0 24 24\"\n",
              "       width=\"24px\">\n",
              "    <path d=\"M0 0h24v24H0V0z\" fill=\"none\"/>\n",
              "    <path d=\"M18.56 5.44l.94 2.06.94-2.06 2.06-.94-2.06-.94-.94-2.06-.94 2.06-2.06.94zm-11 1L8.5 8.5l.94-2.06 2.06-.94-2.06-.94L8.5 2.5l-.94 2.06-2.06.94zm10 10l.94 2.06.94-2.06 2.06-.94-2.06-.94-.94-2.06-.94 2.06-2.06.94z\"/><path d=\"M17.41 7.96l-1.37-1.37c-.4-.4-.92-.59-1.43-.59-.52 0-1.04.2-1.43.59L10.3 9.45l-7.72 7.72c-.78.78-.78 2.05 0 2.83L4 21.41c.39.39.9.59 1.41.59.51 0 1.02-.2 1.41-.59l7.78-7.78 2.81-2.81c.8-.78.8-2.07 0-2.86zM5.41 20L4 18.59l7.72-7.72 1.47 1.35L5.41 20z\"/>\n",
              "  </svg>\n",
              "      </button>\n",
              "      \n",
              "  <style>\n",
              "    .colab-df-container {\n",
              "      display:flex;\n",
              "      flex-wrap:wrap;\n",
              "      gap: 12px;\n",
              "    }\n",
              "\n",
              "    .colab-df-convert {\n",
              "      background-color: #E8F0FE;\n",
              "      border: none;\n",
              "      border-radius: 50%;\n",
              "      cursor: pointer;\n",
              "      display: none;\n",
              "      fill: #1967D2;\n",
              "      height: 32px;\n",
              "      padding: 0 0 0 0;\n",
              "      width: 32px;\n",
              "    }\n",
              "\n",
              "    .colab-df-convert:hover {\n",
              "      background-color: #E2EBFA;\n",
              "      box-shadow: 0px 1px 2px rgba(60, 64, 67, 0.3), 0px 1px 3px 1px rgba(60, 64, 67, 0.15);\n",
              "      fill: #174EA6;\n",
              "    }\n",
              "\n",
              "    [theme=dark] .colab-df-convert {\n",
              "      background-color: #3B4455;\n",
              "      fill: #D2E3FC;\n",
              "    }\n",
              "\n",
              "    [theme=dark] .colab-df-convert:hover {\n",
              "      background-color: #434B5C;\n",
              "      box-shadow: 0px 1px 3px 1px rgba(0, 0, 0, 0.15);\n",
              "      filter: drop-shadow(0px 1px 2px rgba(0, 0, 0, 0.3));\n",
              "      fill: #FFFFFF;\n",
              "    }\n",
              "  </style>\n",
              "\n",
              "      <script>\n",
              "        const buttonEl =\n",
              "          document.querySelector('#df-e1465b55-5f75-4c8c-b0f8-863e04eee769 button.colab-df-convert');\n",
              "        buttonEl.style.display =\n",
              "          google.colab.kernel.accessAllowed ? 'block' : 'none';\n",
              "\n",
              "        async function convertToInteractive(key) {\n",
              "          const element = document.querySelector('#df-e1465b55-5f75-4c8c-b0f8-863e04eee769');\n",
              "          const dataTable =\n",
              "            await google.colab.kernel.invokeFunction('convertToInteractive',\n",
              "                                                     [key], {});\n",
              "          if (!dataTable) return;\n",
              "\n",
              "          const docLinkHtml = 'Like what you see? Visit the ' +\n",
              "            '<a target=\"_blank\" href=https://colab.research.google.com/notebooks/data_table.ipynb>data table notebook</a>'\n",
              "            + ' to learn more about interactive tables.';\n",
              "          element.innerHTML = '';\n",
              "          dataTable['output_type'] = 'display_data';\n",
              "          await google.colab.output.renderOutput(dataTable, element);\n",
              "          const docLink = document.createElement('div');\n",
              "          docLink.innerHTML = docLinkHtml;\n",
              "          element.appendChild(docLink);\n",
              "        }\n",
              "      </script>\n",
              "    </div>\n",
              "  </div>\n",
              "  "
            ]
          },
          "metadata": {},
          "execution_count": 70
        }
      ]
    },
    {
      "cell_type": "code",
      "source": [
        "# View y\n",
        "y.head()"
      ],
      "metadata": {
        "colab": {
          "base_uri": "https://localhost:8080/"
        },
        "id": "DwTWF-OwurCi",
        "outputId": "96d491d7-c950-4ba8-e74e-472f29dda3e6"
      },
      "execution_count": 71,
      "outputs": [
        {
          "output_type": "execute_result",
          "data": {
            "text/plain": [
              "0    16884.92400\n",
              "1     1725.55230\n",
              "2     4449.46200\n",
              "3    21984.47061\n",
              "4     3866.85520\n",
              "Name: charges, dtype: float64"
            ]
          },
          "metadata": {},
          "execution_count": 71
        }
      ]
    },
    {
      "cell_type": "code",
      "source": [
        "# Create training and test sets\n",
        "from sklearn.model_selection import train_test_split\n",
        "\n",
        "X_train, X_test, y_train, y_test = train_test_split(X, y, test_size = 0.2, random_state = 42)\n",
        "len(X), len(X_train), len(X_test)"
      ],
      "metadata": {
        "colab": {
          "base_uri": "https://localhost:8080/"
        },
        "id": "g1_0VE_DuOJ8",
        "outputId": "5100bcd5-c740-422b-ca13-38a2a91b4f59"
      },
      "execution_count": 72,
      "outputs": [
        {
          "output_type": "execute_result",
          "data": {
            "text/plain": [
              "(1338, 1070, 268)"
            ]
          },
          "metadata": {},
          "execution_count": 72
        }
      ]
    },
    {
      "cell_type": "code",
      "source": [
        "# Build a neural network (sort of like model_2 above)\n",
        "tf.random.set_seed(42)\n",
        "\n",
        "# 1. Create a model\n",
        "insurance_model = tf.keras.Sequential([\n",
        "    tf.keras.layers.Dense(10),\n",
        "    tf.keras.layers.Dense(1)\n",
        "])\n",
        "\n",
        "# 2. Compile the model\n",
        "insurance_model.compile(loss = tf.keras.losses.mae,\n",
        "                        optimizer = tf.keras.optimizers.SGD(),\n",
        "                        metrics = [\"mae\"])\n",
        "\n",
        "# 3. Fit the model\n",
        "insurance_model.fit(X_train, y_train, epochs=100)"
      ],
      "metadata": {
        "colab": {
          "base_uri": "https://localhost:8080/"
        },
        "id": "ZljAam03uO-2",
        "outputId": "8b292a0b-b58c-48da-ea21-9711a5518aab"
      },
      "execution_count": 73,
      "outputs": [
        {
          "output_type": "stream",
          "name": "stdout",
          "text": [
            "Epoch 1/100\n",
            "34/34 [==============================] - 0s 1ms/step - loss: 8658.7744 - mae: 8658.7744\n",
            "Epoch 2/100\n",
            "34/34 [==============================] - 0s 1ms/step - loss: 7874.8638 - mae: 7874.8638\n",
            "Epoch 3/100\n",
            "34/34 [==============================] - 0s 1ms/step - loss: 7598.1270 - mae: 7598.1270\n",
            "Epoch 4/100\n",
            "34/34 [==============================] - 0s 1ms/step - loss: 7685.9834 - mae: 7685.9834\n",
            "Epoch 5/100\n",
            "34/34 [==============================] - 0s 1ms/step - loss: 7689.4854 - mae: 7689.4854\n",
            "Epoch 6/100\n",
            "34/34 [==============================] - 0s 1ms/step - loss: 7644.1167 - mae: 7644.1167\n",
            "Epoch 7/100\n",
            "34/34 [==============================] - 0s 1ms/step - loss: 7495.5376 - mae: 7495.5376\n",
            "Epoch 8/100\n",
            "34/34 [==============================] - 0s 2ms/step - loss: 7726.7905 - mae: 7726.7905\n",
            "Epoch 9/100\n",
            "34/34 [==============================] - 0s 1ms/step - loss: 7487.9878 - mae: 7487.9878\n",
            "Epoch 10/100\n",
            "34/34 [==============================] - 0s 1ms/step - loss: 7718.1602 - mae: 7718.1602\n",
            "Epoch 11/100\n",
            "34/34 [==============================] - 0s 1ms/step - loss: 7437.9268 - mae: 7437.9268\n",
            "Epoch 12/100\n",
            "34/34 [==============================] - 0s 1ms/step - loss: 7615.8921 - mae: 7615.8921\n",
            "Epoch 13/100\n",
            "34/34 [==============================] - 0s 1ms/step - loss: 7761.4854 - mae: 7761.4854\n",
            "Epoch 14/100\n",
            "34/34 [==============================] - 0s 942us/step - loss: 7583.0205 - mae: 7583.0205\n",
            "Epoch 15/100\n",
            "34/34 [==============================] - 0s 975us/step - loss: 7506.4424 - mae: 7506.4424\n",
            "Epoch 16/100\n",
            "34/34 [==============================] - 0s 1ms/step - loss: 7741.6504 - mae: 7741.6504\n",
            "Epoch 17/100\n",
            "34/34 [==============================] - 0s 925us/step - loss: 7574.3608 - mae: 7574.3608\n",
            "Epoch 18/100\n",
            "34/34 [==============================] - 0s 952us/step - loss: 7627.0195 - mae: 7627.0195\n",
            "Epoch 19/100\n",
            "34/34 [==============================] - 0s 924us/step - loss: 7739.7017 - mae: 7739.7017\n",
            "Epoch 20/100\n",
            "34/34 [==============================] - 0s 1ms/step - loss: 7937.7280 - mae: 7937.7280\n",
            "Epoch 21/100\n",
            "34/34 [==============================] - 0s 926us/step - loss: 7558.5542 - mae: 7558.5542\n",
            "Epoch 22/100\n",
            "34/34 [==============================] - 0s 1ms/step - loss: 7711.9297 - mae: 7711.9297\n",
            "Epoch 23/100\n",
            "34/34 [==============================] - 0s 1ms/step - loss: 7608.7769 - mae: 7608.7769\n",
            "Epoch 24/100\n",
            "34/34 [==============================] - 0s 989us/step - loss: 7522.7227 - mae: 7522.7227\n",
            "Epoch 25/100\n",
            "34/34 [==============================] - 0s 1ms/step - loss: 7689.1792 - mae: 7689.1792\n",
            "Epoch 26/100\n",
            "34/34 [==============================] - 0s 988us/step - loss: 7619.7280 - mae: 7619.7280\n",
            "Epoch 27/100\n",
            "34/34 [==============================] - 0s 1ms/step - loss: 7552.2974 - mae: 7552.2974\n",
            "Epoch 28/100\n",
            "34/34 [==============================] - 0s 1ms/step - loss: 7412.1201 - mae: 7412.1201\n",
            "Epoch 29/100\n",
            "34/34 [==============================] - 0s 992us/step - loss: 7694.2769 - mae: 7694.2769\n",
            "Epoch 30/100\n",
            "34/34 [==============================] - 0s 1ms/step - loss: 7541.6318 - mae: 7541.6318\n",
            "Epoch 31/100\n",
            "34/34 [==============================] - 0s 992us/step - loss: 7349.8770 - mae: 7349.8770\n",
            "Epoch 32/100\n",
            "34/34 [==============================] - 0s 977us/step - loss: 7499.7900 - mae: 7499.7900\n",
            "Epoch 33/100\n",
            "34/34 [==============================] - 0s 1ms/step - loss: 7449.6079 - mae: 7449.6079\n",
            "Epoch 34/100\n",
            "34/34 [==============================] - 0s 946us/step - loss: 7438.9683 - mae: 7438.9683\n",
            "Epoch 35/100\n",
            "34/34 [==============================] - 0s 1ms/step - loss: 7594.9014 - mae: 7594.9014\n",
            "Epoch 36/100\n",
            "34/34 [==============================] - 0s 1ms/step - loss: 7571.5513 - mae: 7571.5513\n",
            "Epoch 37/100\n",
            "34/34 [==============================] - 0s 1ms/step - loss: 7574.7983 - mae: 7574.7983\n",
            "Epoch 38/100\n",
            "34/34 [==============================] - 0s 982us/step - loss: 7474.6025 - mae: 7474.6025\n",
            "Epoch 39/100\n",
            "34/34 [==============================] - 0s 1ms/step - loss: 7569.5942 - mae: 7569.5942\n",
            "Epoch 40/100\n",
            "34/34 [==============================] - 0s 977us/step - loss: 7326.2251 - mae: 7326.2251\n",
            "Epoch 41/100\n",
            "34/34 [==============================] - 0s 1ms/step - loss: 7609.1606 - mae: 7609.1606\n",
            "Epoch 42/100\n",
            "34/34 [==============================] - 0s 979us/step - loss: 7723.5273 - mae: 7723.5273\n",
            "Epoch 43/100\n",
            "34/34 [==============================] - 0s 996us/step - loss: 7634.6943 - mae: 7634.6943\n",
            "Epoch 44/100\n",
            "34/34 [==============================] - 0s 924us/step - loss: 7423.1362 - mae: 7423.1362\n",
            "Epoch 45/100\n",
            "34/34 [==============================] - 0s 977us/step - loss: 7543.0781 - mae: 7543.0781\n",
            "Epoch 46/100\n",
            "34/34 [==============================] - 0s 1ms/step - loss: 7391.4380 - mae: 7391.4380\n",
            "Epoch 47/100\n",
            "34/34 [==============================] - 0s 971us/step - loss: 7429.9727 - mae: 7429.9727\n",
            "Epoch 48/100\n",
            "34/34 [==============================] - 0s 972us/step - loss: 7522.6489 - mae: 7522.6489\n",
            "Epoch 49/100\n",
            "34/34 [==============================] - 0s 985us/step - loss: 7530.9810 - mae: 7530.9810\n",
            "Epoch 50/100\n",
            "34/34 [==============================] - 0s 1ms/step - loss: 7527.1387 - mae: 7527.1387\n",
            "Epoch 51/100\n",
            "34/34 [==============================] - 0s 933us/step - loss: 7396.5723 - mae: 7396.5723\n",
            "Epoch 52/100\n",
            "34/34 [==============================] - 0s 983us/step - loss: 7528.1382 - mae: 7528.1382\n",
            "Epoch 53/100\n",
            "34/34 [==============================] - 0s 960us/step - loss: 7572.3721 - mae: 7572.3721\n",
            "Epoch 54/100\n",
            "34/34 [==============================] - 0s 1ms/step - loss: 7242.1602 - mae: 7242.1602\n",
            "Epoch 55/100\n",
            "34/34 [==============================] - 0s 956us/step - loss: 7245.2930 - mae: 7245.2930\n",
            "Epoch 56/100\n",
            "34/34 [==============================] - 0s 1ms/step - loss: 7291.9995 - mae: 7291.9995\n",
            "Epoch 57/100\n",
            "34/34 [==============================] - 0s 1ms/step - loss: 7355.4946 - mae: 7355.4946\n",
            "Epoch 58/100\n",
            "34/34 [==============================] - 0s 1ms/step - loss: 7585.2847 - mae: 7585.2847\n",
            "Epoch 59/100\n",
            "34/34 [==============================] - 0s 965us/step - loss: 7585.5273 - mae: 7585.5273\n",
            "Epoch 60/100\n",
            "34/34 [==============================] - 0s 1ms/step - loss: 7478.3872 - mae: 7478.3872\n",
            "Epoch 61/100\n",
            "34/34 [==============================] - 0s 981us/step - loss: 7540.6494 - mae: 7540.6494\n",
            "Epoch 62/100\n",
            "34/34 [==============================] - 0s 1ms/step - loss: 7514.5596 - mae: 7514.5596\n",
            "Epoch 63/100\n",
            "34/34 [==============================] - 0s 1ms/step - loss: 7380.9316 - mae: 7380.9316\n",
            "Epoch 64/100\n",
            "34/34 [==============================] - 0s 1ms/step - loss: 7282.9478 - mae: 7282.9478\n",
            "Epoch 65/100\n",
            "34/34 [==============================] - 0s 982us/step - loss: 7489.0342 - mae: 7489.0342\n",
            "Epoch 66/100\n",
            "34/34 [==============================] - 0s 1ms/step - loss: 7408.1562 - mae: 7408.1562\n",
            "Epoch 67/100\n",
            "34/34 [==============================] - 0s 1ms/step - loss: 7142.9185 - mae: 7142.9185\n",
            "Epoch 68/100\n",
            "34/34 [==============================] - 0s 1ms/step - loss: 7384.9351 - mae: 7384.9351\n",
            "Epoch 69/100\n",
            "34/34 [==============================] - 0s 1ms/step - loss: 7566.2510 - mae: 7566.2510\n",
            "Epoch 70/100\n",
            "34/34 [==============================] - 0s 1ms/step - loss: 7586.5190 - mae: 7586.5190\n",
            "Epoch 71/100\n",
            "34/34 [==============================] - 0s 973us/step - loss: 7264.2158 - mae: 7264.2158\n",
            "Epoch 72/100\n",
            "34/34 [==============================] - 0s 1ms/step - loss: 7358.0308 - mae: 7358.0308\n",
            "Epoch 73/100\n",
            "34/34 [==============================] - 0s 984us/step - loss: 7264.6729 - mae: 7264.6729\n",
            "Epoch 74/100\n",
            "34/34 [==============================] - 0s 1ms/step - loss: 7368.7134 - mae: 7368.7134\n",
            "Epoch 75/100\n",
            "34/34 [==============================] - 0s 1ms/step - loss: 7278.4932 - mae: 7278.4932\n",
            "Epoch 76/100\n",
            "34/34 [==============================] - 0s 970us/step - loss: 7195.7720 - mae: 7195.7720\n",
            "Epoch 77/100\n",
            "34/34 [==============================] - 0s 1ms/step - loss: 7418.6724 - mae: 7418.6724\n",
            "Epoch 78/100\n",
            "34/34 [==============================] - 0s 1ms/step - loss: 7305.0103 - mae: 7305.0103\n",
            "Epoch 79/100\n",
            "34/34 [==============================] - 0s 1ms/step - loss: 7484.6343 - mae: 7484.6343\n",
            "Epoch 80/100\n",
            "34/34 [==============================] - 0s 2ms/step - loss: 7268.2886 - mae: 7268.2886\n",
            "Epoch 81/100\n",
            "34/34 [==============================] - 0s 1ms/step - loss: 7313.1997 - mae: 7313.2002\n",
            "Epoch 82/100\n",
            "34/34 [==============================] - 0s 1ms/step - loss: 7284.8311 - mae: 7284.8311\n",
            "Epoch 83/100\n",
            "34/34 [==============================] - 0s 1ms/step - loss: 7508.7490 - mae: 7508.7490\n",
            "Epoch 84/100\n",
            "34/34 [==============================] - 0s 954us/step - loss: 7485.7798 - mae: 7485.7798\n",
            "Epoch 85/100\n",
            "34/34 [==============================] - 0s 1ms/step - loss: 7308.7432 - mae: 7308.7432\n",
            "Epoch 86/100\n",
            "34/34 [==============================] - 0s 995us/step - loss: 7312.2500 - mae: 7312.2500\n",
            "Epoch 87/100\n",
            "34/34 [==============================] - 0s 974us/step - loss: 7303.5234 - mae: 7303.5234\n",
            "Epoch 88/100\n",
            "34/34 [==============================] - 0s 1ms/step - loss: 7170.0200 - mae: 7170.0200\n",
            "Epoch 89/100\n",
            "34/34 [==============================] - 0s 1ms/step - loss: 7468.3159 - mae: 7468.3159\n",
            "Epoch 90/100\n",
            "34/34 [==============================] - 0s 1ms/step - loss: 7005.3555 - mae: 7005.3555\n",
            "Epoch 91/100\n",
            "34/34 [==============================] - 0s 1ms/step - loss: 7211.7856 - mae: 7211.7856\n",
            "Epoch 92/100\n",
            "34/34 [==============================] - 0s 1ms/step - loss: 7227.6626 - mae: 7227.6626\n",
            "Epoch 93/100\n",
            "34/34 [==============================] - 0s 1ms/step - loss: 7422.3130 - mae: 7422.3130\n",
            "Epoch 94/100\n",
            "34/34 [==============================] - 0s 996us/step - loss: 7352.4810 - mae: 7352.4810\n",
            "Epoch 95/100\n",
            "34/34 [==============================] - 0s 962us/step - loss: 7379.9404 - mae: 7379.9404\n",
            "Epoch 96/100\n",
            "34/34 [==============================] - 0s 1ms/step - loss: 7127.2817 - mae: 7127.2817\n",
            "Epoch 97/100\n",
            "34/34 [==============================] - 0s 978us/step - loss: 7340.6538 - mae: 7340.6538\n",
            "Epoch 98/100\n",
            "34/34 [==============================] - 0s 932us/step - loss: 7311.0552 - mae: 7311.0552\n",
            "Epoch 99/100\n",
            "34/34 [==============================] - 0s 972us/step - loss: 7382.4585 - mae: 7382.4585\n",
            "Epoch 100/100\n",
            "34/34 [==============================] - 0s 1ms/step - loss: 7214.5415 - mae: 7214.5415\n"
          ]
        },
        {
          "output_type": "execute_result",
          "data": {
            "text/plain": [
              "<keras.callbacks.History at 0x7fb39dd50b20>"
            ]
          },
          "metadata": {},
          "execution_count": 73
        }
      ]
    },
    {
      "cell_type": "code",
      "source": [
        "# Check the results of the insurance model on the test data\n",
        "insurance_model.evaluate(X_test, y_test)"
      ],
      "metadata": {
        "colab": {
          "base_uri": "https://localhost:8080/"
        },
        "id": "y0gKf4VqwpSm",
        "outputId": "e4668349-95a4-4161-8ea6-1df85445a33d"
      },
      "execution_count": 74,
      "outputs": [
        {
          "output_type": "stream",
          "name": "stdout",
          "text": [
            "9/9 [==============================] - 0s 1ms/step - loss: 5836.7217 - mae: 5836.7217\n"
          ]
        },
        {
          "output_type": "execute_result",
          "data": {
            "text/plain": [
              "[5836.7216796875, 5836.7216796875]"
            ]
          },
          "metadata": {},
          "execution_count": 74
        }
      ]
    },
    {
      "cell_type": "code",
      "source": [
        "y_train.median(), y_train.mean()"
      ],
      "metadata": {
        "colab": {
          "base_uri": "https://localhost:8080/"
        },
        "id": "OpZanmMvxuma",
        "outputId": "e73d031a-15e8-4d35-80cb-30f7e045e546"
      },
      "execution_count": 75,
      "outputs": [
        {
          "output_type": "execute_result",
          "data": {
            "text/plain": [
              "(9575.4421, 13346.089736364485)"
            ]
          },
          "metadata": {},
          "execution_count": 75
        }
      ]
    },
    {
      "cell_type": "markdown",
      "source": [
        "Right now it looks like our model isn't performing too well... let's try and improve it!\n",
        "\n",
        "To (try) improve our model , we'll run 2 experiments:\n",
        "1. Add an extra layer with more hidden units and use the Adam optimizer\n",
        "2. Train for longer\n",
        "3. (insert your own experiment here)"
      ],
      "metadata": {
        "id": "8pPhZ3t2x33J"
      }
    },
    {
      "cell_type": "code",
      "source": [
        "# Set random seed\n",
        "tf.random.set_seed(42)\n",
        "\n",
        "# 1. Create the model\n",
        "insurance_model_2 = tf.keras.Sequential([\n",
        "    tf.keras.layers.Dense(100),\n",
        "    tf.keras.layers.Dense(10),\n",
        "    tf.keras.layers.Dense(1)\n",
        "])\n",
        "\n",
        "# 2. Compile the model\n",
        "insurance_model_2.compile(loss=tf.keras.losses.mae,\n",
        "                          optimizer = tf.keras.optimizers.Adam(),\n",
        "                          metrics = [\"mae\"])\n",
        "\n",
        "# 3. Fit the model\n",
        "insurance_model_2.fit(X_train, y_train, epochs=100, verbose=1)"
      ],
      "metadata": {
        "colab": {
          "base_uri": "https://localhost:8080/"
        },
        "id": "kqBpbe7HyUYL",
        "outputId": "6ec35968-d941-4662-adca-7c6fc9d23c3d"
      },
      "execution_count": 76,
      "outputs": [
        {
          "output_type": "stream",
          "name": "stdout",
          "text": [
            "Epoch 1/100\n",
            "34/34 [==============================] - 1s 2ms/step - loss: 13319.7529 - mae: 13319.7529\n",
            "Epoch 2/100\n",
            "34/34 [==============================] - 0s 1ms/step - loss: 13178.0996 - mae: 13178.0996\n",
            "Epoch 3/100\n",
            "34/34 [==============================] - 0s 1ms/step - loss: 12879.2695 - mae: 12879.2695\n",
            "Epoch 4/100\n",
            "34/34 [==============================] - 0s 2ms/step - loss: 12264.0352 - mae: 12264.0352\n",
            "Epoch 5/100\n",
            "34/34 [==============================] - 0s 1ms/step - loss: 11181.7607 - mae: 11181.7607\n",
            "Epoch 6/100\n",
            "34/34 [==============================] - 0s 1ms/step - loss: 9719.7363 - mae: 9719.7363\n",
            "Epoch 7/100\n",
            "34/34 [==============================] - 0s 1ms/step - loss: 8309.8184 - mae: 8309.8184\n",
            "Epoch 8/100\n",
            "34/34 [==============================] - 0s 1ms/step - loss: 7569.6714 - mae: 7569.6714\n",
            "Epoch 9/100\n",
            "34/34 [==============================] - 0s 1ms/step - loss: 7433.6099 - mae: 7433.6099\n",
            "Epoch 10/100\n",
            "34/34 [==============================] - 0s 2ms/step - loss: 7412.5200 - mae: 7412.5200\n",
            "Epoch 11/100\n",
            "34/34 [==============================] - 0s 1ms/step - loss: 7393.1118 - mae: 7393.1118\n",
            "Epoch 12/100\n",
            "34/34 [==============================] - 0s 1ms/step - loss: 7371.0991 - mae: 7371.0991\n",
            "Epoch 13/100\n",
            "34/34 [==============================] - 0s 1ms/step - loss: 7350.7925 - mae: 7350.7925\n",
            "Epoch 14/100\n",
            "34/34 [==============================] - 0s 1ms/step - loss: 7328.0649 - mae: 7328.0649\n",
            "Epoch 15/100\n",
            "34/34 [==============================] - 0s 1ms/step - loss: 7309.0483 - mae: 7309.0483\n",
            "Epoch 16/100\n",
            "34/34 [==============================] - 0s 1ms/step - loss: 7286.7539 - mae: 7286.7539\n",
            "Epoch 17/100\n",
            "34/34 [==============================] - 0s 1ms/step - loss: 7266.5977 - mae: 7266.5977\n",
            "Epoch 18/100\n",
            "34/34 [==============================] - 0s 1ms/step - loss: 7242.9336 - mae: 7242.9336\n",
            "Epoch 19/100\n",
            "34/34 [==============================] - 0s 1ms/step - loss: 7220.6060 - mae: 7220.6060\n",
            "Epoch 20/100\n",
            "34/34 [==============================] - 0s 1ms/step - loss: 7196.9971 - mae: 7196.9971\n",
            "Epoch 21/100\n",
            "34/34 [==============================] - 0s 1ms/step - loss: 7177.8511 - mae: 7177.8511\n",
            "Epoch 22/100\n",
            "34/34 [==============================] - 0s 1ms/step - loss: 7150.6099 - mae: 7150.6099\n",
            "Epoch 23/100\n",
            "34/34 [==============================] - 0s 1ms/step - loss: 7125.0610 - mae: 7125.0610\n",
            "Epoch 24/100\n",
            "34/34 [==============================] - 0s 1ms/step - loss: 7100.1860 - mae: 7100.1860\n",
            "Epoch 25/100\n",
            "34/34 [==============================] - 0s 1ms/step - loss: 7081.9570 - mae: 7081.9570\n",
            "Epoch 26/100\n",
            "34/34 [==============================] - 0s 1ms/step - loss: 7049.5200 - mae: 7049.5200\n",
            "Epoch 27/100\n",
            "34/34 [==============================] - 0s 1ms/step - loss: 7020.7358 - mae: 7020.7358\n",
            "Epoch 28/100\n",
            "34/34 [==============================] - 0s 1ms/step - loss: 6992.2866 - mae: 6992.2866\n",
            "Epoch 29/100\n",
            "34/34 [==============================] - 0s 1ms/step - loss: 6963.8486 - mae: 6963.8486\n",
            "Epoch 30/100\n",
            "34/34 [==============================] - 0s 1ms/step - loss: 6936.0288 - mae: 6936.0288\n",
            "Epoch 31/100\n",
            "34/34 [==============================] - 0s 1ms/step - loss: 6904.5728 - mae: 6904.5728\n",
            "Epoch 32/100\n",
            "34/34 [==============================] - 0s 1ms/step - loss: 6875.7637 - mae: 6875.7637\n",
            "Epoch 33/100\n",
            "34/34 [==============================] - 0s 1ms/step - loss: 6844.0156 - mae: 6844.0156\n",
            "Epoch 34/100\n",
            "34/34 [==============================] - 0s 1ms/step - loss: 6812.2358 - mae: 6812.2358\n",
            "Epoch 35/100\n",
            "34/34 [==============================] - 0s 1ms/step - loss: 6777.2646 - mae: 6777.2646\n",
            "Epoch 36/100\n",
            "34/34 [==============================] - 0s 1ms/step - loss: 6742.2144 - mae: 6742.2144\n",
            "Epoch 37/100\n",
            "34/34 [==============================] - 0s 1ms/step - loss: 6705.3882 - mae: 6705.3882\n",
            "Epoch 38/100\n",
            "34/34 [==============================] - 0s 1ms/step - loss: 6673.1646 - mae: 6673.1646\n",
            "Epoch 39/100\n",
            "34/34 [==============================] - 0s 1ms/step - loss: 6634.8052 - mae: 6634.8052\n",
            "Epoch 40/100\n",
            "34/34 [==============================] - 0s 1ms/step - loss: 6599.1812 - mae: 6599.1812\n",
            "Epoch 41/100\n",
            "34/34 [==============================] - 0s 1ms/step - loss: 6567.9048 - mae: 6567.9048\n",
            "Epoch 42/100\n",
            "34/34 [==============================] - 0s 1ms/step - loss: 6542.0767 - mae: 6542.0767\n",
            "Epoch 43/100\n",
            "34/34 [==============================] - 0s 1ms/step - loss: 6514.0249 - mae: 6514.0249\n",
            "Epoch 44/100\n",
            "34/34 [==============================] - 0s 1ms/step - loss: 6491.5312 - mae: 6491.5312\n",
            "Epoch 45/100\n",
            "34/34 [==============================] - 0s 1ms/step - loss: 6481.7217 - mae: 6481.7217\n",
            "Epoch 46/100\n",
            "34/34 [==============================] - 0s 1ms/step - loss: 6463.0107 - mae: 6463.0107\n",
            "Epoch 47/100\n",
            "34/34 [==============================] - 0s 1ms/step - loss: 6446.3218 - mae: 6446.3218\n",
            "Epoch 48/100\n",
            "34/34 [==============================] - 0s 1ms/step - loss: 6432.5708 - mae: 6432.5708\n",
            "Epoch 49/100\n",
            "34/34 [==============================] - 0s 1ms/step - loss: 6419.4507 - mae: 6419.4507\n",
            "Epoch 50/100\n",
            "34/34 [==============================] - 0s 1ms/step - loss: 6405.1841 - mae: 6405.1841\n",
            "Epoch 51/100\n",
            "34/34 [==============================] - 0s 1ms/step - loss: 6392.1025 - mae: 6392.1025\n",
            "Epoch 52/100\n",
            "34/34 [==============================] - 0s 1ms/step - loss: 6379.5630 - mae: 6379.5630\n",
            "Epoch 53/100\n",
            "34/34 [==============================] - 0s 1ms/step - loss: 6365.1055 - mae: 6365.1055\n",
            "Epoch 54/100\n",
            "34/34 [==============================] - 0s 1ms/step - loss: 6350.7500 - mae: 6350.7500\n",
            "Epoch 55/100\n",
            "34/34 [==============================] - 0s 1ms/step - loss: 6337.8657 - mae: 6337.8657\n",
            "Epoch 56/100\n",
            "34/34 [==============================] - 0s 1ms/step - loss: 6323.1196 - mae: 6323.1196\n",
            "Epoch 57/100\n",
            "34/34 [==============================] - 0s 1ms/step - loss: 6309.7871 - mae: 6309.7871\n",
            "Epoch 58/100\n",
            "34/34 [==============================] - 0s 1ms/step - loss: 6295.5400 - mae: 6295.5400\n",
            "Epoch 59/100\n",
            "34/34 [==============================] - 0s 1ms/step - loss: 6280.1099 - mae: 6280.1099\n",
            "Epoch 60/100\n",
            "34/34 [==============================] - 0s 1ms/step - loss: 6268.8545 - mae: 6268.8545\n",
            "Epoch 61/100\n",
            "34/34 [==============================] - 0s 1ms/step - loss: 6248.5557 - mae: 6248.5557\n",
            "Epoch 62/100\n",
            "34/34 [==============================] - 0s 1ms/step - loss: 6236.3521 - mae: 6236.3521\n",
            "Epoch 63/100\n",
            "34/34 [==============================] - 0s 1ms/step - loss: 6217.1440 - mae: 6217.1440\n",
            "Epoch 64/100\n",
            "34/34 [==============================] - 0s 1ms/step - loss: 6199.5688 - mae: 6199.5688\n",
            "Epoch 65/100\n",
            "34/34 [==============================] - 0s 1ms/step - loss: 6181.8442 - mae: 6181.8442\n",
            "Epoch 66/100\n",
            "34/34 [==============================] - 0s 1ms/step - loss: 6163.9429 - mae: 6163.9429\n",
            "Epoch 67/100\n",
            "34/34 [==============================] - 0s 1ms/step - loss: 6150.8457 - mae: 6150.8457\n",
            "Epoch 68/100\n",
            "34/34 [==============================] - 0s 1ms/step - loss: 6127.7734 - mae: 6127.7734\n",
            "Epoch 69/100\n",
            "34/34 [==============================] - 0s 1ms/step - loss: 6110.7222 - mae: 6110.7222\n",
            "Epoch 70/100\n",
            "34/34 [==============================] - 0s 1ms/step - loss: 6089.4062 - mae: 6089.4062\n",
            "Epoch 71/100\n",
            "34/34 [==============================] - 0s 2ms/step - loss: 6069.3906 - mae: 6069.3906\n",
            "Epoch 72/100\n",
            "34/34 [==============================] - 0s 1ms/step - loss: 6047.7339 - mae: 6047.7339\n",
            "Epoch 73/100\n",
            "34/34 [==============================] - 0s 1ms/step - loss: 6035.1318 - mae: 6035.1318\n",
            "Epoch 74/100\n",
            "34/34 [==============================] - 0s 1ms/step - loss: 6004.7485 - mae: 6004.7485\n",
            "Epoch 75/100\n",
            "34/34 [==============================] - 0s 1ms/step - loss: 5982.8794 - mae: 5982.8794\n",
            "Epoch 76/100\n",
            "34/34 [==============================] - 0s 1ms/step - loss: 5967.5063 - mae: 5967.5063\n",
            "Epoch 77/100\n",
            "34/34 [==============================] - 0s 1ms/step - loss: 5934.1558 - mae: 5934.1558\n",
            "Epoch 78/100\n",
            "34/34 [==============================] - 0s 1ms/step - loss: 5909.4189 - mae: 5909.4189\n",
            "Epoch 79/100\n",
            "34/34 [==============================] - 0s 1ms/step - loss: 5883.3247 - mae: 5883.3247\n",
            "Epoch 80/100\n",
            "34/34 [==============================] - 0s 1ms/step - loss: 5854.1548 - mae: 5854.1548\n",
            "Epoch 81/100\n",
            "34/34 [==============================] - 0s 1ms/step - loss: 5827.1553 - mae: 5827.1553\n",
            "Epoch 82/100\n",
            "34/34 [==============================] - 0s 1ms/step - loss: 5798.0664 - mae: 5798.0664\n",
            "Epoch 83/100\n",
            "34/34 [==============================] - 0s 1ms/step - loss: 5768.1333 - mae: 5768.1333\n",
            "Epoch 84/100\n",
            "34/34 [==============================] - 0s 1ms/step - loss: 5733.9316 - mae: 5733.9316\n",
            "Epoch 85/100\n",
            "34/34 [==============================] - 0s 1ms/step - loss: 5706.9521 - mae: 5706.9521\n",
            "Epoch 86/100\n",
            "34/34 [==============================] - 0s 1ms/step - loss: 5671.1406 - mae: 5671.1406\n",
            "Epoch 87/100\n",
            "34/34 [==============================] - 0s 1ms/step - loss: 5631.4941 - mae: 5631.4941\n",
            "Epoch 88/100\n",
            "34/34 [==============================] - 0s 1ms/step - loss: 5594.4839 - mae: 5594.4839\n",
            "Epoch 89/100\n",
            "34/34 [==============================] - 0s 1ms/step - loss: 5554.0122 - mae: 5554.0122\n",
            "Epoch 90/100\n",
            "34/34 [==============================] - 0s 1ms/step - loss: 5510.0220 - mae: 5510.0220\n",
            "Epoch 91/100\n",
            "34/34 [==============================] - 0s 1ms/step - loss: 5469.8887 - mae: 5469.8887\n",
            "Epoch 92/100\n",
            "34/34 [==============================] - 0s 1ms/step - loss: 5420.1421 - mae: 5420.1421\n",
            "Epoch 93/100\n",
            "34/34 [==============================] - 0s 1ms/step - loss: 5375.4258 - mae: 5375.4258\n",
            "Epoch 94/100\n",
            "34/34 [==============================] - 0s 1ms/step - loss: 5326.2886 - mae: 5326.2886\n",
            "Epoch 95/100\n",
            "34/34 [==============================] - 0s 1ms/step - loss: 5271.5298 - mae: 5271.5298\n",
            "Epoch 96/100\n",
            "34/34 [==============================] - 0s 1ms/step - loss: 5223.3232 - mae: 5223.3232\n",
            "Epoch 97/100\n",
            "34/34 [==============================] - 0s 1ms/step - loss: 5166.0684 - mae: 5166.0684\n",
            "Epoch 98/100\n",
            "34/34 [==============================] - 0s 1ms/step - loss: 5101.6616 - mae: 5101.6616\n",
            "Epoch 99/100\n",
            "34/34 [==============================] - 0s 1ms/step - loss: 5040.2266 - mae: 5040.2266\n",
            "Epoch 100/100\n",
            "34/34 [==============================] - 0s 2ms/step - loss: 4982.3428 - mae: 4982.3428\n"
          ]
        },
        {
          "output_type": "execute_result",
          "data": {
            "text/plain": [
              "<keras.callbacks.History at 0x7fb3a27b08e0>"
            ]
          },
          "metadata": {},
          "execution_count": 76
        }
      ]
    },
    {
      "cell_type": "code",
      "source": [
        "# Evaluate the larger model\n",
        "insurance_model_2.evaluate(X_test, y_test)\n"
      ],
      "metadata": {
        "colab": {
          "base_uri": "https://localhost:8080/"
        },
        "id": "zNPonL7G014A",
        "outputId": "aa06716d-26e6-4591-b3f5-6aa92dcbe3d6"
      },
      "execution_count": 77,
      "outputs": [
        {
          "output_type": "stream",
          "name": "stdout",
          "text": [
            "9/9 [==============================] - 0s 2ms/step - loss: 4850.3242 - mae: 4850.3242\n"
          ]
        },
        {
          "output_type": "execute_result",
          "data": {
            "text/plain": [
              "[4850.32421875, 4850.32421875]"
            ]
          },
          "metadata": {},
          "execution_count": 77
        }
      ]
    },
    {
      "cell_type": "code",
      "source": [
        "insurance_model.evaluate(X_test, y_test)"
      ],
      "metadata": {
        "colab": {
          "base_uri": "https://localhost:8080/"
        },
        "id": "v-XQA8AI1UCw",
        "outputId": "517e23ea-cda3-4eb5-bfd8-b0a398f44b85"
      },
      "execution_count": 78,
      "outputs": [
        {
          "output_type": "stream",
          "name": "stdout",
          "text": [
            "9/9 [==============================] - 0s 2ms/step - loss: 5836.7217 - mae: 5836.7217\n"
          ]
        },
        {
          "output_type": "execute_result",
          "data": {
            "text/plain": [
              "[5836.7216796875, 5836.7216796875]"
            ]
          },
          "metadata": {},
          "execution_count": 78
        }
      ]
    },
    {
      "cell_type": "code",
      "source": [
        "# Set random seed\n",
        "tf.random.set_seed(42)\n",
        "\n",
        "# 1. Create the model\n",
        "insurance_model_3 = tf.keras.Sequential([\n",
        "    tf.keras.layers.Dense(100),\n",
        "    tf.keras.layers.Dense(10),\n",
        "    tf.keras.layers.Dense(1)\n",
        "])\n",
        "\n",
        "# 2. Compile the model\n",
        "insurance_model_3.compile(loss=tf.keras.losses.mae,\n",
        "                          optimizer = tf.keras.optimizers.Adam(),\n",
        "                          metrics = [\"mae\"])\n",
        "\n",
        "# 3. Fit the model\n",
        "history = insurance_model_3.fit(X_train, y_train, epochs=200, verbose=1)"
      ],
      "metadata": {
        "colab": {
          "base_uri": "https://localhost:8080/"
        },
        "id": "11Suiap11_MX",
        "outputId": "83034819-a86a-4708-be05-53ef2e7bfbd8"
      },
      "execution_count": 79,
      "outputs": [
        {
          "output_type": "stream",
          "name": "stdout",
          "text": [
            "Epoch 1/200\n",
            "34/34 [==============================] - 1s 1ms/step - loss: 13283.0283 - mae: 13283.0283\n",
            "Epoch 2/200\n",
            "34/34 [==============================] - 0s 1ms/step - loss: 13123.1025 - mae: 13123.1025\n",
            "Epoch 3/200\n",
            "34/34 [==============================] - 0s 1ms/step - loss: 12780.1758 - mae: 12780.1758\n",
            "Epoch 4/200\n",
            "34/34 [==============================] - 0s 1ms/step - loss: 12106.2568 - mae: 12106.2568\n",
            "Epoch 5/200\n",
            "34/34 [==============================] - 0s 1ms/step - loss: 10979.1260 - mae: 10979.1260\n",
            "Epoch 6/200\n",
            "34/34 [==============================] - 0s 2ms/step - loss: 9538.2266 - mae: 9538.2266\n",
            "Epoch 7/200\n",
            "34/34 [==============================] - 0s 3ms/step - loss: 8207.5420 - mae: 8207.5420\n",
            "Epoch 8/200\n",
            "34/34 [==============================] - 0s 4ms/step - loss: 7550.7456 - mae: 7550.7456\n",
            "Epoch 9/200\n",
            "34/34 [==============================] - 0s 3ms/step - loss: 7436.7227 - mae: 7436.7227\n",
            "Epoch 10/200\n",
            "34/34 [==============================] - 0s 2ms/step - loss: 7415.5361 - mae: 7415.5361\n",
            "Epoch 11/200\n",
            "34/34 [==============================] - 0s 2ms/step - loss: 7397.4863 - mae: 7397.4863\n",
            "Epoch 12/200\n",
            "34/34 [==============================] - 0s 2ms/step - loss: 7376.2314 - mae: 7376.2314\n",
            "Epoch 13/200\n",
            "34/34 [==============================] - 0s 2ms/step - loss: 7356.4951 - mae: 7356.4951\n",
            "Epoch 14/200\n",
            "34/34 [==============================] - 0s 1ms/step - loss: 7334.8047 - mae: 7334.8047\n",
            "Epoch 15/200\n",
            "34/34 [==============================] - 0s 1ms/step - loss: 7316.3047 - mae: 7316.3047\n",
            "Epoch 16/200\n",
            "34/34 [==============================] - 0s 1ms/step - loss: 7294.4136 - mae: 7294.4136\n",
            "Epoch 17/200\n",
            "34/34 [==============================] - 0s 1ms/step - loss: 7275.7339 - mae: 7275.7339\n",
            "Epoch 18/200\n",
            "34/34 [==============================] - 0s 1ms/step - loss: 7252.8804 - mae: 7252.8804\n",
            "Epoch 19/200\n",
            "34/34 [==============================] - 0s 1ms/step - loss: 7231.6455 - mae: 7231.6455\n",
            "Epoch 20/200\n",
            "34/34 [==============================] - 0s 1ms/step - loss: 7209.3608 - mae: 7209.3608\n",
            "Epoch 21/200\n",
            "34/34 [==============================] - 0s 1ms/step - loss: 7190.7520 - mae: 7190.7520\n",
            "Epoch 22/200\n",
            "34/34 [==============================] - 0s 1ms/step - loss: 7164.8867 - mae: 7164.8867\n",
            "Epoch 23/200\n",
            "34/34 [==============================] - 0s 1ms/step - loss: 7141.1216 - mae: 7141.1216\n",
            "Epoch 24/200\n",
            "34/34 [==============================] - 0s 3ms/step - loss: 7117.5181 - mae: 7117.5181\n",
            "Epoch 25/200\n",
            "34/34 [==============================] - 0s 4ms/step - loss: 7099.6294 - mae: 7099.6294\n",
            "Epoch 26/200\n",
            "34/34 [==============================] - 0s 5ms/step - loss: 7070.4409 - mae: 7070.4409\n",
            "Epoch 27/200\n",
            "34/34 [==============================] - 0s 4ms/step - loss: 7042.7188 - mae: 7042.7188\n",
            "Epoch 28/200\n",
            "34/34 [==============================] - 0s 2ms/step - loss: 7016.0264 - mae: 7016.0264\n",
            "Epoch 29/200\n",
            "34/34 [==============================] - 0s 1ms/step - loss: 6989.3330 - mae: 6989.3330\n",
            "Epoch 30/200\n",
            "34/34 [==============================] - 0s 1ms/step - loss: 6963.7432 - mae: 6963.7432\n",
            "Epoch 31/200\n",
            "34/34 [==============================] - 0s 1ms/step - loss: 6934.0239 - mae: 6934.0239\n",
            "Epoch 32/200\n",
            "34/34 [==============================] - 0s 1ms/step - loss: 6907.6963 - mae: 6907.6963\n",
            "Epoch 33/200\n",
            "34/34 [==============================] - 0s 1ms/step - loss: 6877.6543 - mae: 6877.6543\n",
            "Epoch 34/200\n",
            "34/34 [==============================] - 0s 1ms/step - loss: 6846.9648 - mae: 6846.9648\n",
            "Epoch 35/200\n",
            "34/34 [==============================] - 0s 1ms/step - loss: 6815.8755 - mae: 6815.8755\n",
            "Epoch 36/200\n",
            "34/34 [==============================] - 0s 1ms/step - loss: 6783.3569 - mae: 6783.3569\n",
            "Epoch 37/200\n",
            "34/34 [==============================] - 0s 1ms/step - loss: 6749.3906 - mae: 6749.3906\n",
            "Epoch 38/200\n",
            "34/34 [==============================] - 0s 1ms/step - loss: 6718.2012 - mae: 6718.2012\n",
            "Epoch 39/200\n",
            "34/34 [==============================] - 0s 1ms/step - loss: 6680.8711 - mae: 6680.8711\n",
            "Epoch 40/200\n",
            "34/34 [==============================] - 0s 1ms/step - loss: 6646.6978 - mae: 6646.6978\n",
            "Epoch 41/200\n",
            "34/34 [==============================] - 0s 1ms/step - loss: 6613.2803 - mae: 6613.2803\n",
            "Epoch 42/200\n",
            "34/34 [==============================] - 0s 1ms/step - loss: 6585.0737 - mae: 6585.0737\n",
            "Epoch 43/200\n",
            "34/34 [==============================] - 0s 1ms/step - loss: 6553.8696 - mae: 6553.8696\n",
            "Epoch 44/200\n",
            "34/34 [==============================] - 0s 1ms/step - loss: 6527.1362 - mae: 6527.1362\n",
            "Epoch 45/200\n",
            "34/34 [==============================] - 0s 1ms/step - loss: 6509.8027 - mae: 6509.8027\n",
            "Epoch 46/200\n",
            "34/34 [==============================] - 0s 1ms/step - loss: 6489.3442 - mae: 6489.3442\n",
            "Epoch 47/200\n",
            "34/34 [==============================] - 0s 1ms/step - loss: 6473.6030 - mae: 6473.6030\n",
            "Epoch 48/200\n",
            "34/34 [==============================] - 0s 1ms/step - loss: 6457.1758 - mae: 6457.1758\n",
            "Epoch 49/200\n",
            "34/34 [==============================] - 0s 2ms/step - loss: 6443.6187 - mae: 6443.6187\n",
            "Epoch 50/200\n",
            "34/34 [==============================] - 0s 1ms/step - loss: 6430.5332 - mae: 6430.5332\n",
            "Epoch 51/200\n",
            "34/34 [==============================] - 0s 1ms/step - loss: 6417.0415 - mae: 6417.0415\n",
            "Epoch 52/200\n",
            "34/34 [==============================] - 0s 1ms/step - loss: 6406.1211 - mae: 6406.1211\n",
            "Epoch 53/200\n",
            "34/34 [==============================] - 0s 1ms/step - loss: 6391.8628 - mae: 6391.8628\n",
            "Epoch 54/200\n",
            "34/34 [==============================] - 0s 1ms/step - loss: 6378.8940 - mae: 6378.8940\n",
            "Epoch 55/200\n",
            "34/34 [==============================] - 0s 1ms/step - loss: 6365.4062 - mae: 6365.4062\n",
            "Epoch 56/200\n",
            "34/34 [==============================] - 0s 1ms/step - loss: 6351.9341 - mae: 6351.9341\n",
            "Epoch 57/200\n",
            "34/34 [==============================] - 0s 1ms/step - loss: 6339.5239 - mae: 6339.5239\n",
            "Epoch 58/200\n",
            "34/34 [==============================] - 0s 1ms/step - loss: 6325.5591 - mae: 6325.5591\n",
            "Epoch 59/200\n",
            "34/34 [==============================] - 0s 1ms/step - loss: 6311.4536 - mae: 6311.4536\n",
            "Epoch 60/200\n",
            "34/34 [==============================] - 0s 1ms/step - loss: 6300.8794 - mae: 6300.8794\n",
            "Epoch 61/200\n",
            "34/34 [==============================] - 0s 1ms/step - loss: 6282.6289 - mae: 6282.6289\n",
            "Epoch 62/200\n",
            "34/34 [==============================] - 0s 1ms/step - loss: 6270.7461 - mae: 6270.7461\n",
            "Epoch 63/200\n",
            "34/34 [==============================] - 0s 1ms/step - loss: 6252.7666 - mae: 6252.7666\n",
            "Epoch 64/200\n",
            "34/34 [==============================] - 0s 1ms/step - loss: 6237.6826 - mae: 6237.6826\n",
            "Epoch 65/200\n",
            "34/34 [==============================] - 0s 1ms/step - loss: 6221.0762 - mae: 6221.0762\n",
            "Epoch 66/200\n",
            "34/34 [==============================] - 0s 1ms/step - loss: 6204.8813 - mae: 6204.8813\n",
            "Epoch 67/200\n",
            "34/34 [==============================] - 0s 1ms/step - loss: 6192.8882 - mae: 6192.8882\n",
            "Epoch 68/200\n",
            "34/34 [==============================] - 0s 1ms/step - loss: 6171.4990 - mae: 6171.4990\n",
            "Epoch 69/200\n",
            "34/34 [==============================] - 0s 1ms/step - loss: 6156.1318 - mae: 6156.1318\n",
            "Epoch 70/200\n",
            "34/34 [==============================] - 0s 1ms/step - loss: 6136.5283 - mae: 6136.5283\n",
            "Epoch 71/200\n",
            "34/34 [==============================] - 0s 1ms/step - loss: 6118.3350 - mae: 6118.3350\n",
            "Epoch 72/200\n",
            "34/34 [==============================] - 0s 1ms/step - loss: 6100.5664 - mae: 6100.5664\n",
            "Epoch 73/200\n",
            "34/34 [==============================] - 0s 1ms/step - loss: 6087.4717 - mae: 6087.4717\n",
            "Epoch 74/200\n",
            "34/34 [==============================] - 0s 1ms/step - loss: 6061.1455 - mae: 6061.1455\n",
            "Epoch 75/200\n",
            "34/34 [==============================] - 0s 1ms/step - loss: 6041.2192 - mae: 6041.2192\n",
            "Epoch 76/200\n",
            "34/34 [==============================] - 0s 1ms/step - loss: 6026.5693 - mae: 6026.5693\n",
            "Epoch 77/200\n",
            "34/34 [==============================] - 0s 1ms/step - loss: 5995.7188 - mae: 5995.7188\n",
            "Epoch 78/200\n",
            "34/34 [==============================] - 0s 1ms/step - loss: 5974.7803 - mae: 5974.7803\n",
            "Epoch 79/200\n",
            "34/34 [==============================] - 0s 1ms/step - loss: 5952.3789 - mae: 5952.3789\n",
            "Epoch 80/200\n",
            "34/34 [==============================] - 0s 1ms/step - loss: 5926.7476 - mae: 5926.7476\n",
            "Epoch 81/200\n",
            "34/34 [==============================] - 0s 2ms/step - loss: 5902.5034 - mae: 5902.5034\n",
            "Epoch 82/200\n",
            "34/34 [==============================] - 0s 1ms/step - loss: 5876.2666 - mae: 5876.2666\n",
            "Epoch 83/200\n",
            "34/34 [==============================] - 0s 1ms/step - loss: 5850.6719 - mae: 5850.6719\n",
            "Epoch 84/200\n",
            "34/34 [==============================] - 0s 1ms/step - loss: 5817.7573 - mae: 5817.7573\n",
            "Epoch 85/200\n",
            "34/34 [==============================] - 0s 1ms/step - loss: 5795.6440 - mae: 5795.6440\n",
            "Epoch 86/200\n",
            "34/34 [==============================] - 0s 1ms/step - loss: 5762.6416 - mae: 5762.6416\n",
            "Epoch 87/200\n",
            "34/34 [==============================] - 0s 1ms/step - loss: 5728.6753 - mae: 5728.6753\n",
            "Epoch 88/200\n",
            "34/34 [==============================] - 0s 1ms/step - loss: 5697.6016 - mae: 5697.6016\n",
            "Epoch 89/200\n",
            "34/34 [==============================] - 0s 1ms/step - loss: 5660.8608 - mae: 5660.8608\n",
            "Epoch 90/200\n",
            "34/34 [==============================] - 0s 1ms/step - loss: 5623.0737 - mae: 5623.0737\n",
            "Epoch 91/200\n",
            "34/34 [==============================] - 0s 1ms/step - loss: 5590.5122 - mae: 5590.5122\n",
            "Epoch 92/200\n",
            "34/34 [==============================] - 0s 1ms/step - loss: 5544.4404 - mae: 5544.4404\n",
            "Epoch 93/200\n",
            "34/34 [==============================] - 0s 1ms/step - loss: 5507.4946 - mae: 5507.4946\n",
            "Epoch 94/200\n",
            "34/34 [==============================] - 0s 1ms/step - loss: 5467.6021 - mae: 5467.6021\n",
            "Epoch 95/200\n",
            "34/34 [==============================] - 0s 1ms/step - loss: 5417.8975 - mae: 5417.8975\n",
            "Epoch 96/200\n",
            "34/34 [==============================] - 0s 1ms/step - loss: 5377.2246 - mae: 5377.2246\n",
            "Epoch 97/200\n",
            "34/34 [==============================] - 0s 1ms/step - loss: 5328.1577 - mae: 5328.1577\n",
            "Epoch 98/200\n",
            "34/34 [==============================] - 0s 1ms/step - loss: 5272.1719 - mae: 5272.1719\n",
            "Epoch 99/200\n",
            "34/34 [==============================] - 0s 1ms/step - loss: 5217.7954 - mae: 5217.7954\n",
            "Epoch 100/200\n",
            "34/34 [==============================] - 0s 1ms/step - loss: 5163.8828 - mae: 5163.8828\n",
            "Epoch 101/200\n",
            "34/34 [==============================] - 0s 1ms/step - loss: 5101.1206 - mae: 5101.1206\n",
            "Epoch 102/200\n",
            "34/34 [==============================] - 0s 1ms/step - loss: 5038.7627 - mae: 5038.7627\n",
            "Epoch 103/200\n",
            "34/34 [==============================] - 0s 1ms/step - loss: 4978.1899 - mae: 4978.1899\n",
            "Epoch 104/200\n",
            "34/34 [==============================] - 0s 1ms/step - loss: 4905.1543 - mae: 4905.1543\n",
            "Epoch 105/200\n",
            "34/34 [==============================] - 0s 1ms/step - loss: 4831.0952 - mae: 4831.0952\n",
            "Epoch 106/200\n",
            "34/34 [==============================] - 0s 1ms/step - loss: 4753.9185 - mae: 4753.9185\n",
            "Epoch 107/200\n",
            "34/34 [==============================] - 0s 1ms/step - loss: 4677.5874 - mae: 4677.5874\n",
            "Epoch 108/200\n",
            "34/34 [==============================] - 0s 1ms/step - loss: 4592.4248 - mae: 4592.4248\n",
            "Epoch 109/200\n",
            "34/34 [==============================] - 0s 1ms/step - loss: 4507.0718 - mae: 4507.0718\n",
            "Epoch 110/200\n",
            "34/34 [==============================] - 0s 1ms/step - loss: 4419.5918 - mae: 4419.5918\n",
            "Epoch 111/200\n",
            "34/34 [==============================] - 0s 1ms/step - loss: 4337.1333 - mae: 4337.1333\n",
            "Epoch 112/200\n",
            "34/34 [==============================] - 0s 1ms/step - loss: 4260.3623 - mae: 4260.3623\n",
            "Epoch 113/200\n",
            "34/34 [==============================] - 0s 1ms/step - loss: 4178.7295 - mae: 4178.7295\n",
            "Epoch 114/200\n",
            "34/34 [==============================] - 0s 1ms/step - loss: 4103.6011 - mae: 4103.6011\n",
            "Epoch 115/200\n",
            "34/34 [==============================] - 0s 1ms/step - loss: 4039.9836 - mae: 4039.9836\n",
            "Epoch 116/200\n",
            "34/34 [==============================] - 0s 1ms/step - loss: 3980.7126 - mae: 3980.7126\n",
            "Epoch 117/200\n",
            "34/34 [==============================] - 0s 1ms/step - loss: 3956.6921 - mae: 3956.6921\n",
            "Epoch 118/200\n",
            "34/34 [==============================] - 0s 1ms/step - loss: 3926.9197 - mae: 3926.9197\n",
            "Epoch 119/200\n",
            "34/34 [==============================] - 0s 1ms/step - loss: 3892.0002 - mae: 3892.0002\n",
            "Epoch 120/200\n",
            "34/34 [==============================] - 0s 1ms/step - loss: 3866.1011 - mae: 3866.1011\n",
            "Epoch 121/200\n",
            "34/34 [==============================] - 0s 1ms/step - loss: 3854.5481 - mae: 3854.5481\n",
            "Epoch 122/200\n",
            "34/34 [==============================] - 0s 1ms/step - loss: 3843.6865 - mae: 3843.6865\n",
            "Epoch 123/200\n",
            "34/34 [==============================] - 0s 1ms/step - loss: 3834.4431 - mae: 3834.4431\n",
            "Epoch 124/200\n",
            "34/34 [==============================] - 0s 1ms/step - loss: 3826.5769 - mae: 3826.5769\n",
            "Epoch 125/200\n",
            "34/34 [==============================] - 0s 1ms/step - loss: 3809.7134 - mae: 3809.7134\n",
            "Epoch 126/200\n",
            "34/34 [==============================] - 0s 1ms/step - loss: 3820.3152 - mae: 3820.3152\n",
            "Epoch 127/200\n",
            "34/34 [==============================] - 0s 1ms/step - loss: 3808.0122 - mae: 3808.0122\n",
            "Epoch 128/200\n",
            "34/34 [==============================] - 0s 1ms/step - loss: 3803.5205 - mae: 3803.5205\n",
            "Epoch 129/200\n",
            "34/34 [==============================] - 0s 1ms/step - loss: 3806.9507 - mae: 3806.9507\n",
            "Epoch 130/200\n",
            "34/34 [==============================] - 0s 1ms/step - loss: 3795.7800 - mae: 3795.7800\n",
            "Epoch 131/200\n",
            "34/34 [==============================] - 0s 1ms/step - loss: 3789.7192 - mae: 3789.7192\n",
            "Epoch 132/200\n",
            "34/34 [==============================] - 0s 1ms/step - loss: 3782.6819 - mae: 3782.6819\n",
            "Epoch 133/200\n",
            "34/34 [==============================] - 0s 1ms/step - loss: 3777.3511 - mae: 3777.3511\n",
            "Epoch 134/200\n",
            "34/34 [==============================] - 0s 2ms/step - loss: 3777.4612 - mae: 3777.4612\n",
            "Epoch 135/200\n",
            "34/34 [==============================] - 0s 1ms/step - loss: 3773.5129 - mae: 3773.5129\n",
            "Epoch 136/200\n",
            "34/34 [==============================] - 0s 1ms/step - loss: 3772.7454 - mae: 3772.7454\n",
            "Epoch 137/200\n",
            "34/34 [==============================] - 0s 1ms/step - loss: 3782.0789 - mae: 3782.0789\n",
            "Epoch 138/200\n",
            "34/34 [==============================] - 0s 1ms/step - loss: 3788.0247 - mae: 3788.0247\n",
            "Epoch 139/200\n",
            "34/34 [==============================] - 0s 1ms/step - loss: 3767.7786 - mae: 3767.7786\n",
            "Epoch 140/200\n",
            "34/34 [==============================] - 0s 1ms/step - loss: 3768.9197 - mae: 3768.9197\n",
            "Epoch 141/200\n",
            "34/34 [==============================] - 0s 1ms/step - loss: 3769.0398 - mae: 3769.0398\n",
            "Epoch 142/200\n",
            "34/34 [==============================] - 0s 1ms/step - loss: 3770.9395 - mae: 3770.9395\n",
            "Epoch 143/200\n",
            "34/34 [==============================] - 0s 1ms/step - loss: 3760.4216 - mae: 3760.4216\n",
            "Epoch 144/200\n",
            "34/34 [==============================] - 0s 1ms/step - loss: 3755.9146 - mae: 3755.9146\n",
            "Epoch 145/200\n",
            "34/34 [==============================] - 0s 1ms/step - loss: 3757.1130 - mae: 3757.1130\n",
            "Epoch 146/200\n",
            "34/34 [==============================] - 0s 1ms/step - loss: 3760.5957 - mae: 3760.5957\n",
            "Epoch 147/200\n",
            "34/34 [==============================] - 0s 1ms/step - loss: 3758.1975 - mae: 3758.1975\n",
            "Epoch 148/200\n",
            "34/34 [==============================] - 0s 1ms/step - loss: 3761.9270 - mae: 3761.9270\n",
            "Epoch 149/200\n",
            "34/34 [==============================] - 0s 1ms/step - loss: 3748.7109 - mae: 3748.7109\n",
            "Epoch 150/200\n",
            "34/34 [==============================] - 0s 1ms/step - loss: 3744.7471 - mae: 3744.7471\n",
            "Epoch 151/200\n",
            "34/34 [==============================] - 0s 1ms/step - loss: 3747.0195 - mae: 3747.0195\n",
            "Epoch 152/200\n",
            "34/34 [==============================] - 0s 1ms/step - loss: 3748.4409 - mae: 3748.4409\n",
            "Epoch 153/200\n",
            "34/34 [==============================] - 0s 1ms/step - loss: 3747.7292 - mae: 3747.7292\n",
            "Epoch 154/200\n",
            "34/34 [==============================] - 0s 1ms/step - loss: 3742.6543 - mae: 3742.6543\n",
            "Epoch 155/200\n",
            "34/34 [==============================] - 0s 1ms/step - loss: 3745.0557 - mae: 3745.0557\n",
            "Epoch 156/200\n",
            "34/34 [==============================] - 0s 1ms/step - loss: 3739.8157 - mae: 3739.8157\n",
            "Epoch 157/200\n",
            "34/34 [==============================] - 0s 1ms/step - loss: 3738.8052 - mae: 3738.8052\n",
            "Epoch 158/200\n",
            "34/34 [==============================] - 0s 2ms/step - loss: 3734.6821 - mae: 3734.6821\n",
            "Epoch 159/200\n",
            "34/34 [==============================] - 0s 1ms/step - loss: 3730.9856 - mae: 3730.9856\n",
            "Epoch 160/200\n",
            "34/34 [==============================] - 0s 1ms/step - loss: 3737.6233 - mae: 3737.6233\n",
            "Epoch 161/200\n",
            "34/34 [==============================] - 0s 1ms/step - loss: 3733.9832 - mae: 3733.9832\n",
            "Epoch 162/200\n",
            "34/34 [==============================] - 0s 1ms/step - loss: 3728.4880 - mae: 3728.4880\n",
            "Epoch 163/200\n",
            "34/34 [==============================] - 0s 1ms/step - loss: 3727.1340 - mae: 3727.1340\n",
            "Epoch 164/200\n",
            "34/34 [==============================] - 0s 1ms/step - loss: 3732.0996 - mae: 3732.0996\n",
            "Epoch 165/200\n",
            "34/34 [==============================] - 0s 1ms/step - loss: 3725.4739 - mae: 3725.4739\n",
            "Epoch 166/200\n",
            "34/34 [==============================] - 0s 1ms/step - loss: 3726.7104 - mae: 3726.7104\n",
            "Epoch 167/200\n",
            "34/34 [==============================] - 0s 2ms/step - loss: 3725.3997 - mae: 3725.3997\n",
            "Epoch 168/200\n",
            "34/34 [==============================] - 0s 1ms/step - loss: 3721.4895 - mae: 3721.4895\n",
            "Epoch 169/200\n",
            "34/34 [==============================] - 0s 1ms/step - loss: 3719.9016 - mae: 3719.9016\n",
            "Epoch 170/200\n",
            "34/34 [==============================] - 0s 1ms/step - loss: 3714.0635 - mae: 3714.0635\n",
            "Epoch 171/200\n",
            "34/34 [==============================] - 0s 1ms/step - loss: 3713.5762 - mae: 3713.5762\n",
            "Epoch 172/200\n",
            "34/34 [==============================] - 0s 1ms/step - loss: 3714.5544 - mae: 3714.5544\n",
            "Epoch 173/200\n",
            "34/34 [==============================] - 0s 1ms/step - loss: 3710.8889 - mae: 3710.8889\n",
            "Epoch 174/200\n",
            "34/34 [==============================] - 0s 1ms/step - loss: 3714.3403 - mae: 3714.3403\n",
            "Epoch 175/200\n",
            "34/34 [==============================] - 0s 1ms/step - loss: 3715.6028 - mae: 3715.6028\n",
            "Epoch 176/200\n",
            "34/34 [==============================] - 0s 1ms/step - loss: 3712.3652 - mae: 3712.3652\n",
            "Epoch 177/200\n",
            "34/34 [==============================] - 0s 1ms/step - loss: 3704.7410 - mae: 3704.7410\n",
            "Epoch 178/200\n",
            "34/34 [==============================] - 0s 1ms/step - loss: 3704.1299 - mae: 3704.1299\n",
            "Epoch 179/200\n",
            "34/34 [==============================] - 0s 1ms/step - loss: 3711.6653 - mae: 3711.6653\n",
            "Epoch 180/200\n",
            "34/34 [==============================] - 0s 1ms/step - loss: 3714.6587 - mae: 3714.6587\n",
            "Epoch 181/200\n",
            "34/34 [==============================] - 0s 1ms/step - loss: 3702.4194 - mae: 3702.4194\n",
            "Epoch 182/200\n",
            "34/34 [==============================] - 0s 1ms/step - loss: 3699.6853 - mae: 3699.6853\n",
            "Epoch 183/200\n",
            "34/34 [==============================] - 0s 1ms/step - loss: 3698.1018 - mae: 3698.1018\n",
            "Epoch 184/200\n",
            "34/34 [==============================] - 0s 2ms/step - loss: 3704.5679 - mae: 3704.5679\n",
            "Epoch 185/200\n",
            "34/34 [==============================] - 0s 2ms/step - loss: 3701.4329 - mae: 3701.4329\n",
            "Epoch 186/200\n",
            "34/34 [==============================] - 0s 2ms/step - loss: 3703.0684 - mae: 3703.0684\n",
            "Epoch 187/200\n",
            "34/34 [==============================] - 0s 2ms/step - loss: 3693.8960 - mae: 3693.8960\n",
            "Epoch 188/200\n",
            "34/34 [==============================] - 0s 2ms/step - loss: 3700.3259 - mae: 3700.3259\n",
            "Epoch 189/200\n",
            "34/34 [==============================] - 0s 2ms/step - loss: 3690.1672 - mae: 3690.1672\n",
            "Epoch 190/200\n",
            "34/34 [==============================] - 0s 2ms/step - loss: 3690.5452 - mae: 3690.5452\n",
            "Epoch 191/200\n",
            "34/34 [==============================] - 0s 2ms/step - loss: 3702.2883 - mae: 3702.2883\n",
            "Epoch 192/200\n",
            "34/34 [==============================] - 0s 2ms/step - loss: 3689.4795 - mae: 3689.4795\n",
            "Epoch 193/200\n",
            "34/34 [==============================] - 0s 2ms/step - loss: 3680.7166 - mae: 3680.7166\n",
            "Epoch 194/200\n",
            "34/34 [==============================] - 0s 2ms/step - loss: 3682.5706 - mae: 3682.5706\n",
            "Epoch 195/200\n",
            "34/34 [==============================] - 0s 2ms/step - loss: 3679.2957 - mae: 3679.2957\n",
            "Epoch 196/200\n",
            "34/34 [==============================] - 0s 2ms/step - loss: 3687.2192 - mae: 3687.2192\n",
            "Epoch 197/200\n",
            "34/34 [==============================] - 0s 2ms/step - loss: 3671.8772 - mae: 3671.8772\n",
            "Epoch 198/200\n",
            "34/34 [==============================] - 0s 2ms/step - loss: 3677.8499 - mae: 3677.8499\n",
            "Epoch 199/200\n",
            "34/34 [==============================] - 0s 2ms/step - loss: 3686.8491 - mae: 3686.8491\n",
            "Epoch 200/200\n",
            "34/34 [==============================] - 0s 1ms/step - loss: 3672.2395 - mae: 3672.2395\n"
          ]
        }
      ]
    },
    {
      "cell_type": "code",
      "source": [
        "# Evaluate our third model, 3 model icinde en iyi sonucu veren model bu oldu\n",
        "insurance_model_3.evaluate(X_test, y_test)"
      ],
      "metadata": {
        "colab": {
          "base_uri": "https://localhost:8080/"
        },
        "id": "3Uj-3qSw2i_z",
        "outputId": "59aa0ede-7e67-4ba7-9e48-db0ff4d5d996"
      },
      "execution_count": 80,
      "outputs": [
        {
          "output_type": "stream",
          "name": "stdout",
          "text": [
            "9/9 [==============================] - 0s 2ms/step - loss: 3503.0759 - mae: 3503.0759\n"
          ]
        },
        {
          "output_type": "execute_result",
          "data": {
            "text/plain": [
              "[3503.075927734375, 3503.075927734375]"
            ]
          },
          "metadata": {},
          "execution_count": 80
        }
      ]
    },
    {
      "cell_type": "code",
      "source": [
        "insurance_model.evaluate(X_test, y_test)"
      ],
      "metadata": {
        "colab": {
          "base_uri": "https://localhost:8080/"
        },
        "id": "kcgNEhgc2spf",
        "outputId": "390f1ceb-a7d1-4f76-d6b1-2adcb597c8ab"
      },
      "execution_count": 81,
      "outputs": [
        {
          "output_type": "stream",
          "name": "stdout",
          "text": [
            "9/9 [==============================] - 0s 1ms/step - loss: 5836.7217 - mae: 5836.7217\n"
          ]
        },
        {
          "output_type": "execute_result",
          "data": {
            "text/plain": [
              "[5836.7216796875, 5836.7216796875]"
            ]
          },
          "metadata": {},
          "execution_count": 81
        }
      ]
    },
    {
      "cell_type": "code",
      "source": [
        "insurance_model_2.evaluate(X_test, y_test)"
      ],
      "metadata": {
        "colab": {
          "base_uri": "https://localhost:8080/"
        },
        "id": "XJHtY93121hO",
        "outputId": "dd8e9b90-e892-471d-9bfc-3daaf3bd0ba5"
      },
      "execution_count": 82,
      "outputs": [
        {
          "output_type": "stream",
          "name": "stdout",
          "text": [
            "9/9 [==============================] - 0s 2ms/step - loss: 4850.3242 - mae: 4850.3242\n"
          ]
        },
        {
          "output_type": "execute_result",
          "data": {
            "text/plain": [
              "[4850.32421875, 4850.32421875]"
            ]
          },
          "metadata": {},
          "execution_count": 82
        }
      ]
    },
    {
      "cell_type": "code",
      "source": [
        "# Plot history (also known as a loss curve or a training curve)\n",
        "pd.DataFrame(history.history).plot()\n",
        "plt.ylabel(\"loss\")\n",
        "plt.xlabel(\"epochs\")"
      ],
      "metadata": {
        "colab": {
          "base_uri": "https://localhost:8080/",
          "height": 466
        },
        "id": "LFb5PCgy228y",
        "outputId": "dc8fce02-af1d-4420-fcb7-56dabbe6c04d"
      },
      "execution_count": 83,
      "outputs": [
        {
          "output_type": "execute_result",
          "data": {
            "text/plain": [
              "Text(0.5, 0, 'epochs')"
            ]
          },
          "metadata": {},
          "execution_count": 83
        },
        {
          "output_type": "display_data",
          "data": {
            "text/plain": [
              "<Figure size 640x480 with 1 Axes>"
            ],
            "image/png": "[encoded data removed]"
          },
          "metadata": {}
        }
      ]
    },
    {
      "cell_type": "markdown",
      "source": [
        "> **Question:** How long should you train for?\n",
        "\n",
        "It depends. Really... it depends on the problem you're working on. However, many people have asked this question before... so TensorFlow has a solution! It's called the [EarlyStopping Callback], which is a TensorFlow component you can add to your model to stop training once it stops improving a certain metric."
      ],
      "metadata": {
        "id": "m_btvXj34F36"
      }
    },
    {
      "cell_type": "markdown",
      "source": [
        "## Preprocessing data (normalization and standardization)\n",
        "\n",
        "In terms of scaling values, neural networks tend to prefer normalization.\n",
        "\n",
        "If you're not sure on which to use, you could try both and see which performs better."
      ],
      "metadata": {
        "id": "Pl5P954_28cB"
      }
    },
    {
      "cell_type": "code",
      "source": [
        "import pandas as pd\n",
        "import matplotlib.pyplot as plt\n",
        "import tensorflow as tf\n",
        "\n",
        "# Read in the insurance dataframe\n",
        "insurance = pd.read_csv(\"https://raw.githubusercontent.com/stedy/Machine-Learning-with-R-datasets/master/insurance.csv\")\n",
        "insurance"
      ],
      "metadata": {
        "colab": {
          "base_uri": "https://localhost:8080/",
          "height": 423
        },
        "id": "kz4guUbtRRCT",
        "outputId": "1c1d794c-f6c5-4f86-f2cd-de27714fa403"
      },
      "execution_count": 90,
      "outputs": [
        {
          "output_type": "execute_result",
          "data": {
            "text/plain": [
              "      age     sex     bmi  children smoker     region      charges\n",
              "0      19  female  27.900         0    yes  southwest  16884.92400\n",
              "1      18    male  33.770         1     no  southeast   1725.55230\n",
              "2      28    male  33.000         3     no  southeast   4449.46200\n",
              "3      33    male  22.705         0     no  northwest  21984.47061\n",
              "4      32    male  28.880         0     no  northwest   3866.85520\n",
              "...   ...     ...     ...       ...    ...        ...          ...\n",
              "1333   50    male  30.970         3     no  northwest  10600.54830\n",
              "1334   18  female  31.920         0     no  northeast   2205.98080\n",
              "1335   18  female  36.850         0     no  southeast   1629.83350\n",
              "1336   21  female  25.800         0     no  southwest   2007.94500\n",
              "1337   61  female  29.070         0    yes  northwest  29141.36030\n",
              "\n",
              "[1338 rows x 7 columns]"
            ],
            "text/html": [
              "\n",
              "  <div id=\"df-7fefb012-58da-482a-b0c8-5bc5419424a2\">\n",
              "    <div class=\"colab-df-container\">\n",
              "      <div>\n",
              "<style scoped>\n",
              "    .dataframe tbody tr th:only-of-type {\n",
              "        vertical-align: middle;\n",
              "    }\n",
              "\n",
              "    .dataframe tbody tr th {\n",
              "        vertical-align: top;\n",
              "    }\n",
              "\n",
              "    .dataframe thead th {\n",
              "        text-align: right;\n",
              "    }\n",
              "</style>\n",
              "<table border=\"1\" class=\"dataframe\">\n",
              "  <thead>\n",
              "    <tr style=\"text-align: right;\">\n",
              "      <th></th>\n",
              "      <th>age</th>\n",
              "      <th>sex</th>\n",
              "      <th>bmi</th>\n",
              "      <th>children</th>\n",
              "      <th>smoker</th>\n",
              "      <th>region</th>\n",
              "      <th>charges</th>\n",
              "    </tr>\n",
              "  </thead>\n",
              "  <tbody>\n",
              "    <tr>\n",
              "      <th>0</th>\n",
              "      <td>19</td>\n",
              "      <td>female</td>\n",
              "      <td>27.900</td>\n",
              "      <td>0</td>\n",
              "      <td>yes</td>\n",
              "      <td>southwest</td>\n",
              "      <td>16884.92400</td>\n",
              "    </tr>\n",
              "    <tr>\n",
              "      <th>1</th>\n",
              "      <td>18</td>\n",
              "      <td>male</td>\n",
              "      <td>33.770</td>\n",
              "      <td>1</td>\n",
              "      <td>no</td>\n",
              "      <td>southeast</td>\n",
              "      <td>1725.55230</td>\n",
              "    </tr>\n",
              "    <tr>\n",
              "      <th>2</th>\n",
              "      <td>28</td>\n",
              "      <td>male</td>\n",
              "      <td>33.000</td>\n",
              "      <td>3</td>\n",
              "      <td>no</td>\n",
              "      <td>southeast</td>\n",
              "      <td>4449.46200</td>\n",
              "    </tr>\n",
              "    <tr>\n",
              "      <th>3</th>\n",
              "      <td>33</td>\n",
              "      <td>male</td>\n",
              "      <td>22.705</td>\n",
              "      <td>0</td>\n",
              "      <td>no</td>\n",
              "      <td>northwest</td>\n",
              "      <td>21984.47061</td>\n",
              "    </tr>\n",
              "    <tr>\n",
              "      <th>4</th>\n",
              "      <td>32</td>\n",
              "      <td>male</td>\n",
              "      <td>28.880</td>\n",
              "      <td>0</td>\n",
              "      <td>no</td>\n",
              "      <td>northwest</td>\n",
              "      <td>3866.85520</td>\n",
              "    </tr>\n",
              "    <tr>\n",
              "      <th>...</th>\n",
              "      <td>...</td>\n",
              "      <td>...</td>\n",
              "      <td>...</td>\n",
              "      <td>...</td>\n",
              "      <td>...</td>\n",
              "      <td>...</td>\n",
              "      <td>...</td>\n",
              "    </tr>\n",
              "    <tr>\n",
              "      <th>1333</th>\n",
              "      <td>50</td>\n",
              "      <td>male</td>\n",
              "      <td>30.970</td>\n",
              "      <td>3</td>\n",
              "      <td>no</td>\n",
              "      <td>northwest</td>\n",
              "      <td>10600.54830</td>\n",
              "    </tr>\n",
              "    <tr>\n",
              "      <th>1334</th>\n",
              "      <td>18</td>\n",
              "      <td>female</td>\n",
              "      <td>31.920</td>\n",
              "      <td>0</td>\n",
              "      <td>no</td>\n",
              "      <td>northeast</td>\n",
              "      <td>2205.98080</td>\n",
              "    </tr>\n",
              "    <tr>\n",
              "      <th>1335</th>\n",
              "      <td>18</td>\n",
              "      <td>female</td>\n",
              "      <td>36.850</td>\n",
              "      <td>0</td>\n",
              "      <td>no</td>\n",
              "      <td>southeast</td>\n",
              "      <td>1629.83350</td>\n",
              "    </tr>\n",
              "    <tr>\n",
              "      <th>1336</th>\n",
              "      <td>21</td>\n",
              "      <td>female</td>\n",
              "      <td>25.800</td>\n",
              "      <td>0</td>\n",
              "      <td>no</td>\n",
              "      <td>southwest</td>\n",
              "      <td>2007.94500</td>\n",
              "    </tr>\n",
              "    <tr>\n",
              "      <th>1337</th>\n",
              "      <td>61</td>\n",
              "      <td>female</td>\n",
              "      <td>29.070</td>\n",
              "      <td>0</td>\n",
              "      <td>yes</td>\n",
              "      <td>northwest</td>\n",
              "      <td>29141.36030</td>\n",
              "    </tr>\n",
              "  </tbody>\n",
              "</table>\n",
              "<p>1338 rows × 7 columns</p>\n",
              "</div>\n",
              "      <button class=\"colab-df-convert\" onclick=\"convertToInteractive('df-7fefb012-58da-482a-b0c8-5bc5419424a2')\"\n",
              "              title=\"Convert this dataframe to an interactive table.\"\n",
              "              style=\"display:none;\">\n",
              "        \n",
              "  <svg xmlns=\"http://www.w3.org/2000/svg\" height=\"24px\"viewBox=\"0 0 24 24\"\n",
              "       width=\"24px\">\n",
              "    <path d=\"M0 0h24v24H0V0z\" fill=\"none\"/>\n",
              "    <path d=\"M18.56 5.44l.94 2.06.94-2.06 2.06-.94-2.06-.94-.94-2.06-.94 2.06-2.06.94zm-11 1L8.5 8.5l.94-2.06 2.06-.94-2.06-.94L8.5 2.5l-.94 2.06-2.06.94zm10 10l.94 2.06.94-2.06 2.06-.94-2.06-.94-.94-2.06-.94 2.06-2.06.94z\"/><path d=\"M17.41 7.96l-1.37-1.37c-.4-.4-.92-.59-1.43-.59-.52 0-1.04.2-1.43.59L10.3 9.45l-7.72 7.72c-.78.78-.78 2.05 0 2.83L4 21.41c.39.39.9.59 1.41.59.51 0 1.02-.2 1.41-.59l7.78-7.78 2.81-2.81c.8-.78.8-2.07 0-2.86zM5.41 20L4 18.59l7.72-7.72 1.47 1.35L5.41 20z\"/>\n",
              "  </svg>\n",
              "      </button>\n",
              "      \n",
              "  <style>\n",
              "    .colab-df-container {\n",
              "      display:flex;\n",
              "      flex-wrap:wrap;\n",
              "      gap: 12px;\n",
              "    }\n",
              "\n",
              "    .colab-df-convert {\n",
              "      background-color: #E8F0FE;\n",
              "      border: none;\n",
              "      border-radius: 50%;\n",
              "      cursor: pointer;\n",
              "      display: none;\n",
              "      fill: #1967D2;\n",
              "      height: 32px;\n",
              "      padding: 0 0 0 0;\n",
              "      width: 32px;\n",
              "    }\n",
              "\n",
              "    .colab-df-convert:hover {\n",
              "      background-color: #E2EBFA;\n",
              "      box-shadow: 0px 1px 2px rgba(60, 64, 67, 0.3), 0px 1px 3px 1px rgba(60, 64, 67, 0.15);\n",
              "      fill: #174EA6;\n",
              "    }\n",
              "\n",
              "    [theme=dark] .colab-df-convert {\n",
              "      background-color: #3B4455;\n",
              "      fill: #D2E3FC;\n",
              "    }\n",
              "\n",
              "    [theme=dark] .colab-df-convert:hover {\n",
              "      background-color: #434B5C;\n",
              "      box-shadow: 0px 1px 3px 1px rgba(0, 0, 0, 0.15);\n",
              "      filter: drop-shadow(0px 1px 2px rgba(0, 0, 0, 0.3));\n",
              "      fill: #FFFFFF;\n",
              "    }\n",
              "  </style>\n",
              "\n",
              "      <script>\n",
              "        const buttonEl =\n",
              "          document.querySelector('#df-7fefb012-58da-482a-b0c8-5bc5419424a2 button.colab-df-convert');\n",
              "        buttonEl.style.display =\n",
              "          google.colab.kernel.accessAllowed ? 'block' : 'none';\n",
              "\n",
              "        async function convertToInteractive(key) {\n",
              "          const element = document.querySelector('#df-7fefb012-58da-482a-b0c8-5bc5419424a2');\n",
              "          const dataTable =\n",
              "            await google.colab.kernel.invokeFunction('convertToInteractive',\n",
              "                                                     [key], {});\n",
              "          if (!dataTable) return;\n",
              "\n",
              "          const docLinkHtml = 'Like what you see? Visit the ' +\n",
              "            '<a target=\"_blank\" href=https://colab.research.google.com/notebooks/data_table.ipynb>data table notebook</a>'\n",
              "            + ' to learn more about interactive tables.';\n",
              "          element.innerHTML = '';\n",
              "          dataTable['output_type'] = 'display_data';\n",
              "          await google.colab.output.renderOutput(dataTable, element);\n",
              "          const docLink = document.createElement('div');\n",
              "          docLink.innerHTML = docLinkHtml;\n",
              "          element.appendChild(docLink);\n",
              "        }\n",
              "      </script>\n",
              "    </div>\n",
              "  </div>\n",
              "  "
            ]
          },
          "metadata": {},
          "execution_count": 90
        }
      ]
    },
    {
      "cell_type": "markdown",
      "source": [
        "To prepare our data, we can borrow a few classes from Scikit-Learn"
      ],
      "metadata": {
        "id": "Y8llnDnGR5mL"
      }
    },
    {
      "cell_type": "code",
      "source": [
        "from sklearn.compose import make_column_transformer\n",
        "from sklearn.preprocessing import MinMaxScaler, OneHotEncoder\n",
        "from sklearn.model_selection import train_test_split\n",
        "\n",
        "# Create a column transformer\n",
        "ct = make_column_transformer(\n",
        "    (MinMaxScaler(), [\"age\", \"bmi\", \"children\"]), # turn all values in these columns between 0 and 1\n",
        "    (OneHotEncoder(handle_unknown=\"ignore\"), [\"sex\", \"smoker\", \"region\"])\n",
        ")\n",
        "\n",
        "# Create X & y\n",
        "X = insurance.drop(\"charges\", axis=1)\n",
        "y = insurance[\"charges\"]\n",
        "\n",
        "# Build our train and test sets\n",
        "X_train, X_test, y_train, y_test = train_test_split(X, y, test_size=0.2, random_state=42)\n",
        "\n",
        "# Fit the column transformer to our training data\n",
        "ct.fit(X_train)\n",
        "\n",
        "# Transform training and test data with normalization (MinMaxScaler) and OneHotEncoder\n",
        "X_train_normal = ct.transform(X_train)\n",
        "X_test_normal = ct.transform(X_test)\n"
      ],
      "metadata": {
        "id": "kB11Jzo243hy"
      },
      "execution_count": 91,
      "outputs": []
    },
    {
      "cell_type": "code",
      "source": [
        "# What does our data look like now?\n",
        "X_train.loc[0]"
      ],
      "metadata": {
        "colab": {
          "base_uri": "https://localhost:8080/"
        },
        "id": "6nQHxsiiUn4K",
        "outputId": "9b734283-bfa6-45c3-ed30-cf1d73cbe01e"
      },
      "execution_count": 92,
      "outputs": [
        {
          "output_type": "execute_result",
          "data": {
            "text/plain": [
              "age                19\n",
              "sex            female\n",
              "bmi              27.9\n",
              "children            0\n",
              "smoker            yes\n",
              "region      southwest\n",
              "Name: 0, dtype: object"
            ]
          },
          "metadata": {},
          "execution_count": 92
        }
      ]
    },
    {
      "cell_type": "code",
      "source": [
        "X_train_normal[0]"
      ],
      "metadata": {
        "colab": {
          "base_uri": "https://localhost:8080/"
        },
        "id": "xGxNTYfsVGoB",
        "outputId": "a9e4e005-1d46-475a-bbbb-6139ca5312e7"
      },
      "execution_count": 98,
      "outputs": [
        {
          "output_type": "execute_result",
          "data": {
            "text/plain": [
              "array([0.60869565, 0.10734463, 0.4       , 1.        , 0.        ,\n",
              "       1.        , 0.        , 0.        , 1.        , 0.        ,\n",
              "       0.        ])"
            ]
          },
          "metadata": {},
          "execution_count": 98
        }
      ]
    },
    {
      "cell_type": "code",
      "source": [
        "X_train.shape, X_train_normal.shape"
      ],
      "metadata": {
        "colab": {
          "base_uri": "https://localhost:8080/"
        },
        "id": "Y6Bk1tiRVkLg",
        "outputId": "e2058d42-a046-4a72-a894-ac4af4ce6aaf"
      },
      "execution_count": 99,
      "outputs": [
        {
          "output_type": "execute_result",
          "data": {
            "text/plain": [
              "((1070, 6), (1070, 11))"
            ]
          },
          "metadata": {},
          "execution_count": 99
        }
      ]
    },
    {
      "cell_type": "markdown",
      "source": [
        "Our data has been normalized and one-hot encoded.\n",
        "Now let's build a neural network model on it and see how it goes."
      ],
      "metadata": {
        "id": "keP22c8aVvl4"
      }
    },
    {
      "cell_type": "code",
      "source": [
        "# Build a neural network model to fit on our normalized data\n",
        "# Set random seed\n",
        "tf.random.set_seed(42)\n",
        "\n",
        "# 1. Create the model\n",
        "insurance_model_4 = tf.keras.Sequential([\n",
        "    tf.keras.layers.Dense(100),\n",
        "    tf.keras.layers.Dense(10),\n",
        "    tf.keras.layers.Dense(1)\n",
        "])\n",
        "\n",
        "# 2. Compile the model\n",
        "insurance_model_4.compile(loss=tf.keras.losses.mae,\n",
        "                          optimizer = tf.keras.optimizers.Adam(),\n",
        "                          metrics = [\"mae\"])\n",
        "\n",
        "# 3. Fit the model\n",
        "insurance_model_4.fit(X_train_normal, y_train, epochs=100, verbose=1)"
      ],
      "metadata": {
        "colab": {
          "base_uri": "https://localhost:8080/"
        },
        "id": "rGsShVhjVuaT",
        "outputId": "8e33104e-bc5f-4466-ec2e-45dfdcc839d3"
      },
      "execution_count": 110,
      "outputs": [
        {
          "output_type": "stream",
          "name": "stdout",
          "text": [
            "Epoch 1/100\n",
            "34/34 [==============================] - 1s 1ms/step - loss: 13343.8467 - mae: 13343.8467\n",
            "Epoch 2/100\n",
            "34/34 [==============================] - 0s 1ms/step - loss: 13335.7012 - mae: 13335.7012\n",
            "Epoch 3/100\n",
            "34/34 [==============================] - 0s 1ms/step - loss: 13315.6445 - mae: 13315.6445\n",
            "Epoch 4/100\n",
            "34/34 [==============================] - 0s 1ms/step - loss: 13273.2148 - mae: 13273.2148\n",
            "Epoch 5/100\n",
            "34/34 [==============================] - 0s 1ms/step - loss: 13197.0674 - mae: 13197.0674\n",
            "Epoch 6/100\n",
            "34/34 [==============================] - 0s 1ms/step - loss: 13075.7432 - mae: 13075.7432\n",
            "Epoch 7/100\n",
            "34/34 [==============================] - 0s 1ms/step - loss: 12898.7168 - mae: 12898.7168\n",
            "Epoch 8/100\n",
            "34/34 [==============================] - 0s 1ms/step - loss: 12655.9023 - mae: 12655.9023\n",
            "Epoch 9/100\n",
            "34/34 [==============================] - 0s 2ms/step - loss: 12337.1191 - mae: 12337.1191\n",
            "Epoch 10/100\n",
            "34/34 [==============================] - 0s 1ms/step - loss: 11937.3936 - mae: 11937.3936\n",
            "Epoch 11/100\n",
            "34/34 [==============================] - 0s 1ms/step - loss: 11465.2598 - mae: 11465.2598\n",
            "Epoch 12/100\n",
            "34/34 [==============================] - 0s 1ms/step - loss: 10959.8662 - mae: 10959.8662\n",
            "Epoch 13/100\n",
            "34/34 [==============================] - 0s 1ms/step - loss: 10458.2793 - mae: 10458.2793\n",
            "Epoch 14/100\n",
            "34/34 [==============================] - 0s 1ms/step - loss: 9959.8965 - mae: 9959.8965\n",
            "Epoch 15/100\n",
            "34/34 [==============================] - 0s 1ms/step - loss: 9489.3398 - mae: 9489.3398\n",
            "Epoch 16/100\n",
            "34/34 [==============================] - 0s 1ms/step - loss: 9071.0225 - mae: 9071.0225\n",
            "Epoch 17/100\n",
            "34/34 [==============================] - 0s 1ms/step - loss: 8725.2725 - mae: 8725.2725\n",
            "Epoch 18/100\n",
            "34/34 [==============================] - 0s 1ms/step - loss: 8444.6592 - mae: 8444.6592\n",
            "Epoch 19/100\n",
            "34/34 [==============================] - 0s 2ms/step - loss: 8229.4854 - mae: 8229.4854\n",
            "Epoch 20/100\n",
            "34/34 [==============================] - 0s 1ms/step - loss: 8083.0254 - mae: 8083.0254\n",
            "Epoch 21/100\n",
            "34/34 [==============================] - 0s 1ms/step - loss: 7974.6470 - mae: 7974.6470\n",
            "Epoch 22/100\n",
            "34/34 [==============================] - 0s 1ms/step - loss: 7899.6636 - mae: 7899.6636\n",
            "Epoch 23/100\n",
            "34/34 [==============================] - 0s 1ms/step - loss: 7840.6880 - mae: 7840.6880\n",
            "Epoch 24/100\n",
            "34/34 [==============================] - 0s 1ms/step - loss: 7788.0020 - mae: 7788.0020\n",
            "Epoch 25/100\n",
            "34/34 [==============================] - 0s 1ms/step - loss: 7749.2285 - mae: 7749.2285\n",
            "Epoch 26/100\n",
            "34/34 [==============================] - 0s 1ms/step - loss: 7697.5962 - mae: 7697.5962\n",
            "Epoch 27/100\n",
            "34/34 [==============================] - 0s 1ms/step - loss: 7655.6865 - mae: 7655.6865\n",
            "Epoch 28/100\n",
            "34/34 [==============================] - 0s 1ms/step - loss: 7613.0596 - mae: 7613.0596\n",
            "Epoch 29/100\n",
            "34/34 [==============================] - 0s 1ms/step - loss: 7570.3574 - mae: 7570.3574\n",
            "Epoch 30/100\n",
            "34/34 [==============================] - 0s 1ms/step - loss: 7526.7119 - mae: 7526.7119\n",
            "Epoch 31/100\n",
            "34/34 [==============================] - 0s 1ms/step - loss: 7482.7471 - mae: 7482.7471\n",
            "Epoch 32/100\n",
            "34/34 [==============================] - 0s 1ms/step - loss: 7438.4868 - mae: 7438.4868\n",
            "Epoch 33/100\n",
            "34/34 [==============================] - 0s 1ms/step - loss: 7393.9888 - mae: 7393.9888\n",
            "Epoch 34/100\n",
            "34/34 [==============================] - 0s 1ms/step - loss: 7345.5312 - mae: 7345.5312\n",
            "Epoch 35/100\n",
            "34/34 [==============================] - 0s 1ms/step - loss: 7298.6250 - mae: 7298.6250\n",
            "Epoch 36/100\n",
            "34/34 [==============================] - 0s 1ms/step - loss: 7248.3154 - mae: 7248.3154\n",
            "Epoch 37/100\n",
            "34/34 [==============================] - 0s 1ms/step - loss: 7197.7656 - mae: 7197.7656\n",
            "Epoch 38/100\n",
            "34/34 [==============================] - 0s 1ms/step - loss: 7146.6206 - mae: 7146.6206\n",
            "Epoch 39/100\n",
            "34/34 [==============================] - 0s 1ms/step - loss: 7091.6348 - mae: 7091.6348\n",
            "Epoch 40/100\n",
            "34/34 [==============================] - 0s 1ms/step - loss: 7036.0591 - mae: 7036.0591\n",
            "Epoch 41/100\n",
            "34/34 [==============================] - 0s 1ms/step - loss: 6979.4688 - mae: 6979.4688\n",
            "Epoch 42/100\n",
            "34/34 [==============================] - 0s 1ms/step - loss: 6920.3291 - mae: 6920.3291\n",
            "Epoch 43/100\n",
            "34/34 [==============================] - 0s 1ms/step - loss: 6857.5923 - mae: 6857.5923\n",
            "Epoch 44/100\n",
            "34/34 [==============================] - 0s 1ms/step - loss: 6791.0366 - mae: 6791.0366\n",
            "Epoch 45/100\n",
            "34/34 [==============================] - 0s 1ms/step - loss: 6723.7026 - mae: 6723.7026\n",
            "Epoch 46/100\n",
            "34/34 [==============================] - 0s 1ms/step - loss: 6654.4604 - mae: 6654.4604\n",
            "Epoch 47/100\n",
            "34/34 [==============================] - 0s 1ms/step - loss: 6583.0098 - mae: 6583.0098\n",
            "Epoch 48/100\n",
            "34/34 [==============================] - 0s 1ms/step - loss: 6503.9214 - mae: 6503.9214\n",
            "Epoch 49/100\n",
            "34/34 [==============================] - 0s 1ms/step - loss: 6424.7847 - mae: 6424.7847\n",
            "Epoch 50/100\n",
            "34/34 [==============================] - 0s 1ms/step - loss: 6338.7773 - mae: 6338.7773\n",
            "Epoch 51/100\n",
            "34/34 [==============================] - 0s 1ms/step - loss: 6253.7500 - mae: 6253.7500\n",
            "Epoch 52/100\n",
            "34/34 [==============================] - 0s 2ms/step - loss: 6160.8281 - mae: 6160.8281\n",
            "Epoch 53/100\n",
            "34/34 [==============================] - 0s 1ms/step - loss: 6064.8071 - mae: 6064.8071\n",
            "Epoch 54/100\n",
            "34/34 [==============================] - 0s 1ms/step - loss: 5966.0195 - mae: 5966.0195\n",
            "Epoch 55/100\n",
            "34/34 [==============================] - 0s 1ms/step - loss: 5858.4141 - mae: 5858.4141\n",
            "Epoch 56/100\n",
            "34/34 [==============================] - 0s 1ms/step - loss: 5749.8892 - mae: 5749.8892\n",
            "Epoch 57/100\n",
            "34/34 [==============================] - 0s 1ms/step - loss: 5634.2832 - mae: 5634.2832\n",
            "Epoch 58/100\n",
            "34/34 [==============================] - 0s 2ms/step - loss: 5517.4614 - mae: 5517.4614\n",
            "Epoch 59/100\n",
            "34/34 [==============================] - 0s 1ms/step - loss: 5399.2070 - mae: 5399.2070\n",
            "Epoch 60/100\n",
            "34/34 [==============================] - 0s 1ms/step - loss: 5276.0107 - mae: 5276.0107\n",
            "Epoch 61/100\n",
            "34/34 [==============================] - 0s 1ms/step - loss: 5149.5103 - mae: 5149.5103\n",
            "Epoch 62/100\n",
            "34/34 [==============================] - 0s 1ms/step - loss: 5019.0317 - mae: 5019.0317\n",
            "Epoch 63/100\n",
            "34/34 [==============================] - 0s 1ms/step - loss: 4890.1831 - mae: 4890.1831\n",
            "Epoch 64/100\n",
            "34/34 [==============================] - 0s 1ms/step - loss: 4758.1660 - mae: 4758.1660\n",
            "Epoch 65/100\n",
            "34/34 [==============================] - 0s 1ms/step - loss: 4632.6304 - mae: 4632.6304\n",
            "Epoch 66/100\n",
            "34/34 [==============================] - 0s 1ms/step - loss: 4509.7852 - mae: 4509.7852\n",
            "Epoch 67/100\n",
            "34/34 [==============================] - 0s 1ms/step - loss: 4402.0918 - mae: 4402.0918\n",
            "Epoch 68/100\n",
            "34/34 [==============================] - 0s 1ms/step - loss: 4296.4805 - mae: 4296.4805\n",
            "Epoch 69/100\n",
            "34/34 [==============================] - 0s 1ms/step - loss: 4195.8228 - mae: 4195.8228\n",
            "Epoch 70/100\n",
            "34/34 [==============================] - 0s 1ms/step - loss: 4103.1143 - mae: 4103.1143\n",
            "Epoch 71/100\n",
            "34/34 [==============================] - 0s 1ms/step - loss: 4016.9551 - mae: 4016.9551\n",
            "Epoch 72/100\n",
            "34/34 [==============================] - 0s 1ms/step - loss: 3942.3103 - mae: 3942.3103\n",
            "Epoch 73/100\n",
            "34/34 [==============================] - 0s 1ms/step - loss: 3878.3938 - mae: 3878.3938\n",
            "Epoch 74/100\n",
            "34/34 [==============================] - 0s 1ms/step - loss: 3825.1489 - mae: 3825.1489\n",
            "Epoch 75/100\n",
            "34/34 [==============================] - 0s 1ms/step - loss: 3783.3257 - mae: 3783.3257\n",
            "Epoch 76/100\n",
            "34/34 [==============================] - 0s 1ms/step - loss: 3751.0867 - mae: 3751.0867\n",
            "Epoch 77/100\n",
            "34/34 [==============================] - 0s 1ms/step - loss: 3725.0464 - mae: 3725.0464\n",
            "Epoch 78/100\n",
            "34/34 [==============================] - 0s 1ms/step - loss: 3706.5405 - mae: 3706.5405\n",
            "Epoch 79/100\n",
            "34/34 [==============================] - 0s 1ms/step - loss: 3693.4634 - mae: 3693.4634\n",
            "Epoch 80/100\n",
            "34/34 [==============================] - 0s 1ms/step - loss: 3684.3010 - mae: 3684.3010\n",
            "Epoch 81/100\n",
            "34/34 [==============================] - 0s 1ms/step - loss: 3677.2322 - mae: 3677.2322\n",
            "Epoch 82/100\n",
            "34/34 [==============================] - 0s 1ms/step - loss: 3673.5994 - mae: 3673.5994\n",
            "Epoch 83/100\n",
            "34/34 [==============================] - 0s 1ms/step - loss: 3667.2593 - mae: 3667.2593\n",
            "Epoch 84/100\n",
            "34/34 [==============================] - 0s 1ms/step - loss: 3664.1733 - mae: 3664.1733\n",
            "Epoch 85/100\n",
            "34/34 [==============================] - 0s 1ms/step - loss: 3662.0615 - mae: 3662.0615\n",
            "Epoch 86/100\n",
            "34/34 [==============================] - 0s 1ms/step - loss: 3659.7375 - mae: 3659.7375\n",
            "Epoch 87/100\n",
            "34/34 [==============================] - 0s 1ms/step - loss: 3656.8320 - mae: 3656.8320\n",
            "Epoch 88/100\n",
            "34/34 [==============================] - 0s 1ms/step - loss: 3654.3169 - mae: 3654.3169\n",
            "Epoch 89/100\n",
            "34/34 [==============================] - 0s 1ms/step - loss: 3652.5566 - mae: 3652.5566\n",
            "Epoch 90/100\n",
            "34/34 [==============================] - 0s 1ms/step - loss: 3651.1726 - mae: 3651.1726\n",
            "Epoch 91/100\n",
            "34/34 [==============================] - 0s 1ms/step - loss: 3647.9275 - mae: 3647.9275\n",
            "Epoch 92/100\n",
            "34/34 [==============================] - 0s 1ms/step - loss: 3647.2441 - mae: 3647.2441\n",
            "Epoch 93/100\n",
            "34/34 [==============================] - 0s 1ms/step - loss: 3645.1807 - mae: 3645.1807\n",
            "Epoch 94/100\n",
            "34/34 [==============================] - 0s 1ms/step - loss: 3643.3333 - mae: 3643.3333\n",
            "Epoch 95/100\n",
            "34/34 [==============================] - 0s 1ms/step - loss: 3644.4077 - mae: 3644.4077\n",
            "Epoch 96/100\n",
            "34/34 [==============================] - 0s 1ms/step - loss: 3640.9744 - mae: 3640.9744\n",
            "Epoch 97/100\n",
            "34/34 [==============================] - 0s 1ms/step - loss: 3638.9253 - mae: 3638.9253\n",
            "Epoch 98/100\n",
            "34/34 [==============================] - 0s 1ms/step - loss: 3636.8279 - mae: 3636.8279\n",
            "Epoch 99/100\n",
            "34/34 [==============================] - 0s 1ms/step - loss: 3635.9116 - mae: 3635.9116\n",
            "Epoch 100/100\n",
            "34/34 [==============================] - 0s 1ms/step - loss: 3634.7830 - mae: 3634.7830\n"
          ]
        },
        {
          "output_type": "execute_result",
          "data": {
            "text/plain": [
              "<keras.callbacks.History at 0x7fb3a2e5b820>"
            ]
          },
          "metadata": {},
          "execution_count": 110
        }
      ]
    },
    {
      "cell_type": "code",
      "source": [
        "# Evaluate our insurance model trained on normalized data\n",
        "insurance_model_4.evaluate(X_test_normal, y_test)"
      ],
      "metadata": {
        "colab": {
          "base_uri": "https://localhost:8080/"
        },
        "id": "HjaJ_SnyWlSR",
        "outputId": "ade3fb27-d1e0-4af4-814c-fdab1bb14b68"
      },
      "execution_count": 111,
      "outputs": [
        {
          "output_type": "stream",
          "name": "stdout",
          "text": [
            "9/9 [==============================] - 0s 2ms/step - loss: 3437.7505 - mae: 3437.7505\n"
          ]
        },
        {
          "output_type": "execute_result",
          "data": {
            "text/plain": [
              "[3437.75048828125, 3437.75048828125]"
            ]
          },
          "metadata": {},
          "execution_count": 111
        }
      ]
    },
    {
      "cell_type": "code",
      "source": [
        "X[\"age\"].plot(kind=\"hist\")"
      ],
      "metadata": {
        "colab": {
          "base_uri": "https://localhost:8080/",
          "height": 447
        },
        "id": "kIoWQjbSPzWw",
        "outputId": "4c3c21a6-bd6d-45d4-cae2-2431dc307af8"
      },
      "execution_count": 87,
      "outputs": [
        {
          "output_type": "execute_result",
          "data": {
            "text/plain": [
              "<Axes: ylabel='Frequency'>"
            ]
          },
          "metadata": {},
          "execution_count": 87
        },
        {
          "output_type": "display_data",
          "data": {
            "text/plain": [
              "<Figure size 640x480 with 1 Axes>"
            ],
            "image/png": "[encoded data removed]"
          },
          "metadata": {}
        }
      ]
    },
    {
      "cell_type": "code",
      "source": [
        "X[\"bmi\"].plot(kind=\"hist\")"
      ],
      "metadata": {
        "colab": {
          "base_uri": "https://localhost:8080/",
          "height": 447
        },
        "id": "JVsRYF3cP4ud",
        "outputId": "3c99e721-e814-4c22-f9ae-1eae9c38849d"
      },
      "execution_count": 88,
      "outputs": [
        {
          "output_type": "execute_result",
          "data": {
            "text/plain": [
              "<Axes: ylabel='Frequency'>"
            ]
          },
          "metadata": {},
          "execution_count": 88
        },
        {
          "output_type": "display_data",
          "data": {
            "text/plain": [
              "<Figure size 640x480 with 1 Axes>"
            ],
            "image/png": "[encoded data removed]"
          },
          "metadata": {}
        }
      ]
    },
    {
      "cell_type": "code",
      "source": [
        "X[\"children\"].value_counts()"
      ],
      "metadata": {
        "colab": {
          "base_uri": "https://localhost:8080/"
        },
        "id": "k9ohrikuQCkJ",
        "outputId": "9a5ddaa1-b35c-4b01-f440-8f1a82b6af85"
      },
      "execution_count": 89,
      "outputs": [
        {
          "output_type": "execute_result",
          "data": {
            "text/plain": [
              "0    574\n",
              "1    324\n",
              "2    240\n",
              "3    157\n",
              "4     25\n",
              "5     18\n",
              "Name: children, dtype: int64"
            ]
          },
          "metadata": {},
          "execution_count": 89
        }
      ]
    },
    {
      "cell_type": "code",
      "source": [],
      "metadata": {
        "id": "A1W38_N9QKtY"
      },
      "execution_count": null,
      "outputs": []
    }
  ]
}