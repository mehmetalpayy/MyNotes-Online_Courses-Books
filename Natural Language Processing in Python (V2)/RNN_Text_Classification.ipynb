{
  "nbformat": 4,
  "nbformat_minor": 0,
  "metadata": {
    "colab": {
      "provenance": [],
      "gpuType": "T4"
    },
    "kernelspec": {
      "name": "python3",
      "display_name": "Python 3"
    },
    "language_info": {
      "name": "python"
    },
    "accelerator": "GPU"
  },
  "cells": [
    {
      "cell_type": "code",
      "execution_count": 1,
      "metadata": {
        "id": "l3LdzG1QjreM",
        "colab": {
          "base_uri": "https://localhost:8080/"
        },
        "outputId": "0c7efbdf-e545-457e-9741-ae510c6f789e"
      },
      "outputs": [
        {
          "output_type": "stream",
          "name": "stdout",
          "text": [
            "--2024-06-20 18:21:52--  https://lazyprogrammer.me/course_files/nlp/bbc_text_cls.csv\n",
            "Resolving lazyprogrammer.me (lazyprogrammer.me)... 172.67.213.166, 104.21.23.210, 2606:4700:3031::6815:17d2, ...\n",
            "Connecting to lazyprogrammer.me (lazyprogrammer.me)|172.67.213.166|:443... connected.\n",
            "HTTP request sent, awaiting response... 403 Forbidden\n",
            "2024-06-20 18:21:52 ERROR 403: Forbidden.\n",
            "\n"
          ]
        }
      ],
      "source": [
        "# https://www.kaggle.com/shivamkushwaha/bbc-full-text-document-classification\n",
        "!wget -nc https://lazyprogrammer.me/course_files/nlp/bbc_text_cls.csv"
      ]
    },
    {
      "cell_type": "code",
      "source": [
        "import numpy as np\n",
        "import pandas as pd\n",
        "import tensorflow as tf\n",
        "import matplotlib.pyplot as plt\n",
        "from sklearn.model_selection import train_test_split\n",
        "\n",
        "from tensorflow.keras.preprocessing.text import Tokenizer\n",
        "from tensorflow.keras.preprocessing.sequence import pad_sequences\n",
        "from tensorflow.keras.layers import Dense, Input, GlobalMaxPooling1D\n",
        "from tensorflow.keras.layers import LSTM, GRU, SimpleRNN, Embedding\n",
        "from tensorflow.keras.models import Model\n",
        "from tensorflow.keras.losses import SparseCategoricalCrossentropy"
      ],
      "metadata": {
        "id": "Yxtt4XOw4EDJ"
      },
      "execution_count": 2,
      "outputs": []
    },
    {
      "cell_type": "code",
      "source": [
        "df = pd.read_csv('bbc_text_cls.csv')"
      ],
      "metadata": {
        "id": "L4xnEXXU4FF5"
      },
      "execution_count": 5,
      "outputs": []
    },
    {
      "cell_type": "code",
      "source": [
        "df.head()"
      ],
      "metadata": {
        "id": "e1HqWGf54F7G",
        "colab": {
          "base_uri": "https://localhost:8080/",
          "height": 206
        },
        "outputId": "d0ecd28b-a753-440f-efa8-a431d70530b3"
      },
      "execution_count": 6,
      "outputs": [
        {
          "output_type": "execute_result",
          "data": {
            "text/plain": [
              "                                                text    labels\n",
              "0  Ad sales boost Time Warner profit\\n\\nQuarterly...  business\n",
              "1  Dollar gains on Greenspan speech\\n\\nThe dollar...  business\n",
              "2  Yukos unit buyer faces loan claim\\n\\nThe owner...  business\n",
              "3  High fuel prices hit BA's profits\\n\\nBritish A...  business\n",
              "4  Pernod takeover talk lifts Domecq\\n\\nShares in...  business"
            ],
            "text/html": [
              "\n",
              "  <div id=\"df-c0471d69-e386-4f5b-a54b-24dada18e7b2\" class=\"colab-df-container\">\n",
              "    <div>\n",
              "<style scoped>\n",
              "    .dataframe tbody tr th:only-of-type {\n",
              "        vertical-align: middle;\n",
              "    }\n",
              "\n",
              "    .dataframe tbody tr th {\n",
              "        vertical-align: top;\n",
              "    }\n",
              "\n",
              "    .dataframe thead th {\n",
              "        text-align: right;\n",
              "    }\n",
              "</style>\n",
              "<table border=\"1\" class=\"dataframe\">\n",
              "  <thead>\n",
              "    <tr style=\"text-align: right;\">\n",
              "      <th></th>\n",
              "      <th>text</th>\n",
              "      <th>labels</th>\n",
              "    </tr>\n",
              "  </thead>\n",
              "  <tbody>\n",
              "    <tr>\n",
              "      <th>0</th>\n",
              "      <td>Ad sales boost Time Warner profit\\n\\nQuarterly...</td>\n",
              "      <td>business</td>\n",
              "    </tr>\n",
              "    <tr>\n",
              "      <th>1</th>\n",
              "      <td>Dollar gains on Greenspan speech\\n\\nThe dollar...</td>\n",
              "      <td>business</td>\n",
              "    </tr>\n",
              "    <tr>\n",
              "      <th>2</th>\n",
              "      <td>Yukos unit buyer faces loan claim\\n\\nThe owner...</td>\n",
              "      <td>business</td>\n",
              "    </tr>\n",
              "    <tr>\n",
              "      <th>3</th>\n",
              "      <td>High fuel prices hit BA's profits\\n\\nBritish A...</td>\n",
              "      <td>business</td>\n",
              "    </tr>\n",
              "    <tr>\n",
              "      <th>4</th>\n",
              "      <td>Pernod takeover talk lifts Domecq\\n\\nShares in...</td>\n",
              "      <td>business</td>\n",
              "    </tr>\n",
              "  </tbody>\n",
              "</table>\n",
              "</div>\n",
              "    <div class=\"colab-df-buttons\">\n",
              "\n",
              "  <div class=\"colab-df-container\">\n",
              "    <button class=\"colab-df-convert\" onclick=\"convertToInteractive('df-c0471d69-e386-4f5b-a54b-24dada18e7b2')\"\n",
              "            title=\"Convert this dataframe to an interactive table.\"\n",
              "            style=\"display:none;\">\n",
              "\n",
              "  <svg xmlns=\"http://www.w3.org/2000/svg\" height=\"24px\" viewBox=\"0 -960 960 960\">\n",
              "    <path d=\"M120-120v-720h720v720H120Zm60-500h600v-160H180v160Zm220 220h160v-160H400v160Zm0 220h160v-160H400v160ZM180-400h160v-160H180v160Zm440 0h160v-160H620v160ZM180-180h160v-160H180v160Zm440 0h160v-160H620v160Z\"/>\n",
              "  </svg>\n",
              "    </button>\n",
              "\n",
              "  <style>\n",
              "    .colab-df-container {\n",
              "      display:flex;\n",
              "      gap: 12px;\n",
              "    }\n",
              "\n",
              "    .colab-df-convert {\n",
              "      background-color: #E8F0FE;\n",
              "      border: none;\n",
              "      border-radius: 50%;\n",
              "      cursor: pointer;\n",
              "      display: none;\n",
              "      fill: #1967D2;\n",
              "      height: 32px;\n",
              "      padding: 0 0 0 0;\n",
              "      width: 32px;\n",
              "    }\n",
              "\n",
              "    .colab-df-convert:hover {\n",
              "      background-color: #E2EBFA;\n",
              "      box-shadow: 0px 1px 2px rgba(60, 64, 67, 0.3), 0px 1px 3px 1px rgba(60, 64, 67, 0.15);\n",
              "      fill: #174EA6;\n",
              "    }\n",
              "\n",
              "    .colab-df-buttons div {\n",
              "      margin-bottom: 4px;\n",
              "    }\n",
              "\n",
              "    [theme=dark] .colab-df-convert {\n",
              "      background-color: #3B4455;\n",
              "      fill: #D2E3FC;\n",
              "    }\n",
              "\n",
              "    [theme=dark] .colab-df-convert:hover {\n",
              "      background-color: #434B5C;\n",
              "      box-shadow: 0px 1px 3px 1px rgba(0, 0, 0, 0.15);\n",
              "      filter: drop-shadow(0px 1px 2px rgba(0, 0, 0, 0.3));\n",
              "      fill: #FFFFFF;\n",
              "    }\n",
              "  </style>\n",
              "\n",
              "    <script>\n",
              "      const buttonEl =\n",
              "        document.querySelector('#df-c0471d69-e386-4f5b-a54b-24dada18e7b2 button.colab-df-convert');\n",
              "      buttonEl.style.display =\n",
              "        google.colab.kernel.accessAllowed ? 'block' : 'none';\n",
              "\n",
              "      async function convertToInteractive(key) {\n",
              "        const element = document.querySelector('#df-c0471d69-e386-4f5b-a54b-24dada18e7b2');\n",
              "        const dataTable =\n",
              "          await google.colab.kernel.invokeFunction('convertToInteractive',\n",
              "                                                    [key], {});\n",
              "        if (!dataTable) return;\n",
              "\n",
              "        const docLinkHtml = 'Like what you see? Visit the ' +\n",
              "          '<a target=\"_blank\" href=https://colab.research.google.com/notebooks/data_table.ipynb>data table notebook</a>'\n",
              "          + ' to learn more about interactive tables.';\n",
              "        element.innerHTML = '';\n",
              "        dataTable['output_type'] = 'display_data';\n",
              "        await google.colab.output.renderOutput(dataTable, element);\n",
              "        const docLink = document.createElement('div');\n",
              "        docLink.innerHTML = docLinkHtml;\n",
              "        element.appendChild(docLink);\n",
              "      }\n",
              "    </script>\n",
              "  </div>\n",
              "\n",
              "\n",
              "<div id=\"df-1dfd6778-0f77-41d2-aa19-7183ac07779a\">\n",
              "  <button class=\"colab-df-quickchart\" onclick=\"quickchart('df-1dfd6778-0f77-41d2-aa19-7183ac07779a')\"\n",
              "            title=\"Suggest charts\"\n",
              "            style=\"display:none;\">\n",
              "\n",
              "<svg xmlns=\"http://www.w3.org/2000/svg\" height=\"24px\"viewBox=\"0 0 24 24\"\n",
              "     width=\"24px\">\n",
              "    <g>\n",
              "        <path d=\"M19 3H5c-1.1 0-2 .9-2 2v14c0 1.1.9 2 2 2h14c1.1 0 2-.9 2-2V5c0-1.1-.9-2-2-2zM9 17H7v-7h2v7zm4 0h-2V7h2v10zm4 0h-2v-4h2v4z\"/>\n",
              "    </g>\n",
              "</svg>\n",
              "  </button>\n",
              "\n",
              "<style>\n",
              "  .colab-df-quickchart {\n",
              "      --bg-color: #E8F0FE;\n",
              "      --fill-color: #1967D2;\n",
              "      --hover-bg-color: #E2EBFA;\n",
              "      --hover-fill-color: #174EA6;\n",
              "      --disabled-fill-color: #AAA;\n",
              "      --disabled-bg-color: #DDD;\n",
              "  }\n",
              "\n",
              "  [theme=dark] .colab-df-quickchart {\n",
              "      --bg-color: #3B4455;\n",
              "      --fill-color: #D2E3FC;\n",
              "      --hover-bg-color: #434B5C;\n",
              "      --hover-fill-color: #FFFFFF;\n",
              "      --disabled-bg-color: #3B4455;\n",
              "      --disabled-fill-color: #666;\n",
              "  }\n",
              "\n",
              "  .colab-df-quickchart {\n",
              "    background-color: var(--bg-color);\n",
              "    border: none;\n",
              "    border-radius: 50%;\n",
              "    cursor: pointer;\n",
              "    display: none;\n",
              "    fill: var(--fill-color);\n",
              "    height: 32px;\n",
              "    padding: 0;\n",
              "    width: 32px;\n",
              "  }\n",
              "\n",
              "  .colab-df-quickchart:hover {\n",
              "    background-color: var(--hover-bg-color);\n",
              "    box-shadow: 0 1px 2px rgba(60, 64, 67, 0.3), 0 1px 3px 1px rgba(60, 64, 67, 0.15);\n",
              "    fill: var(--button-hover-fill-color);\n",
              "  }\n",
              "\n",
              "  .colab-df-quickchart-complete:disabled,\n",
              "  .colab-df-quickchart-complete:disabled:hover {\n",
              "    background-color: var(--disabled-bg-color);\n",
              "    fill: var(--disabled-fill-color);\n",
              "    box-shadow: none;\n",
              "  }\n",
              "\n",
              "  .colab-df-spinner {\n",
              "    border: 2px solid var(--fill-color);\n",
              "    border-color: transparent;\n",
              "    border-bottom-color: var(--fill-color);\n",
              "    animation:\n",
              "      spin 1s steps(1) infinite;\n",
              "  }\n",
              "\n",
              "  @keyframes spin {\n",
              "    0% {\n",
              "      border-color: transparent;\n",
              "      border-bottom-color: var(--fill-color);\n",
              "      border-left-color: var(--fill-color);\n",
              "    }\n",
              "    20% {\n",
              "      border-color: transparent;\n",
              "      border-left-color: var(--fill-color);\n",
              "      border-top-color: var(--fill-color);\n",
              "    }\n",
              "    30% {\n",
              "      border-color: transparent;\n",
              "      border-left-color: var(--fill-color);\n",
              "      border-top-color: var(--fill-color);\n",
              "      border-right-color: var(--fill-color);\n",
              "    }\n",
              "    40% {\n",
              "      border-color: transparent;\n",
              "      border-right-color: var(--fill-color);\n",
              "      border-top-color: var(--fill-color);\n",
              "    }\n",
              "    60% {\n",
              "      border-color: transparent;\n",
              "      border-right-color: var(--fill-color);\n",
              "    }\n",
              "    80% {\n",
              "      border-color: transparent;\n",
              "      border-right-color: var(--fill-color);\n",
              "      border-bottom-color: var(--fill-color);\n",
              "    }\n",
              "    90% {\n",
              "      border-color: transparent;\n",
              "      border-bottom-color: var(--fill-color);\n",
              "    }\n",
              "  }\n",
              "</style>\n",
              "\n",
              "  <script>\n",
              "    async function quickchart(key) {\n",
              "      const quickchartButtonEl =\n",
              "        document.querySelector('#' + key + ' button');\n",
              "      quickchartButtonEl.disabled = true;  // To prevent multiple clicks.\n",
              "      quickchartButtonEl.classList.add('colab-df-spinner');\n",
              "      try {\n",
              "        const charts = await google.colab.kernel.invokeFunction(\n",
              "            'suggestCharts', [key], {});\n",
              "      } catch (error) {\n",
              "        console.error('Error during call to suggestCharts:', error);\n",
              "      }\n",
              "      quickchartButtonEl.classList.remove('colab-df-spinner');\n",
              "      quickchartButtonEl.classList.add('colab-df-quickchart-complete');\n",
              "    }\n",
              "    (() => {\n",
              "      let quickchartButtonEl =\n",
              "        document.querySelector('#df-1dfd6778-0f77-41d2-aa19-7183ac07779a button');\n",
              "      quickchartButtonEl.style.display =\n",
              "        google.colab.kernel.accessAllowed ? 'block' : 'none';\n",
              "    })();\n",
              "  </script>\n",
              "</div>\n",
              "\n",
              "    </div>\n",
              "  </div>\n"
            ],
            "application/vnd.google.colaboratory.intrinsic+json": {
              "type": "dataframe",
              "variable_name": "df",
              "summary": "{\n  \"name\": \"df\",\n  \"rows\": 2225,\n  \"fields\": [\n    {\n      \"column\": \"text\",\n      \"properties\": {\n        \"dtype\": \"string\",\n        \"num_unique_values\": 2127,\n        \"samples\": [\n          \"EU 'too slow' on economic reforms\\n\\nMost EU countries have failed to put in place policies aimed at making Europe the world's most competitive economy by the end of the decade, a report says.\\n\\nThe study, undertaken by the European Commission, sought to assess how far the EU has moved towards meeting its economic targets. In 2000, EU leaders at a summit in Lisbon pledged the European economy would outstrip that of the US by 2010. Their economic targets became known as the Lisbon Agenda. But the Commission report says that, in most EU countries, the pace of economic reform has been too slow, and fulfilling the Lisbon ambitions will be difficult - if not impossible.\\n\\nOnly the UK, Finland, Belgium, Denmark, Ireland and the Netherlands have actually followed up policy recommendations. Among the biggest laggards, according to the report, are Greece and Italy. The Lisbon Agenda set out to increase the number of people employed in Europe by encouraging more older people and women to stay in the workforce. It also set out to raise the amount the private sector spends on research and development, while bringing about greater discipline over public spending and debt levels. Combined with high environmental standards and efforts to level the playing field for businesses throughout the EU, the plan was for Europe to become the world's most dynamic economy by 2010. Next week, the Commission will present revised proposals to meet the Lisbon goals. Many people expect the 2010 target to be quietly dropped.\",\n          \"BBC web search aids odd queries\\n\\nThe BBC's online search engine was used a record amount in 2004, helping with enquires both simple and strange.\\n\\nMore than 277 million enquiries were made, asking for informaton of a wide range of subjects. The most requested search terms of 2004 included games, EastEnders, CBBC, John Peel, Harry Potter and Olympics. But there were many strange enquiries, including: what is a dog?, how do you say basketball? and what is the biggest collection of naval fluff? The search engine works by matching key words typed in to different web pages but many people still type in natural language questions. Here are some of the strangest queries of 2004 - spelling and grammar errors left untouched - and their possible solutions:\\n\\n\\n - How to fold a serviette like an elf's boot? \\n \\n\\n\\n - How do I structure a French letter? \\n \\n\\n\\n - What is better one long vacation each year or several short vacations throughout the year? \\n \\n\\n\\n - What is so special about the Swiss? \\n \\n\\n\\n - What are the contemporary issue in nurses? \\n \\n\\n\\n - What is the number 4 in this number 40052308090? \\n \\n\\n\\n - What is up? \\n \\n\\n\\n - What is the name of James Martin's dog? \\n \\n\\nSearch engines are key to the way people use the internet. Companies such as Google have become of paramount importance as they dictate how people travel through websites while online.\",\n          \"Serena becomes world number two\\n\\nSerena Williams has moved up five places to second in the world rankings after her Australian Open win.\\n\\nWilliams won her first Grand Slam title since 2003 with victory over Lindsay Davenport, the world number one. Men's champion Marat Safin remains fourth in the ATP rankings while beaten finalist Lleyton Hewitt replaces Andy Roddick as world number two. Roger Federer retains top spot, but Safin has overtaken Hewitt to become the new leader of the Champions Race. Alicia Molik, who lost a three-set thriller against Davenport in the quarter-finals, is in the women's top 10 for the first time in her career. Her rise means Australia have a player in the top 10 of the men's and women's rankings for the first time in 21 years. And Britain's Elena Baltacha, who qualified and then reached the third round, has risen to 120 in the world - a leap of 65 places and her highest ranking yet.\"\n        ],\n        \"semantic_type\": \"\",\n        \"description\": \"\"\n      }\n    },\n    {\n      \"column\": \"labels\",\n      \"properties\": {\n        \"dtype\": \"category\",\n        \"num_unique_values\": 5,\n        \"samples\": [\n          \"entertainment\",\n          \"tech\",\n          \"politics\"\n        ],\n        \"semantic_type\": \"\",\n        \"description\": \"\"\n      }\n    }\n  ]\n}"
            }
          },
          "metadata": {},
          "execution_count": 6
        }
      ]
    },
    {
      "cell_type": "code",
      "source": [
        "df['targets'] = df['labels'].astype(\"category\").cat.codes"
      ],
      "metadata": {
        "id": "ozlF0xnn4Gpq"
      },
      "execution_count": 7,
      "outputs": []
    },
    {
      "cell_type": "code",
      "source": [
        "# number of classes\n",
        "K = df['targets'].max() + 1\n",
        "K"
      ],
      "metadata": {
        "colab": {
          "base_uri": "https://localhost:8080/"
        },
        "id": "3Bx7ZqWB47Cr",
        "outputId": "62dc4fcc-6988-4af1-ca4e-7ee130e74fef"
      },
      "execution_count": 8,
      "outputs": [
        {
          "output_type": "execute_result",
          "data": {
            "text/plain": [
              "5"
            ]
          },
          "metadata": {},
          "execution_count": 8
        }
      ]
    },
    {
      "cell_type": "code",
      "source": [
        "df_train, df_test = train_test_split(df, test_size=0.3)"
      ],
      "metadata": {
        "id": "lkw5CZsU473o"
      },
      "execution_count": 9,
      "outputs": []
    },
    {
      "cell_type": "code",
      "source": [
        "# Convert sentences to sequences\n",
        "MAX_VOCAB_SIZE = 2000\n",
        "tokenizer = Tokenizer(num_words=MAX_VOCAB_SIZE)\n",
        "tokenizer.fit_on_texts(df_train['text'])\n",
        "sequences_train = tokenizer.texts_to_sequences(df_train['text'])\n",
        "sequences_test = tokenizer.texts_to_sequences(df_test['text'])"
      ],
      "metadata": {
        "id": "Qw9frPEJ483D"
      },
      "execution_count": 10,
      "outputs": []
    },
    {
      "cell_type": "code",
      "source": [
        "# get word -> integer mapping\n",
        "word2idx = tokenizer.word_index\n",
        "V = len(word2idx)\n",
        "print('Found %s unique tokens.' % V)"
      ],
      "metadata": {
        "colab": {
          "base_uri": "https://localhost:8080/"
        },
        "id": "3XnDlUf64-rc",
        "outputId": "44289b77-325c-4433-bcba-b06b86016bff"
      },
      "execution_count": 11,
      "outputs": [
        {
          "output_type": "stream",
          "name": "stdout",
          "text": [
            "Found 27463 unique tokens.\n"
          ]
        }
      ]
    },
    {
      "cell_type": "code",
      "source": [
        "# pad sequences so that we get a N x T matrix\n",
        "data_train = pad_sequences(sequences_train)\n",
        "print('Shape of data train tensor:', data_train.shape)\n",
        "\n",
        "# get sequence length\n",
        "T = data_train.shape[1]"
      ],
      "metadata": {
        "colab": {
          "base_uri": "https://localhost:8080/"
        },
        "id": "YdXcHey64_n9",
        "outputId": "36bd2912-a38d-4bba-e6c3-a6d8eaa14bbd"
      },
      "execution_count": 12,
      "outputs": [
        {
          "output_type": "stream",
          "name": "stdout",
          "text": [
            "Shape of data train tensor: (1557, 3487)\n"
          ]
        }
      ]
    },
    {
      "cell_type": "code",
      "source": [
        "data_test = pad_sequences(sequences_test, maxlen=T)\n",
        "print('Shape of data test tensor:', data_test.shape)"
      ],
      "metadata": {
        "colab": {
          "base_uri": "https://localhost:8080/"
        },
        "id": "5m4axKyK5Aqf",
        "outputId": "e6c34d47-cde6-43ee-9a27-ff58b58c241c"
      },
      "execution_count": 13,
      "outputs": [
        {
          "output_type": "stream",
          "name": "stdout",
          "text": [
            "Shape of data test tensor: (668, 3487)\n"
          ]
        }
      ]
    },
    {
      "cell_type": "code",
      "source": [
        "# Create the model\n",
        "\n",
        "# We get to choose embedding dimensionality\n",
        "D = 20\n",
        "\n",
        "# Note: we actually want to the size of the embedding to (V + 1) x D,\n",
        "# because the first index starts from 1 and not 0.\n",
        "# Thus, if the final index of the embedding matrix is V,\n",
        "# then it actually must have size V + 1.\n",
        "\n",
        "i = Input(shape=(T,))\n",
        "x = Embedding(V + 1, D)(i)\n",
        "x = LSTM(32, return_sequences=True)(x)\n",
        "x = GlobalMaxPooling1D()(x)\n",
        "x = Dense(K)(x)\n",
        "\n",
        "model = Model(i, x)"
      ],
      "metadata": {
        "id": "4D79swcu5BlO"
      },
      "execution_count": 14,
      "outputs": []
    },
    {
      "cell_type": "code",
      "source": [
        "# Compile and fit\n",
        "model.compile(\n",
        "  loss=SparseCategoricalCrossentropy(from_logits=True),\n",
        "  optimizer='adam',\n",
        "  metrics=['accuracy']\n",
        ")\n",
        "\n",
        "\n",
        "print('Training model...')\n",
        "r = model.fit(\n",
        "  data_train,\n",
        "  df_train['targets'],\n",
        "  epochs=50,\n",
        "  validation_data=(data_test, df_test['targets'])\n",
        ")"
      ],
      "metadata": {
        "colab": {
          "base_uri": "https://localhost:8080/"
        },
        "id": "GNweUD0R5CqL",
        "outputId": "73ea826b-f685-4c67-ce6e-e8d8047d90e7"
      },
      "execution_count": 15,
      "outputs": [
        {
          "output_type": "stream",
          "name": "stdout",
          "text": [
            "Training model...\n",
            "Epoch 1/50\n",
            "49/49 [==============================] - 19s 281ms/step - loss: 1.6002 - accuracy: 0.3064 - val_loss: 1.5773 - val_accuracy: 0.4192\n",
            "Epoch 2/50\n",
            "49/49 [==============================] - 12s 249ms/step - loss: 1.5013 - accuracy: 0.4817 - val_loss: 1.5581 - val_accuracy: 0.2246\n",
            "Epoch 3/50\n",
            "49/49 [==============================] - 10s 198ms/step - loss: 1.2280 - accuracy: 0.5742 - val_loss: 1.0733 - val_accuracy: 0.6198\n",
            "Epoch 4/50\n",
            "49/49 [==============================] - 10s 206ms/step - loss: 1.1346 - accuracy: 0.7303 - val_loss: 0.9008 - val_accuracy: 0.7635\n",
            "Epoch 5/50\n",
            "49/49 [==============================] - 10s 193ms/step - loss: 0.6678 - accuracy: 0.8510 - val_loss: 0.5379 - val_accuracy: 0.8787\n",
            "Epoch 6/50\n",
            "49/49 [==============================] - 8s 167ms/step - loss: 0.4073 - accuracy: 0.9294 - val_loss: 0.3949 - val_accuracy: 0.9087\n",
            "Epoch 7/50\n",
            "49/49 [==============================] - 7s 137ms/step - loss: 0.2670 - accuracy: 0.9531 - val_loss: 0.3199 - val_accuracy: 0.9222\n",
            "Epoch 8/50\n",
            "49/49 [==============================] - 8s 174ms/step - loss: 0.2041 - accuracy: 0.9563 - val_loss: 0.2856 - val_accuracy: 0.9222\n",
            "Epoch 9/50\n",
            "49/49 [==============================] - 6s 121ms/step - loss: 0.1523 - accuracy: 0.9737 - val_loss: 0.7531 - val_accuracy: 0.7545\n",
            "Epoch 10/50\n",
            "49/49 [==============================] - 7s 146ms/step - loss: 0.4915 - accuracy: 0.8484 - val_loss: 0.3674 - val_accuracy: 0.9087\n",
            "Epoch 11/50\n",
            "49/49 [==============================] - 6s 123ms/step - loss: 0.2197 - accuracy: 0.9660 - val_loss: 0.2615 - val_accuracy: 0.9251\n",
            "Epoch 12/50\n",
            "49/49 [==============================] - 8s 161ms/step - loss: 0.1269 - accuracy: 0.9878 - val_loss: 0.2230 - val_accuracy: 0.9356\n",
            "Epoch 13/50\n",
            "49/49 [==============================] - 5s 110ms/step - loss: 0.0959 - accuracy: 0.9917 - val_loss: 0.2486 - val_accuracy: 0.9192\n",
            "Epoch 14/50\n",
            "49/49 [==============================] - 7s 142ms/step - loss: 0.0833 - accuracy: 0.9910 - val_loss: 0.2178 - val_accuracy: 0.9311\n",
            "Epoch 15/50\n",
            "49/49 [==============================] - 12s 239ms/step - loss: 0.0634 - accuracy: 0.9961 - val_loss: 0.2384 - val_accuracy: 0.9237\n",
            "Epoch 16/50\n",
            "49/49 [==============================] - 6s 128ms/step - loss: 0.0634 - accuracy: 0.9917 - val_loss: 0.2185 - val_accuracy: 0.9296\n",
            "Epoch 17/50\n",
            "49/49 [==============================] - 7s 144ms/step - loss: 0.0571 - accuracy: 0.9904 - val_loss: 0.2016 - val_accuracy: 0.9356\n",
            "Epoch 18/50\n",
            "49/49 [==============================] - 6s 117ms/step - loss: 0.0682 - accuracy: 0.9897 - val_loss: 0.1922 - val_accuracy: 0.9341\n",
            "Epoch 19/50\n",
            "49/49 [==============================] - 6s 124ms/step - loss: 0.0614 - accuracy: 0.9878 - val_loss: 0.2424 - val_accuracy: 0.9266\n",
            "Epoch 20/50\n",
            "49/49 [==============================] - 5s 108ms/step - loss: 0.0498 - accuracy: 0.9917 - val_loss: 0.1648 - val_accuracy: 0.9476\n",
            "Epoch 21/50\n",
            "49/49 [==============================] - 5s 106ms/step - loss: 0.0481 - accuracy: 0.9904 - val_loss: 0.2926 - val_accuracy: 0.9147\n",
            "Epoch 22/50\n",
            "49/49 [==============================] - 6s 128ms/step - loss: 0.0844 - accuracy: 0.9814 - val_loss: 0.1673 - val_accuracy: 0.9506\n",
            "Epoch 23/50\n",
            "49/49 [==============================] - 6s 124ms/step - loss: 0.0322 - accuracy: 0.9968 - val_loss: 0.1867 - val_accuracy: 0.9491\n",
            "Epoch 24/50\n",
            "49/49 [==============================] - 7s 133ms/step - loss: 0.0234 - accuracy: 0.9987 - val_loss: 0.1682 - val_accuracy: 0.9506\n",
            "Epoch 25/50\n",
            "49/49 [==============================] - 5s 106ms/step - loss: 0.0210 - accuracy: 0.9987 - val_loss: 0.1850 - val_accuracy: 0.9461\n",
            "Epoch 26/50\n",
            "49/49 [==============================] - 6s 126ms/step - loss: 0.0221 - accuracy: 0.9974 - val_loss: 0.4441 - val_accuracy: 0.8638\n",
            "Epoch 27/50\n",
            "49/49 [==============================] - 6s 120ms/step - loss: 0.1244 - accuracy: 0.9685 - val_loss: 0.1732 - val_accuracy: 0.9476\n",
            "Epoch 28/50\n",
            "49/49 [==============================] - 7s 136ms/step - loss: 0.0362 - accuracy: 0.9968 - val_loss: 0.1412 - val_accuracy: 0.9551\n",
            "Epoch 29/50\n",
            "49/49 [==============================] - 6s 117ms/step - loss: 0.0212 - accuracy: 0.9987 - val_loss: 0.1359 - val_accuracy: 0.9551\n",
            "Epoch 30/50\n",
            "49/49 [==============================] - 6s 125ms/step - loss: 0.0184 - accuracy: 0.9981 - val_loss: 0.1341 - val_accuracy: 0.9536\n",
            "Epoch 31/50\n",
            "49/49 [==============================] - 6s 112ms/step - loss: 0.0149 - accuracy: 0.9987 - val_loss: 0.1477 - val_accuracy: 0.9581\n",
            "Epoch 32/50\n",
            "49/49 [==============================] - 6s 118ms/step - loss: 0.0135 - accuracy: 0.9987 - val_loss: 0.1450 - val_accuracy: 0.9581\n",
            "Epoch 33/50\n",
            "49/49 [==============================] - 6s 126ms/step - loss: 0.0155 - accuracy: 0.9981 - val_loss: 0.1455 - val_accuracy: 0.9581\n",
            "Epoch 34/50\n",
            "49/49 [==============================] - 6s 114ms/step - loss: 0.0117 - accuracy: 0.9994 - val_loss: 0.1293 - val_accuracy: 0.9611\n",
            "Epoch 35/50\n",
            "49/49 [==============================] - 6s 125ms/step - loss: 0.0106 - accuracy: 0.9994 - val_loss: 0.1395 - val_accuracy: 0.9611\n",
            "Epoch 36/50\n",
            "49/49 [==============================] - 6s 114ms/step - loss: 0.0100 - accuracy: 0.9994 - val_loss: 0.1526 - val_accuracy: 0.9566\n",
            "Epoch 37/50\n",
            "49/49 [==============================] - 6s 122ms/step - loss: 0.0090 - accuracy: 0.9994 - val_loss: 0.1432 - val_accuracy: 0.9566\n",
            "Epoch 38/50\n",
            "49/49 [==============================] - 6s 118ms/step - loss: 0.0079 - accuracy: 0.9994 - val_loss: 0.1464 - val_accuracy: 0.9581\n",
            "Epoch 39/50\n",
            "49/49 [==============================] - 6s 120ms/step - loss: 0.0074 - accuracy: 0.9994 - val_loss: 0.1441 - val_accuracy: 0.9611\n",
            "Epoch 40/50\n",
            "49/49 [==============================] - 6s 126ms/step - loss: 0.0066 - accuracy: 1.0000 - val_loss: 0.1482 - val_accuracy: 0.9566\n",
            "Epoch 41/50\n",
            "49/49 [==============================] - 5s 111ms/step - loss: 0.0066 - accuracy: 0.9994 - val_loss: 0.1495 - val_accuracy: 0.9566\n",
            "Epoch 42/50\n",
            "49/49 [==============================] - 6s 126ms/step - loss: 0.0062 - accuracy: 0.9994 - val_loss: 0.1471 - val_accuracy: 0.9611\n",
            "Epoch 43/50\n",
            "49/49 [==============================] - 5s 103ms/step - loss: 0.0058 - accuracy: 0.9994 - val_loss: 0.1453 - val_accuracy: 0.9641\n",
            "Epoch 44/50\n",
            "49/49 [==============================] - 6s 125ms/step - loss: 0.0055 - accuracy: 0.9994 - val_loss: 0.1463 - val_accuracy: 0.9656\n",
            "Epoch 45/50\n",
            "49/49 [==============================] - 5s 102ms/step - loss: 0.0058 - accuracy: 0.9987 - val_loss: 0.1540 - val_accuracy: 0.9641\n",
            "Epoch 46/50\n",
            "49/49 [==============================] - 7s 134ms/step - loss: 0.0082 - accuracy: 0.9994 - val_loss: 0.1682 - val_accuracy: 0.9596\n",
            "Epoch 47/50\n",
            "49/49 [==============================] - 5s 102ms/step - loss: 0.0110 - accuracy: 0.9974 - val_loss: 0.1934 - val_accuracy: 0.9506\n",
            "Epoch 48/50\n",
            "49/49 [==============================] - 5s 107ms/step - loss: 0.0060 - accuracy: 1.0000 - val_loss: 0.1662 - val_accuracy: 0.9566\n",
            "Epoch 49/50\n",
            "49/49 [==============================] - 6s 117ms/step - loss: 0.0045 - accuracy: 1.0000 - val_loss: 0.1643 - val_accuracy: 0.9581\n",
            "Epoch 50/50\n",
            "49/49 [==============================] - 5s 100ms/step - loss: 0.0041 - accuracy: 1.0000 - val_loss: 0.1656 - val_accuracy: 0.9611\n"
          ]
        }
      ]
    },
    {
      "cell_type": "code",
      "source": [
        "# Plot loss per iteration\n",
        "plt.plot(r.history['loss'], label='train loss')\n",
        "plt.plot(r.history['val_loss'], label='val loss')\n",
        "plt.legend();"
      ],
      "metadata": {
        "colab": {
          "base_uri": "https://localhost:8080/",
          "height": 430
        },
        "id": "TaRgx6qX5UZG",
        "outputId": "f6569cb5-c7e3-4b93-9d13-09d3404e8f61"
      },
      "execution_count": 16,
      "outputs": [
        {
          "output_type": "display_data",
          "data": {
            "text/plain": [
              "<Figure size 640x480 with 1 Axes>"
            ],
            "image/png": "[encoded data removed]"
          },
          "metadata": {}
        }
      ]
    },
    {
      "cell_type": "code",
      "source": [
        "# Plot accuracy per iteration\n",
        "plt.plot(r.history['accuracy'], label='train acc')\n",
        "plt.plot(r.history['val_accuracy'], label='val acc')\n",
        "plt.legend();"
      ],
      "metadata": {
        "colab": {
          "base_uri": "https://localhost:8080/",
          "height": 430
        },
        "id": "XuuQWwkB5yMW",
        "outputId": "feb5c342-33ea-4875-ceec-43a04ef2bdfc"
      },
      "execution_count": 17,
      "outputs": [
        {
          "output_type": "display_data",
          "data": {
            "text/plain": [
              "<Figure size 640x480 with 1 Axes>"
            ],
            "image/png": "[encoded data removed]"
          },
          "metadata": {}
        }
      ]
    },
    {
      "cell_type": "code",
      "source": [],
      "metadata": {
        "id": "ljQ7IEWY5zNs"
      },
      "execution_count": null,
      "outputs": []
    }
  ]
}