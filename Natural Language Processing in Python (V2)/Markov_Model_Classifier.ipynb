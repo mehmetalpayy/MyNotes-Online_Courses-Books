{
  "nbformat": 4,
  "nbformat_minor": 0,
  "metadata": {
    "colab": {
      "provenance": []
    },
    "kernelspec": {
      "name": "python3",
      "display_name": "Python 3"
    },
    "language_info": {
      "name": "python"
    }
  },
  "cells": [
    {
      "cell_type": "code",
      "execution_count": 1,
      "metadata": {
        "colab": {
          "base_uri": "https://localhost:8080/"
        },
        "id": "C_gQrt6Z4kTd",
        "outputId": "975b7d16-4fa6-44a2-edea-5e1d750f35e1"
      },
      "outputs": [
        {
          "output_type": "stream",
          "name": "stdout",
          "text": [
            "--2024-06-09 16:43:52--  https://raw.githubusercontent.com/lazyprogrammer/machine_learning_examples/master/hmm_class/edgar_allan_poe.txt\n",
            "Resolving raw.githubusercontent.com (raw.githubusercontent.com)... 185.199.109.133, 185.199.108.133, 185.199.110.133, ...\n",
            "Connecting to raw.githubusercontent.com (raw.githubusercontent.com)|185.199.109.133|:443... connected.\n",
            "HTTP request sent, awaiting response... 200 OK\n",
            "Length: 26622 (26K) [text/plain]\n",
            "Saving to: ‘edgar_allan_poe.txt’\n",
            "\n",
            "\redgar_allan_poe.txt   0%[                    ]       0  --.-KB/s               \redgar_allan_poe.txt 100%[===================>]  26.00K  --.-KB/s    in 0.001s  \n",
            "\n",
            "2024-06-09 16:43:53 (17.8 MB/s) - ‘edgar_allan_poe.txt’ saved [26622/26622]\n",
            "\n",
            "--2024-06-09 16:43:53--  https://raw.githubusercontent.com/lazyprogrammer/machine_learning_examples/master/hmm_class/robert_frost.txt\n",
            "Resolving raw.githubusercontent.com (raw.githubusercontent.com)... 185.199.108.133, 185.199.111.133, 185.199.109.133, ...\n",
            "Connecting to raw.githubusercontent.com (raw.githubusercontent.com)|185.199.108.133|:443... connected.\n",
            "HTTP request sent, awaiting response... 200 OK\n",
            "Length: 56286 (55K) [text/plain]\n",
            "Saving to: ‘robert_frost.txt’\n",
            "\n",
            "robert_frost.txt    100%[===================>]  54.97K  --.-KB/s    in 0.01s   \n",
            "\n",
            "2024-06-09 16:43:53 (4.47 MB/s) - ‘robert_frost.txt’ saved [56286/56286]\n",
            "\n"
          ]
        }
      ],
      "source": [
        "!wget -nc https://raw.githubusercontent.com/lazyprogrammer/machine_learning_examples/master/hmm_class/edgar_allan_poe.txt\n",
        "!wget -nc https://raw.githubusercontent.com/lazyprogrammer/machine_learning_examples/master/hmm_class/robert_frost.txt"
      ]
    },
    {
      "cell_type": "code",
      "source": [
        "import numpy as np\n",
        "import matplotlib.pyplot as plt\n",
        "import string\n",
        "from sklearn.model_selection import train_test_split"
      ],
      "metadata": {
        "id": "TuklhzgW4mfI"
      },
      "execution_count": 2,
      "outputs": []
    },
    {
      "cell_type": "code",
      "source": [
        "input_files = [\n",
        "    \"edgar_allan_poe.txt\",\n",
        "    \"robert_frost.txt\"\n",
        "]"
      ],
      "metadata": {
        "id": "OSLu-R0l4y7y"
      },
      "execution_count": 3,
      "outputs": []
    },
    {
      "cell_type": "code",
      "source": [
        "!head edgar_allan_poe.txt"
      ],
      "metadata": {
        "colab": {
          "base_uri": "https://localhost:8080/"
        },
        "id": "yKAHqzwV48n_",
        "outputId": "de628f3d-463f-48cc-ba97-56073b0768ac"
      },
      "execution_count": 4,
      "outputs": [
        {
          "output_type": "stream",
          "name": "stdout",
          "text": [
            "LO! Death hath rear'd himself a throne\n",
            "In a strange city, all alone,\n",
            "Far down within the dim west\n",
            "Where the good, and the bad, and the worst, and the best,\n",
            "Have gone to their eternal rest.\n",
            " \n",
            "There shrines, and palaces, and towers\n",
            "Are not like any thing of ours\n",
            "Oh no! O no! ours never loom\n",
            "To heaven with that ungodly gloom!\n"
          ]
        }
      ]
    },
    {
      "cell_type": "code",
      "source": [
        "!head robert_frost.txt"
      ],
      "metadata": {
        "colab": {
          "base_uri": "https://localhost:8080/"
        },
        "id": "EJr_A2Zv4-td",
        "outputId": "921f458d-b087-4c7a-ee18-98ab51423b9b"
      },
      "execution_count": 5,
      "outputs": [
        {
          "output_type": "stream",
          "name": "stdout",
          "text": [
            "Two roads diverged in a yellow wood,\n",
            "And sorry I could not travel both\n",
            "And be one traveler, long I stood\n",
            "And looked down one as far as I could\n",
            "To where it bent in the undergrowth; \n",
            "\n",
            "Then took the other, as just as fair,\n",
            "And having perhaps the better claim\n",
            "Because it was grassy and wanted wear,\n",
            "Though as for that the passing there\n"
          ]
        }
      ]
    },
    {
      "cell_type": "code",
      "source": [
        "# collect data into the lists\n",
        "input_texts = []\n",
        "labels = []\n",
        "\n",
        "for label, f in enumerate(input_files):\n",
        "  print(f\"{f} corresponds to label {label}\")\n",
        "\n",
        "  for line in open(f):\n",
        "    line = line.rstrip().lower()\n",
        "    if line:\n",
        "\n",
        "      # remove punctuation\n",
        "      line = line.translate(str.maketrans(\"\", \"\", string.punctuation))\n",
        "\n",
        "      input_texts.append(line)\n",
        "      labels.append(label)"
      ],
      "metadata": {
        "colab": {
          "base_uri": "https://localhost:8080/"
        },
        "id": "lWOBYvYR5Avw",
        "outputId": "519271b0-5b09-43fb-ceb0-b7ff87073344"
      },
      "execution_count": 7,
      "outputs": [
        {
          "output_type": "stream",
          "name": "stdout",
          "text": [
            "edgar_allan_poe.txt corresponds to label 0\n",
            "robert_frost.txt corresponds to label 1\n"
          ]
        }
      ]
    },
    {
      "cell_type": "code",
      "source": [
        "train_text, test_text, Ytrain, Ytest = train_test_split(input_texts, labels)"
      ],
      "metadata": {
        "id": "mfzjNpeT6Nve"
      },
      "execution_count": 8,
      "outputs": []
    },
    {
      "cell_type": "code",
      "source": [
        "len(Ytrain), len(Ytest)"
      ],
      "metadata": {
        "colab": {
          "base_uri": "https://localhost:8080/"
        },
        "id": "WMtvAqVf7QAM",
        "outputId": "fc4e9618-0355-4665-a45f-24c71c0b191d"
      },
      "execution_count": 9,
      "outputs": [
        {
          "output_type": "execute_result",
          "data": {
            "text/plain": [
              "(1615, 539)"
            ]
          },
          "metadata": {},
          "execution_count": 9
        }
      ]
    },
    {
      "cell_type": "code",
      "source": [
        "train_text[:5]"
      ],
      "metadata": {
        "colab": {
          "base_uri": "https://localhost:8080/"
        },
        "id": "0R_clyVo7TDO",
        "outputId": "16989056-1ce1-44d0-8830-149f0c336c4d"
      },
      "execution_count": 10,
      "outputs": [
        {
          "output_type": "execute_result",
          "data": {
            "text/plain": [
              "['not fireweed loving where woods have burnt',\n",
              " 'i wonder what those signals are',\n",
              " 'among the raspberries and hew and shape it',\n",
              " 'hes so far off he cant see what ive come to',\n",
              " 'john bought him and we paid the bill with beads']"
            ]
          },
          "metadata": {},
          "execution_count": 10
        }
      ]
    },
    {
      "cell_type": "code",
      "source": [
        "Ytrain[:5]"
      ],
      "metadata": {
        "colab": {
          "base_uri": "https://localhost:8080/"
        },
        "id": "NwEYtiZV7U9b",
        "outputId": "51cf8081-86ae-4fc4-f737-5cd56a41b142"
      },
      "execution_count": 11,
      "outputs": [
        {
          "output_type": "execute_result",
          "data": {
            "text/plain": [
              "[1, 1, 1, 1, 1]"
            ]
          },
          "metadata": {},
          "execution_count": 11
        }
      ]
    },
    {
      "cell_type": "code",
      "source": [
        "idx = 1\n",
        "word2idx = {\"<unk>\" : 0}"
      ],
      "metadata": {
        "id": "RlofXrV97smo"
      },
      "execution_count": 12,
      "outputs": []
    },
    {
      "cell_type": "code",
      "source": [
        "# populate word2idx\n",
        "\n",
        "for text in train_text:\n",
        "\n",
        "  tokens = text.split()\n",
        "  for token in tokens:\n",
        "    if token not in word2idx:\n",
        "      word2idx[token] = idx\n",
        "      idx += 1"
      ],
      "metadata": {
        "id": "fwhkUT1B73zJ"
      },
      "execution_count": null,
      "outputs": []
    },
    {
      "cell_type": "code",
      "source": [
        "word2idx"
      ],
      "metadata": {
        "colab": {
          "base_uri": "https://localhost:8080/"
        },
        "id": "5C8g1xUy8rgW",
        "outputId": "5c1938a8-4e8d-4e63-9ee6-4dec9f3914c6"
      },
      "execution_count": 14,
      "outputs": [
        {
          "output_type": "execute_result",
          "data": {
            "text/plain": [
              "{'<unk>': 0,\n",
              " 'not': 1,\n",
              " 'fireweed': 2,\n",
              " 'loving': 3,\n",
              " 'where': 4,\n",
              " 'woods': 5,\n",
              " 'have': 6,\n",
              " 'burnt': 7,\n",
              " 'i': 8,\n",
              " 'wonder': 9,\n",
              " 'what': 10,\n",
              " 'those': 11,\n",
              " 'signals': 12,\n",
              " 'are': 13,\n",
              " 'among': 14,\n",
              " 'the': 15,\n",
              " 'raspberries': 16,\n",
              " 'and': 17,\n",
              " 'hew': 18,\n",
              " 'shape': 19,\n",
              " 'it': 20,\n",
              " 'hes': 21,\n",
              " 'so': 22,\n",
              " 'far': 23,\n",
              " 'off': 24,\n",
              " 'he': 25,\n",
              " 'cant': 26,\n",
              " 'see': 27,\n",
              " 'ive': 28,\n",
              " 'come': 29,\n",
              " 'to': 30,\n",
              " 'john': 31,\n",
              " 'bought': 32,\n",
              " 'him': 33,\n",
              " 'we': 34,\n",
              " 'paid': 35,\n",
              " 'bill': 36,\n",
              " 'with': 37,\n",
              " 'beads': 38,\n",
              " 'anyway': 39,\n",
              " 'this': 40,\n",
              " 'tells': 41,\n",
              " 'me': 42,\n",
              " 'am': 43,\n",
              " 'a': 44,\n",
              " 'brush': 45,\n",
              " 'had': 46,\n",
              " 'left': 47,\n",
              " 'crooked': 48,\n",
              " 'stroke': 49,\n",
              " 'melt': 50,\n",
              " 'snow': 51,\n",
              " 'or': 52,\n",
              " 'start': 53,\n",
              " 'dormant': 54,\n",
              " 'tree': 55,\n",
              " 'wont': 56,\n",
              " 'be': 57,\n",
              " 'teased': 58,\n",
              " 'but': 59,\n",
              " 'how': 60,\n",
              " 'wet': 61,\n",
              " 'now': 62,\n",
              " 'very': 63,\n",
              " 'air': 64,\n",
              " 'of': 65,\n",
              " 'ride': 66,\n",
              " 'send': 67,\n",
              " 'sailing': 68,\n",
              " 'out': 69,\n",
              " 'attic': 70,\n",
              " 'window': 71,\n",
              " 'was': 72,\n",
              " 'hard': 73,\n",
              " 'by': 74,\n",
              " 'dim': 75,\n",
              " 'lake': 76,\n",
              " 'auber': 77,\n",
              " 'amid': 78,\n",
              " 'empurpled': 79,\n",
              " 'vapors': 80,\n",
              " 'away': 81,\n",
              " 'old': 82,\n",
              " 'stock': 83,\n",
              " 'counts': 84,\n",
              " 'is': 85,\n",
              " 'ideals': 86,\n",
              " 'that': 87,\n",
              " 'way': 88,\n",
              " 'started': 89,\n",
              " 'courting': 90,\n",
              " 'though': 91,\n",
              " 'strange': 92,\n",
              " 'muffled': 93,\n",
              " 'while': 94,\n",
              " 'invested': 95,\n",
              " 'reasons': 96,\n",
              " 'drag': 97,\n",
              " 'down': 98,\n",
              " 'man': 99,\n",
              " 'up': 100,\n",
              " 'many': 101,\n",
              " 'melancholy': 102,\n",
              " 'shrine': 103,\n",
              " 'set': 104,\n",
              " 'voices': 105,\n",
              " 'speaking': 106,\n",
              " 'loved': 107,\n",
              " 'object': 108,\n",
              " 'tear': 109,\n",
              " 'lid': 110,\n",
              " 'lets': 111,\n",
              " 'trap': 112,\n",
              " 'an': 113,\n",
              " 'open': 114,\n",
              " 'door': 115,\n",
              " 'walked': 116,\n",
              " 'in': 117,\n",
              " 'rain': 118,\n",
              " 'back': 119,\n",
              " 't': 120,\n",
              " 'awake': 121,\n",
              " 'us': 122,\n",
              " 'tis': 123,\n",
              " 'symbol': 124,\n",
              " 'token': 125,\n",
              " 'briskly': 126,\n",
              " 'for': 127,\n",
              " 'slow': 128,\n",
              " 'thing': 129,\n",
              " 'hand': 130,\n",
              " 'my': 131,\n",
              " 'buttonbox': 132,\n",
              " 'must': 133,\n",
              " 'there': 134,\n",
              " 'staid': 135,\n",
              " 'night': 136,\n",
              " 'shelter': 137,\n",
              " 'at': 138,\n",
              " 'farm': 139,\n",
              " 'all': 140,\n",
              " 'money': 141,\n",
              " 'goes': 142,\n",
              " 'fast': 143,\n",
              " 'might': 144,\n",
              " 'doesnt': 145,\n",
              " 'seem': 146,\n",
              " 'as': 147,\n",
              " 'if': 148,\n",
              " 'whom': 149,\n",
              " 'sun': 150,\n",
              " 'dew': 151,\n",
              " 'aint': 152,\n",
              " 'no': 153,\n",
              " 'names': 154,\n",
              " 'quite': 155,\n",
              " 'like': 156,\n",
              " 'ones': 157,\n",
              " 'mother': 158,\n",
              " 'folks': 159,\n",
              " 'think': 160,\n",
              " 'witch': 161,\n",
              " 'who': 162,\n",
              " 'has': 163,\n",
              " 'familiar': 164,\n",
              " 'spirits': 165,\n",
              " 'were': 166,\n",
              " 'stopped': 167,\n",
              " 'tomb': 168,\n",
              " 'which': 169,\n",
              " 'wasnt': 170,\n",
              " 'town': 171,\n",
              " 'wentworth': 172,\n",
              " 'winter': 173,\n",
              " 'after': 174,\n",
              " 'halfpast': 175,\n",
              " 'three': 176,\n",
              " 'waters': 177,\n",
              " 'lie': 178,\n",
              " 'made': 179,\n",
              " 'throw': 180,\n",
              " 'his': 181,\n",
              " 'bare': 182,\n",
              " 'legs': 183,\n",
              " 'bed': 184,\n",
              " 'half': 185,\n",
              " 'outdoor': 186,\n",
              " 'work': 187,\n",
              " 'these': 188,\n",
              " 'cheeks': 189,\n",
              " 'worm': 190,\n",
              " 'never': 191,\n",
              " 'dies': 192,\n",
              " 'looked': 193,\n",
              " 'lightning': 194,\n",
              " 'scribble': 195,\n",
              " 'whose': 196,\n",
              " 'shoes': 197,\n",
              " 'primped': 198,\n",
              " 'dance': 199,\n",
              " 'birds': 200,\n",
              " 'on': 201,\n",
              " 'her': 202,\n",
              " 'outer': 203,\n",
              " 'windowsill': 204,\n",
              " 'yankees': 205,\n",
              " 'they': 206,\n",
              " 'always': 207,\n",
              " 'estelle': 208,\n",
              " 'do': 209,\n",
              " 'housework': 210,\n",
              " 'board': 211,\n",
              " 'note': 212,\n",
              " 'unruffled': 213,\n",
              " 'consent': 214,\n",
              " 'give': 215,\n",
              " 'some': 216,\n",
              " 'sign': 217,\n",
              " 'stark': 218,\n",
              " 'family': 219,\n",
              " 'im': 220,\n",
              " 'member': 221,\n",
              " 'untidy': 222,\n",
              " 'will': 223,\n",
              " 'talk': 224,\n",
              " 'about': 225,\n",
              " 'o': 226,\n",
              " 'hyacinthine': 227,\n",
              " 'isle': 228,\n",
              " 'purple': 229,\n",
              " 'zante': 230,\n",
              " 'enough': 231,\n",
              " 'fulllength': 232,\n",
              " 'chimney': 233,\n",
              " 'ideas': 234,\n",
              " 'yet': 235,\n",
              " 'havent': 236,\n",
              " 'tried': 237,\n",
              " 'athens': 238,\n",
              " 'deliverance': 239,\n",
              " 'gave': 240,\n",
              " 'hate': 241,\n",
              " 'place': 242,\n",
              " 'when': 243,\n",
              " 'gone': 244,\n",
              " 'you': 245,\n",
              " 'dont': 246,\n",
              " 'nature': 247,\n",
              " 'books': 248,\n",
              " 'bones': 249,\n",
              " 'cellar': 250,\n",
              " 'grave': 251,\n",
              " 'theyve': 252,\n",
              " 'got': 253,\n",
              " 'settled': 254,\n",
              " 'inscription': 255,\n",
              " 'garden': 256,\n",
              " 'wall': 257,\n",
              " 'strangely': 258,\n",
              " 'its': 259,\n",
              " 'anything': 260,\n",
              " 'wish': 261,\n",
              " 'let': 262,\n",
              " 'lantern': 263,\n",
              " 'drop': 264,\n",
              " 'strolled': 265,\n",
              " 'thither': 266,\n",
              " 'expecting': 267,\n",
              " 'would': 268,\n",
              " 'find': 269,\n",
              " 'been': 270,\n",
              " 'glass': 271,\n",
              " 'case': 272,\n",
              " 'may': 273,\n",
              " 'say': 274,\n",
              " 'eden': 275,\n",
              " 'day': 276,\n",
              " 'done': 277,\n",
              " 'two': 278,\n",
              " 'oclock': 279,\n",
              " 'alas': 280,\n",
              " 'cannot': 281,\n",
              " 'feel': 282,\n",
              " 'feeling': 283,\n",
              " 'poetess': 284,\n",
              " 'wrote': 285,\n",
              " 'book': 286,\n",
              " 'verses': 287,\n",
              " 'call': 288,\n",
              " 'answering': 289,\n",
              " 'your': 290,\n",
              " 'knock': 291,\n",
              " 'can': 292,\n",
              " 'more': 293,\n",
              " 'nothing': 294,\n",
              " 'fix': 295,\n",
              " 'daylight': 296,\n",
              " 'beauty': 297,\n",
              " 'from': 298,\n",
              " 'birth': 299,\n",
              " 'high': 300,\n",
              " 'tone': 301,\n",
              " 'spirit': 302,\n",
              " 'hath': 303,\n",
              " 'striven': 304,\n",
              " 'seriously': 305,\n",
              " 'took': 306,\n",
              " 'bearings': 307,\n",
              " 'harmodious': 308,\n",
              " 'gallant': 309,\n",
              " 'good': 310,\n",
              " 'oh': 311,\n",
              " 'thats': 312,\n",
              " 'hawks': 313,\n",
              " 'since': 314,\n",
              " 'chickentime': 315,\n",
              " 'strapping': 316,\n",
              " 'girl': 317,\n",
              " 'twenty': 318,\n",
              " 'then': 319,\n",
              " 'claiming': 320,\n",
              " 'priority': 321,\n",
              " 'starkness': 322,\n",
              " 'ask': 323,\n",
              " 'joe': 324,\n",
              " 'trees': 325,\n",
              " 'grow': 326,\n",
              " 'short': 327,\n",
              " 'mosses': 328,\n",
              " 'tall': 329,\n",
              " 'going': 330,\n",
              " 'tell': 331,\n",
              " 'them': 332,\n",
              " 'something': 333,\n",
              " 'mist': 334,\n",
              " 'ready': 335,\n",
              " 'thought': 336,\n",
              " 'almost': 337,\n",
              " 'their': 338,\n",
              " 'eternal': 339,\n",
              " 'rest': 340,\n",
              " 'fell': 341,\n",
              " 'silverysilken': 342,\n",
              " 'veil': 343,\n",
              " 'light': 344,\n",
              " 'suppose': 345,\n",
              " 'she': 346,\n",
              " 'deserves': 347,\n",
              " 'pity': 348,\n",
              " 'too': 349,\n",
              " 'master': 350,\n",
              " 'grange': 351,\n",
              " 'scoriac': 352,\n",
              " 'rivers': 353,\n",
              " 'roll': 354,\n",
              " 'stillgoing': 355,\n",
              " 'every': 356,\n",
              " 'joints': 357,\n",
              " 'maria': 358,\n",
              " 'thou': 359,\n",
              " 'hast': 360,\n",
              " 'heard': 361,\n",
              " 'hymn': 362,\n",
              " 'perhaps': 363,\n",
              " 'still': 364,\n",
              " 'unafraid': 365,\n",
              " 'under': 366,\n",
              " 'davis': 367,\n",
              " 'owned': 368,\n",
              " 'solid': 369,\n",
              " 'mica': 370,\n",
              " 'mountain': 371,\n",
              " 'seraphic': 372,\n",
              " 'glancing': 373,\n",
              " 'thine': 374,\n",
              " 'eyes': 375,\n",
              " 'happier': 376,\n",
              " 'sweet': 377,\n",
              " 'than': 378,\n",
              " 'worse': 379,\n",
              " 'skyhigh': 380,\n",
              " 'both': 381,\n",
              " 'hands': 382,\n",
              " 'sit': 383,\n",
              " 'before': 384,\n",
              " 'transfixed': 385,\n",
              " 'slopes': 386,\n",
              " 'erect': 387,\n",
              " 'world': 388,\n",
              " 'sweets': 389,\n",
              " 'sours': 390,\n",
              " 'exist': 391,\n",
              " 'given': 392,\n",
              " 'time': 393,\n",
              " 'else': 394,\n",
              " 'height': 395,\n",
              " 'adventure': 396,\n",
              " 'here': 397,\n",
              " 'once': 398,\n",
              " 'through': 399,\n",
              " 'alley': 400,\n",
              " 'titanic': 401,\n",
              " 'one': 402,\n",
              " 'level': 403,\n",
              " 'nearer': 404,\n",
              " 'heaven': 405,\n",
              " 'overhead': 406,\n",
              " 'spell': 407,\n",
              " 'could': 408,\n",
              " 'hold': 409,\n",
              " 'ghoulhaunted': 410,\n",
              " 'woodland': 411,\n",
              " 'weir': 412,\n",
              " 'spoke': 413,\n",
              " 'themselves': 414,\n",
              " 'fond': 415,\n",
              " 'nice': 416,\n",
              " 'things': 417,\n",
              " 'guide': 418,\n",
              " 'aright': 419,\n",
              " 'leaves': 420,\n",
              " 'withering': 421,\n",
              " 'sere': 422,\n",
              " 'alone': 423,\n",
              " 'sunday': 424,\n",
              " 'church': 425,\n",
              " 'sanctified': 426,\n",
              " 'elysian': 427,\n",
              " 'fire': 428,\n",
              " 'stars': 429,\n",
              " 'whence': 430,\n",
              " 'drawn': 431,\n",
              " 'forth': 432,\n",
              " 'soul': 433,\n",
              " 'lest': 434,\n",
              " 'should': 435,\n",
              " 'truant': 436,\n",
              " 'make': 437,\n",
              " 'grandsir': 438,\n",
              " 'distinctly': 439,\n",
              " 'nine': 440,\n",
              " 'times': 441,\n",
              " 'removed': 442,\n",
              " 'correct': 443,\n",
              " 'err': 444,\n",
              " 'need': 445,\n",
              " 'hid': 446,\n",
              " 'owe': 447,\n",
              " 'thee': 448,\n",
              " 'most': 449,\n",
              " 'gratitude': 450,\n",
              " 'sigmas': 451,\n",
              " 'taus': 452,\n",
              " 'tremulous': 453,\n",
              " 'slowly': 454,\n",
              " 'closing': 455,\n",
              " 'dent': 456,\n",
              " 'dough': 457,\n",
              " 'buds': 458,\n",
              " 'leaf': 459,\n",
              " 'bloom': 460,\n",
              " 'folk': 461,\n",
              " 'within': 462,\n",
              " 'newcut': 463,\n",
              " 'narrow': 464,\n",
              " 'gap': 465,\n",
              " 'doubling': 466,\n",
              " 'redoubling': 467,\n",
              " 'song': 468,\n",
              " 'twitter': 469,\n",
              " 'giddy': 470,\n",
              " 'legends': 471,\n",
              " 'according': 472,\n",
              " 'feared': 473,\n",
              " 'risk': 474,\n",
              " 'i—': 475,\n",
              " 'thy': 476,\n",
              " 'gentle': 477,\n",
              " 'ways': 478,\n",
              " 'get': 479,\n",
              " 'warm': 480,\n",
              " 'want': 481,\n",
              " 'fountain': 482,\n",
              " 'dear': 483,\n",
              " 'name': 484,\n",
              " 'text': 485,\n",
              " 'bidden': 486,\n",
              " 'house': 487,\n",
              " 'went': 488,\n",
              " 'sleep': 489,\n",
              " 'sink': 490,\n",
              " 'being': 491,\n",
              " 'wife': 492,\n",
              " 'rather': 493,\n",
              " 'tip': 494,\n",
              " 'table': 495,\n",
              " 'lot': 496,\n",
              " 'record': 497,\n",
              " 'only': 498,\n",
              " 'hinder': 499,\n",
              " 'another': 500,\n",
              " 'shifted': 501,\n",
              " 'saw': 502,\n",
              " 'used': 503,\n",
              " 'sing': 504,\n",
              " 'along': 505,\n",
              " 'toteroad': 506,\n",
              " 'past': 507,\n",
              " 'lion': 508,\n",
              " 'guessed': 509,\n",
              " 'theyd': 510,\n",
              " 'know': 511,\n",
              " 'put': 512,\n",
              " 'id': 513,\n",
              " 'aknown': 514,\n",
              " 'young': 515,\n",
              " 'noted': 516,\n",
              " 'ministers': 517,\n",
              " 'slave': 518,\n",
              " 'dank': 519,\n",
              " 'tarn': 520,\n",
              " 'well': 521,\n",
              " 'arthur': 522,\n",
              " 'amy': 523,\n",
              " 'why': 524,\n",
              " 'preyest': 525,\n",
              " 'thus': 526,\n",
              " 'upon': 527,\n",
              " 'poets': 528,\n",
              " 'heart': 529,\n",
              " 'bolder': 530,\n",
              " 'swell': 531,\n",
              " 'virgin': 532,\n",
              " 'earth': 533,\n",
              " 'instant': 534,\n",
              " 'having': 535,\n",
              " 'dropped': 536,\n",
              " 'feet': 537,\n",
              " 'prospect': 538,\n",
              " 'terminates': 539,\n",
              " 'yours': 540,\n",
              " 'shall': 541,\n",
              " 'undivided': 542,\n",
              " 'sends': 543,\n",
              " 'toward': 544,\n",
              " 'against': 545,\n",
              " 'blue': 546,\n",
              " 'rapid': 547,\n",
              " 'ghastly': 548,\n",
              " 'river': 549,\n",
              " 'take': 550,\n",
              " 'card': 551,\n",
              " 'such': 552,\n",
              " 'doth': 553,\n",
              " 'dwell': 554,\n",
              " 'pick': 555,\n",
              " 'flower': 556,\n",
              " 'maintained': 557,\n",
              " 'power': 558,\n",
              " 'words': 559,\n",
              " 'denied': 560,\n",
              " 'ever': 561,\n",
              " 'hadnt': 562,\n",
              " 'gnawed': 563,\n",
              " 'hitching': 564,\n",
              " 'posts': 565,\n",
              " 'follow': 566,\n",
              " 'lead': 567,\n",
              " 'years': 568,\n",
              " 'resemble': 569,\n",
              " 'ours': 570,\n",
              " 'everybody': 571,\n",
              " 'proof': 572,\n",
              " 'surpassing': 573,\n",
              " 'youthful': 574,\n",
              " 'forms': 575,\n",
              " 'faces': 576,\n",
              " 'road': 577,\n",
              " 'youll': 578,\n",
              " 'direct': 579,\n",
              " 'greenest': 580,\n",
              " 'our': 581,\n",
              " 'valleys': 582,\n",
              " 'tomorrow': 583,\n",
              " 'rains': 584,\n",
              " 'july': 585,\n",
              " 'midnight': 586,\n",
              " 'ten': 587,\n",
              " 'eve': 588,\n",
              " 'creases': 589,\n",
              " 'unhouse': 590,\n",
              " 'foot': 591,\n",
              " 'without': 592,\n",
              " 'avail': 593,\n",
              " 'promised': 594,\n",
              " 'toffile': 595,\n",
              " 'cruel': 596,\n",
              " 'seen': 597,\n",
              " 'tears': 598,\n",
              " 'dry': 599,\n",
              " 'albeit': 600,\n",
              " 'soared': 601,\n",
              " 'undaunted': 602,\n",
              " 'wing': 603,\n",
              " 'crystal': 604,\n",
              " 'palace': 605,\n",
              " 'london': 606,\n",
              " 'imported': 607,\n",
              " 'ran': 608,\n",
              " 'shouted': 609,\n",
              " 'shut': 610,\n",
              " 'bedroom': 611,\n",
              " 'either': 612,\n",
              " 'cloud': 613,\n",
              " 'smoke': 614,\n",
              " 'last': 615,\n",
              " 'berries': 616,\n",
              " 'shining': 617,\n",
              " 'scarlet': 618,\n",
              " 'red': 619,\n",
              " 'because': 620,\n",
              " 'grassy': 621,\n",
              " 'wanted': 622,\n",
              " 'wear': 623,\n",
              " 'point': 624,\n",
              " 'path': 625,\n",
              " 'skies': 626,\n",
              " 'paddle': 627,\n",
              " 'blade': 628,\n",
              " 'kick': 629,\n",
              " 'army': 630,\n",
              " 'mule': 631,\n",
              " 'deserted': 632,\n",
              " 'hourly': 633,\n",
              " 'hope': 634,\n",
              " 'life': 635,\n",
              " 'ah': 636,\n",
              " 'above': 637,\n",
              " 'headboard': 638,\n",
              " 'wants': 639,\n",
              " 'suddenly': 640,\n",
              " 'jerk': 641,\n",
              " 'twitch': 642,\n",
              " 'science': 643,\n",
              " 'true': 644,\n",
              " 'daughter': 645,\n",
              " 'art': 646,\n",
              " 'admiring': 647,\n",
              " 'natures': 648,\n",
              " 'universal': 649,\n",
              " 'throne': 650,\n",
              " 'telling': 651,\n",
              " 'sigh': 652,\n",
              " 'flattered': 653,\n",
              " 'towns': 654,\n",
              " 'fighting': 655,\n",
              " 'listened': 656,\n",
              " 'till': 657,\n",
              " 'climbed': 658,\n",
              " 'stairs': 659,\n",
              " 'demon': 660,\n",
              " 'tempted': 661,\n",
              " 'realms': 662,\n",
              " 'boreal': 663,\n",
              " 'pole': 664,\n",
              " 'youve': 665,\n",
              " 'estelles': 666,\n",
              " 'run': 667,\n",
              " 'idled': 668,\n",
              " 'much': 669,\n",
              " 'help': 670,\n",
              " 'state': 671,\n",
              " 'glory': 672,\n",
              " 'befitting': 673,\n",
              " 'water': 674,\n",
              " 'spring': 675,\n",
              " 'legended': 676,\n",
              " 'step': 677,\n",
              " 'trodden': 678,\n",
              " 'black': 679,\n",
              " 'runs': 680,\n",
              " 'unbridled': 681,\n",
              " 'course': 682,\n",
              " 'groan': 683,\n",
              " 'mount': 684,\n",
              " 'yaanek': 685,\n",
              " 'hot': 686,\n",
              " 'first': 687,\n",
              " 'cut': 688,\n",
              " 'friends': 689,\n",
              " 'days': 690,\n",
              " 'volcanic': 691,\n",
              " 'hideous': 692,\n",
              " 'throng': 693,\n",
              " 'rush': 694,\n",
              " 'forever': 695,\n",
              " 'wild': 696,\n",
              " 'descent': 697,\n",
              " 'sometimes': 698,\n",
              " 'wander': 699,\n",
              " 'beaten': 700,\n",
              " 'look': 701,\n",
              " 'raspberry': 702,\n",
              " 'vines': 703,\n",
              " 'slippery': 704,\n",
              " 'rocks': 705,\n",
              " 'beside': 706,\n",
              " 'waterfall': 707,\n",
              " 'upstairs': 708,\n",
              " 'facts': 709,\n",
              " 'go': 710,\n",
              " 'senescent': 711,\n",
              " 'second': 712,\n",
              " 'round': 713,\n",
              " 'curving': 714,\n",
              " 'hillside': 715,\n",
              " 'hay': 716,\n",
              " 'rained': 717,\n",
              " 'knew': 718,\n",
              " 'hour': 719,\n",
              " 'henry': 720,\n",
              " 'hudsons': 721,\n",
              " 'each': 722,\n",
              " 'idols': 723,\n",
              " 'diamond': 724,\n",
              " 'eye': 725,\n",
              " 'blotting': 726,\n",
              " 'utterly': 727,\n",
              " 'tended': 728,\n",
              " 'needed': 729,\n",
              " 'plunged': 730,\n",
              " 'tyrant': 731,\n",
              " 'steel': 732,\n",
              " 'unusual': 733,\n",
              " 'strings': 734,\n",
              " 'standing': 735,\n",
              " 'motionless': 736,\n",
              " 'golden': 737,\n",
              " 'common': 738,\n",
              " 'slap': 739,\n",
              " 'just': 740,\n",
              " 'any': 741,\n",
              " 'mormon': 742,\n",
              " 'swimming': 743,\n",
              " 'between': 744,\n",
              " 'darkly': 745,\n",
              " 'present': 746,\n",
              " 'cottages': 747,\n",
              " 'found': 748,\n",
              " 'threw': 749,\n",
              " 'myself': 750,\n",
              " 'wetelbowed': 751,\n",
              " 'wetkneed': 752,\n",
              " 'pens': 753,\n",
              " 'thrills': 754,\n",
              " 'mounted': 755,\n",
              " 'walk': 756,\n",
              " 'plumes': 757,\n",
              " 'trailed': 758,\n",
              " 'dust': 759,\n",
              " 'furs': 760,\n",
              " 'sell': 761,\n",
              " 'green': 762,\n",
              " 'gold': 763,\n",
              " 'replied': 764,\n",
              " 'ulalume': 765,\n",
              " 'leg': 766,\n",
              " 'crutch': 767,\n",
              " 'little': 768,\n",
              " 'child': 769,\n",
              " 'comes': 770,\n",
              " 'johns': 771,\n",
              " 'fair': 772,\n",
              " 'told': 773,\n",
              " 'getting': 774,\n",
              " 'home': 775,\n",
              " 'again': 776,\n",
              " 'rolls': 777,\n",
              " 'ether': 778,\n",
              " 'sighs': 779,\n",
              " 'tin': 780,\n",
              " 'box': 781,\n",
              " 'cupboard': 782,\n",
              " 'shelf': 783,\n",
              " 'birch': 784,\n",
              " 'despite': 785,\n",
              " 'shrines': 786,\n",
              " 'palaces': 787,\n",
              " 'towers': 788,\n",
              " 'didnt': 789,\n",
              " 'nodded': 790,\n",
              " 'joy': 791,\n",
              " 'breathing': 792,\n",
              " 'isles': 793,\n",
              " 'blest': 794,\n",
              " 'wo': 795,\n",
              " 'ill': 796,\n",
              " 'grew': 797,\n",
              " 'ashen': 798,\n",
              " 'sober': 799,\n",
              " 'jupiter': 800,\n",
              " 'odorous': 801,\n",
              " 'souls': 802,\n",
              " 'ecstatic': 803,\n",
              " 'death': 804,\n",
              " 'cold': 805,\n",
              " 'near': 806,\n",
              " 'source': 807,\n",
              " 'pretend': 808,\n",
              " 'stands': 809,\n",
              " 'silver': 810,\n",
              " 'bells': 811,\n",
              " 'burns': 812,\n",
              " 'sunny': 813,\n",
              " 'cheek': 814,\n",
              " 'dragged': 815,\n",
              " 'over': 816,\n",
              " 'everywhere': 817,\n",
              " 'nation': 818,\n",
              " 'earthly': 819,\n",
              " 'moans': 820,\n",
              " 'appear': 821,\n",
              " 'minute': 822,\n",
              " 'advantage': 823,\n",
              " 'hill': 824,\n",
              " 'gods': 825,\n",
              " 'sake': 826,\n",
              " 'arent': 827,\n",
              " 'viewing': 828,\n",
              " 'eat': 829,\n",
              " 'barrel': 830,\n",
              " 'ground': 831,\n",
              " 'least': 832,\n",
              " 'solace': 833,\n",
              " 'hear': 834,\n",
              " 'ceasing': 835,\n",
              " 'hymns': 836,\n",
              " 'attend': 837,\n",
              " 'situation': 838,\n",
              " 'right': 839,\n",
              " 'unembodied': 840,\n",
              " 'essence': 841,\n",
              " 'row': 842,\n",
              " 'pass': 843,\n",
              " 'evening': 844,\n",
              " 'office': 845,\n",
              " 'illumine': 846,\n",
              " 'enkindle': 847,\n",
              " 'further': 848,\n",
              " 'unearthly': 849,\n",
              " 'shudder': 850,\n",
              " 'notes': 851,\n",
              " 'hole': 852,\n",
              " 'somewhere': 853,\n",
              " 'heel': 854,\n",
              " 'swarm': 855,\n",
              " 'turned': 856,\n",
              " 'rock': 857,\n",
              " 'winds': 858,\n",
              " 'rouse': 859,\n",
              " 'purified': 860,\n",
              " 'electric': 861,\n",
              " 'stifling': 862,\n",
              " 'odor': 863,\n",
              " 'sap': 864,\n",
              " 'mebbe': 865,\n",
              " 'wrong': 866,\n",
              " 'men': 867,\n",
              " 'mistake': 868,\n",
              " 'tumble': 869,\n",
              " 'stricken': 870,\n",
              " 'bird': 871,\n",
              " 'walls': 872,\n",
              " 'buried': 873,\n",
              " 'few': 874,\n",
              " 'boy': 875,\n",
              " 'means': 876,\n",
              " 'seven': 877,\n",
              " 'caves': 878,\n",
              " 'came': 879,\n",
              " 'passed': 880,\n",
              " 'end': 881,\n",
              " 'vista': 882,\n",
              " 'clouds': 883,\n",
              " 'low': 884,\n",
              " 'trailing': 885,\n",
              " 'moments': 886,\n",
              " 'misted': 887,\n",
              " 'sounds': 888,\n",
              " 'promises': 889,\n",
              " 'keep': 890,\n",
              " 'care': 891,\n",
              " 'upturnd': 892,\n",
              " 'roses': 893,\n",
              " 'revels': 894,\n",
              " 'region': 895,\n",
              " 'stand': 896,\n",
              " 'richer': 897,\n",
              " 'wilder': 898,\n",
              " 'diviner': 899,\n",
              " 'visions': 900,\n",
              " 'cried': 901,\n",
              " 'surely': 902,\n",
              " 'october': 903,\n",
              " 'said': 904,\n",
              " 'small': 905,\n",
              " 'growing': 906,\n",
              " 'pull': 907,\n",
              " 'ladder': 908,\n",
              " 'behind': 909,\n",
              " 'achilles': 910,\n",
              " 'diomed': 911,\n",
              " 'rattle': 912,\n",
              " 'room': 913,\n",
              " 'dreams': 914,\n",
              " 'raining': 915,\n",
              " 'gazing': 916,\n",
              " 'entranced': 917,\n",
              " 'adown': 918,\n",
              " 'gorgeous': 919,\n",
              " 'crisped': 920,\n",
              " 'quarrel': 921,\n",
              " 'property': 922,\n",
              " 'beloved': 923,\n",
              " 'heroes': 924,\n",
              " 'deathless': 925,\n",
              " 'roam': 926,\n",
              " 'nausicaa': 927,\n",
              " 'ranged': 928,\n",
              " 'desperate': 929,\n",
              " 'energy': 930,\n",
              " 'lately': 931,\n",
              " 'slept': 932,\n",
              " 'apathy': 933,\n",
              " 'live': 934,\n",
              " 'robinsons': 935,\n",
              " 'likes': 936,\n",
              " 'offers': 937,\n",
              " 'springs': 938,\n",
              " 'upstart': 939,\n",
              " 'thinks': 940,\n",
              " 'wind': 941,\n",
              " 'makes': 942,\n",
              " 'quarry': 943,\n",
              " 'cared': 944,\n",
              " 'himself': 945,\n",
              " 'trembled': 946,\n",
              " 'stirred': 947,\n",
              " 'posies': 948,\n",
              " 'inner': 949,\n",
              " 'early': 950,\n",
              " 'mormons': 951,\n",
              " 'settlement': 952,\n",
              " 'bay': 953,\n",
              " 'longer': 954,\n",
              " 'axis': 955,\n",
              " 'forgive': 956,\n",
              " 'liquescent': 957,\n",
              " 'redlitten': 958,\n",
              " 'windows': 959,\n",
              " 'tower': 960,\n",
              " 'clock': 961,\n",
              " 'smart': 962,\n",
              " 'pair': 963,\n",
              " 'pumps': 964,\n",
              " 'youre': 965,\n",
              " 'beading': 966,\n",
              " 'talkedof': 967,\n",
              " 'mystery': 968,\n",
              " 'smarty': 969,\n",
              " 'someone': 970,\n",
              " 'spoiled': 971,\n",
              " 'everything': 972,\n",
              " 'stroked': 973,\n",
              " 'hornyhanded': 974,\n",
              " 'kindness': 975,\n",
              " 'caught': 976,\n",
              " 'lizard': 977,\n",
              " 'tail': 978,\n",
              " 'lurid': 979,\n",
              " 'sea': 980,\n",
              " 'paused': 981,\n",
              " 'rested': 982,\n",
              " 'sort': 983,\n",
              " 'hook': 984,\n",
              " 'flickers': 985,\n",
              " 'bid': 986,\n",
              " 'believe': 987,\n",
              " 'softmurmured': 988,\n",
              " 'fulfilled': 989,\n",
              " 'memory': 990,\n",
              " 'accursed': 991,\n",
              " 'repeatedly': 992,\n",
              " 'strove': 993,\n",
              " 'discordant': 994,\n",
              " 'melody': 995,\n",
              " 'threatener': 996,\n",
              " 'strains': 997,\n",
              " 'fifteen': 998,\n",
              " 'miraculous': 999,\n",
              " ...}"
            ]
          },
          "metadata": {},
          "execution_count": 14
        }
      ]
    },
    {
      "cell_type": "code",
      "source": [
        "len(word2idx)"
      ],
      "metadata": {
        "colab": {
          "base_uri": "https://localhost:8080/"
        },
        "id": "B5dP5-ah9fDA",
        "outputId": "13d70d44-54ef-4faf-a820-4806b39ea4e6"
      },
      "execution_count": 15,
      "outputs": [
        {
          "output_type": "execute_result",
          "data": {
            "text/plain": [
              "2549"
            ]
          },
          "metadata": {},
          "execution_count": 15
        }
      ]
    },
    {
      "cell_type": "code",
      "source": [
        "# convert data into integer format\n",
        "\n",
        "train_text_int = []\n",
        "test_text_int = []\n",
        "\n",
        "for text in train_text:\n",
        "  tokens = text.split()\n",
        "  line_as_int = [word2idx[token] for token in tokens]\n",
        "  train_text_int.append(line_as_int)\n",
        "\n",
        "for text in test_text:\n",
        "  tokens = text.split()\n",
        "  line_as_int = [word2idx.get(token, 0) for token in tokens]\n",
        "  test_text_int.append(line_as_int)"
      ],
      "metadata": {
        "id": "WkBwssyR9me7"
      },
      "execution_count": 16,
      "outputs": []
    },
    {
      "cell_type": "code",
      "source": [
        "train_text_int[100:105]"
      ],
      "metadata": {
        "colab": {
          "base_uri": "https://localhost:8080/"
        },
        "id": "A8N4tNpA-Ttg",
        "outputId": "df12aed2-3ea5-40e5-868a-e78a1a2e8b6e"
      },
      "execution_count": 17,
      "outputs": [
        {
          "output_type": "execute_result",
          "data": {
            "text/plain": [
              "[[15, 395, 65, 15, 396, 85, 15, 395],\n",
              " [397, 398, 399, 113, 400, 401],\n",
              " [402, 403, 404, 405, 406],\n",
              " [15, 407, 87, 22, 408, 409, 332, 147, 206, 166],\n",
              " [40, 410, 411, 65, 412]]"
            ]
          },
          "metadata": {},
          "execution_count": 17
        }
      ]
    },
    {
      "cell_type": "code",
      "source": [
        "# initialize A and pi matrices - for both classes\n",
        "\n",
        "V = len(word2idx)\n",
        "\n",
        "A0 = np.ones((V, V))\n",
        "pi0 = np.ones(V)\n",
        "\n",
        "A1 = np.ones((V, V))\n",
        "pi1 = np.ones(V)"
      ],
      "metadata": {
        "id": "JHvHblkb-dzc"
      },
      "execution_count": 18,
      "outputs": []
    },
    {
      "cell_type": "code",
      "source": [
        "# compute counts for A and pi\n",
        "\n",
        "def compute_counts(text_as_int, A, pi):\n",
        "  for tokens in text_as_int:\n",
        "    last_idx = None\n",
        "    for idx in tokens:\n",
        "      if last_idx is None:\n",
        "        # it's the first word in a sentence\n",
        "        pi[idx] += 1\n",
        "      else:\n",
        "        # the last word exists, so count a transition\n",
        "        A[last_idx, idx] += 1\n",
        "\n",
        "      # update last idx\n",
        "      last_idx = idx\n",
        "\n",
        "compute_counts([t for t, y in zip(train_text_int, Ytrain) if y == 0], A0, pi0)\n",
        "compute_counts([t for t, y in zip(train_text_int, Ytrain) if y == 1], A1, pi1)"
      ],
      "metadata": {
        "id": "deYxchSBHGJv"
      },
      "execution_count": 20,
      "outputs": []
    },
    {
      "cell_type": "code",
      "source": [
        "# normalize A and pi so they are valid probability matrices\n",
        "\n",
        "A0 /= A0.sum(axis=1, keepdims=True)\n",
        "pi0 /= pi0.sum()\n",
        "\n",
        "A1 /= A1.sum(axis=1, keepdims=True)\n",
        "pi1 /= pi1.sum()"
      ],
      "metadata": {
        "id": "nLjAzKXjJAKT"
      },
      "execution_count": 21,
      "outputs": []
    },
    {
      "cell_type": "code",
      "source": [
        "# log A and pi since we don't need the actual probs\n",
        "\n",
        "logA0 = np.log(A0)\n",
        "logpi0 = np.log(pi0)\n",
        "\n",
        "logA1 = np.log(A1)\n",
        "logpi1 = np.log(pi1)"
      ],
      "metadata": {
        "id": "hFmTSH6cKLmR"
      },
      "execution_count": 22,
      "outputs": []
    },
    {
      "cell_type": "code",
      "source": [
        "# compute priors\n",
        "\n",
        "count0 = sum(y == 0 for y in Ytrain)\n",
        "count1 = sum(y == 1 for y in Ytrain)\n",
        "total = len(Ytrain)\n",
        "p0 = count0 / total\n",
        "p1 = count1 / total\n",
        "logp0 = np.log(p0)\n",
        "logp1 = np.log(p1)\n",
        "p0, p1"
      ],
      "metadata": {
        "colab": {
          "base_uri": "https://localhost:8080/"
        },
        "id": "cT9Q8bPoLH9n",
        "outputId": "1dcaaa04-6d39-4b9c-ad96-15531cdf32bb"
      },
      "execution_count": 23,
      "outputs": [
        {
          "output_type": "execute_result",
          "data": {
            "text/plain": [
              "(0.33436532507739936, 0.6656346749226006)"
            ]
          },
          "metadata": {},
          "execution_count": 23
        }
      ]
    },
    {
      "cell_type": "code",
      "source": [
        "# build a classifier\n",
        "\n",
        "class Classifier:\n",
        "  def __init__(self, logAs, logpis, logpriors):\n",
        "    self.logAs = logAs\n",
        "    self.logpis = logpis\n",
        "    self.logpriors = logpriors\n",
        "    self.K = len(logpriors) # number of classes\n",
        "\n",
        "  def _compute_log_likelihood(self, input_, class_):\n",
        "    logA = self.logAs[class_]\n",
        "    logpi = self.logpis[class_]\n",
        "\n",
        "    last_idx = None\n",
        "    logprob = 0\n",
        "    for idx in input_:\n",
        "      if last_idx is None:\n",
        "        # it's the first token\n",
        "        logprob += logpi[idx]\n",
        "      else:\n",
        "        logprob += logA[last_idx, idx]\n",
        "\n",
        "      # update last idx\n",
        "      last_idx = idx\n",
        "\n",
        "    return logprob\n",
        "\n",
        "  def predict(self, inputs):\n",
        "    predictions = np.zeros(len(inputs))\n",
        "    for i, input_ in enumerate(inputs):\n",
        "      posteriors = [self._compute_log_likelihood(input_, c) + self.logpriors[c] for c in range(self.K)]\n",
        "      pred = np.argmax(posteriors)\n",
        "      predictions[i] = pred\n",
        "    return predictions"
      ],
      "metadata": {
        "id": "IeyRL4MJLgXo"
      },
      "execution_count": 27,
      "outputs": []
    },
    {
      "cell_type": "code",
      "source": [
        "# each array must be in order since classes are assumed to index these lists\n",
        "clf = Classifier([logA0, logA1], [logpi0, logpi1], [logp0, logp1])"
      ],
      "metadata": {
        "id": "5rltrbhCPqNs"
      },
      "execution_count": 28,
      "outputs": []
    },
    {
      "cell_type": "code",
      "source": [
        "Ptrain = clf.predict(train_text_int)\n",
        "print(f\"Train acc: {np.mean(Ptrain == Ytrain)}\")"
      ],
      "metadata": {
        "colab": {
          "base_uri": "https://localhost:8080/"
        },
        "id": "RPX5IeecP9OV",
        "outputId": "5e431039-7c56-4baa-e4f7-6452270b0dfc"
      },
      "execution_count": 29,
      "outputs": [
        {
          "output_type": "stream",
          "name": "stdout",
          "text": [
            "Train acc: 0.9969040247678018\n"
          ]
        }
      ]
    },
    {
      "cell_type": "code",
      "source": [
        "Ptest = clf.predict(test_text_int)\n",
        "print(f\"Test acc: {np.mean(Ptest == Ytest)}\")"
      ],
      "metadata": {
        "colab": {
          "base_uri": "https://localhost:8080/"
        },
        "id": "gKlX0kaBQGcN",
        "outputId": "412029e2-cf19-463d-cc08-b720e9350148"
      },
      "execution_count": 30,
      "outputs": [
        {
          "output_type": "stream",
          "name": "stdout",
          "text": [
            "Test acc: 0.8293135435992579\n"
          ]
        }
      ]
    },
    {
      "cell_type": "code",
      "source": [
        "from sklearn.metrics import confusion_matrix, f1_score"
      ],
      "metadata": {
        "id": "4oi4qkDXREkG"
      },
      "execution_count": 31,
      "outputs": []
    },
    {
      "cell_type": "code",
      "source": [
        "cm = confusion_matrix(Ytrain, Ptrain)\n",
        "cm"
      ],
      "metadata": {
        "colab": {
          "base_uri": "https://localhost:8080/"
        },
        "id": "_b2ArnvGRNE2",
        "outputId": "f1404045-12a9-4f19-cb88-ff2c4210e857"
      },
      "execution_count": 32,
      "outputs": [
        {
          "output_type": "execute_result",
          "data": {
            "text/plain": [
              "array([[ 535,    5],\n",
              "       [   0, 1075]])"
            ]
          },
          "metadata": {},
          "execution_count": 32
        }
      ]
    },
    {
      "cell_type": "code",
      "source": [
        "cm_test = confusion_matrix(Ytest, Ptest)\n",
        "cm_test"
      ],
      "metadata": {
        "colab": {
          "base_uri": "https://localhost:8080/"
        },
        "id": "9bievETbRQOw",
        "outputId": "53b87309-5bb0-4e18-dce0-604a9513f243"
      },
      "execution_count": 33,
      "outputs": [
        {
          "output_type": "execute_result",
          "data": {
            "text/plain": [
              "array([[100,  78],\n",
              "       [ 14, 347]])"
            ]
          },
          "metadata": {},
          "execution_count": 33
        }
      ]
    },
    {
      "cell_type": "code",
      "source": [
        "f1_score(Ytrain, Ptrain)"
      ],
      "metadata": {
        "colab": {
          "base_uri": "https://localhost:8080/"
        },
        "id": "8qWYqIbYRVVy",
        "outputId": "5fab6b1a-9c40-4f33-a971-ccd3698325e7"
      },
      "execution_count": 34,
      "outputs": [
        {
          "output_type": "execute_result",
          "data": {
            "text/plain": [
              "0.9976798143851509"
            ]
          },
          "metadata": {},
          "execution_count": 34
        }
      ]
    },
    {
      "cell_type": "code",
      "source": [
        "f1_score(Ytest, Ptest)"
      ],
      "metadata": {
        "colab": {
          "base_uri": "https://localhost:8080/"
        },
        "id": "ud7Cl-IORdbw",
        "outputId": "16991dc7-029c-49ec-8f11-36fe5ee268a0"
      },
      "execution_count": 35,
      "outputs": [
        {
          "output_type": "execute_result",
          "data": {
            "text/plain": [
              "0.8829516539440204"
            ]
          },
          "metadata": {},
          "execution_count": 35
        }
      ]
    },
    {
      "cell_type": "code",
      "source": [],
      "metadata": {
        "id": "86cXQOoHRglu"
      },
      "execution_count": null,
      "outputs": []
    }
  ]
}