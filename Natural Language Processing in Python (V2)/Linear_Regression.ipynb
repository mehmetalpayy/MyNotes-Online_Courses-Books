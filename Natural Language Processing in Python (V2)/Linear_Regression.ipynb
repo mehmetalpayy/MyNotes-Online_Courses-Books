{
  "nbformat": 4,
  "nbformat_minor": 0,
  "metadata": {
    "colab": {
      "provenance": []
    },
    "kernelspec": {
      "name": "python3",
      "display_name": "Python 3"
    },
    "language_info": {
      "name": "python"
    }
  },
  "cells": [
    {
      "cell_type": "code",
      "execution_count": 1,
      "metadata": {
        "id": "HLiqKpjjwqdt"
      },
      "outputs": [],
      "source": [
        "import numpy as np\n",
        "import tensorflow as tf\n",
        "import matplotlib.pyplot as plt\n",
        "\n",
        "from tensorflow.keras.layers import Dense, Input\n",
        "from tensorflow.keras.models import Model\n",
        "from tensorflow.keras.optimizers import Adam"
      ]
    },
    {
      "cell_type": "code",
      "source": [
        "N = 100\n",
        "X = np.random.random(N) * 6 - 3\n",
        "y = 0.5 * X - 1 + np.random.randn(N) * 0.5"
      ],
      "metadata": {
        "id": "Whp-xP03wsGH"
      },
      "execution_count": 2,
      "outputs": []
    },
    {
      "cell_type": "code",
      "source": [
        "plt.scatter(X, y);"
      ],
      "metadata": {
        "colab": {
          "base_uri": "https://localhost:8080/",
          "height": 430
        },
        "id": "CO4P_XGHwtSN",
        "outputId": "96189b42-a5f2-4d2f-c11c-0d9ec58c80ad"
      },
      "execution_count": 3,
      "outputs": [
        {
          "output_type": "display_data",
          "data": {
            "text/plain": [
              "<Figure size 640x480 with 1 Axes>"
            ],
            "image/png": "[encoded data removed]"
          },
          "metadata": {}
        }
      ]
    },
    {
      "cell_type": "code",
      "source": [
        "# build model\n",
        "i = Input(shape=(1,))\n",
        "x = Dense(1)(i)\n",
        "\n",
        "model = Model(i, x)"
      ],
      "metadata": {
        "id": "ziSyRIyHwuAt"
      },
      "execution_count": 4,
      "outputs": []
    },
    {
      "cell_type": "code",
      "source": [
        "model.summary()"
      ],
      "metadata": {
        "colab": {
          "base_uri": "https://localhost:8080/"
        },
        "id": "zDPJoIazwvGf",
        "outputId": "b9bb8968-3608-44a5-8f7d-e4b1f272757d"
      },
      "execution_count": 5,
      "outputs": [
        {
          "output_type": "stream",
          "name": "stdout",
          "text": [
            "Model: \"model\"\n",
            "_________________________________________________________________\n",
            " Layer (type)                Output Shape              Param #   \n",
            "=================================================================\n",
            " input_1 (InputLayer)        [(None, 1)]               0         \n",
            "                                                                 \n",
            " dense (Dense)               (None, 1)                 2         \n",
            "                                                                 \n",
            "=================================================================\n",
            "Total params: 2 (8.00 Byte)\n",
            "Trainable params: 2 (8.00 Byte)\n",
            "Non-trainable params: 0 (0.00 Byte)\n",
            "_________________________________________________________________\n"
          ]
        }
      ]
    },
    {
      "cell_type": "code",
      "source": [
        "model.compile(\n",
        "  loss='mse',\n",
        "  # optimizer='adam',\n",
        "  optimizer=Adam(learning_rate=0.1),\n",
        "  metrics=['mae']\n",
        ")"
      ],
      "metadata": {
        "id": "ww3PejB0wzPk"
      },
      "execution_count": 6,
      "outputs": []
    },
    {
      "cell_type": "code",
      "source": [
        "r = model.fit(\n",
        "  X.reshape(-1, 1), y,\n",
        "  epochs=200,\n",
        "  batch_size=32,\n",
        ")"
      ],
      "metadata": {
        "colab": {
          "base_uri": "https://localhost:8080/"
        },
        "id": "dQgwocW_w0yL",
        "outputId": "c72a5f53-3041-4cb9-a9c0-15787b464a64"
      },
      "execution_count": 7,
      "outputs": [
        {
          "output_type": "stream",
          "name": "stdout",
          "text": [
            "Epoch 1/200\n",
            "4/4 [==============================] - 3s 15ms/step - loss: 1.3519 - mae: 1.0076\n",
            "Epoch 2/200\n",
            "4/4 [==============================] - 0s 9ms/step - loss: 0.7607 - mae: 0.7367\n",
            "Epoch 3/200\n",
            "4/4 [==============================] - 0s 16ms/step - loss: 0.3748 - mae: 0.4923\n",
            "Epoch 4/200\n",
            "4/4 [==============================] - 0s 11ms/step - loss: 0.3612 - mae: 0.4796\n",
            "Epoch 5/200\n",
            "4/4 [==============================] - 0s 10ms/step - loss: 0.3529 - mae: 0.4758\n",
            "Epoch 6/200\n",
            "4/4 [==============================] - 0s 11ms/step - loss: 0.3549 - mae: 0.4821\n",
            "Epoch 7/200\n",
            "4/4 [==============================] - 0s 14ms/step - loss: 0.3489 - mae: 0.4779\n",
            "Epoch 8/200\n",
            "4/4 [==============================] - 0s 12ms/step - loss: 0.3195 - mae: 0.4609\n",
            "Epoch 9/200\n",
            "4/4 [==============================] - 0s 6ms/step - loss: 0.3062 - mae: 0.4455\n",
            "Epoch 10/200\n",
            "4/4 [==============================] - 0s 7ms/step - loss: 0.3064 - mae: 0.4504\n",
            "Epoch 11/200\n",
            "4/4 [==============================] - 0s 7ms/step - loss: 0.3202 - mae: 0.4576\n",
            "Epoch 12/200\n",
            "4/4 [==============================] - 0s 5ms/step - loss: 0.3224 - mae: 0.4600\n",
            "Epoch 13/200\n",
            "4/4 [==============================] - 0s 6ms/step - loss: 0.3038 - mae: 0.4521\n",
            "Epoch 14/200\n",
            "4/4 [==============================] - 0s 7ms/step - loss: 0.2990 - mae: 0.4446\n",
            "Epoch 15/200\n",
            "4/4 [==============================] - 0s 7ms/step - loss: 0.3007 - mae: 0.4430\n",
            "Epoch 16/200\n",
            "4/4 [==============================] - 0s 8ms/step - loss: 0.3225 - mae: 0.4510\n",
            "Epoch 17/200\n",
            "4/4 [==============================] - 0s 5ms/step - loss: 0.3145 - mae: 0.4484\n",
            "Epoch 18/200\n",
            "4/4 [==============================] - 0s 7ms/step - loss: 0.3024 - mae: 0.4429\n",
            "Epoch 19/200\n",
            "4/4 [==============================] - 0s 6ms/step - loss: 0.3283 - mae: 0.4638\n",
            "Epoch 20/200\n",
            "4/4 [==============================] - 0s 6ms/step - loss: 0.3412 - mae: 0.4774\n",
            "Epoch 21/200\n",
            "4/4 [==============================] - 0s 7ms/step - loss: 0.3094 - mae: 0.4554\n",
            "Epoch 22/200\n",
            "4/4 [==============================] - 0s 5ms/step - loss: 0.2988 - mae: 0.4386\n",
            "Epoch 23/200\n",
            "4/4 [==============================] - 0s 5ms/step - loss: 0.3105 - mae: 0.4437\n",
            "Epoch 24/200\n",
            "4/4 [==============================] - 0s 5ms/step - loss: 0.3058 - mae: 0.4445\n",
            "Epoch 25/200\n",
            "4/4 [==============================] - 0s 5ms/step - loss: 0.3021 - mae: 0.4483\n",
            "Epoch 26/200\n",
            "4/4 [==============================] - 0s 5ms/step - loss: 0.3059 - mae: 0.4524\n",
            "Epoch 27/200\n",
            "4/4 [==============================] - 0s 5ms/step - loss: 0.3042 - mae: 0.4498\n",
            "Epoch 28/200\n",
            "4/4 [==============================] - 0s 4ms/step - loss: 0.3012 - mae: 0.4449\n",
            "Epoch 29/200\n",
            "4/4 [==============================] - 0s 4ms/step - loss: 0.3083 - mae: 0.4454\n",
            "Epoch 30/200\n",
            "4/4 [==============================] - 0s 5ms/step - loss: 0.2997 - mae: 0.4426\n",
            "Epoch 31/200\n",
            "4/4 [==============================] - 0s 4ms/step - loss: 0.3003 - mae: 0.4476\n",
            "Epoch 32/200\n",
            "4/4 [==============================] - 0s 4ms/step - loss: 0.3037 - mae: 0.4506\n",
            "Epoch 33/200\n",
            "4/4 [==============================] - 0s 4ms/step - loss: 0.2979 - mae: 0.4416\n",
            "Epoch 34/200\n",
            "4/4 [==============================] - 0s 4ms/step - loss: 0.3072 - mae: 0.4418\n",
            "Epoch 35/200\n",
            "4/4 [==============================] - 0s 10ms/step - loss: 0.3023 - mae: 0.4398\n",
            "Epoch 36/200\n",
            "4/4 [==============================] - 0s 6ms/step - loss: 0.2963 - mae: 0.4443\n",
            "Epoch 37/200\n",
            "4/4 [==============================] - 0s 4ms/step - loss: 0.3019 - mae: 0.4487\n",
            "Epoch 38/200\n",
            "4/4 [==============================] - 0s 4ms/step - loss: 0.2974 - mae: 0.4418\n",
            "Epoch 39/200\n",
            "4/4 [==============================] - 0s 4ms/step - loss: 0.3130 - mae: 0.4519\n",
            "Epoch 40/200\n",
            "4/4 [==============================] - 0s 4ms/step - loss: 0.3147 - mae: 0.4542\n",
            "Epoch 41/200\n",
            "4/4 [==============================] - 0s 4ms/step - loss: 0.3019 - mae: 0.4469\n",
            "Epoch 42/200\n",
            "4/4 [==============================] - 0s 4ms/step - loss: 0.3073 - mae: 0.4499\n",
            "Epoch 43/200\n",
            "4/4 [==============================] - 0s 4ms/step - loss: 0.3116 - mae: 0.4558\n",
            "Epoch 44/200\n",
            "4/4 [==============================] - 0s 4ms/step - loss: 0.3032 - mae: 0.4489\n",
            "Epoch 45/200\n",
            "4/4 [==============================] - 0s 4ms/step - loss: 0.3061 - mae: 0.4418\n",
            "Epoch 46/200\n",
            "4/4 [==============================] - 0s 5ms/step - loss: 0.3209 - mae: 0.4514\n",
            "Epoch 47/200\n",
            "4/4 [==============================] - 0s 5ms/step - loss: 0.3064 - mae: 0.4428\n",
            "Epoch 48/200\n",
            "4/4 [==============================] - 0s 5ms/step - loss: 0.3000 - mae: 0.4422\n",
            "Epoch 49/200\n",
            "4/4 [==============================] - 0s 4ms/step - loss: 0.2999 - mae: 0.4431\n",
            "Epoch 50/200\n",
            "4/4 [==============================] - 0s 5ms/step - loss: 0.2962 - mae: 0.4430\n",
            "Epoch 51/200\n",
            "4/4 [==============================] - 0s 4ms/step - loss: 0.3036 - mae: 0.4485\n",
            "Epoch 52/200\n",
            "4/4 [==============================] - 0s 5ms/step - loss: 0.3064 - mae: 0.4529\n",
            "Epoch 53/200\n",
            "4/4 [==============================] - 0s 5ms/step - loss: 0.3097 - mae: 0.4469\n",
            "Epoch 54/200\n",
            "4/4 [==============================] - 0s 4ms/step - loss: 0.3124 - mae: 0.4468\n",
            "Epoch 55/200\n",
            "4/4 [==============================] - 0s 5ms/step - loss: 0.2964 - mae: 0.4431\n",
            "Epoch 56/200\n",
            "4/4 [==============================] - 0s 5ms/step - loss: 0.3064 - mae: 0.4524\n",
            "Epoch 57/200\n",
            "4/4 [==============================] - 0s 4ms/step - loss: 0.3003 - mae: 0.4448\n",
            "Epoch 58/200\n",
            "4/4 [==============================] - 0s 4ms/step - loss: 0.3005 - mae: 0.4440\n",
            "Epoch 59/200\n",
            "4/4 [==============================] - 0s 4ms/step - loss: 0.3007 - mae: 0.4433\n",
            "Epoch 60/200\n",
            "4/4 [==============================] - 0s 4ms/step - loss: 0.3024 - mae: 0.4492\n",
            "Epoch 61/200\n",
            "4/4 [==============================] - 0s 4ms/step - loss: 0.3000 - mae: 0.4463\n",
            "Epoch 62/200\n",
            "4/4 [==============================] - 0s 4ms/step - loss: 0.2979 - mae: 0.4413\n",
            "Epoch 63/200\n",
            "4/4 [==============================] - 0s 4ms/step - loss: 0.3588 - mae: 0.4783\n",
            "Epoch 64/200\n",
            "4/4 [==============================] - 0s 4ms/step - loss: 0.3256 - mae: 0.4489\n",
            "Epoch 65/200\n",
            "4/4 [==============================] - 0s 4ms/step - loss: 0.3072 - mae: 0.4535\n",
            "Epoch 66/200\n",
            "4/4 [==============================] - 0s 4ms/step - loss: 0.3277 - mae: 0.4702\n",
            "Epoch 67/200\n",
            "4/4 [==============================] - 0s 4ms/step - loss: 0.3095 - mae: 0.4524\n",
            "Epoch 68/200\n",
            "4/4 [==============================] - 0s 4ms/step - loss: 0.3167 - mae: 0.4461\n",
            "Epoch 69/200\n",
            "4/4 [==============================] - 0s 4ms/step - loss: 0.3113 - mae: 0.4534\n",
            "Epoch 70/200\n",
            "4/4 [==============================] - 0s 4ms/step - loss: 0.3031 - mae: 0.4479\n",
            "Epoch 71/200\n",
            "4/4 [==============================] - 0s 5ms/step - loss: 0.3053 - mae: 0.4507\n",
            "Epoch 72/200\n",
            "4/4 [==============================] - 0s 5ms/step - loss: 0.2979 - mae: 0.4422\n",
            "Epoch 73/200\n",
            "4/4 [==============================] - 0s 4ms/step - loss: 0.3198 - mae: 0.4530\n",
            "Epoch 74/200\n",
            "4/4 [==============================] - 0s 4ms/step - loss: 0.3088 - mae: 0.4482\n",
            "Epoch 75/200\n",
            "4/4 [==============================] - 0s 4ms/step - loss: 0.3100 - mae: 0.4526\n",
            "Epoch 76/200\n",
            "4/4 [==============================] - 0s 4ms/step - loss: 0.3015 - mae: 0.4466\n",
            "Epoch 77/200\n",
            "4/4 [==============================] - 0s 4ms/step - loss: 0.3073 - mae: 0.4426\n",
            "Epoch 78/200\n",
            "4/4 [==============================] - 0s 4ms/step - loss: 0.2998 - mae: 0.4379\n",
            "Epoch 79/200\n",
            "4/4 [==============================] - 0s 4ms/step - loss: 0.3001 - mae: 0.4475\n",
            "Epoch 80/200\n",
            "4/4 [==============================] - 0s 4ms/step - loss: 0.3154 - mae: 0.4598\n",
            "Epoch 81/200\n",
            "4/4 [==============================] - 0s 4ms/step - loss: 0.3043 - mae: 0.4471\n",
            "Epoch 82/200\n",
            "4/4 [==============================] - 0s 4ms/step - loss: 0.3086 - mae: 0.4440\n",
            "Epoch 83/200\n",
            "4/4 [==============================] - 0s 3ms/step - loss: 0.3083 - mae: 0.4424\n",
            "Epoch 84/200\n",
            "4/4 [==============================] - 0s 4ms/step - loss: 0.2998 - mae: 0.4493\n",
            "Epoch 85/200\n",
            "4/4 [==============================] - 0s 4ms/step - loss: 0.3050 - mae: 0.4502\n",
            "Epoch 86/200\n",
            "4/4 [==============================] - 0s 4ms/step - loss: 0.3001 - mae: 0.4464\n",
            "Epoch 87/200\n",
            "4/4 [==============================] - 0s 4ms/step - loss: 0.3019 - mae: 0.4437\n",
            "Epoch 88/200\n",
            "4/4 [==============================] - 0s 4ms/step - loss: 0.2989 - mae: 0.4385\n",
            "Epoch 89/200\n",
            "4/4 [==============================] - 0s 4ms/step - loss: 0.3254 - mae: 0.4670\n",
            "Epoch 90/200\n",
            "4/4 [==============================] - 0s 4ms/step - loss: 0.3295 - mae: 0.4691\n",
            "Epoch 91/200\n",
            "4/4 [==============================] - 0s 4ms/step - loss: 0.2967 - mae: 0.4428\n",
            "Epoch 92/200\n",
            "4/4 [==============================] - 0s 4ms/step - loss: 0.3108 - mae: 0.4534\n",
            "Epoch 93/200\n",
            "4/4 [==============================] - 0s 3ms/step - loss: 0.3233 - mae: 0.4579\n",
            "Epoch 94/200\n",
            "4/4 [==============================] - 0s 3ms/step - loss: 0.3004 - mae: 0.4468\n",
            "Epoch 95/200\n",
            "4/4 [==============================] - 0s 4ms/step - loss: 0.3306 - mae: 0.4692\n",
            "Epoch 96/200\n",
            "4/4 [==============================] - 0s 5ms/step - loss: 0.3004 - mae: 0.4450\n",
            "Epoch 97/200\n",
            "4/4 [==============================] - 0s 4ms/step - loss: 0.3095 - mae: 0.4432\n",
            "Epoch 98/200\n",
            "4/4 [==============================] - 0s 4ms/step - loss: 0.3318 - mae: 0.4555\n",
            "Epoch 99/200\n",
            "4/4 [==============================] - 0s 6ms/step - loss: 0.3111 - mae: 0.4459\n",
            "Epoch 100/200\n",
            "4/4 [==============================] - 0s 4ms/step - loss: 0.3081 - mae: 0.4479\n",
            "Epoch 101/200\n",
            "4/4 [==============================] - 0s 4ms/step - loss: 0.3502 - mae: 0.4842\n",
            "Epoch 102/200\n",
            "4/4 [==============================] - 0s 4ms/step - loss: 0.3139 - mae: 0.4548\n",
            "Epoch 103/200\n",
            "4/4 [==============================] - 0s 4ms/step - loss: 0.3170 - mae: 0.4518\n",
            "Epoch 104/200\n",
            "4/4 [==============================] - 0s 5ms/step - loss: 0.3224 - mae: 0.4491\n",
            "Epoch 105/200\n",
            "4/4 [==============================] - 0s 4ms/step - loss: 0.3062 - mae: 0.4458\n",
            "Epoch 106/200\n",
            "4/4 [==============================] - 0s 4ms/step - loss: 0.3168 - mae: 0.4580\n",
            "Epoch 107/200\n",
            "4/4 [==============================] - 0s 3ms/step - loss: 0.3157 - mae: 0.4557\n",
            "Epoch 108/200\n",
            "4/4 [==============================] - 0s 4ms/step - loss: 0.3076 - mae: 0.4540\n",
            "Epoch 109/200\n",
            "4/4 [==============================] - 0s 4ms/step - loss: 0.3008 - mae: 0.4478\n",
            "Epoch 110/200\n",
            "4/4 [==============================] - 0s 4ms/step - loss: 0.3005 - mae: 0.4445\n",
            "Epoch 111/200\n",
            "4/4 [==============================] - 0s 4ms/step - loss: 0.3002 - mae: 0.4451\n",
            "Epoch 112/200\n",
            "4/4 [==============================] - 0s 4ms/step - loss: 0.3008 - mae: 0.4447\n",
            "Epoch 113/200\n",
            "4/4 [==============================] - 0s 5ms/step - loss: 0.3002 - mae: 0.4425\n",
            "Epoch 114/200\n",
            "4/4 [==============================] - 0s 6ms/step - loss: 0.3067 - mae: 0.4460\n",
            "Epoch 115/200\n",
            "4/4 [==============================] - 0s 4ms/step - loss: 0.3096 - mae: 0.4437\n",
            "Epoch 116/200\n",
            "4/4 [==============================] - 0s 5ms/step - loss: 0.3003 - mae: 0.4422\n",
            "Epoch 117/200\n",
            "4/4 [==============================] - 0s 5ms/step - loss: 0.3103 - mae: 0.4542\n",
            "Epoch 118/200\n",
            "4/4 [==============================] - 0s 4ms/step - loss: 0.3042 - mae: 0.4470\n",
            "Epoch 119/200\n",
            "4/4 [==============================] - 0s 5ms/step - loss: 0.2985 - mae: 0.4435\n",
            "Epoch 120/200\n",
            "4/4 [==============================] - 0s 5ms/step - loss: 0.3034 - mae: 0.4446\n",
            "Epoch 121/200\n",
            "4/4 [==============================] - 0s 4ms/step - loss: 0.3078 - mae: 0.4511\n",
            "Epoch 122/200\n",
            "4/4 [==============================] - 0s 4ms/step - loss: 0.3000 - mae: 0.4466\n",
            "Epoch 123/200\n",
            "4/4 [==============================] - 0s 5ms/step - loss: 0.3014 - mae: 0.4443\n",
            "Epoch 124/200\n",
            "4/4 [==============================] - 0s 5ms/step - loss: 0.3010 - mae: 0.4454\n",
            "Epoch 125/200\n",
            "4/4 [==============================] - 0s 5ms/step - loss: 0.3061 - mae: 0.4498\n",
            "Epoch 126/200\n",
            "4/4 [==============================] - 0s 4ms/step - loss: 0.3015 - mae: 0.4469\n",
            "Epoch 127/200\n",
            "4/4 [==============================] - 0s 4ms/step - loss: 0.3003 - mae: 0.4461\n",
            "Epoch 128/200\n",
            "4/4 [==============================] - 0s 4ms/step - loss: 0.3096 - mae: 0.4531\n",
            "Epoch 129/200\n",
            "4/4 [==============================] - 0s 4ms/step - loss: 0.3031 - mae: 0.4476\n",
            "Epoch 130/200\n",
            "4/4 [==============================] - 0s 4ms/step - loss: 0.3042 - mae: 0.4488\n",
            "Epoch 131/200\n",
            "4/4 [==============================] - 0s 4ms/step - loss: 0.3088 - mae: 0.4507\n",
            "Epoch 132/200\n",
            "4/4 [==============================] - 0s 4ms/step - loss: 0.3071 - mae: 0.4463\n",
            "Epoch 133/200\n",
            "4/4 [==============================] - 0s 4ms/step - loss: 0.2959 - mae: 0.4367\n",
            "Epoch 134/200\n",
            "4/4 [==============================] - 0s 4ms/step - loss: 0.3092 - mae: 0.4517\n",
            "Epoch 135/200\n",
            "4/4 [==============================] - 0s 4ms/step - loss: 0.3185 - mae: 0.4559\n",
            "Epoch 136/200\n",
            "4/4 [==============================] - 0s 4ms/step - loss: 0.3023 - mae: 0.4475\n",
            "Epoch 137/200\n",
            "4/4 [==============================] - 0s 4ms/step - loss: 0.3047 - mae: 0.4424\n",
            "Epoch 138/200\n",
            "4/4 [==============================] - 0s 5ms/step - loss: 0.3003 - mae: 0.4434\n",
            "Epoch 139/200\n",
            "4/4 [==============================] - 0s 4ms/step - loss: 0.2993 - mae: 0.4426\n",
            "Epoch 140/200\n",
            "4/4 [==============================] - 0s 4ms/step - loss: 0.3004 - mae: 0.4463\n",
            "Epoch 141/200\n",
            "4/4 [==============================] - 0s 4ms/step - loss: 0.3000 - mae: 0.4469\n",
            "Epoch 142/200\n",
            "4/4 [==============================] - 0s 4ms/step - loss: 0.3248 - mae: 0.4528\n",
            "Epoch 143/200\n",
            "4/4 [==============================] - 0s 4ms/step - loss: 0.3455 - mae: 0.4674\n",
            "Epoch 144/200\n",
            "4/4 [==============================] - 0s 4ms/step - loss: 0.3075 - mae: 0.4526\n",
            "Epoch 145/200\n",
            "4/4 [==============================] - 0s 5ms/step - loss: 0.3168 - mae: 0.4594\n",
            "Epoch 146/200\n",
            "4/4 [==============================] - 0s 5ms/step - loss: 0.2963 - mae: 0.4429\n",
            "Epoch 147/200\n",
            "4/4 [==============================] - 0s 4ms/step - loss: 0.3124 - mae: 0.4510\n",
            "Epoch 148/200\n",
            "4/4 [==============================] - 0s 4ms/step - loss: 0.3210 - mae: 0.4565\n",
            "Epoch 149/200\n",
            "4/4 [==============================] - 0s 4ms/step - loss: 0.2957 - mae: 0.4405\n",
            "Epoch 150/200\n",
            "4/4 [==============================] - 0s 5ms/step - loss: 0.3087 - mae: 0.4541\n",
            "Epoch 151/200\n",
            "4/4 [==============================] - 0s 5ms/step - loss: 0.3034 - mae: 0.4501\n",
            "Epoch 152/200\n",
            "4/4 [==============================] - 0s 4ms/step - loss: 0.2994 - mae: 0.4453\n",
            "Epoch 153/200\n",
            "4/4 [==============================] - 0s 4ms/step - loss: 0.2964 - mae: 0.4421\n",
            "Epoch 154/200\n",
            "4/4 [==============================] - 0s 5ms/step - loss: 0.2980 - mae: 0.4447\n",
            "Epoch 155/200\n",
            "4/4 [==============================] - 0s 5ms/step - loss: 0.3024 - mae: 0.4481\n",
            "Epoch 156/200\n",
            "4/4 [==============================] - 0s 5ms/step - loss: 0.3033 - mae: 0.4485\n",
            "Epoch 157/200\n",
            "4/4 [==============================] - 0s 5ms/step - loss: 0.2961 - mae: 0.4407\n",
            "Epoch 158/200\n",
            "4/4 [==============================] - 0s 4ms/step - loss: 0.3163 - mae: 0.4534\n",
            "Epoch 159/200\n",
            "4/4 [==============================] - 0s 3ms/step - loss: 0.3257 - mae: 0.4578\n",
            "Epoch 160/200\n",
            "4/4 [==============================] - 0s 4ms/step - loss: 0.3027 - mae: 0.4524\n",
            "Epoch 161/200\n",
            "4/4 [==============================] - 0s 4ms/step - loss: 0.3061 - mae: 0.4494\n",
            "Epoch 162/200\n",
            "4/4 [==============================] - 0s 7ms/step - loss: 0.3015 - mae: 0.4419\n",
            "Epoch 163/200\n",
            "4/4 [==============================] - 0s 5ms/step - loss: 0.3067 - mae: 0.4425\n",
            "Epoch 164/200\n",
            "4/4 [==============================] - 0s 5ms/step - loss: 0.3040 - mae: 0.4407\n",
            "Epoch 165/200\n",
            "4/4 [==============================] - 0s 4ms/step - loss: 0.3027 - mae: 0.4484\n",
            "Epoch 166/200\n",
            "4/4 [==============================] - 0s 5ms/step - loss: 0.3125 - mae: 0.4556\n",
            "Epoch 167/200\n",
            "4/4 [==============================] - 0s 4ms/step - loss: 0.3069 - mae: 0.4510\n",
            "Epoch 168/200\n",
            "4/4 [==============================] - 0s 4ms/step - loss: 0.3200 - mae: 0.4578\n",
            "Epoch 169/200\n",
            "4/4 [==============================] - 0s 5ms/step - loss: 0.3223 - mae: 0.4541\n",
            "Epoch 170/200\n",
            "4/4 [==============================] - 0s 4ms/step - loss: 0.3014 - mae: 0.4414\n",
            "Epoch 171/200\n",
            "4/4 [==============================] - 0s 5ms/step - loss: 0.3027 - mae: 0.4459\n",
            "Epoch 172/200\n",
            "4/4 [==============================] - 0s 5ms/step - loss: 0.3093 - mae: 0.4546\n",
            "Epoch 173/200\n",
            "4/4 [==============================] - 0s 5ms/step - loss: 0.3144 - mae: 0.4595\n",
            "Epoch 174/200\n",
            "4/4 [==============================] - 0s 5ms/step - loss: 0.3077 - mae: 0.4537\n",
            "Epoch 175/200\n",
            "4/4 [==============================] - 0s 5ms/step - loss: 0.3485 - mae: 0.4744\n",
            "Epoch 176/200\n",
            "4/4 [==============================] - 0s 4ms/step - loss: 0.3290 - mae: 0.4510\n",
            "Epoch 177/200\n",
            "4/4 [==============================] - 0s 4ms/step - loss: 0.3161 - mae: 0.4570\n",
            "Epoch 178/200\n",
            "4/4 [==============================] - 0s 5ms/step - loss: 0.3144 - mae: 0.4598\n",
            "Epoch 179/200\n",
            "4/4 [==============================] - 0s 5ms/step - loss: 0.3024 - mae: 0.4436\n",
            "Epoch 180/200\n",
            "4/4 [==============================] - 0s 4ms/step - loss: 0.3309 - mae: 0.4662\n",
            "Epoch 181/200\n",
            "4/4 [==============================] - 0s 4ms/step - loss: 0.3265 - mae: 0.4664\n",
            "Epoch 182/200\n",
            "4/4 [==============================] - 0s 4ms/step - loss: 0.3039 - mae: 0.4532\n",
            "Epoch 183/200\n",
            "4/4 [==============================] - 0s 4ms/step - loss: 0.3068 - mae: 0.4520\n",
            "Epoch 184/200\n",
            "4/4 [==============================] - 0s 6ms/step - loss: 0.3060 - mae: 0.4522\n",
            "Epoch 185/200\n",
            "4/4 [==============================] - 0s 7ms/step - loss: 0.2996 - mae: 0.4431\n",
            "Epoch 186/200\n",
            "4/4 [==============================] - 0s 5ms/step - loss: 0.3067 - mae: 0.4478\n",
            "Epoch 187/200\n",
            "4/4 [==============================] - 0s 5ms/step - loss: 0.3091 - mae: 0.4539\n",
            "Epoch 188/200\n",
            "4/4 [==============================] - 0s 5ms/step - loss: 0.3021 - mae: 0.4481\n",
            "Epoch 189/200\n",
            "4/4 [==============================] - 0s 4ms/step - loss: 0.3005 - mae: 0.4416\n",
            "Epoch 190/200\n",
            "4/4 [==============================] - 0s 4ms/step - loss: 0.3276 - mae: 0.4527\n",
            "Epoch 191/200\n",
            "4/4 [==============================] - 0s 4ms/step - loss: 0.3159 - mae: 0.4475\n",
            "Epoch 192/200\n",
            "4/4 [==============================] - 0s 5ms/step - loss: 0.3020 - mae: 0.4505\n",
            "Epoch 193/200\n",
            "4/4 [==============================] - 0s 5ms/step - loss: 0.3290 - mae: 0.4686\n",
            "Epoch 194/200\n",
            "4/4 [==============================] - 0s 5ms/step - loss: 0.3198 - mae: 0.4623\n",
            "Epoch 195/200\n",
            "4/4 [==============================] - 0s 5ms/step - loss: 0.3003 - mae: 0.4411\n",
            "Epoch 196/200\n",
            "4/4 [==============================] - 0s 5ms/step - loss: 0.3277 - mae: 0.4529\n",
            "Epoch 197/200\n",
            "4/4 [==============================] - 0s 5ms/step - loss: 0.3186 - mae: 0.4489\n",
            "Epoch 198/200\n",
            "4/4 [==============================] - 0s 5ms/step - loss: 0.3095 - mae: 0.4546\n",
            "Epoch 199/200\n",
            "4/4 [==============================] - 0s 5ms/step - loss: 0.2986 - mae: 0.4451\n",
            "Epoch 200/200\n",
            "4/4 [==============================] - 0s 4ms/step - loss: 0.3295 - mae: 0.4685\n"
          ]
        }
      ]
    },
    {
      "cell_type": "code",
      "source": [
        "# Plot loss per iteration\n",
        "plt.plot(r.history['loss'], label='loss')\n",
        "plt.legend();"
      ],
      "metadata": {
        "colab": {
          "base_uri": "https://localhost:8080/",
          "height": 434
        },
        "id": "bh_8nWhRw2q-",
        "outputId": "75f0c3eb-ba6e-48a9-96c4-934b2ee6e55a"
      },
      "execution_count": 8,
      "outputs": [
        {
          "output_type": "display_data",
          "data": {
            "text/plain": [
              "<Figure size 640x480 with 1 Axes>"
            ],
            "image/png": "[encoded data removed]"
          },
          "metadata": {}
        }
      ]
    },
    {
      "cell_type": "code",
      "source": [
        "# Plot mae per iteration\n",
        "plt.plot(r.history['mae'], label='mae')\n",
        "plt.legend();"
      ],
      "metadata": {
        "colab": {
          "base_uri": "https://localhost:8080/",
          "height": 430
        },
        "id": "VbmWKYBmw6HG",
        "outputId": "d517461a-18bb-4087-f720-dc80738c708d"
      },
      "execution_count": 9,
      "outputs": [
        {
          "output_type": "display_data",
          "data": {
            "text/plain": [
              "<Figure size 640x480 with 1 Axes>"
            ],
            "image/png": "[encoded data removed]"
          },
          "metadata": {}
        }
      ]
    },
    {
      "cell_type": "code",
      "source": [
        "# Make predictions\n",
        "Xtest = np.linspace(-3, 3, 20).reshape(-1, 1)\n",
        "ptest = model.predict(Xtest)"
      ],
      "metadata": {
        "colab": {
          "base_uri": "https://localhost:8080/"
        },
        "id": "j9U-b1gbw71e",
        "outputId": "2b1de2fc-97ec-489e-9b4e-019f77bf62d1"
      },
      "execution_count": 10,
      "outputs": [
        {
          "output_type": "stream",
          "name": "stdout",
          "text": [
            "1/1 [==============================] - 0s 217ms/step\n"
          ]
        }
      ]
    },
    {
      "cell_type": "code",
      "source": [
        "plt.scatter(X, y)\n",
        "plt.plot(Xtest, ptest);"
      ],
      "metadata": {
        "colab": {
          "base_uri": "https://localhost:8080/",
          "height": 430
        },
        "id": "hOgPQSbuw9Y7",
        "outputId": "147ef60a-951b-4842-ef5e-36d5572f8adb"
      },
      "execution_count": 11,
      "outputs": [
        {
          "output_type": "display_data",
          "data": {
            "text/plain": [
              "<Figure size 640x480 with 1 Axes>"
            ],
            "image/png": "[encoded data removed]"
          },
          "metadata": {}
        }
      ]
    },
    {
      "cell_type": "code",
      "source": [
        "# Check the learned parameters\n",
        "model.layers"
      ],
      "metadata": {
        "colab": {
          "base_uri": "https://localhost:8080/"
        },
        "id": "fZ8MXsLTw-Oo",
        "outputId": "b747d68e-71b2-475e-955f-e03dd209a899"
      },
      "execution_count": 12,
      "outputs": [
        {
          "output_type": "execute_result",
          "data": {
            "text/plain": [
              "[<keras.src.engine.input_layer.InputLayer at 0x7ec6a3befee0>,\n",
              " <keras.src.layers.core.dense.Dense at 0x7ec72fb42b00>]"
            ]
          },
          "metadata": {},
          "execution_count": 12
        }
      ]
    },
    {
      "cell_type": "code",
      "source": [
        "model.layers[1].get_weights()"
      ],
      "metadata": {
        "colab": {
          "base_uri": "https://localhost:8080/"
        },
        "id": "oq44_Nrtw_k5",
        "outputId": "d230cfeb-9adc-4a5e-efdf-ab8e35b8a561"
      },
      "execution_count": 13,
      "outputs": [
        {
          "output_type": "execute_result",
          "data": {
            "text/plain": [
              "[array([[0.40785468]], dtype=float32), array([-1.0534757], dtype=float32)]"
            ]
          },
          "metadata": {},
          "execution_count": 13
        }
      ]
    },
    {
      "cell_type": "code",
      "source": [],
      "metadata": {
        "id": "LQhoUIEQxAap"
      },
      "execution_count": null,
      "outputs": []
    }
  ]
}