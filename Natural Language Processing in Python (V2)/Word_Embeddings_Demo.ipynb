{
  "nbformat": 4,
  "nbformat_minor": 0,
  "metadata": {
    "colab": {
      "provenance": []
    },
    "kernelspec": {
      "name": "python3",
      "display_name": "Python 3"
    },
    "language_info": {
      "name": "python"
    }
  },
  "cells": [
    {
      "cell_type": "code",
      "execution_count": null,
      "metadata": {
        "id": "978TembtGT85"
      },
      "outputs": [],
      "source": [
        "import gdown"
      ]
    },
    {
      "cell_type": "code",
      "source": [
        "!gdown https://drive.google.com/uc?id=0B7XkCwpI5KDYNlNUTTlSS21pQmM"
      ],
      "metadata": {
        "colab": {
          "base_uri": "https://localhost:8080/"
        },
        "id": "ZKNnr7ReGnv-",
        "outputId": "4766bbd8-9da2-4f22-a795-c8fc31217e33"
      },
      "execution_count": null,
      "outputs": [
        {
          "output_type": "stream",
          "name": "stdout",
          "text": [
            "Downloading...\n",
            "From: https://drive.google.com/uc?id=0B7XkCwpI5KDYNlNUTTlSS21pQmM\n",
            "To: /content/GoogleNews-vectors-negative300.bin.gz\n",
            "100% 1.65G/1.65G [00:10<00:00, 160MB/s]\n"
          ]
        }
      ]
    },
    {
      "cell_type": "code",
      "source": [
        "!gunzip GoogleNews-vectors-negative300.bin.gz"
      ],
      "metadata": {
        "id": "E6OuOyKHG4tl"
      },
      "execution_count": null,
      "outputs": []
    },
    {
      "cell_type": "code",
      "source": [
        "from gensim.models import KeyedVectors"
      ],
      "metadata": {
        "id": "lQzOoXQhHAHV"
      },
      "execution_count": null,
      "outputs": []
    },
    {
      "cell_type": "code",
      "source": [
        "word_vectors = KeyedVectors.load_word2vec_format(\"GoogleNews-vectors-negative300.bin\", binary=True)"
      ],
      "metadata": {
        "id": "PX_B1w5GHM2F"
      },
      "execution_count": null,
      "outputs": []
    },
    {
      "cell_type": "code",
      "source": [
        "def find_analogies(w1, w2, w3):\n",
        "  # w1 - w2 = ? - w3\n",
        "  # e.q. king - man = ? woman\n",
        "  #      ? = +king + woman - man\n",
        "  r = word_vectors.most_similar(positive=[w1, w3], negative=[w2])\n",
        "  print(\"%s - %s = %s - %s\" % (w1, w2, r[0][0], w3))"
      ],
      "metadata": {
        "id": "76lw6LjQHW8x"
      },
      "execution_count": null,
      "outputs": []
    },
    {
      "cell_type": "code",
      "source": [
        "find_analogies(\"king\", \"man\", \"woman\")"
      ],
      "metadata": {
        "colab": {
          "base_uri": "https://localhost:8080/"
        },
        "id": "YvYFhVqkH08k",
        "outputId": "78eb13bc-a4c6-4575-cdb4-fb07bbbd13ca"
      },
      "execution_count": null,
      "outputs": [
        {
          "output_type": "stream",
          "name": "stdout",
          "text": [
            "king - man = queen - woman\n"
          ]
        }
      ]
    },
    {
      "cell_type": "code",
      "source": [
        "find_analogies(\"france\", \"paris\", \"london\")"
      ],
      "metadata": {
        "colab": {
          "base_uri": "https://localhost:8080/"
        },
        "id": "Gr8xM3peH53x",
        "outputId": "2792126d-bce0-4497-bee0-abf47ef57d9a"
      },
      "execution_count": null,
      "outputs": [
        {
          "output_type": "stream",
          "name": "stdout",
          "text": [
            "france - paris = england - london\n"
          ]
        }
      ]
    },
    {
      "cell_type": "code",
      "source": [
        "find_analogies(\"france\", \"paris\", \"rome\")"
      ],
      "metadata": {
        "colab": {
          "base_uri": "https://localhost:8080/"
        },
        "id": "TpMLbc6iIUZz",
        "outputId": "a4a7051e-d901-4b2b-e5a3-527027d9553a"
      },
      "execution_count": null,
      "outputs": [
        {
          "output_type": "stream",
          "name": "stdout",
          "text": [
            "france - paris = italy - rome\n"
          ]
        }
      ]
    },
    {
      "cell_type": "code",
      "source": [
        "find_analogies(\"paris\", \"france\", \"italy\")"
      ],
      "metadata": {
        "colab": {
          "base_uri": "https://localhost:8080/"
        },
        "id": "EAZp9VIuIXte",
        "outputId": "dd12f68c-8992-4ae0-a246-7452188c0cb1"
      },
      "execution_count": null,
      "outputs": [
        {
          "output_type": "stream",
          "name": "stdout",
          "text": [
            "paris - france = lohan - italy\n"
          ]
        }
      ]
    },
    {
      "cell_type": "code",
      "source": [
        "find_analogies(\"france\", \"french\", \"english\")"
      ],
      "metadata": {
        "colab": {
          "base_uri": "https://localhost:8080/"
        },
        "id": "nFLW35A-IbBh",
        "outputId": "61826e6d-e7ae-4b6a-d4db-a161a0eb7317"
      },
      "execution_count": null,
      "outputs": [
        {
          "output_type": "stream",
          "name": "stdout",
          "text": [
            "france - french = england - english\n"
          ]
        }
      ]
    },
    {
      "cell_type": "code",
      "source": [
        "find_analogies(\"japan\", \"japanese\", \"chinese\")"
      ],
      "metadata": {
        "colab": {
          "base_uri": "https://localhost:8080/"
        },
        "id": "qYFQ_0gpIlMg",
        "outputId": "6f59edfe-dc69-4f5e-9b0b-ed191fc88eac"
      },
      "execution_count": null,
      "outputs": [
        {
          "output_type": "stream",
          "name": "stdout",
          "text": [
            "japan - japanese = tibet - chinese\n"
          ]
        }
      ]
    },
    {
      "cell_type": "code",
      "source": [
        "find_analogies(\"japan\", \"japanese\", \"italian\")"
      ],
      "metadata": {
        "colab": {
          "base_uri": "https://localhost:8080/"
        },
        "id": "YghPCYWAI_AS",
        "outputId": "be78ad6a-9db3-4b59-a1b6-67ddd8c7933d"
      },
      "execution_count": null,
      "outputs": [
        {
          "output_type": "stream",
          "name": "stdout",
          "text": [
            "japan - japanese = italy - italian\n"
          ]
        }
      ]
    },
    {
      "cell_type": "code",
      "source": [
        "find_analogies(\"december\", \"november\", \"june\")"
      ],
      "metadata": {
        "colab": {
          "base_uri": "https://localhost:8080/"
        },
        "id": "yuN_uPK8JAk8",
        "outputId": "c3a5d62f-d774-43a3-d141-d74025aa8a13"
      },
      "execution_count": null,
      "outputs": [
        {
          "output_type": "stream",
          "name": "stdout",
          "text": [
            "december - november = september - june\n"
          ]
        }
      ]
    },
    {
      "cell_type": "code",
      "source": [
        "find_analogies(\"miami\", \"florida\", \"texas\")"
      ],
      "metadata": {
        "colab": {
          "base_uri": "https://localhost:8080/"
        },
        "id": "c5GjIZAqJHRv",
        "outputId": "c1d674d0-083e-44ef-c027-1cfb50ba6b58"
      },
      "execution_count": null,
      "outputs": [
        {
          "output_type": "stream",
          "name": "stdout",
          "text": [
            "miami - florida = dallas - texas\n"
          ]
        }
      ]
    },
    {
      "cell_type": "code",
      "source": [
        "find_analogies(\"einstein\", \"scientist\", \"painter\")"
      ],
      "metadata": {
        "colab": {
          "base_uri": "https://localhost:8080/"
        },
        "id": "1zNDtl86JK7-",
        "outputId": "f4fac86b-b2d8-44f3-a439-a2c6ef075839"
      },
      "execution_count": null,
      "outputs": [
        {
          "output_type": "stream",
          "name": "stdout",
          "text": [
            "einstein - scientist = jude - painter\n"
          ]
        }
      ]
    },
    {
      "cell_type": "code",
      "source": [
        "find_analogies(\"man\", \"woman\", \"she\")"
      ],
      "metadata": {
        "colab": {
          "base_uri": "https://localhost:8080/"
        },
        "id": "S91byeq_JQ-A",
        "outputId": "66908be7-33a7-4b64-e72d-87b119f528d7"
      },
      "execution_count": null,
      "outputs": [
        {
          "output_type": "stream",
          "name": "stdout",
          "text": [
            "man - woman = he - she\n"
          ]
        }
      ]
    },
    {
      "cell_type": "code",
      "source": [
        "find_analogies(\"man\", \"woman\", \"aunt\")"
      ],
      "metadata": {
        "colab": {
          "base_uri": "https://localhost:8080/"
        },
        "id": "L3c0Pbp3J0nQ",
        "outputId": "633dfe9f-3031-406d-882b-cf59dd02f5f6"
      },
      "execution_count": null,
      "outputs": [
        {
          "output_type": "stream",
          "name": "stdout",
          "text": [
            "man - woman = uncle - aunt\n"
          ]
        }
      ]
    },
    {
      "cell_type": "code",
      "source": [
        "find_analogies(\"man\", \"woman\", \"sister\")"
      ],
      "metadata": {
        "colab": {
          "base_uri": "https://localhost:8080/"
        },
        "id": "UdKTiQZ9J12-",
        "outputId": "cedc70e7-8d48-48e2-85e3-ea1df480b397"
      },
      "execution_count": null,
      "outputs": [
        {
          "output_type": "stream",
          "name": "stdout",
          "text": [
            "man - woman = brother - sister\n"
          ]
        }
      ]
    },
    {
      "cell_type": "code",
      "source": [
        "find_analogies(\"man\", \"woman\", \"wife\")"
      ],
      "metadata": {
        "colab": {
          "base_uri": "https://localhost:8080/"
        },
        "id": "QGEYbZbrJ3dY",
        "outputId": "9b05a8d4-a341-42d3-b229-25c09866efeb"
      },
      "execution_count": null,
      "outputs": [
        {
          "output_type": "stream",
          "name": "stdout",
          "text": [
            "man - woman = son - wife\n"
          ]
        }
      ]
    },
    {
      "cell_type": "code",
      "source": [
        "find_analogies(\"man\", \"woman\", \"actress\")"
      ],
      "metadata": {
        "colab": {
          "base_uri": "https://localhost:8080/"
        },
        "id": "jnrrVpJTJ6LJ",
        "outputId": "b98a6042-ead9-41b2-f4e1-83a4822b5e38"
      },
      "execution_count": null,
      "outputs": [
        {
          "output_type": "stream",
          "name": "stdout",
          "text": [
            "man - woman = actor - actress\n"
          ]
        }
      ]
    },
    {
      "cell_type": "code",
      "source": [
        "find_analogies(\"man\", \"woman\", \"mother\")"
      ],
      "metadata": {
        "colab": {
          "base_uri": "https://localhost:8080/"
        },
        "id": "nc_BCo_RJ7bL",
        "outputId": "56869ce5-e5f4-4bb0-e83e-2156a5bfb924"
      },
      "execution_count": null,
      "outputs": [
        {
          "output_type": "stream",
          "name": "stdout",
          "text": [
            "man - woman = father - mother\n"
          ]
        }
      ]
    },
    {
      "cell_type": "code",
      "source": [
        "find_analogies(\"nephew\", \"niece\", \"aunt\")"
      ],
      "metadata": {
        "colab": {
          "base_uri": "https://localhost:8080/"
        },
        "id": "BnJBXUQXJ8vp",
        "outputId": "8a986e46-3797-4c7e-f993-449d23117a4e"
      },
      "execution_count": null,
      "outputs": [
        {
          "output_type": "stream",
          "name": "stdout",
          "text": [
            "nephew - niece = uncle - aunt\n"
          ]
        }
      ]
    },
    {
      "cell_type": "code",
      "source": [
        "def nearest_neighbors(w):\n",
        "  r = word_vectors.most_similar(positive=[w])\n",
        "  print(\"neighbors of: %s\" % w)\n",
        "  for word, score in r:\n",
        "    print(\"\\t%s\" % word)"
      ],
      "metadata": {
        "id": "I9fIEhASKUCz"
      },
      "execution_count": null,
      "outputs": []
    },
    {
      "cell_type": "code",
      "source": [
        "nearest_neighbors(\"king\")"
      ],
      "metadata": {
        "colab": {
          "base_uri": "https://localhost:8080/"
        },
        "id": "pey0MfRjKtcH",
        "outputId": "6bd85e1c-68ba-4a8d-9583-007fed7d71fa"
      },
      "execution_count": null,
      "outputs": [
        {
          "output_type": "stream",
          "name": "stdout",
          "text": [
            "neighbors of: king\n",
            "\tkings\n",
            "\tqueen\n",
            "\tmonarch\n",
            "\tcrown_prince\n",
            "\tprince\n",
            "\tsultan\n",
            "\truler\n",
            "\tprinces\n",
            "\tPrince_Paras\n",
            "\tthrone\n"
          ]
        }
      ]
    },
    {
      "cell_type": "code",
      "source": [
        "nearest_neighbors(\"france\")"
      ],
      "metadata": {
        "colab": {
          "base_uri": "https://localhost:8080/"
        },
        "id": "out8UAjLK7rX",
        "outputId": "2c427ef8-0a55-4f56-df77-38e975767086"
      },
      "execution_count": null,
      "outputs": [
        {
          "output_type": "stream",
          "name": "stdout",
          "text": [
            "neighbors of: france\n",
            "\tspain\n",
            "\tfrench\n",
            "\tgermany\n",
            "\teurope\n",
            "\titaly\n",
            "\tengland\n",
            "\teuropean\n",
            "\tbelgium\n",
            "\tusa\n",
            "\tserbia\n"
          ]
        }
      ]
    },
    {
      "cell_type": "code",
      "source": [
        "nearest_neighbors(\"japan\")"
      ],
      "metadata": {
        "colab": {
          "base_uri": "https://localhost:8080/"
        },
        "id": "iHDAmRYaLCTe",
        "outputId": "50a39caa-e811-4c20-dd3e-7694d4014288"
      },
      "execution_count": null,
      "outputs": [
        {
          "output_type": "stream",
          "name": "stdout",
          "text": [
            "neighbors of: japan\n",
            "\tjapanese\n",
            "\ttokyo\n",
            "\tamerica\n",
            "\teurope\n",
            "\tgermany\n",
            "\tchinese\n",
            "\tindia\n",
            "\thawaii\n",
            "\tusa\n",
            "\tkorea\n"
          ]
        }
      ]
    },
    {
      "cell_type": "code",
      "source": [
        "nearest_neighbors(\"einstein\")"
      ],
      "metadata": {
        "colab": {
          "base_uri": "https://localhost:8080/"
        },
        "id": "zrWB9K4MLDlN",
        "outputId": "777147c4-a64e-4d58-ad81-96f39ebecac8"
      },
      "execution_count": null,
      "outputs": [
        {
          "output_type": "stream",
          "name": "stdout",
          "text": [
            "neighbors of: einstein\n",
            "\tnikki\n",
            "\tlmfao\n",
            "\talbert\n",
            "\tarmstrong\n",
            "\tjoan\n",
            "\tbecky\n",
            "\tmcmahon\n",
            "\tconrad\n",
            "\tlori\n",
            "\thaley\n"
          ]
        }
      ]
    },
    {
      "cell_type": "code",
      "source": [
        "nearest_neighbors(\"woman\")"
      ],
      "metadata": {
        "colab": {
          "base_uri": "https://localhost:8080/"
        },
        "id": "VoztyGaRLFok",
        "outputId": "037609e1-2f9e-41ae-97dd-207f6dc87d56"
      },
      "execution_count": null,
      "outputs": [
        {
          "output_type": "stream",
          "name": "stdout",
          "text": [
            "neighbors of: woman\n",
            "\tman\n",
            "\tgirl\n",
            "\tteenage_girl\n",
            "\tteenager\n",
            "\tlady\n",
            "\tteenaged_girl\n",
            "\tmother\n",
            "\tpolicewoman\n",
            "\tboy\n",
            "\tWoman\n"
          ]
        }
      ]
    },
    {
      "cell_type": "code",
      "source": [
        "nearest_neighbors(\"nephew\")"
      ],
      "metadata": {
        "colab": {
          "base_uri": "https://localhost:8080/"
        },
        "id": "TWJaCHCJLH9I",
        "outputId": "0196fa83-83fa-4518-8841-71486b19a0cd"
      },
      "execution_count": null,
      "outputs": [
        {
          "output_type": "stream",
          "name": "stdout",
          "text": [
            "neighbors of: nephew\n",
            "\tson\n",
            "\tuncle\n",
            "\tbrother\n",
            "\tgrandson\n",
            "\tcousin\n",
            "\tfather\n",
            "\tniece\n",
            "\tyounger_brother\n",
            "\tnephews\n",
            "\tstepson\n"
          ]
        }
      ]
    },
    {
      "cell_type": "code",
      "source": [
        "nearest_neighbors(\"february\")"
      ],
      "metadata": {
        "colab": {
          "base_uri": "https://localhost:8080/"
        },
        "id": "lZFtXzWfLJy2",
        "outputId": "64970214-dbd0-480b-ae3a-78e4cced0104"
      },
      "execution_count": null,
      "outputs": [
        {
          "output_type": "stream",
          "name": "stdout",
          "text": [
            "neighbors of: february\n",
            "\tjanuary\n",
            "\tapril\n",
            "\tseptember\n",
            "\tdecember\n",
            "\tjuly\n",
            "\toctober\n",
            "\tnovember\n",
            "\tjune\n",
            "\tfeb\n",
            "\tnorway\n"
          ]
        }
      ]
    },
    {
      "cell_type": "code",
      "source": [
        "# Exercise: download pretrained GloVe vectors from\n",
        "# https://nlp.stanford.edu/projects/glove/\n",
        "# Implement your own find_analogies() and nearest_neighbours()"
      ],
      "metadata": {
        "id": "Weu7JVBhLM92"
      },
      "execution_count": null,
      "outputs": []
    }
  ]
}