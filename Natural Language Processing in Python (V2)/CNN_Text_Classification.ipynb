{
  "nbformat": 4,
  "nbformat_minor": 0,
  "metadata": {
    "colab": {
      "provenance": [],
      "gpuType": "T4"
    },
    "kernelspec": {
      "name": "python3",
      "display_name": "Python 3"
    },
    "language_info": {
      "name": "python"
    },
    "accelerator": "GPU"
  },
  "cells": [
    {
      "cell_type": "code",
      "execution_count": 1,
      "metadata": {
        "id": "d7GA-DXCxRGR",
        "colab": {
          "base_uri": "https://localhost:8080/"
        },
        "outputId": "364f7605-a3b1-49fb-9aa3-f52c6ecd3a0a"
      },
      "outputs": [
        {
          "output_type": "stream",
          "name": "stdout",
          "text": [
            "--2024-06-20 16:47:11--  https://lazyprogrammer.me/course_files/nlp/bbc_text_cls.csv\n",
            "Resolving lazyprogrammer.me (lazyprogrammer.me)... 172.67.213.166, 104.21.23.210, 2606:4700:3031::6815:17d2, ...\n",
            "Connecting to lazyprogrammer.me (lazyprogrammer.me)|172.67.213.166|:443... connected.\n",
            "HTTP request sent, awaiting response... 200 OK\n",
            "Length: 5085081 (4.8M) [text/csv]\n",
            "Saving to: ‘bbc_text_cls.csv’\n",
            "\n",
            "bbc_text_cls.csv    100%[===================>]   4.85M  3.66MB/s    in 1.3s    \n",
            "\n",
            "2024-06-20 16:47:13 (3.66 MB/s) - ‘bbc_text_cls.csv’ saved [5085081/5085081]\n",
            "\n"
          ]
        }
      ],
      "source": [
        "!wget -nc https://lazyprogrammer.me/course_files/nlp/bbc_text_cls.csv"
      ]
    },
    {
      "cell_type": "code",
      "source": [
        "import numpy as np\n",
        "import pandas as pd\n",
        "import tensorflow as tf\n",
        "import matplotlib.pyplot as plt\n",
        "from sklearn.model_selection import train_test_split\n",
        "\n",
        "from tensorflow.keras.preprocessing.text import Tokenizer\n",
        "from tensorflow.keras.preprocessing.sequence import pad_sequences\n",
        "from tensorflow.keras.layers import Dense, Input, GlobalMaxPooling1D\n",
        "from tensorflow.keras.layers import Conv1D, MaxPooling1D, Embedding\n",
        "from tensorflow.keras.models import Model\n",
        "from tensorflow.keras.losses import SparseCategoricalCrossentropy"
      ],
      "metadata": {
        "id": "GWvLIJx-bhuX"
      },
      "execution_count": 2,
      "outputs": []
    },
    {
      "cell_type": "code",
      "source": [
        "df = pd.read_csv('bbc_text_cls.csv')"
      ],
      "metadata": {
        "id": "Sg0tsRpbbiuN"
      },
      "execution_count": 3,
      "outputs": []
    },
    {
      "cell_type": "code",
      "source": [
        "df.head()"
      ],
      "metadata": {
        "colab": {
          "base_uri": "https://localhost:8080/",
          "height": 206
        },
        "id": "wIqs8SyYbjhU",
        "outputId": "78f7b8b5-a8bf-45ae-869e-4597c5af570e"
      },
      "execution_count": 4,
      "outputs": [
        {
          "output_type": "execute_result",
          "data": {
            "text/plain": [
              "                                                text    labels\n",
              "0  Ad sales boost Time Warner profit\\n\\nQuarterly...  business\n",
              "1  Dollar gains on Greenspan speech\\n\\nThe dollar...  business\n",
              "2  Yukos unit buyer faces loan claim\\n\\nThe owner...  business\n",
              "3  High fuel prices hit BA's profits\\n\\nBritish A...  business\n",
              "4  Pernod takeover talk lifts Domecq\\n\\nShares in...  business"
            ],
            "text/html": [
              "\n",
              "  <div id=\"df-b84fdd63-9628-4d2c-bd03-bd98b814785d\" class=\"colab-df-container\">\n",
              "    <div>\n",
              "<style scoped>\n",
              "    .dataframe tbody tr th:only-of-type {\n",
              "        vertical-align: middle;\n",
              "    }\n",
              "\n",
              "    .dataframe tbody tr th {\n",
              "        vertical-align: top;\n",
              "    }\n",
              "\n",
              "    .dataframe thead th {\n",
              "        text-align: right;\n",
              "    }\n",
              "</style>\n",
              "<table border=\"1\" class=\"dataframe\">\n",
              "  <thead>\n",
              "    <tr style=\"text-align: right;\">\n",
              "      <th></th>\n",
              "      <th>text</th>\n",
              "      <th>labels</th>\n",
              "    </tr>\n",
              "  </thead>\n",
              "  <tbody>\n",
              "    <tr>\n",
              "      <th>0</th>\n",
              "      <td>Ad sales boost Time Warner profit\\n\\nQuarterly...</td>\n",
              "      <td>business</td>\n",
              "    </tr>\n",
              "    <tr>\n",
              "      <th>1</th>\n",
              "      <td>Dollar gains on Greenspan speech\\n\\nThe dollar...</td>\n",
              "      <td>business</td>\n",
              "    </tr>\n",
              "    <tr>\n",
              "      <th>2</th>\n",
              "      <td>Yukos unit buyer faces loan claim\\n\\nThe owner...</td>\n",
              "      <td>business</td>\n",
              "    </tr>\n",
              "    <tr>\n",
              "      <th>3</th>\n",
              "      <td>High fuel prices hit BA's profits\\n\\nBritish A...</td>\n",
              "      <td>business</td>\n",
              "    </tr>\n",
              "    <tr>\n",
              "      <th>4</th>\n",
              "      <td>Pernod takeover talk lifts Domecq\\n\\nShares in...</td>\n",
              "      <td>business</td>\n",
              "    </tr>\n",
              "  </tbody>\n",
              "</table>\n",
              "</div>\n",
              "    <div class=\"colab-df-buttons\">\n",
              "\n",
              "  <div class=\"colab-df-container\">\n",
              "    <button class=\"colab-df-convert\" onclick=\"convertToInteractive('df-b84fdd63-9628-4d2c-bd03-bd98b814785d')\"\n",
              "            title=\"Convert this dataframe to an interactive table.\"\n",
              "            style=\"display:none;\">\n",
              "\n",
              "  <svg xmlns=\"http://www.w3.org/2000/svg\" height=\"24px\" viewBox=\"0 -960 960 960\">\n",
              "    <path d=\"M120-120v-720h720v720H120Zm60-500h600v-160H180v160Zm220 220h160v-160H400v160Zm0 220h160v-160H400v160ZM180-400h160v-160H180v160Zm440 0h160v-160H620v160ZM180-180h160v-160H180v160Zm440 0h160v-160H620v160Z\"/>\n",
              "  </svg>\n",
              "    </button>\n",
              "\n",
              "  <style>\n",
              "    .colab-df-container {\n",
              "      display:flex;\n",
              "      gap: 12px;\n",
              "    }\n",
              "\n",
              "    .colab-df-convert {\n",
              "      background-color: #E8F0FE;\n",
              "      border: none;\n",
              "      border-radius: 50%;\n",
              "      cursor: pointer;\n",
              "      display: none;\n",
              "      fill: #1967D2;\n",
              "      height: 32px;\n",
              "      padding: 0 0 0 0;\n",
              "      width: 32px;\n",
              "    }\n",
              "\n",
              "    .colab-df-convert:hover {\n",
              "      background-color: #E2EBFA;\n",
              "      box-shadow: 0px 1px 2px rgba(60, 64, 67, 0.3), 0px 1px 3px 1px rgba(60, 64, 67, 0.15);\n",
              "      fill: #174EA6;\n",
              "    }\n",
              "\n",
              "    .colab-df-buttons div {\n",
              "      margin-bottom: 4px;\n",
              "    }\n",
              "\n",
              "    [theme=dark] .colab-df-convert {\n",
              "      background-color: #3B4455;\n",
              "      fill: #D2E3FC;\n",
              "    }\n",
              "\n",
              "    [theme=dark] .colab-df-convert:hover {\n",
              "      background-color: #434B5C;\n",
              "      box-shadow: 0px 1px 3px 1px rgba(0, 0, 0, 0.15);\n",
              "      filter: drop-shadow(0px 1px 2px rgba(0, 0, 0, 0.3));\n",
              "      fill: #FFFFFF;\n",
              "    }\n",
              "  </style>\n",
              "\n",
              "    <script>\n",
              "      const buttonEl =\n",
              "        document.querySelector('#df-b84fdd63-9628-4d2c-bd03-bd98b814785d button.colab-df-convert');\n",
              "      buttonEl.style.display =\n",
              "        google.colab.kernel.accessAllowed ? 'block' : 'none';\n",
              "\n",
              "      async function convertToInteractive(key) {\n",
              "        const element = document.querySelector('#df-b84fdd63-9628-4d2c-bd03-bd98b814785d');\n",
              "        const dataTable =\n",
              "          await google.colab.kernel.invokeFunction('convertToInteractive',\n",
              "                                                    [key], {});\n",
              "        if (!dataTable) return;\n",
              "\n",
              "        const docLinkHtml = 'Like what you see? Visit the ' +\n",
              "          '<a target=\"_blank\" href=https://colab.research.google.com/notebooks/data_table.ipynb>data table notebook</a>'\n",
              "          + ' to learn more about interactive tables.';\n",
              "        element.innerHTML = '';\n",
              "        dataTable['output_type'] = 'display_data';\n",
              "        await google.colab.output.renderOutput(dataTable, element);\n",
              "        const docLink = document.createElement('div');\n",
              "        docLink.innerHTML = docLinkHtml;\n",
              "        element.appendChild(docLink);\n",
              "      }\n",
              "    </script>\n",
              "  </div>\n",
              "\n",
              "\n",
              "<div id=\"df-3db1c73f-7a16-41ba-99f8-28f50c41184c\">\n",
              "  <button class=\"colab-df-quickchart\" onclick=\"quickchart('df-3db1c73f-7a16-41ba-99f8-28f50c41184c')\"\n",
              "            title=\"Suggest charts\"\n",
              "            style=\"display:none;\">\n",
              "\n",
              "<svg xmlns=\"http://www.w3.org/2000/svg\" height=\"24px\"viewBox=\"0 0 24 24\"\n",
              "     width=\"24px\">\n",
              "    <g>\n",
              "        <path d=\"M19 3H5c-1.1 0-2 .9-2 2v14c0 1.1.9 2 2 2h14c1.1 0 2-.9 2-2V5c0-1.1-.9-2-2-2zM9 17H7v-7h2v7zm4 0h-2V7h2v10zm4 0h-2v-4h2v4z\"/>\n",
              "    </g>\n",
              "</svg>\n",
              "  </button>\n",
              "\n",
              "<style>\n",
              "  .colab-df-quickchart {\n",
              "      --bg-color: #E8F0FE;\n",
              "      --fill-color: #1967D2;\n",
              "      --hover-bg-color: #E2EBFA;\n",
              "      --hover-fill-color: #174EA6;\n",
              "      --disabled-fill-color: #AAA;\n",
              "      --disabled-bg-color: #DDD;\n",
              "  }\n",
              "\n",
              "  [theme=dark] .colab-df-quickchart {\n",
              "      --bg-color: #3B4455;\n",
              "      --fill-color: #D2E3FC;\n",
              "      --hover-bg-color: #434B5C;\n",
              "      --hover-fill-color: #FFFFFF;\n",
              "      --disabled-bg-color: #3B4455;\n",
              "      --disabled-fill-color: #666;\n",
              "  }\n",
              "\n",
              "  .colab-df-quickchart {\n",
              "    background-color: var(--bg-color);\n",
              "    border: none;\n",
              "    border-radius: 50%;\n",
              "    cursor: pointer;\n",
              "    display: none;\n",
              "    fill: var(--fill-color);\n",
              "    height: 32px;\n",
              "    padding: 0;\n",
              "    width: 32px;\n",
              "  }\n",
              "\n",
              "  .colab-df-quickchart:hover {\n",
              "    background-color: var(--hover-bg-color);\n",
              "    box-shadow: 0 1px 2px rgba(60, 64, 67, 0.3), 0 1px 3px 1px rgba(60, 64, 67, 0.15);\n",
              "    fill: var(--button-hover-fill-color);\n",
              "  }\n",
              "\n",
              "  .colab-df-quickchart-complete:disabled,\n",
              "  .colab-df-quickchart-complete:disabled:hover {\n",
              "    background-color: var(--disabled-bg-color);\n",
              "    fill: var(--disabled-fill-color);\n",
              "    box-shadow: none;\n",
              "  }\n",
              "\n",
              "  .colab-df-spinner {\n",
              "    border: 2px solid var(--fill-color);\n",
              "    border-color: transparent;\n",
              "    border-bottom-color: var(--fill-color);\n",
              "    animation:\n",
              "      spin 1s steps(1) infinite;\n",
              "  }\n",
              "\n",
              "  @keyframes spin {\n",
              "    0% {\n",
              "      border-color: transparent;\n",
              "      border-bottom-color: var(--fill-color);\n",
              "      border-left-color: var(--fill-color);\n",
              "    }\n",
              "    20% {\n",
              "      border-color: transparent;\n",
              "      border-left-color: var(--fill-color);\n",
              "      border-top-color: var(--fill-color);\n",
              "    }\n",
              "    30% {\n",
              "      border-color: transparent;\n",
              "      border-left-color: var(--fill-color);\n",
              "      border-top-color: var(--fill-color);\n",
              "      border-right-color: var(--fill-color);\n",
              "    }\n",
              "    40% {\n",
              "      border-color: transparent;\n",
              "      border-right-color: var(--fill-color);\n",
              "      border-top-color: var(--fill-color);\n",
              "    }\n",
              "    60% {\n",
              "      border-color: transparent;\n",
              "      border-right-color: var(--fill-color);\n",
              "    }\n",
              "    80% {\n",
              "      border-color: transparent;\n",
              "      border-right-color: var(--fill-color);\n",
              "      border-bottom-color: var(--fill-color);\n",
              "    }\n",
              "    90% {\n",
              "      border-color: transparent;\n",
              "      border-bottom-color: var(--fill-color);\n",
              "    }\n",
              "  }\n",
              "</style>\n",
              "\n",
              "  <script>\n",
              "    async function quickchart(key) {\n",
              "      const quickchartButtonEl =\n",
              "        document.querySelector('#' + key + ' button');\n",
              "      quickchartButtonEl.disabled = true;  // To prevent multiple clicks.\n",
              "      quickchartButtonEl.classList.add('colab-df-spinner');\n",
              "      try {\n",
              "        const charts = await google.colab.kernel.invokeFunction(\n",
              "            'suggestCharts', [key], {});\n",
              "      } catch (error) {\n",
              "        console.error('Error during call to suggestCharts:', error);\n",
              "      }\n",
              "      quickchartButtonEl.classList.remove('colab-df-spinner');\n",
              "      quickchartButtonEl.classList.add('colab-df-quickchart-complete');\n",
              "    }\n",
              "    (() => {\n",
              "      let quickchartButtonEl =\n",
              "        document.querySelector('#df-3db1c73f-7a16-41ba-99f8-28f50c41184c button');\n",
              "      quickchartButtonEl.style.display =\n",
              "        google.colab.kernel.accessAllowed ? 'block' : 'none';\n",
              "    })();\n",
              "  </script>\n",
              "</div>\n",
              "\n",
              "    </div>\n",
              "  </div>\n"
            ],
            "application/vnd.google.colaboratory.intrinsic+json": {
              "type": "dataframe",
              "variable_name": "df",
              "summary": "{\n  \"name\": \"df\",\n  \"rows\": 2225,\n  \"fields\": [\n    {\n      \"column\": \"text\",\n      \"properties\": {\n        \"dtype\": \"string\",\n        \"num_unique_values\": 2127,\n        \"samples\": [\n          \"EU 'too slow' on economic reforms\\n\\nMost EU countries have failed to put in place policies aimed at making Europe the world's most competitive economy by the end of the decade, a report says.\\n\\nThe study, undertaken by the European Commission, sought to assess how far the EU has moved towards meeting its economic targets. In 2000, EU leaders at a summit in Lisbon pledged the European economy would outstrip that of the US by 2010. Their economic targets became known as the Lisbon Agenda. But the Commission report says that, in most EU countries, the pace of economic reform has been too slow, and fulfilling the Lisbon ambitions will be difficult - if not impossible.\\n\\nOnly the UK, Finland, Belgium, Denmark, Ireland and the Netherlands have actually followed up policy recommendations. Among the biggest laggards, according to the report, are Greece and Italy. The Lisbon Agenda set out to increase the number of people employed in Europe by encouraging more older people and women to stay in the workforce. It also set out to raise the amount the private sector spends on research and development, while bringing about greater discipline over public spending and debt levels. Combined with high environmental standards and efforts to level the playing field for businesses throughout the EU, the plan was for Europe to become the world's most dynamic economy by 2010. Next week, the Commission will present revised proposals to meet the Lisbon goals. Many people expect the 2010 target to be quietly dropped.\",\n          \"BBC web search aids odd queries\\n\\nThe BBC's online search engine was used a record amount in 2004, helping with enquires both simple and strange.\\n\\nMore than 277 million enquiries were made, asking for informaton of a wide range of subjects. The most requested search terms of 2004 included games, EastEnders, CBBC, John Peel, Harry Potter and Olympics. But there were many strange enquiries, including: what is a dog?, how do you say basketball? and what is the biggest collection of naval fluff? The search engine works by matching key words typed in to different web pages but many people still type in natural language questions. Here are some of the strangest queries of 2004 - spelling and grammar errors left untouched - and their possible solutions:\\n\\n\\n - How to fold a serviette like an elf's boot? \\n \\n\\n\\n - How do I structure a French letter? \\n \\n\\n\\n - What is better one long vacation each year or several short vacations throughout the year? \\n \\n\\n\\n - What is so special about the Swiss? \\n \\n\\n\\n - What are the contemporary issue in nurses? \\n \\n\\n\\n - What is the number 4 in this number 40052308090? \\n \\n\\n\\n - What is up? \\n \\n\\n\\n - What is the name of James Martin's dog? \\n \\n\\nSearch engines are key to the way people use the internet. Companies such as Google have become of paramount importance as they dictate how people travel through websites while online.\",\n          \"Serena becomes world number two\\n\\nSerena Williams has moved up five places to second in the world rankings after her Australian Open win.\\n\\nWilliams won her first Grand Slam title since 2003 with victory over Lindsay Davenport, the world number one. Men's champion Marat Safin remains fourth in the ATP rankings while beaten finalist Lleyton Hewitt replaces Andy Roddick as world number two. Roger Federer retains top spot, but Safin has overtaken Hewitt to become the new leader of the Champions Race. Alicia Molik, who lost a three-set thriller against Davenport in the quarter-finals, is in the women's top 10 for the first time in her career. Her rise means Australia have a player in the top 10 of the men's and women's rankings for the first time in 21 years. And Britain's Elena Baltacha, who qualified and then reached the third round, has risen to 120 in the world - a leap of 65 places and her highest ranking yet.\"\n        ],\n        \"semantic_type\": \"\",\n        \"description\": \"\"\n      }\n    },\n    {\n      \"column\": \"labels\",\n      \"properties\": {\n        \"dtype\": \"category\",\n        \"num_unique_values\": 5,\n        \"samples\": [\n          \"entertainment\",\n          \"tech\",\n          \"politics\"\n        ],\n        \"semantic_type\": \"\",\n        \"description\": \"\"\n      }\n    }\n  ]\n}"
            }
          },
          "metadata": {},
          "execution_count": 4
        }
      ]
    },
    {
      "cell_type": "code",
      "source": [
        "df[\"targets\"] = df[\"labels\"].astype(\"category\").cat.codes"
      ],
      "metadata": {
        "id": "KlHn7EFAgG6A"
      },
      "execution_count": 5,
      "outputs": []
    },
    {
      "cell_type": "code",
      "source": [
        "# number of classes\n",
        "K = df[\"targets\"].max() + 1\n",
        "K"
      ],
      "metadata": {
        "colab": {
          "base_uri": "https://localhost:8080/"
        },
        "id": "m2ojgMLcgWSK",
        "outputId": "4a801ea2-9020-4c00-eddb-a43c755d3b38"
      },
      "execution_count": 6,
      "outputs": [
        {
          "output_type": "execute_result",
          "data": {
            "text/plain": [
              "5"
            ]
          },
          "metadata": {},
          "execution_count": 6
        }
      ]
    },
    {
      "cell_type": "code",
      "source": [
        "df_train, df_test = train_test_split(df, test_size=0.3)"
      ],
      "metadata": {
        "id": "ZT7sy7pfgaGa"
      },
      "execution_count": 7,
      "outputs": []
    },
    {
      "cell_type": "code",
      "source": [
        "# Convert sentences to sequences\n",
        "MAX_VOCAB_SIZE = 2000\n",
        "tokenizer = Tokenizer(num_words=MAX_VOCAB_SIZE)\n",
        "tokenizer.fit_on_texts(df_train[\"text\"])\n",
        "sequences_train = tokenizer.texts_to_sequences(df_train[\"text\"])\n",
        "sequences_test = tokenizer.texts_to_sequences(df_test[\"text\"])"
      ],
      "metadata": {
        "id": "02e0N8hfgijQ"
      },
      "execution_count": 8,
      "outputs": []
    },
    {
      "cell_type": "code",
      "source": [
        "# get word -> integer mapping\n",
        "word2idx = tokenizer.word_index\n",
        "V = len(word2idx)\n",
        "print(\"Found %s unique tokens.\" % V)"
      ],
      "metadata": {
        "colab": {
          "base_uri": "https://localhost:8080/"
        },
        "id": "L482qO6yg-sn",
        "outputId": "1adb51a3-9cd3-4fca-9f28-d0cd9889f493"
      },
      "execution_count": 9,
      "outputs": [
        {
          "output_type": "stream",
          "name": "stdout",
          "text": [
            "Found 27746 unique tokens.\n"
          ]
        }
      ]
    },
    {
      "cell_type": "code",
      "source": [
        "# pad sequences so that we get a N x T matrix\n",
        "data_train = pad_sequences(sequences_train)\n",
        "print(\"Shape of data train tensor:\", data_train.shape)\n",
        "\n",
        "# get sequence length\n",
        "T = data_train.shape[1]"
      ],
      "metadata": {
        "colab": {
          "base_uri": "https://localhost:8080/"
        },
        "id": "j6aP9rRchK3Z",
        "outputId": "8609bc62-f5ca-4f93-cb1f-b61c6bceb4d3"
      },
      "execution_count": 10,
      "outputs": [
        {
          "output_type": "stream",
          "name": "stdout",
          "text": [
            "Shape of data train tensor: (1557, 3482)\n"
          ]
        }
      ]
    },
    {
      "cell_type": "code",
      "source": [
        "data_test = pad_sequences(sequences_test, maxlen=T)\n",
        "print(\"Shape of data test tensor:\", data_test.shape)"
      ],
      "metadata": {
        "colab": {
          "base_uri": "https://localhost:8080/"
        },
        "id": "kHA7Ikmxhlby",
        "outputId": "ee009da5-5954-444c-9a35-6d506cfc8b61"
      },
      "execution_count": 11,
      "outputs": [
        {
          "output_type": "stream",
          "name": "stdout",
          "text": [
            "Shape of data test tensor: (668, 3482)\n"
          ]
        }
      ]
    },
    {
      "cell_type": "code",
      "source": [
        "# Create the model\n",
        "\n",
        "# We get to choose embedding dimensionality\n",
        "D = 50\n",
        "\n",
        "i = Input(shape=(T,))\n",
        "x = Embedding(V+1, D)(i)\n",
        "x = Conv1D(32, 3, activation=\"relu\")(x)\n",
        "x = GlobalMaxPooling1D()(x)\n",
        "x = Dense(K)(x)\n",
        "\n",
        "model = Model(i, x)"
      ],
      "metadata": {
        "id": "K_LBLhXchyUA"
      },
      "execution_count": 12,
      "outputs": []
    },
    {
      "cell_type": "code",
      "source": [
        "# Compile and fit\n",
        "model.compile(\n",
        "    loss=SparseCategoricalCrossentropy(from_logits=True),\n",
        "    optimizer=\"adam\",\n",
        "    metrics=[\"accuracy\"]\n",
        ")"
      ],
      "metadata": {
        "id": "G6Gi_HuQiXIu"
      },
      "execution_count": 13,
      "outputs": []
    },
    {
      "cell_type": "code",
      "source": [
        "print(\"Training model...\")\n",
        "r = model.fit(\n",
        "    data_train,\n",
        "    df_train[\"targets\"],\n",
        "    epochs=50,\n",
        "    validation_data=(data_test, df_test[\"targets\"])\n",
        ")"
      ],
      "metadata": {
        "colab": {
          "base_uri": "https://localhost:8080/"
        },
        "id": "kKgfdzMiihtS",
        "outputId": "8aa64c69-2988-4451-f4d8-7cdd187ce764"
      },
      "execution_count": 14,
      "outputs": [
        {
          "output_type": "stream",
          "name": "stdout",
          "text": [
            "Training model...\n",
            "Epoch 1/50\n",
            "49/49 [==============================] - 17s 207ms/step - loss: 1.5786 - accuracy: 0.3276 - val_loss: 1.5108 - val_accuracy: 0.4940\n",
            "Epoch 2/50\n",
            "49/49 [==============================] - 16s 334ms/step - loss: 1.3579 - accuracy: 0.7881 - val_loss: 1.1939 - val_accuracy: 0.8802\n",
            "Epoch 3/50\n",
            "49/49 [==============================] - 10s 194ms/step - loss: 0.8831 - accuracy: 0.9306 - val_loss: 0.6749 - val_accuracy: 0.9102\n",
            "Epoch 4/50\n",
            "49/49 [==============================] - 4s 92ms/step - loss: 0.4300 - accuracy: 0.9493 - val_loss: 0.3849 - val_accuracy: 0.9251\n",
            "Epoch 5/50\n",
            "49/49 [==============================] - 3s 59ms/step - loss: 0.2367 - accuracy: 0.9685 - val_loss: 0.2800 - val_accuracy: 0.9371\n",
            "Epoch 6/50\n",
            "49/49 [==============================] - 2s 50ms/step - loss: 0.1546 - accuracy: 0.9788 - val_loss: 0.2295 - val_accuracy: 0.9461\n",
            "Epoch 7/50\n",
            "49/49 [==============================] - 2s 40ms/step - loss: 0.1087 - accuracy: 0.9839 - val_loss: 0.2018 - val_accuracy: 0.9536\n",
            "Epoch 8/50\n",
            "49/49 [==============================] - 3s 59ms/step - loss: 0.0797 - accuracy: 0.9884 - val_loss: 0.1844 - val_accuracy: 0.9521\n",
            "Epoch 9/50\n",
            "49/49 [==============================] - 2s 40ms/step - loss: 0.0591 - accuracy: 0.9936 - val_loss: 0.1719 - val_accuracy: 0.9566\n",
            "Epoch 10/50\n",
            "49/49 [==============================] - 3s 54ms/step - loss: 0.0447 - accuracy: 0.9961 - val_loss: 0.1627 - val_accuracy: 0.9566\n",
            "Epoch 11/50\n",
            "49/49 [==============================] - 2s 31ms/step - loss: 0.0341 - accuracy: 0.9974 - val_loss: 0.1558 - val_accuracy: 0.9581\n",
            "Epoch 12/50\n",
            "49/49 [==============================] - 2s 34ms/step - loss: 0.0265 - accuracy: 0.9994 - val_loss: 0.1510 - val_accuracy: 0.9596\n",
            "Epoch 13/50\n",
            "49/49 [==============================] - 2s 33ms/step - loss: 0.0209 - accuracy: 0.9994 - val_loss: 0.1475 - val_accuracy: 0.9611\n",
            "Epoch 14/50\n",
            "49/49 [==============================] - 2s 36ms/step - loss: 0.0168 - accuracy: 1.0000 - val_loss: 0.1442 - val_accuracy: 0.9611\n",
            "Epoch 15/50\n",
            "49/49 [==============================] - 1s 29ms/step - loss: 0.0137 - accuracy: 1.0000 - val_loss: 0.1420 - val_accuracy: 0.9641\n",
            "Epoch 16/50\n",
            "49/49 [==============================] - 1s 17ms/step - loss: 0.0114 - accuracy: 1.0000 - val_loss: 0.1402 - val_accuracy: 0.9656\n",
            "Epoch 17/50\n",
            "49/49 [==============================] - 2s 34ms/step - loss: 0.0096 - accuracy: 1.0000 - val_loss: 0.1388 - val_accuracy: 0.9656\n",
            "Epoch 18/50\n",
            "49/49 [==============================] - 1s 23ms/step - loss: 0.0082 - accuracy: 1.0000 - val_loss: 0.1378 - val_accuracy: 0.9641\n",
            "Epoch 19/50\n",
            "49/49 [==============================] - 0s 10ms/step - loss: 0.0071 - accuracy: 1.0000 - val_loss: 0.1370 - val_accuracy: 0.9656\n",
            "Epoch 20/50\n",
            "49/49 [==============================] - 1s 18ms/step - loss: 0.0062 - accuracy: 1.0000 - val_loss: 0.1362 - val_accuracy: 0.9656\n",
            "Epoch 21/50\n",
            "49/49 [==============================] - 1s 15ms/step - loss: 0.0054 - accuracy: 1.0000 - val_loss: 0.1358 - val_accuracy: 0.9656\n",
            "Epoch 22/50\n",
            "49/49 [==============================] - 1s 15ms/step - loss: 0.0048 - accuracy: 1.0000 - val_loss: 0.1350 - val_accuracy: 0.9671\n",
            "Epoch 23/50\n",
            "49/49 [==============================] - 1s 18ms/step - loss: 0.0043 - accuracy: 1.0000 - val_loss: 0.1346 - val_accuracy: 0.9656\n",
            "Epoch 24/50\n",
            "49/49 [==============================] - 1s 21ms/step - loss: 0.0038 - accuracy: 1.0000 - val_loss: 0.1342 - val_accuracy: 0.9656\n",
            "Epoch 25/50\n",
            "49/49 [==============================] - 1s 18ms/step - loss: 0.0034 - accuracy: 1.0000 - val_loss: 0.1339 - val_accuracy: 0.9656\n",
            "Epoch 26/50\n",
            "49/49 [==============================] - 1s 29ms/step - loss: 0.0031 - accuracy: 1.0000 - val_loss: 0.1337 - val_accuracy: 0.9656\n",
            "Epoch 27/50\n",
            "49/49 [==============================] - 1s 26ms/step - loss: 0.0028 - accuracy: 1.0000 - val_loss: 0.1336 - val_accuracy: 0.9671\n",
            "Epoch 28/50\n",
            "49/49 [==============================] - 1s 23ms/step - loss: 0.0026 - accuracy: 1.0000 - val_loss: 0.1336 - val_accuracy: 0.9686\n",
            "Epoch 29/50\n",
            "49/49 [==============================] - 1s 19ms/step - loss: 0.0024 - accuracy: 1.0000 - val_loss: 0.1335 - val_accuracy: 0.9686\n",
            "Epoch 30/50\n",
            "49/49 [==============================] - 1s 21ms/step - loss: 0.0022 - accuracy: 1.0000 - val_loss: 0.1334 - val_accuracy: 0.9686\n",
            "Epoch 31/50\n",
            "49/49 [==============================] - 1s 28ms/step - loss: 0.0020 - accuracy: 1.0000 - val_loss: 0.1332 - val_accuracy: 0.9686\n",
            "Epoch 32/50\n",
            "49/49 [==============================] - 1s 12ms/step - loss: 0.0018 - accuracy: 1.0000 - val_loss: 0.1332 - val_accuracy: 0.9686\n",
            "Epoch 33/50\n",
            "49/49 [==============================] - 1s 15ms/step - loss: 0.0017 - accuracy: 1.0000 - val_loss: 0.1335 - val_accuracy: 0.9701\n",
            "Epoch 34/50\n",
            "49/49 [==============================] - 1s 15ms/step - loss: 0.0016 - accuracy: 1.0000 - val_loss: 0.1335 - val_accuracy: 0.9686\n",
            "Epoch 35/50\n",
            "49/49 [==============================] - 1s 15ms/step - loss: 0.0015 - accuracy: 1.0000 - val_loss: 0.1336 - val_accuracy: 0.9701\n",
            "Epoch 36/50\n",
            "49/49 [==============================] - 1s 15ms/step - loss: 0.0014 - accuracy: 1.0000 - val_loss: 0.1337 - val_accuracy: 0.9701\n",
            "Epoch 37/50\n",
            "49/49 [==============================] - 1s 15ms/step - loss: 0.0013 - accuracy: 1.0000 - val_loss: 0.1338 - val_accuracy: 0.9701\n",
            "Epoch 38/50\n",
            "49/49 [==============================] - 1s 14ms/step - loss: 0.0012 - accuracy: 1.0000 - val_loss: 0.1339 - val_accuracy: 0.9701\n",
            "Epoch 39/50\n",
            "49/49 [==============================] - 1s 15ms/step - loss: 0.0011 - accuracy: 1.0000 - val_loss: 0.1339 - val_accuracy: 0.9701\n",
            "Epoch 40/50\n",
            "49/49 [==============================] - 1s 18ms/step - loss: 0.0011 - accuracy: 1.0000 - val_loss: 0.1341 - val_accuracy: 0.9701\n",
            "Epoch 41/50\n",
            "49/49 [==============================] - 1s 21ms/step - loss: 9.8876e-04 - accuracy: 1.0000 - val_loss: 0.1342 - val_accuracy: 0.9701\n",
            "Epoch 42/50\n",
            "49/49 [==============================] - 1s 16ms/step - loss: 9.2993e-04 - accuracy: 1.0000 - val_loss: 0.1344 - val_accuracy: 0.9701\n",
            "Epoch 43/50\n",
            "49/49 [==============================] - 1s 19ms/step - loss: 8.7700e-04 - accuracy: 1.0000 - val_loss: 0.1345 - val_accuracy: 0.9686\n",
            "Epoch 44/50\n",
            "49/49 [==============================] - 1s 14ms/step - loss: 8.2663e-04 - accuracy: 1.0000 - val_loss: 0.1346 - val_accuracy: 0.9701\n",
            "Epoch 45/50\n",
            "49/49 [==============================] - 1s 11ms/step - loss: 7.8026e-04 - accuracy: 1.0000 - val_loss: 0.1347 - val_accuracy: 0.9701\n",
            "Epoch 46/50\n",
            "49/49 [==============================] - 1s 15ms/step - loss: 7.3763e-04 - accuracy: 1.0000 - val_loss: 0.1350 - val_accuracy: 0.9701\n",
            "Epoch 47/50\n",
            "49/49 [==============================] - 1s 12ms/step - loss: 6.9859e-04 - accuracy: 1.0000 - val_loss: 0.1350 - val_accuracy: 0.9701\n",
            "Epoch 48/50\n",
            "49/49 [==============================] - 1s 15ms/step - loss: 6.6069e-04 - accuracy: 1.0000 - val_loss: 0.1352 - val_accuracy: 0.9701\n",
            "Epoch 49/50\n",
            "49/49 [==============================] - 1s 22ms/step - loss: 6.2615e-04 - accuracy: 1.0000 - val_loss: 0.1352 - val_accuracy: 0.9701\n",
            "Epoch 50/50\n",
            "49/49 [==============================] - 1s 12ms/step - loss: 5.9476e-04 - accuracy: 1.0000 - val_loss: 0.1355 - val_accuracy: 0.9701\n"
          ]
        }
      ]
    },
    {
      "cell_type": "code",
      "source": [
        "# Plot loss per iteration\n",
        "plt.plot(r.history[\"loss\"], label=\"loss\")\n",
        "plt.plot(r.history[\"val_loss\"], label=\"val loss\")\n",
        "plt.legend();"
      ],
      "metadata": {
        "colab": {
          "base_uri": "https://localhost:8080/",
          "height": 430
        },
        "id": "mfQYyCcsiwi-",
        "outputId": "7c030238-39ff-4148-8b98-788d106cd1cd"
      },
      "execution_count": 16,
      "outputs": [
        {
          "output_type": "display_data",
          "data": {
            "text/plain": [
              "<Figure size 640x480 with 1 Axes>"
            ],
            "image/png": "[encoded data removed]"
          },
          "metadata": {}
        }
      ]
    },
    {
      "cell_type": "code",
      "source": [
        "# Plot accuracy per iteration\n",
        "plt.plot(r.history[\"accuracy\"], label=\"acc\")\n",
        "plt.plot(r.history[\"val_accuracy\"], label=\"val acc\")\n",
        "plt.legend();"
      ],
      "metadata": {
        "colab": {
          "base_uri": "https://localhost:8080/",
          "height": 430
        },
        "id": "_NKvOE9hi-f6",
        "outputId": "dc274758-4ea2-4770-fc80-a5ff329c9140"
      },
      "execution_count": 15,
      "outputs": [
        {
          "output_type": "display_data",
          "data": {
            "text/plain": [
              "<Figure size 640x480 with 1 Axes>"
            ],
            "image/png": "[encoded data removed]"
          },
          "metadata": {}
        }
      ]
    },
    {
      "cell_type": "code",
      "source": [],
      "metadata": {
        "id": "IkeLX-mUjGsQ"
      },
      "execution_count": null,
      "outputs": []
    }
  ]
}